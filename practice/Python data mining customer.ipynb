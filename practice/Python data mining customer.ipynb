{
 "cells": [
  {
   "cell_type": "markdown",
   "id": "respective-metro",
   "metadata": {},
   "source": [
    "# AdventureWorks customer segmentation\n",
    "### Main objectives\n",
    "After successful completion of the lab work students will be able to:\n",
    "-\tBuild data mining models and assess its accuracy in Python\n",
    "-\tApply these models for real life marketing campaigns\n",
    "-\tAnalyze profitability of applying data mining results\n",
    "\n",
    "### TASK LIST\n",
    "\n",
    "1.\tBuild data mining model predicting bike buyers by analyzing historic customer purchasing data.\n",
    "2.\tAssess accuracy of the mining model and compare it with ideal model and random guess model\n",
    "3.\tAnalyze probability thresholds that should be accepted in order to maximize profits of the direct marketing campaign.\n",
    "4.\tSelect potential customers for a targeted direct mail marketing campaign\n",
    "\n",
    "In this demo, you will see how to use the Python to:\n",
    "- Clean a data source and prepare it for use in data modeling\n",
    "- Partition a data source into training and testing data\n",
    "- Build a data mining model\n",
    "- Verify the overall accuracy of the data mining model\n",
    "- Create and model a scenario using the data mining model\n",
    "- Apply the scenario results to a separate data set"
   ]
  },
  {
   "cell_type": "markdown",
   "id": "825119d2",
   "metadata": {},
   "source": [
    "CONTEXT\n",
    "You have a database of potential customers whom you can target\n",
    "• You have costs associated with marketing each customers\n",
    "• You know your margin for a successful sale  \n",
    "• You have historical records for previous marketing campaig\n",
    "CAMPAIGN\n",
    "Your margin is 30$ for each sale  \n",
    "You have costs associated with marketing: \n",
    "• 5000$ fixed costs for preparing marketing materials \n",
    "• Variable cost for each direct mail:  \n",
    "    • 25$ if you need 0 to 1000 letters\n",
    "    • 20$ if you need 1001 to 5000 letters\n",
    "    • 15$ if you need 5001 or more letters  \n",
    "From your previous campaign 48% targeted people converted to bike buyers \n",
    "PROBLEM\n",
    "As a marketing director you want to plan a marketing campaign to maximize profits. How would you approach this task?"
   ]
  },
  {
   "cell_type": "code",
   "execution_count": null,
   "id": "determined-bandwidth",
   "metadata": {},
   "outputs": [],
   "source": [
    "# import pandas library\n",
    "import pandas as pd"
   ]
  },
  {
   "cell_type": "code",
   "execution_count": 18,
   "id": "amber-ordinary",
   "metadata": {},
   "outputs": [],
   "source": [
    "# read the data from excel source\n",
    "potential_df = pd.read_excel('Historic Customer Data.xls', sheet_name='Potential Customers', index_col='CustomerKey')\n",
    "historical_df = pd.read_excel('Historic Customer Data.xls', sheet_name='Historical Customers', index_col='CustomerKey')"
   ]
  },
  {
   "cell_type": "code",
   "execution_count": 19,
   "id": "federal-colonial",
   "metadata": {},
   "outputs": [
    {
     "data": {
      "text/html": [
       "<div>\n",
       "<style scoped>\n",
       "    .dataframe tbody tr th:only-of-type {\n",
       "        vertical-align: middle;\n",
       "    }\n",
       "\n",
       "    .dataframe tbody tr th {\n",
       "        vertical-align: top;\n",
       "    }\n",
       "\n",
       "    .dataframe thead th {\n",
       "        text-align: right;\n",
       "    }\n",
       "</style>\n",
       "<table border=\"1\" class=\"dataframe\">\n",
       "  <thead>\n",
       "    <tr style=\"text-align: right;\">\n",
       "      <th></th>\n",
       "      <th>First Name</th>\n",
       "      <th>Last Name</th>\n",
       "      <th>Birth Date</th>\n",
       "      <th>Marital Status</th>\n",
       "      <th>Gender</th>\n",
       "      <th>Email</th>\n",
       "      <th>Income</th>\n",
       "      <th>Children</th>\n",
       "      <th>Education</th>\n",
       "      <th>Occupation</th>\n",
       "      <th>HomeOwner</th>\n",
       "      <th>Number of cars</th>\n",
       "      <th>CommuteDistance</th>\n",
       "      <th>Age</th>\n",
       "    </tr>\n",
       "    <tr>\n",
       "      <th>CustomerKey</th>\n",
       "      <th></th>\n",
       "      <th></th>\n",
       "      <th></th>\n",
       "      <th></th>\n",
       "      <th></th>\n",
       "      <th></th>\n",
       "      <th></th>\n",
       "      <th></th>\n",
       "      <th></th>\n",
       "      <th></th>\n",
       "      <th></th>\n",
       "      <th></th>\n",
       "      <th></th>\n",
       "      <th></th>\n",
       "    </tr>\n",
       "  </thead>\n",
       "  <tbody>\n",
       "    <tr>\n",
       "      <th>11000</th>\n",
       "      <td>Jon</td>\n",
       "      <td>Yang</td>\n",
       "      <td>1966-04-08</td>\n",
       "      <td>Married</td>\n",
       "      <td>Male</td>\n",
       "      <td>jon24@adventure-works.com</td>\n",
       "      <td>90000</td>\n",
       "      <td>2</td>\n",
       "      <td>Bachelors</td>\n",
       "      <td>Professional</td>\n",
       "      <td>Yes</td>\n",
       "      <td>0</td>\n",
       "      <td>1-2 Miles</td>\n",
       "      <td>40</td>\n",
       "    </tr>\n",
       "    <tr>\n",
       "      <th>11001</th>\n",
       "      <td>Eugene</td>\n",
       "      <td>Huang</td>\n",
       "      <td>1965-05-14</td>\n",
       "      <td>Single</td>\n",
       "      <td>Male</td>\n",
       "      <td>eugene10@adventure-works.com</td>\n",
       "      <td>60000</td>\n",
       "      <td>3</td>\n",
       "      <td>Bachelors</td>\n",
       "      <td>Professional</td>\n",
       "      <td>No</td>\n",
       "      <td>1</td>\n",
       "      <td>0-1 Miles</td>\n",
       "      <td>41</td>\n",
       "    </tr>\n",
       "    <tr>\n",
       "      <th>11002</th>\n",
       "      <td>Ruben</td>\n",
       "      <td>Torres</td>\n",
       "      <td>1965-08-12</td>\n",
       "      <td>Married</td>\n",
       "      <td>Male</td>\n",
       "      <td>ruben35@adventure-works.com</td>\n",
       "      <td>60000</td>\n",
       "      <td>3</td>\n",
       "      <td>Bachelors</td>\n",
       "      <td>Professional</td>\n",
       "      <td>Yes</td>\n",
       "      <td>1</td>\n",
       "      <td>2-5 Miles</td>\n",
       "      <td>41</td>\n",
       "    </tr>\n",
       "    <tr>\n",
       "      <th>11003</th>\n",
       "      <td>Christy</td>\n",
       "      <td>Zhu</td>\n",
       "      <td>1968-02-15</td>\n",
       "      <td>Single</td>\n",
       "      <td>Female</td>\n",
       "      <td>christy12@adventure-works.com</td>\n",
       "      <td>70000</td>\n",
       "      <td>0</td>\n",
       "      <td>Bachelors</td>\n",
       "      <td>Professional</td>\n",
       "      <td>No</td>\n",
       "      <td>1</td>\n",
       "      <td>5-10 Miles</td>\n",
       "      <td>38</td>\n",
       "    </tr>\n",
       "    <tr>\n",
       "      <th>11004</th>\n",
       "      <td>Elizabeth</td>\n",
       "      <td>Johnson</td>\n",
       "      <td>1968-08-08</td>\n",
       "      <td>Single</td>\n",
       "      <td>Female</td>\n",
       "      <td>elizabeth5@adventure-works.com</td>\n",
       "      <td>80000</td>\n",
       "      <td>5</td>\n",
       "      <td>Bachelors</td>\n",
       "      <td>Professional</td>\n",
       "      <td>Yes</td>\n",
       "      <td>4</td>\n",
       "      <td>1-2 Miles</td>\n",
       "      <td>38</td>\n",
       "    </tr>\n",
       "  </tbody>\n",
       "</table>\n",
       "</div>"
      ],
      "text/plain": [
       "            First Name Last Name Birth Date Marital Status  Gender  \\\n",
       "CustomerKey                                                          \n",
       "11000              Jon      Yang 1966-04-08        Married    Male   \n",
       "11001           Eugene     Huang 1965-05-14         Single    Male   \n",
       "11002            Ruben    Torres 1965-08-12        Married    Male   \n",
       "11003          Christy       Zhu 1968-02-15         Single  Female   \n",
       "11004        Elizabeth   Johnson 1968-08-08         Single  Female   \n",
       "\n",
       "                                      Email  Income  Children  Education  \\\n",
       "CustomerKey                                                                \n",
       "11000             jon24@adventure-works.com   90000         2  Bachelors   \n",
       "11001          eugene10@adventure-works.com   60000         3  Bachelors   \n",
       "11002           ruben35@adventure-works.com   60000         3  Bachelors   \n",
       "11003         christy12@adventure-works.com   70000         0  Bachelors   \n",
       "11004        elizabeth5@adventure-works.com   80000         5  Bachelors   \n",
       "\n",
       "               Occupation HomeOwner  Number of cars CommuteDistance  Age  \n",
       "CustomerKey                                                               \n",
       "11000        Professional       Yes               0       1-2 Miles   40  \n",
       "11001        Professional        No               1       0-1 Miles   41  \n",
       "11002        Professional       Yes               1       2-5 Miles   41  \n",
       "11003        Professional        No               1      5-10 Miles   38  \n",
       "11004        Professional       Yes               4       1-2 Miles   38  "
      ]
     },
     "execution_count": 19,
     "metadata": {},
     "output_type": "execute_result"
    }
   ],
   "source": [
    "# see the data and its structure\n",
    "potential_df.head()"
   ]
  },
  {
   "cell_type": "code",
   "execution_count": 20,
   "id": "linear-module",
   "metadata": {},
   "outputs": [
    {
     "data": {
      "text/html": [
       "<div>\n",
       "<style scoped>\n",
       "    .dataframe tbody tr th:only-of-type {\n",
       "        vertical-align: middle;\n",
       "    }\n",
       "\n",
       "    .dataframe tbody tr th {\n",
       "        vertical-align: top;\n",
       "    }\n",
       "\n",
       "    .dataframe thead th {\n",
       "        text-align: right;\n",
       "    }\n",
       "</style>\n",
       "<table border=\"1\" class=\"dataframe\">\n",
       "  <thead>\n",
       "    <tr style=\"text-align: right;\">\n",
       "      <th></th>\n",
       "      <th>Birth Date</th>\n",
       "      <th>Marital Status</th>\n",
       "      <th>Gender</th>\n",
       "      <th>Income</th>\n",
       "      <th>Children</th>\n",
       "      <th>Education</th>\n",
       "      <th>Occupation</th>\n",
       "      <th>HomeOwner</th>\n",
       "      <th>Number of cars</th>\n",
       "      <th>CommuteDistance</th>\n",
       "      <th>Age</th>\n",
       "      <th>BikeBuyer</th>\n",
       "    </tr>\n",
       "    <tr>\n",
       "      <th>CustomerKey</th>\n",
       "      <th></th>\n",
       "      <th></th>\n",
       "      <th></th>\n",
       "      <th></th>\n",
       "      <th></th>\n",
       "      <th></th>\n",
       "      <th></th>\n",
       "      <th></th>\n",
       "      <th></th>\n",
       "      <th></th>\n",
       "      <th></th>\n",
       "      <th></th>\n",
       "    </tr>\n",
       "  </thead>\n",
       "  <tbody>\n",
       "    <tr>\n",
       "      <th>11000</th>\n",
       "      <td>1966-04-08</td>\n",
       "      <td>Married</td>\n",
       "      <td>Male</td>\n",
       "      <td>90000</td>\n",
       "      <td>2</td>\n",
       "      <td>Bachelors</td>\n",
       "      <td>Professional</td>\n",
       "      <td>Yes</td>\n",
       "      <td>0</td>\n",
       "      <td>1-2 Miles</td>\n",
       "      <td>40</td>\n",
       "      <td>Yes</td>\n",
       "    </tr>\n",
       "    <tr>\n",
       "      <th>11001</th>\n",
       "      <td>1965-05-14</td>\n",
       "      <td>Single</td>\n",
       "      <td>Male</td>\n",
       "      <td>60000</td>\n",
       "      <td>3</td>\n",
       "      <td>Bachelors</td>\n",
       "      <td>Professional</td>\n",
       "      <td>No</td>\n",
       "      <td>1</td>\n",
       "      <td>0-1 Miles</td>\n",
       "      <td>41</td>\n",
       "      <td>Yes</td>\n",
       "    </tr>\n",
       "    <tr>\n",
       "      <th>29004</th>\n",
       "      <td>1948-11-24</td>\n",
       "      <td>Married</td>\n",
       "      <td>Male</td>\n",
       "      <td>70000</td>\n",
       "      <td>4</td>\n",
       "      <td>Bachelors</td>\n",
       "      <td>Management</td>\n",
       "      <td>Yes</td>\n",
       "      <td>2</td>\n",
       "      <td>10+ Miles</td>\n",
       "      <td>57</td>\n",
       "      <td>Yes</td>\n",
       "    </tr>\n",
       "    <tr>\n",
       "      <th>25562</th>\n",
       "      <td>1979-10-09</td>\n",
       "      <td>Married</td>\n",
       "      <td>Female</td>\n",
       "      <td>20000</td>\n",
       "      <td>0</td>\n",
       "      <td>Bachelors</td>\n",
       "      <td>Clerical</td>\n",
       "      <td>Yes</td>\n",
       "      <td>0</td>\n",
       "      <td>0-1 Miles</td>\n",
       "      <td>27</td>\n",
       "      <td>Yes</td>\n",
       "    </tr>\n",
       "    <tr>\n",
       "      <th>18839</th>\n",
       "      <td>1955-04-13</td>\n",
       "      <td>Married</td>\n",
       "      <td>Male</td>\n",
       "      <td>80000</td>\n",
       "      <td>3</td>\n",
       "      <td>Partial College</td>\n",
       "      <td>Professional</td>\n",
       "      <td>Yes</td>\n",
       "      <td>1</td>\n",
       "      <td>1-2 Miles</td>\n",
       "      <td>51</td>\n",
       "      <td>Yes</td>\n",
       "    </tr>\n",
       "  </tbody>\n",
       "</table>\n",
       "</div>"
      ],
      "text/plain": [
       "            Birth Date Marital Status  Gender  Income  Children  \\\n",
       "CustomerKey                                                       \n",
       "11000       1966-04-08        Married    Male   90000         2   \n",
       "11001       1965-05-14         Single    Male   60000         3   \n",
       "29004       1948-11-24        Married    Male   70000         4   \n",
       "25562       1979-10-09        Married  Female   20000         0   \n",
       "18839       1955-04-13        Married    Male   80000         3   \n",
       "\n",
       "                   Education    Occupation HomeOwner  Number of cars  \\\n",
       "CustomerKey                                                            \n",
       "11000              Bachelors  Professional       Yes               0   \n",
       "11001              Bachelors  Professional        No               1   \n",
       "29004              Bachelors    Management       Yes               2   \n",
       "25562              Bachelors      Clerical       Yes               0   \n",
       "18839        Partial College  Professional       Yes               1   \n",
       "\n",
       "            CommuteDistance  Age BikeBuyer  \n",
       "CustomerKey                                 \n",
       "11000             1-2 Miles   40       Yes  \n",
       "11001             0-1 Miles   41       Yes  \n",
       "29004             10+ Miles   57       Yes  \n",
       "25562             0-1 Miles   27       Yes  \n",
       "18839             1-2 Miles   51       Yes  "
      ]
     },
     "execution_count": 20,
     "metadata": {},
     "output_type": "execute_result"
    }
   ],
   "source": [
    "historical_df.head()"
   ]
  },
  {
   "cell_type": "code",
   "execution_count": 21,
   "id": "occasional-rehabilitation",
   "metadata": {},
   "outputs": [
    {
     "name": "stdout",
     "output_type": "stream",
     "text": [
      "(18484, 14)\n",
      "(5000, 12)\n"
     ]
    }
   ],
   "source": [
    "print(potential_df.shape)\n",
    "print(historical_df.shape)"
   ]
  },
  {
   "cell_type": "markdown",
   "id": "unusual-webmaster",
   "metadata": {},
   "source": [
    "## Let's analyze historical data and clean it"
   ]
  },
  {
   "cell_type": "code",
   "execution_count": 22,
   "id": "friendly-second",
   "metadata": {},
   "outputs": [
    {
     "name": "stdout",
     "output_type": "stream",
     "text": [
      "<class 'pandas.core.frame.DataFrame'>\n",
      "Int64Index: 5000 entries, 11000 to 19723\n",
      "Data columns (total 12 columns):\n",
      " #   Column           Non-Null Count  Dtype         \n",
      "---  ------           --------------  -----         \n",
      " 0   Birth Date       5000 non-null   datetime64[ns]\n",
      " 1   Marital Status   5000 non-null   object        \n",
      " 2   Gender           5000 non-null   object        \n",
      " 3   Income           5000 non-null   int64         \n",
      " 4   Children         5000 non-null   int64         \n",
      " 5   Education        5000 non-null   object        \n",
      " 6   Occupation       5000 non-null   object        \n",
      " 7   HomeOwner        5000 non-null   object        \n",
      " 8   Number of cars   5000 non-null   int64         \n",
      " 9   CommuteDistance  5000 non-null   object        \n",
      " 10  Age              5000 non-null   int64         \n",
      " 11  BikeBuyer        5000 non-null   object        \n",
      "dtypes: datetime64[ns](1), int64(4), object(7)\n",
      "memory usage: 507.8+ KB\n"
     ]
    }
   ],
   "source": [
    "historical_df.info()"
   ]
  },
  {
   "cell_type": "code",
   "execution_count": 23,
   "id": "proved-willow",
   "metadata": {},
   "outputs": [
    {
     "data": {
      "text/plain": [
       "Index(['Birth Date', 'Marital Status', 'Gender', 'Income', 'Children',\n",
       "       'Education', 'Occupation', 'HomeOwner', 'Number of cars',\n",
       "       'CommuteDistance', 'Age', 'BikeBuyer'],\n",
       "      dtype='object')"
      ]
     },
     "execution_count": 23,
     "metadata": {},
     "output_type": "execute_result"
    }
   ],
   "source": [
    "historical_df.columns"
   ]
  },
  {
   "cell_type": "code",
   "execution_count": 24,
   "id": "acceptable-running",
   "metadata": {},
   "outputs": [
    {
     "data": {
      "text/plain": [
       "Index(['First Name', 'Last Name', 'Birth Date', 'Marital Status', 'Gender',\n",
       "       'Email', 'Income', 'Children', 'Education', 'Occupation', 'HomeOwner',\n",
       "       'Number of cars', 'CommuteDistance', 'Age'],\n",
       "      dtype='object')"
      ]
     },
     "execution_count": 24,
     "metadata": {},
     "output_type": "execute_result"
    }
   ],
   "source": [
    "potential_df.columns"
   ]
  },
  {
   "cell_type": "code",
   "execution_count": 25,
   "id": "israeli-villa",
   "metadata": {},
   "outputs": [
    {
     "data": {
      "text/html": [
       "<div>\n",
       "<style scoped>\n",
       "    .dataframe tbody tr th:only-of-type {\n",
       "        vertical-align: middle;\n",
       "    }\n",
       "\n",
       "    .dataframe tbody tr th {\n",
       "        vertical-align: top;\n",
       "    }\n",
       "\n",
       "    .dataframe thead th {\n",
       "        text-align: right;\n",
       "    }\n",
       "</style>\n",
       "<table border=\"1\" class=\"dataframe\">\n",
       "  <thead>\n",
       "    <tr style=\"text-align: right;\">\n",
       "      <th></th>\n",
       "      <th>Income</th>\n",
       "      <th>Children</th>\n",
       "      <th>Number of cars</th>\n",
       "      <th>Age</th>\n",
       "    </tr>\n",
       "  </thead>\n",
       "  <tbody>\n",
       "    <tr>\n",
       "      <th>count</th>\n",
       "      <td>5000.000000</td>\n",
       "      <td>5000.000000</td>\n",
       "      <td>5000.000000</td>\n",
       "      <td>5000.000000</td>\n",
       "    </tr>\n",
       "    <tr>\n",
       "      <th>mean</th>\n",
       "      <td>58214.000000</td>\n",
       "      <td>1.884200</td>\n",
       "      <td>1.510200</td>\n",
       "      <td>44.234400</td>\n",
       "    </tr>\n",
       "    <tr>\n",
       "      <th>std</th>\n",
       "      <td>32541.081549</td>\n",
       "      <td>1.632827</td>\n",
       "      <td>1.135145</td>\n",
       "      <td>11.300487</td>\n",
       "    </tr>\n",
       "    <tr>\n",
       "      <th>min</th>\n",
       "      <td>10000.000000</td>\n",
       "      <td>0.000000</td>\n",
       "      <td>0.000000</td>\n",
       "      <td>25.000000</td>\n",
       "    </tr>\n",
       "    <tr>\n",
       "      <th>25%</th>\n",
       "      <td>30000.000000</td>\n",
       "      <td>0.000000</td>\n",
       "      <td>1.000000</td>\n",
       "      <td>36.000000</td>\n",
       "    </tr>\n",
       "    <tr>\n",
       "      <th>50%</th>\n",
       "      <td>60000.000000</td>\n",
       "      <td>2.000000</td>\n",
       "      <td>2.000000</td>\n",
       "      <td>42.000000</td>\n",
       "    </tr>\n",
       "    <tr>\n",
       "      <th>75%</th>\n",
       "      <td>80000.000000</td>\n",
       "      <td>3.000000</td>\n",
       "      <td>2.000000</td>\n",
       "      <td>52.000000</td>\n",
       "    </tr>\n",
       "    <tr>\n",
       "      <th>max</th>\n",
       "      <td>170000.000000</td>\n",
       "      <td>12.000000</td>\n",
       "      <td>4.000000</td>\n",
       "      <td>95.000000</td>\n",
       "    </tr>\n",
       "  </tbody>\n",
       "</table>\n",
       "</div>"
      ],
      "text/plain": [
       "              Income     Children  Number of cars          Age\n",
       "count    5000.000000  5000.000000     5000.000000  5000.000000\n",
       "mean    58214.000000     1.884200        1.510200    44.234400\n",
       "std     32541.081549     1.632827        1.135145    11.300487\n",
       "min     10000.000000     0.000000        0.000000    25.000000\n",
       "25%     30000.000000     0.000000        1.000000    36.000000\n",
       "50%     60000.000000     2.000000        2.000000    42.000000\n",
       "75%     80000.000000     3.000000        2.000000    52.000000\n",
       "max    170000.000000    12.000000        4.000000    95.000000"
      ]
     },
     "execution_count": 25,
     "metadata": {},
     "output_type": "execute_result"
    }
   ],
   "source": [
    "# describe data statistics\n",
    "historical_df.describe()"
   ]
  },
  {
   "cell_type": "code",
   "execution_count": 26,
   "id": "intermediate-curve",
   "metadata": {},
   "outputs": [
    {
     "data": {
      "text/plain": [
       "Birth Date         0\n",
       "Marital Status     0\n",
       "Gender             0\n",
       "Income             0\n",
       "Children           0\n",
       "Education          0\n",
       "Occupation         0\n",
       "HomeOwner          0\n",
       "Number of cars     0\n",
       "CommuteDistance    0\n",
       "Age                0\n",
       "BikeBuyer          0\n",
       "dtype: int64"
      ]
     },
     "execution_count": 26,
     "metadata": {},
     "output_type": "execute_result"
    }
   ],
   "source": [
    "# find null items from dataset\n",
    "historical_df.isnull().sum()"
   ]
  },
  {
   "cell_type": "code",
   "execution_count": 27,
   "id": "incomplete-oregon",
   "metadata": {},
   "outputs": [
    {
     "data": {
      "text/plain": [
       "0"
      ]
     },
     "execution_count": 27,
     "metadata": {},
     "output_type": "execute_result"
    }
   ],
   "source": [
    "# find duplicates \n",
    "historical_df.index[historical_df.index.duplicated()].nunique()"
   ]
  },
  {
   "cell_type": "code",
   "execution_count": 28,
   "id": "stable-executive",
   "metadata": {},
   "outputs": [
    {
     "name": "stdout",
     "output_type": "stream",
     "text": [
      "(18484, 10)\n",
      "(5000, 11)\n"
     ]
    }
   ],
   "source": [
    "# Drop useless columns for preidctions. How do you think, \n",
    "# why we don't need birth date?\n",
    "historical_df.drop('Birth Date', axis='columns', inplace=True)\n",
    "potential_df.drop('Birth Date', axis='columns', inplace=True)\n",
    "potential_df.drop('First Name', axis='columns', inplace=True)\n",
    "potential_df.drop('Last Name', axis='columns', inplace=True)\n",
    "potential_df.drop('Email', axis='columns', inplace=True)\n",
    "print(potential_df.shape)\n",
    "print(historical_df.shape)"
   ]
  },
  {
   "cell_type": "code",
   "execution_count": 29,
   "id": "sealed-klein",
   "metadata": {},
   "outputs": [
    {
     "data": {
      "text/html": [
       "<div>\n",
       "<style scoped>\n",
       "    .dataframe tbody tr th:only-of-type {\n",
       "        vertical-align: middle;\n",
       "    }\n",
       "\n",
       "    .dataframe tbody tr th {\n",
       "        vertical-align: top;\n",
       "    }\n",
       "\n",
       "    .dataframe thead th {\n",
       "        text-align: right;\n",
       "    }\n",
       "</style>\n",
       "<table border=\"1\" class=\"dataframe\">\n",
       "  <thead>\n",
       "    <tr style=\"text-align: right;\">\n",
       "      <th></th>\n",
       "      <th>Marital Status</th>\n",
       "      <th>Gender</th>\n",
       "      <th>Income</th>\n",
       "      <th>Children</th>\n",
       "      <th>Education</th>\n",
       "      <th>Occupation</th>\n",
       "      <th>HomeOwner</th>\n",
       "      <th>Number of cars</th>\n",
       "      <th>CommuteDistance</th>\n",
       "      <th>Age</th>\n",
       "      <th>BikeBuyer</th>\n",
       "    </tr>\n",
       "    <tr>\n",
       "      <th>CustomerKey</th>\n",
       "      <th></th>\n",
       "      <th></th>\n",
       "      <th></th>\n",
       "      <th></th>\n",
       "      <th></th>\n",
       "      <th></th>\n",
       "      <th></th>\n",
       "      <th></th>\n",
       "      <th></th>\n",
       "      <th></th>\n",
       "      <th></th>\n",
       "    </tr>\n",
       "  </thead>\n",
       "  <tbody>\n",
       "    <tr>\n",
       "      <th>11000</th>\n",
       "      <td>Married</td>\n",
       "      <td>Male</td>\n",
       "      <td>90000</td>\n",
       "      <td>2</td>\n",
       "      <td>Bachelors</td>\n",
       "      <td>Professional</td>\n",
       "      <td>Yes</td>\n",
       "      <td>0</td>\n",
       "      <td>1-2 Miles</td>\n",
       "      <td>40</td>\n",
       "      <td>Yes</td>\n",
       "    </tr>\n",
       "    <tr>\n",
       "      <th>11001</th>\n",
       "      <td>Single</td>\n",
       "      <td>Male</td>\n",
       "      <td>60000</td>\n",
       "      <td>3</td>\n",
       "      <td>Bachelors</td>\n",
       "      <td>Professional</td>\n",
       "      <td>No</td>\n",
       "      <td>1</td>\n",
       "      <td>0-1 Miles</td>\n",
       "      <td>41</td>\n",
       "      <td>Yes</td>\n",
       "    </tr>\n",
       "    <tr>\n",
       "      <th>29004</th>\n",
       "      <td>Married</td>\n",
       "      <td>Male</td>\n",
       "      <td>70000</td>\n",
       "      <td>4</td>\n",
       "      <td>Bachelors</td>\n",
       "      <td>Management</td>\n",
       "      <td>Yes</td>\n",
       "      <td>2</td>\n",
       "      <td>10+ Miles</td>\n",
       "      <td>57</td>\n",
       "      <td>Yes</td>\n",
       "    </tr>\n",
       "    <tr>\n",
       "      <th>25562</th>\n",
       "      <td>Married</td>\n",
       "      <td>Female</td>\n",
       "      <td>20000</td>\n",
       "      <td>0</td>\n",
       "      <td>Bachelors</td>\n",
       "      <td>Clerical</td>\n",
       "      <td>Yes</td>\n",
       "      <td>0</td>\n",
       "      <td>0-1 Miles</td>\n",
       "      <td>27</td>\n",
       "      <td>Yes</td>\n",
       "    </tr>\n",
       "    <tr>\n",
       "      <th>18839</th>\n",
       "      <td>Married</td>\n",
       "      <td>Male</td>\n",
       "      <td>80000</td>\n",
       "      <td>3</td>\n",
       "      <td>Partial College</td>\n",
       "      <td>Professional</td>\n",
       "      <td>Yes</td>\n",
       "      <td>1</td>\n",
       "      <td>1-2 Miles</td>\n",
       "      <td>51</td>\n",
       "      <td>Yes</td>\n",
       "    </tr>\n",
       "  </tbody>\n",
       "</table>\n",
       "</div>"
      ],
      "text/plain": [
       "            Marital Status  Gender  Income  Children        Education  \\\n",
       "CustomerKey                                                             \n",
       "11000              Married    Male   90000         2        Bachelors   \n",
       "11001               Single    Male   60000         3        Bachelors   \n",
       "29004              Married    Male   70000         4        Bachelors   \n",
       "25562              Married  Female   20000         0        Bachelors   \n",
       "18839              Married    Male   80000         3  Partial College   \n",
       "\n",
       "               Occupation HomeOwner  Number of cars CommuteDistance  Age  \\\n",
       "CustomerKey                                                                \n",
       "11000        Professional       Yes               0       1-2 Miles   40   \n",
       "11001        Professional        No               1       0-1 Miles   41   \n",
       "29004          Management       Yes               2       10+ Miles   57   \n",
       "25562            Clerical       Yes               0       0-1 Miles   27   \n",
       "18839        Professional       Yes               1       1-2 Miles   51   \n",
       "\n",
       "            BikeBuyer  \n",
       "CustomerKey            \n",
       "11000             Yes  \n",
       "11001             Yes  \n",
       "29004             Yes  \n",
       "25562             Yes  \n",
       "18839             Yes  "
      ]
     },
     "execution_count": 29,
     "metadata": {},
     "output_type": "execute_result"
    }
   ],
   "source": [
    "historical_df.head()"
   ]
  },
  {
   "cell_type": "code",
   "execution_count": 30,
   "id": "latest-validation",
   "metadata": {},
   "outputs": [
    {
     "data": {
      "text/html": [
       "<div>\n",
       "<style scoped>\n",
       "    .dataframe tbody tr th:only-of-type {\n",
       "        vertical-align: middle;\n",
       "    }\n",
       "\n",
       "    .dataframe tbody tr th {\n",
       "        vertical-align: top;\n",
       "    }\n",
       "\n",
       "    .dataframe thead th {\n",
       "        text-align: right;\n",
       "    }\n",
       "</style>\n",
       "<table border=\"1\" class=\"dataframe\">\n",
       "  <thead>\n",
       "    <tr style=\"text-align: right;\">\n",
       "      <th></th>\n",
       "      <th>Marital Status</th>\n",
       "      <th>Gender</th>\n",
       "      <th>Income</th>\n",
       "      <th>Children</th>\n",
       "      <th>Education</th>\n",
       "      <th>Occupation</th>\n",
       "      <th>HomeOwner</th>\n",
       "      <th>Number of cars</th>\n",
       "      <th>CommuteDistance</th>\n",
       "      <th>Age</th>\n",
       "    </tr>\n",
       "    <tr>\n",
       "      <th>CustomerKey</th>\n",
       "      <th></th>\n",
       "      <th></th>\n",
       "      <th></th>\n",
       "      <th></th>\n",
       "      <th></th>\n",
       "      <th></th>\n",
       "      <th></th>\n",
       "      <th></th>\n",
       "      <th></th>\n",
       "      <th></th>\n",
       "    </tr>\n",
       "  </thead>\n",
       "  <tbody>\n",
       "    <tr>\n",
       "      <th>11000</th>\n",
       "      <td>Married</td>\n",
       "      <td>Male</td>\n",
       "      <td>90000</td>\n",
       "      <td>2</td>\n",
       "      <td>Bachelors</td>\n",
       "      <td>Professional</td>\n",
       "      <td>Yes</td>\n",
       "      <td>0</td>\n",
       "      <td>1-2 Miles</td>\n",
       "      <td>40</td>\n",
       "    </tr>\n",
       "    <tr>\n",
       "      <th>11001</th>\n",
       "      <td>Single</td>\n",
       "      <td>Male</td>\n",
       "      <td>60000</td>\n",
       "      <td>3</td>\n",
       "      <td>Bachelors</td>\n",
       "      <td>Professional</td>\n",
       "      <td>No</td>\n",
       "      <td>1</td>\n",
       "      <td>0-1 Miles</td>\n",
       "      <td>41</td>\n",
       "    </tr>\n",
       "    <tr>\n",
       "      <th>11002</th>\n",
       "      <td>Married</td>\n",
       "      <td>Male</td>\n",
       "      <td>60000</td>\n",
       "      <td>3</td>\n",
       "      <td>Bachelors</td>\n",
       "      <td>Professional</td>\n",
       "      <td>Yes</td>\n",
       "      <td>1</td>\n",
       "      <td>2-5 Miles</td>\n",
       "      <td>41</td>\n",
       "    </tr>\n",
       "    <tr>\n",
       "      <th>11003</th>\n",
       "      <td>Single</td>\n",
       "      <td>Female</td>\n",
       "      <td>70000</td>\n",
       "      <td>0</td>\n",
       "      <td>Bachelors</td>\n",
       "      <td>Professional</td>\n",
       "      <td>No</td>\n",
       "      <td>1</td>\n",
       "      <td>5-10 Miles</td>\n",
       "      <td>38</td>\n",
       "    </tr>\n",
       "    <tr>\n",
       "      <th>11004</th>\n",
       "      <td>Single</td>\n",
       "      <td>Female</td>\n",
       "      <td>80000</td>\n",
       "      <td>5</td>\n",
       "      <td>Bachelors</td>\n",
       "      <td>Professional</td>\n",
       "      <td>Yes</td>\n",
       "      <td>4</td>\n",
       "      <td>1-2 Miles</td>\n",
       "      <td>38</td>\n",
       "    </tr>\n",
       "  </tbody>\n",
       "</table>\n",
       "</div>"
      ],
      "text/plain": [
       "            Marital Status  Gender  Income  Children  Education    Occupation  \\\n",
       "CustomerKey                                                                     \n",
       "11000              Married    Male   90000         2  Bachelors  Professional   \n",
       "11001               Single    Male   60000         3  Bachelors  Professional   \n",
       "11002              Married    Male   60000         3  Bachelors  Professional   \n",
       "11003               Single  Female   70000         0  Bachelors  Professional   \n",
       "11004               Single  Female   80000         5  Bachelors  Professional   \n",
       "\n",
       "            HomeOwner  Number of cars CommuteDistance  Age  \n",
       "CustomerKey                                                 \n",
       "11000             Yes               0       1-2 Miles   40  \n",
       "11001              No               1       0-1 Miles   41  \n",
       "11002             Yes               1       2-5 Miles   41  \n",
       "11003              No               1      5-10 Miles   38  \n",
       "11004             Yes               4       1-2 Miles   38  "
      ]
     },
     "execution_count": 30,
     "metadata": {},
     "output_type": "execute_result"
    }
   ],
   "source": [
    "potential_df.head()"
   ]
  },
  {
   "cell_type": "code",
   "execution_count": 31,
   "id": "american-moisture",
   "metadata": {},
   "outputs": [],
   "source": [
    "# import libraries for plots\n",
    "from matplotlib import pyplot as plt\n",
    "import seaborn as sns\n",
    "import warnings\n",
    "import numpy as np\n",
    "warnings.filterwarnings('ignore')\n",
    "%matplotlib inline\n",
    "sns.set()\n",
    "# Graphics in retina format are more sharp and legible\n",
    "%config InlineBackend.figure_format = 'retina'"
   ]
  },
  {
   "cell_type": "code",
   "execution_count": 32,
   "id": "physical-publication",
   "metadata": {},
   "outputs": [
    {
     "ename": "ValueError",
     "evalue": "Number of rows must be a positive integer, not 3.0",
     "output_type": "error",
     "traceback": [
      "\u001b[1;31m---------------------------------------------------------------------------\u001b[0m",
      "\u001b[1;31mValueError\u001b[0m                                Traceback (most recent call last)",
      "Cell \u001b[1;32mIn [32], line 5\u001b[0m\n\u001b[0;32m      3\u001b[0m rows \u001b[38;5;241m=\u001b[39m np\u001b[38;5;241m.\u001b[39mceil(\u001b[38;5;28mfloat\u001b[39m(historical_df\u001b[38;5;241m.\u001b[39mshape[\u001b[38;5;241m1\u001b[39m]) \u001b[38;5;241m/\u001b[39m cols)\n\u001b[0;32m      4\u001b[0m \u001b[38;5;28;01mfor\u001b[39;00m i, column \u001b[38;5;129;01min\u001b[39;00m \u001b[38;5;28menumerate\u001b[39m(historical_df\u001b[38;5;241m.\u001b[39mcolumns):\n\u001b[1;32m----> 5\u001b[0m     ax \u001b[38;5;241m=\u001b[39m \u001b[43mfig\u001b[49m\u001b[38;5;241;43m.\u001b[39;49m\u001b[43madd_subplot\u001b[49m\u001b[43m(\u001b[49m\u001b[43mrows\u001b[49m\u001b[43m,\u001b[49m\u001b[43m \u001b[49m\u001b[43mcols\u001b[49m\u001b[43m,\u001b[49m\u001b[43m \u001b[49m\u001b[43mi\u001b[49m\u001b[43m \u001b[49m\u001b[38;5;241;43m+\u001b[39;49m\u001b[43m \u001b[49m\u001b[38;5;241;43m1\u001b[39;49m\u001b[43m)\u001b[49m\n\u001b[0;32m      6\u001b[0m     ax\u001b[38;5;241m.\u001b[39mset_title(column)\n\u001b[0;32m      7\u001b[0m     \u001b[38;5;28;01mif\u001b[39;00m historical_df\u001b[38;5;241m.\u001b[39mdtypes[column] \u001b[38;5;241m==\u001b[39m np\u001b[38;5;241m.\u001b[39mobject:\n",
      "File \u001b[1;32mc:\\Users\\celin\\AppData\\Local\\Programs\\Python\\Python310\\lib\\site-packages\\matplotlib\\figure.py:745\u001b[0m, in \u001b[0;36mFigureBase.add_subplot\u001b[1;34m(self, *args, **kwargs)\u001b[0m\n\u001b[0;32m    742\u001b[0m         args \u001b[39m=\u001b[39m \u001b[39mtuple\u001b[39m(\u001b[39mmap\u001b[39m(\u001b[39mint\u001b[39m, \u001b[39mstr\u001b[39m(args[\u001b[39m0\u001b[39m])))\n\u001b[0;32m    743\u001b[0m     projection_class, pkw \u001b[39m=\u001b[39m \u001b[39mself\u001b[39m\u001b[39m.\u001b[39m_process_projection_requirements(\n\u001b[0;32m    744\u001b[0m         \u001b[39m*\u001b[39margs, \u001b[39m*\u001b[39m\u001b[39m*\u001b[39mkwargs)\n\u001b[1;32m--> 745\u001b[0m     ax \u001b[39m=\u001b[39m subplot_class_factory(projection_class)(\u001b[39mself\u001b[39m, \u001b[39m*\u001b[39margs, \u001b[39m*\u001b[39m\u001b[39m*\u001b[39mpkw)\n\u001b[0;32m    746\u001b[0m     key \u001b[39m=\u001b[39m (projection_class, pkw)\n\u001b[0;32m    747\u001b[0m \u001b[39mreturn\u001b[39;00m \u001b[39mself\u001b[39m\u001b[39m.\u001b[39m_add_axes_internal(ax, key)\n",
      "File \u001b[1;32mc:\\Users\\celin\\AppData\\Local\\Programs\\Python\\Python310\\lib\\site-packages\\matplotlib\\axes\\_subplots.py:36\u001b[0m, in \u001b[0;36mSubplotBase.__init__\u001b[1;34m(self, fig, *args, **kwargs)\u001b[0m\n\u001b[0;32m     34\u001b[0m \u001b[39mself\u001b[39m\u001b[39m.\u001b[39m_axes_class\u001b[39m.\u001b[39m\u001b[39m__init__\u001b[39m(\u001b[39mself\u001b[39m, fig, [\u001b[39m0\u001b[39m, \u001b[39m0\u001b[39m, \u001b[39m1\u001b[39m, \u001b[39m1\u001b[39m], \u001b[39m*\u001b[39m\u001b[39m*\u001b[39mkwargs)\n\u001b[0;32m     35\u001b[0m \u001b[39m# This will also update the axes position.\u001b[39;00m\n\u001b[1;32m---> 36\u001b[0m \u001b[39mself\u001b[39m\u001b[39m.\u001b[39mset_subplotspec(SubplotSpec\u001b[39m.\u001b[39;49m_from_subplot_args(fig, args))\n",
      "File \u001b[1;32mc:\\Users\\celin\\AppData\\Local\\Programs\\Python\\Python310\\lib\\site-packages\\matplotlib\\gridspec.py:601\u001b[0m, in \u001b[0;36mSubplotSpec._from_subplot_args\u001b[1;34m(figure, args)\u001b[0m\n\u001b[0;32m    597\u001b[0m \u001b[39melse\u001b[39;00m:\n\u001b[0;32m    598\u001b[0m     \u001b[39mraise\u001b[39;00m \u001b[39mTypeError\u001b[39;00m(\u001b[39mf\u001b[39m\u001b[39m\"\u001b[39m\u001b[39msubplot() takes 1 or 3 positional arguments but \u001b[39m\u001b[39m\"\u001b[39m\n\u001b[0;32m    599\u001b[0m                     \u001b[39mf\u001b[39m\u001b[39m\"\u001b[39m\u001b[39m{\u001b[39;00m\u001b[39mlen\u001b[39m(args)\u001b[39m}\u001b[39;00m\u001b[39m were given\u001b[39m\u001b[39m\"\u001b[39m)\n\u001b[1;32m--> 601\u001b[0m gs \u001b[39m=\u001b[39m GridSpec\u001b[39m.\u001b[39;49m_check_gridspec_exists(figure, rows, cols)\n\u001b[0;32m    602\u001b[0m \u001b[39mif\u001b[39;00m gs \u001b[39mis\u001b[39;00m \u001b[39mNone\u001b[39;00m:\n\u001b[0;32m    603\u001b[0m     gs \u001b[39m=\u001b[39m GridSpec(rows, cols, figure\u001b[39m=\u001b[39mfigure)\n",
      "File \u001b[1;32mc:\\Users\\celin\\AppData\\Local\\Programs\\Python\\Python310\\lib\\site-packages\\matplotlib\\gridspec.py:226\u001b[0m, in \u001b[0;36mGridSpecBase._check_gridspec_exists\u001b[1;34m(figure, nrows, ncols)\u001b[0m\n\u001b[0;32m    224\u001b[0m             \u001b[39mreturn\u001b[39;00m gs\n\u001b[0;32m    225\u001b[0m \u001b[39m# else gridspec not found:\u001b[39;00m\n\u001b[1;32m--> 226\u001b[0m \u001b[39mreturn\u001b[39;00m GridSpec(nrows, ncols, figure\u001b[39m=\u001b[39;49mfigure)\n",
      "File \u001b[1;32mc:\\Users\\celin\\AppData\\Local\\Programs\\Python\\Python310\\lib\\site-packages\\matplotlib\\gridspec.py:388\u001b[0m, in \u001b[0;36mGridSpec.__init__\u001b[1;34m(self, nrows, ncols, figure, left, bottom, right, top, wspace, hspace, width_ratios, height_ratios)\u001b[0m\n\u001b[0;32m    385\u001b[0m \u001b[39mself\u001b[39m\u001b[39m.\u001b[39mhspace \u001b[39m=\u001b[39m hspace\n\u001b[0;32m    386\u001b[0m \u001b[39mself\u001b[39m\u001b[39m.\u001b[39mfigure \u001b[39m=\u001b[39m figure\n\u001b[1;32m--> 388\u001b[0m \u001b[39msuper\u001b[39;49m()\u001b[39m.\u001b[39;49m\u001b[39m__init__\u001b[39;49m(nrows, ncols,\n\u001b[0;32m    389\u001b[0m                  width_ratios\u001b[39m=\u001b[39;49mwidth_ratios,\n\u001b[0;32m    390\u001b[0m                  height_ratios\u001b[39m=\u001b[39;49mheight_ratios)\n",
      "File \u001b[1;32mc:\\Users\\celin\\AppData\\Local\\Programs\\Python\\Python310\\lib\\site-packages\\matplotlib\\gridspec.py:49\u001b[0m, in \u001b[0;36mGridSpecBase.__init__\u001b[1;34m(self, nrows, ncols, height_ratios, width_ratios)\u001b[0m\n\u001b[0;32m     34\u001b[0m \u001b[39m\"\"\"\u001b[39;00m\n\u001b[0;32m     35\u001b[0m \u001b[39mParameters\u001b[39;00m\n\u001b[0;32m     36\u001b[0m \u001b[39m----------\u001b[39;00m\n\u001b[1;32m   (...)\u001b[0m\n\u001b[0;32m     46\u001b[0m \u001b[39m    If not given, all rows will have the same height.\u001b[39;00m\n\u001b[0;32m     47\u001b[0m \u001b[39m\"\"\"\u001b[39;00m\n\u001b[0;32m     48\u001b[0m \u001b[39mif\u001b[39;00m \u001b[39mnot\u001b[39;00m \u001b[39misinstance\u001b[39m(nrows, Integral) \u001b[39mor\u001b[39;00m nrows \u001b[39m<\u001b[39m\u001b[39m=\u001b[39m \u001b[39m0\u001b[39m:\n\u001b[1;32m---> 49\u001b[0m     \u001b[39mraise\u001b[39;00m \u001b[39mValueError\u001b[39;00m(\n\u001b[0;32m     50\u001b[0m         \u001b[39mf\u001b[39m\u001b[39m\"\u001b[39m\u001b[39mNumber of rows must be a positive integer, not \u001b[39m\u001b[39m{\u001b[39;00mnrows\u001b[39m!r}\u001b[39;00m\u001b[39m\"\u001b[39m)\n\u001b[0;32m     51\u001b[0m \u001b[39mif\u001b[39;00m \u001b[39mnot\u001b[39;00m \u001b[39misinstance\u001b[39m(ncols, Integral) \u001b[39mor\u001b[39;00m ncols \u001b[39m<\u001b[39m\u001b[39m=\u001b[39m \u001b[39m0\u001b[39m:\n\u001b[0;32m     52\u001b[0m     \u001b[39mraise\u001b[39;00m \u001b[39mValueError\u001b[39;00m(\n\u001b[0;32m     53\u001b[0m         \u001b[39mf\u001b[39m\u001b[39m\"\u001b[39m\u001b[39mNumber of columns must be a positive integer, not \u001b[39m\u001b[39m{\u001b[39;00mncols\u001b[39m!r}\u001b[39;00m\u001b[39m\"\u001b[39m)\n",
      "\u001b[1;31mValueError\u001b[0m: Number of rows must be a positive integer, not 3.0"
     ]
    },
    {
     "data": {
      "text/plain": [
       "<Figure size 2500x1500 with 0 Axes>"
      ]
     },
     "metadata": {},
     "output_type": "display_data"
    }
   ],
   "source": [
    "fig = plt.figure(figsize=(25, 15))\n",
    "cols = 5\n",
    "rows = np.ceil(float(historical_df.shape[1]) / cols)\n",
    "for i, column in enumerate(historical_df.columns):\n",
    "    ax = fig.add_subplot(rows, cols, i + 1)\n",
    "    ax.set_title(column)\n",
    "    if historical_df.dtypes[column] == np.object:\n",
    "        historical_df[column].value_counts().plot(kind=\"bar\", axes=ax)\n",
    "    else:\n",
    "        historical_df[column].hist(axes=ax)\n",
    "        plt.xticks(rotation=\"vertical\")\n",
    "plt.subplots_adjust(hspace=0.7, wspace=0.2)"
   ]
  },
  {
   "cell_type": "code",
   "execution_count": null,
   "id": "thirty-gardening",
   "metadata": {},
   "outputs": [
    {
     "name": "stdout",
     "output_type": "stream",
     "text": [
      "categorical_columns: ['Marital Status', 'Gender', 'Education', 'Occupation', 'HomeOwner', 'CommuteDistance', 'BikeBuyer']\n",
      "numerical_columns: ['Income', 'Children', 'Number of cars', 'Age']\n",
      "['Marital Status', 'Gender', 'Education', 'Occupation', 'HomeOwner', 'CommuteDistance']\n"
     ]
    }
   ],
   "source": [
    "# choose categorical and continuous features from data\n",
    "\n",
    "categorical_columns = [c for c in historical_df.columns \n",
    "                       if historical_df[c].dtype.name == 'object']\n",
    "numerical_columns = [c for c in historical_df.columns \n",
    "                     if historical_df[c].dtype.name != 'object']\n",
    "\n",
    "print('categorical_columns:', categorical_columns)\n",
    "print('numerical_columns:', numerical_columns)\n",
    "categorical_columns = categorical_columns[:-1]\n",
    "print(categorical_columns)"
   ]
  },
  {
   "cell_type": "code",
   "execution_count": null,
   "id": "upper-egypt",
   "metadata": {},
   "outputs": [
    {
     "data": {
      "image/png": "[encoded data removed]",
      "text/plain": [
       "<Figure size 432x288 with 1 Axes>"
      ]
     },
     "metadata": {
      "image/png": {
       "height": 267,
       "width": 349
      }
     },
     "output_type": "display_data"
    }
   ],
   "source": [
    "sns.boxplot(x=\"Children\", data=historical_df);"
   ]
  },
  {
   "cell_type": "markdown",
   "id": "synthetic-competition",
   "metadata": {},
   "source": [
    "How the boxplot works:"
   ]
  },
  {
   "cell_type": "markdown",
   "id": "protected-advocacy",
   "metadata": {},
   "source": [
    "<img src='boxplot.png'>"
   ]
  },
  {
   "cell_type": "code",
   "execution_count": null,
   "id": "behind-battlefield",
   "metadata": {},
   "outputs": [
    {
     "data": {
      "text/plain": [
       "0     1357\n",
       "2     1009\n",
       "1      987\n",
       "4      654\n",
       "3      588\n",
       "5      403\n",
       "9        1\n",
       "12       1\n",
       "Name: Children, dtype: int64"
      ]
     },
     "execution_count": 19,
     "metadata": {},
     "output_type": "execute_result"
    }
   ],
   "source": [
    "historical_df['Children'].value_counts()"
   ]
  },
  {
   "cell_type": "code",
   "execution_count": null,
   "id": "quality-structure",
   "metadata": {},
   "outputs": [],
   "source": [
    "# clean outliers\n",
    "historical_df = historical_df[historical_df['Children']<6]"
   ]
  },
  {
   "cell_type": "code",
   "execution_count": null,
   "id": "indie-click",
   "metadata": {},
   "outputs": [
    {
     "data": {
      "image/png": "[encoded data removed]",
      "text/plain": [
       "<Figure size 432x288 with 1 Axes>"
      ]
     },
     "metadata": {
      "image/png": {
       "height": 267,
       "width": 349
      }
     },
     "output_type": "display_data"
    }
   ],
   "source": [
    "sns.boxplot(x=\"Children\", data=historical_df);"
   ]
  },
  {
   "cell_type": "code",
   "execution_count": null,
   "id": "fatal-austria",
   "metadata": {},
   "outputs": [
    {
     "data": {
      "text/plain": [
       "<AxesSubplot:xlabel='Age'>"
      ]
     },
     "execution_count": 22,
     "metadata": {},
     "output_type": "execute_result"
    },
    {
     "data": {
      "image/png": "[encoded data removed]",
      "text/plain": [
       "<Figure size 432x288 with 1 Axes>"
      ]
     },
     "metadata": {
      "image/png": {
       "height": 267,
       "width": 349
      }
     },
     "output_type": "display_data"
    }
   ],
   "source": [
    "# same action for age\n",
    "sns.boxplot(x=\"Age\", data=historical_df)"
   ]
  },
  {
   "cell_type": "code",
   "execution_count": null,
   "id": "structural-addiction",
   "metadata": {},
   "outputs": [],
   "source": [
    "# clean data for age column\n",
    "historical_df = historical_df[historical_df['Age']<70]"
   ]
  },
  {
   "cell_type": "code",
   "execution_count": null,
   "id": "durable-developer",
   "metadata": {},
   "outputs": [
    {
     "data": {
      "text/plain": [
       "<AxesSubplot:xlabel='Age'>"
      ]
     },
     "execution_count": 24,
     "metadata": {},
     "output_type": "execute_result"
    },
    {
     "data": {
      "image/png": "[encoded data removed]",
      "text/plain": [
       "<Figure size 432x288 with 1 Axes>"
      ]
     },
     "metadata": {
      "image/png": {
       "height": 267,
       "width": 349
      }
     },
     "output_type": "display_data"
    }
   ],
   "source": [
    "sns.boxplot(x=\"Age\", data=historical_df)"
   ]
  },
  {
   "cell_type": "code",
   "execution_count": null,
   "id": "motivated-terminal",
   "metadata": {},
   "outputs": [
    {
     "data": {
      "image/png": "[encoded data removed]",
      "text/plain": [
       "<Figure size 720x504 with 4 Axes>"
      ]
     },
     "metadata": {
      "image/png": {
       "height": 492,
       "width": 707
      }
     },
     "output_type": "display_data"
    }
   ],
   "source": [
    "# plot boxplots for some continious features\n",
    "fig, axes = plt.subplots(nrows=1, ncols=4, figsize=(10, 7))\n",
    "for idx, feat in enumerate(numerical_columns):\n",
    "    ax = axes[idx % 4]\n",
    "    sns.boxplot(x=\"BikeBuyer\", y=feat, data=historical_df, ax=ax)\n",
    "    ax.set_xlabel(\"\")\n",
    "    ax.set_ylabel(feat)\n",
    "fig.tight_layout();"
   ]
  },
  {
   "cell_type": "code",
   "execution_count": null,
   "id": "analyzed-interaction",
   "metadata": {},
   "outputs": [
    {
     "data": {
      "text/html": [
       "<div>\n",
       "<style scoped>\n",
       "    .dataframe tbody tr th:only-of-type {\n",
       "        vertical-align: middle;\n",
       "    }\n",
       "\n",
       "    .dataframe tbody tr th {\n",
       "        vertical-align: top;\n",
       "    }\n",
       "\n",
       "    .dataframe thead th {\n",
       "        text-align: right;\n",
       "    }\n",
       "</style>\n",
       "<table border=\"1\" class=\"dataframe\">\n",
       "  <thead>\n",
       "    <tr style=\"text-align: right;\">\n",
       "      <th>Education</th>\n",
       "      <th>Bachelors</th>\n",
       "      <th>Graduate Degree</th>\n",
       "      <th>High School</th>\n",
       "      <th>Partial College</th>\n",
       "      <th>Partial High School</th>\n",
       "    </tr>\n",
       "    <tr>\n",
       "      <th>BikeBuyer</th>\n",
       "      <th></th>\n",
       "      <th></th>\n",
       "      <th></th>\n",
       "      <th></th>\n",
       "      <th></th>\n",
       "    </tr>\n",
       "  </thead>\n",
       "  <tbody>\n",
       "    <tr>\n",
       "      <th>No</th>\n",
       "      <td>637</td>\n",
       "      <td>393</td>\n",
       "      <td>525</td>\n",
       "      <td>652</td>\n",
       "      <td>273</td>\n",
       "    </tr>\n",
       "    <tr>\n",
       "      <th>Yes</th>\n",
       "      <td>837</td>\n",
       "      <td>442</td>\n",
       "      <td>357</td>\n",
       "      <td>648</td>\n",
       "      <td>133</td>\n",
       "    </tr>\n",
       "  </tbody>\n",
       "</table>\n",
       "</div>"
      ],
      "text/plain": [
       "Education  Bachelors  Graduate Degree  High School  Partial College  \\\n",
       "BikeBuyer                                                             \n",
       "No               637              393          525              652   \n",
       "Yes              837              442          357              648   \n",
       "\n",
       "Education  Partial High School  \n",
       "BikeBuyer                       \n",
       "No                         273  \n",
       "Yes                        133  "
      ]
     },
     "execution_count": 26,
     "metadata": {},
     "output_type": "execute_result"
    }
   ],
   "source": [
    "# find dependency between education and target variable using crosstables\n",
    "pd.crosstab(historical_df[\"Education\"], historical_df[\"BikeBuyer\"]).T"
   ]
  },
  {
   "cell_type": "code",
   "execution_count": null,
   "id": "organizational-minute",
   "metadata": {},
   "outputs": [
    {
     "data": {
      "text/plain": [
       "<AxesSubplot:xlabel='Gender', ylabel='count'>"
      ]
     },
     "execution_count": 27,
     "metadata": {},
     "output_type": "execute_result"
    },
    {
     "data": {
      "image/png": "[encoded data removed]",
      "text/plain": [
       "<Figure size 1080x576 with 4 Axes>"
      ]
     },
     "metadata": {
      "image/png": {
       "height": 484,
       "width": 906
      }
     },
     "output_type": "display_data"
    }
   ],
   "source": [
    "# trying to find dependencies between target variable and some binary variables\n",
    "_, axes = plt.subplots(2, 2, sharey=True, figsize=(15, 8))\n",
    "\n",
    "sns.countplot(x=\"Education\", hue='BikeBuyer', data=historical_df,ax=axes[0][0])\n",
    "sns.countplot(x=\"Occupation\", hue='BikeBuyer', data=historical_df,ax=axes[0][1])\n",
    "sns.countplot(x=\"Marital Status\", hue='BikeBuyer', data=historical_df,ax=axes[1][0])\n",
    "sns.countplot(x=\"Gender\", hue='BikeBuyer', data=historical_df,ax=axes[1][1])\n"
   ]
  },
  {
   "cell_type": "code",
   "execution_count": null,
   "id": "wrong-henry",
   "metadata": {},
   "outputs": [
    {
     "data": {
      "text/html": [
       "<div>\n",
       "<style scoped>\n",
       "    .dataframe tbody tr th:only-of-type {\n",
       "        vertical-align: middle;\n",
       "    }\n",
       "\n",
       "    .dataframe tbody tr th {\n",
       "        vertical-align: top;\n",
       "    }\n",
       "\n",
       "    .dataframe thead th {\n",
       "        text-align: right;\n",
       "    }\n",
       "</style>\n",
       "<table border=\"1\" class=\"dataframe\">\n",
       "  <thead>\n",
       "    <tr style=\"text-align: right;\">\n",
       "      <th></th>\n",
       "      <th>Marital Status</th>\n",
       "      <th>Gender</th>\n",
       "      <th>Income</th>\n",
       "      <th>Children</th>\n",
       "      <th>Education</th>\n",
       "      <th>Occupation</th>\n",
       "      <th>HomeOwner</th>\n",
       "      <th>Number of cars</th>\n",
       "      <th>CommuteDistance</th>\n",
       "      <th>Age</th>\n",
       "      <th>BikeBuyer</th>\n",
       "    </tr>\n",
       "    <tr>\n",
       "      <th>CustomerKey</th>\n",
       "      <th></th>\n",
       "      <th></th>\n",
       "      <th></th>\n",
       "      <th></th>\n",
       "      <th></th>\n",
       "      <th></th>\n",
       "      <th></th>\n",
       "      <th></th>\n",
       "      <th></th>\n",
       "      <th></th>\n",
       "      <th></th>\n",
       "    </tr>\n",
       "  </thead>\n",
       "  <tbody>\n",
       "    <tr>\n",
       "      <th>11000</th>\n",
       "      <td>Married</td>\n",
       "      <td>Male</td>\n",
       "      <td>90000</td>\n",
       "      <td>2</td>\n",
       "      <td>Bachelors</td>\n",
       "      <td>Professional</td>\n",
       "      <td>Yes</td>\n",
       "      <td>0</td>\n",
       "      <td>1-2 Miles</td>\n",
       "      <td>40</td>\n",
       "      <td>Yes</td>\n",
       "    </tr>\n",
       "    <tr>\n",
       "      <th>11001</th>\n",
       "      <td>Single</td>\n",
       "      <td>Male</td>\n",
       "      <td>60000</td>\n",
       "      <td>3</td>\n",
       "      <td>Bachelors</td>\n",
       "      <td>Professional</td>\n",
       "      <td>No</td>\n",
       "      <td>1</td>\n",
       "      <td>0-1 Miles</td>\n",
       "      <td>41</td>\n",
       "      <td>Yes</td>\n",
       "    </tr>\n",
       "    <tr>\n",
       "      <th>29004</th>\n",
       "      <td>Married</td>\n",
       "      <td>Male</td>\n",
       "      <td>70000</td>\n",
       "      <td>4</td>\n",
       "      <td>Bachelors</td>\n",
       "      <td>Management</td>\n",
       "      <td>Yes</td>\n",
       "      <td>2</td>\n",
       "      <td>10+ Miles</td>\n",
       "      <td>57</td>\n",
       "      <td>Yes</td>\n",
       "    </tr>\n",
       "    <tr>\n",
       "      <th>25562</th>\n",
       "      <td>Married</td>\n",
       "      <td>Female</td>\n",
       "      <td>20000</td>\n",
       "      <td>0</td>\n",
       "      <td>Bachelors</td>\n",
       "      <td>Clerical</td>\n",
       "      <td>Yes</td>\n",
       "      <td>0</td>\n",
       "      <td>0-1 Miles</td>\n",
       "      <td>27</td>\n",
       "      <td>Yes</td>\n",
       "    </tr>\n",
       "    <tr>\n",
       "      <th>18839</th>\n",
       "      <td>Married</td>\n",
       "      <td>Male</td>\n",
       "      <td>80000</td>\n",
       "      <td>3</td>\n",
       "      <td>Partial College</td>\n",
       "      <td>Professional</td>\n",
       "      <td>Yes</td>\n",
       "      <td>1</td>\n",
       "      <td>1-2 Miles</td>\n",
       "      <td>51</td>\n",
       "      <td>Yes</td>\n",
       "    </tr>\n",
       "  </tbody>\n",
       "</table>\n",
       "</div>"
      ],
      "text/plain": [
       "            Marital Status  Gender  Income  Children        Education  \\\n",
       "CustomerKey                                                             \n",
       "11000              Married    Male   90000         2        Bachelors   \n",
       "11001               Single    Male   60000         3        Bachelors   \n",
       "29004              Married    Male   70000         4        Bachelors   \n",
       "25562              Married  Female   20000         0        Bachelors   \n",
       "18839              Married    Male   80000         3  Partial College   \n",
       "\n",
       "               Occupation HomeOwner  Number of cars CommuteDistance  Age  \\\n",
       "CustomerKey                                                                \n",
       "11000        Professional       Yes               0       1-2 Miles   40   \n",
       "11001        Professional        No               1       0-1 Miles   41   \n",
       "29004          Management       Yes               2       10+ Miles   57   \n",
       "25562            Clerical       Yes               0       0-1 Miles   27   \n",
       "18839        Professional       Yes               1       1-2 Miles   51   \n",
       "\n",
       "            BikeBuyer  \n",
       "CustomerKey            \n",
       "11000             Yes  \n",
       "11001             Yes  \n",
       "29004             Yes  \n",
       "25562             Yes  \n",
       "18839             Yes  "
      ]
     },
     "execution_count": 28,
     "metadata": {},
     "output_type": "execute_result"
    }
   ],
   "source": [
    "historical_df.head()"
   ]
  },
  {
   "cell_type": "code",
   "execution_count": null,
   "id": "pending-johnson",
   "metadata": {},
   "outputs": [
    {
     "data": {
      "text/html": [
       "<div>\n",
       "<style scoped>\n",
       "    .dataframe tbody tr th:only-of-type {\n",
       "        vertical-align: middle;\n",
       "    }\n",
       "\n",
       "    .dataframe tbody tr th {\n",
       "        vertical-align: top;\n",
       "    }\n",
       "\n",
       "    .dataframe thead th {\n",
       "        text-align: right;\n",
       "    }\n",
       "</style>\n",
       "<table border=\"1\" class=\"dataframe\">\n",
       "  <thead>\n",
       "    <tr style=\"text-align: right;\">\n",
       "      <th></th>\n",
       "      <th>Marital Status</th>\n",
       "      <th>Gender</th>\n",
       "      <th>Income</th>\n",
       "      <th>Children</th>\n",
       "      <th>Education</th>\n",
       "      <th>Occupation</th>\n",
       "      <th>HomeOwner</th>\n",
       "      <th>Number of cars</th>\n",
       "      <th>CommuteDistance</th>\n",
       "      <th>Age</th>\n",
       "      <th>BikeBuyer</th>\n",
       "    </tr>\n",
       "    <tr>\n",
       "      <th>CustomerKey</th>\n",
       "      <th></th>\n",
       "      <th></th>\n",
       "      <th></th>\n",
       "      <th></th>\n",
       "      <th></th>\n",
       "      <th></th>\n",
       "      <th></th>\n",
       "      <th></th>\n",
       "      <th></th>\n",
       "      <th></th>\n",
       "      <th></th>\n",
       "    </tr>\n",
       "  </thead>\n",
       "  <tbody>\n",
       "    <tr>\n",
       "      <th>11000</th>\n",
       "      <td>Married</td>\n",
       "      <td>Male</td>\n",
       "      <td>90000</td>\n",
       "      <td>2</td>\n",
       "      <td>Bachelors</td>\n",
       "      <td>Professional</td>\n",
       "      <td>1</td>\n",
       "      <td>0</td>\n",
       "      <td>1-2 Miles</td>\n",
       "      <td>40</td>\n",
       "      <td>1</td>\n",
       "    </tr>\n",
       "    <tr>\n",
       "      <th>11001</th>\n",
       "      <td>Single</td>\n",
       "      <td>Male</td>\n",
       "      <td>60000</td>\n",
       "      <td>3</td>\n",
       "      <td>Bachelors</td>\n",
       "      <td>Professional</td>\n",
       "      <td>0</td>\n",
       "      <td>1</td>\n",
       "      <td>0-1 Miles</td>\n",
       "      <td>41</td>\n",
       "      <td>1</td>\n",
       "    </tr>\n",
       "    <tr>\n",
       "      <th>29004</th>\n",
       "      <td>Married</td>\n",
       "      <td>Male</td>\n",
       "      <td>70000</td>\n",
       "      <td>4</td>\n",
       "      <td>Bachelors</td>\n",
       "      <td>Management</td>\n",
       "      <td>1</td>\n",
       "      <td>2</td>\n",
       "      <td>10+ Miles</td>\n",
       "      <td>57</td>\n",
       "      <td>1</td>\n",
       "    </tr>\n",
       "    <tr>\n",
       "      <th>25562</th>\n",
       "      <td>Married</td>\n",
       "      <td>Female</td>\n",
       "      <td>20000</td>\n",
       "      <td>0</td>\n",
       "      <td>Bachelors</td>\n",
       "      <td>Clerical</td>\n",
       "      <td>1</td>\n",
       "      <td>0</td>\n",
       "      <td>0-1 Miles</td>\n",
       "      <td>27</td>\n",
       "      <td>1</td>\n",
       "    </tr>\n",
       "    <tr>\n",
       "      <th>18839</th>\n",
       "      <td>Married</td>\n",
       "      <td>Male</td>\n",
       "      <td>80000</td>\n",
       "      <td>3</td>\n",
       "      <td>Partial College</td>\n",
       "      <td>Professional</td>\n",
       "      <td>1</td>\n",
       "      <td>1</td>\n",
       "      <td>1-2 Miles</td>\n",
       "      <td>51</td>\n",
       "      <td>1</td>\n",
       "    </tr>\n",
       "  </tbody>\n",
       "</table>\n",
       "</div>"
      ],
      "text/plain": [
       "            Marital Status  Gender  Income  Children        Education  \\\n",
       "CustomerKey                                                             \n",
       "11000              Married    Male   90000         2        Bachelors   \n",
       "11001               Single    Male   60000         3        Bachelors   \n",
       "29004              Married    Male   70000         4        Bachelors   \n",
       "25562              Married  Female   20000         0        Bachelors   \n",
       "18839              Married    Male   80000         3  Partial College   \n",
       "\n",
       "               Occupation  HomeOwner  Number of cars CommuteDistance  Age  \\\n",
       "CustomerKey                                                                 \n",
       "11000        Professional          1               0       1-2 Miles   40   \n",
       "11001        Professional          0               1       0-1 Miles   41   \n",
       "29004          Management          1               2       10+ Miles   57   \n",
       "25562            Clerical          1               0       0-1 Miles   27   \n",
       "18839        Professional          1               1       1-2 Miles   51   \n",
       "\n",
       "             BikeBuyer  \n",
       "CustomerKey             \n",
       "11000                1  \n",
       "11001                1  \n",
       "29004                1  \n",
       "25562                1  \n",
       "18839                1  "
      ]
     },
     "execution_count": 29,
     "metadata": {},
     "output_type": "execute_result"
    }
   ],
   "source": [
    "# convert yes/no string variables into numerical values\n",
    "map_dict = {\"No\": 0, \"Yes\": 1}\n",
    "historical_df['BikeBuyer'] = historical_df['BikeBuyer'].map(map_dict)\n",
    "historical_df['HomeOwner'] = historical_df['HomeOwner'].map(map_dict)\n",
    "potential_df['HomeOwner'] = potential_df['HomeOwner'].map(map_dict)\n",
    "historical_df.head()"
   ]
  },
  {
   "cell_type": "code",
   "execution_count": null,
   "id": "associate-compiler",
   "metadata": {},
   "outputs": [
    {
     "data": {
      "text/html": [
       "<div>\n",
       "<style scoped>\n",
       "    .dataframe tbody tr th:only-of-type {\n",
       "        vertical-align: middle;\n",
       "    }\n",
       "\n",
       "    .dataframe tbody tr th {\n",
       "        vertical-align: top;\n",
       "    }\n",
       "\n",
       "    .dataframe thead th {\n",
       "        text-align: right;\n",
       "    }\n",
       "</style>\n",
       "<table border=\"1\" class=\"dataframe\">\n",
       "  <thead>\n",
       "    <tr style=\"text-align: right;\">\n",
       "      <th></th>\n",
       "      <th>Marital Status</th>\n",
       "      <th>Gender</th>\n",
       "      <th>Income</th>\n",
       "      <th>Children</th>\n",
       "      <th>Education</th>\n",
       "      <th>Occupation</th>\n",
       "      <th>HomeOwner</th>\n",
       "      <th>Number of cars</th>\n",
       "      <th>CommuteDistance</th>\n",
       "      <th>Age</th>\n",
       "    </tr>\n",
       "    <tr>\n",
       "      <th>CustomerKey</th>\n",
       "      <th></th>\n",
       "      <th></th>\n",
       "      <th></th>\n",
       "      <th></th>\n",
       "      <th></th>\n",
       "      <th></th>\n",
       "      <th></th>\n",
       "      <th></th>\n",
       "      <th></th>\n",
       "      <th></th>\n",
       "    </tr>\n",
       "  </thead>\n",
       "  <tbody>\n",
       "    <tr>\n",
       "      <th>11000</th>\n",
       "      <td>Married</td>\n",
       "      <td>Male</td>\n",
       "      <td>90000</td>\n",
       "      <td>2</td>\n",
       "      <td>Bachelors</td>\n",
       "      <td>Professional</td>\n",
       "      <td>1</td>\n",
       "      <td>0</td>\n",
       "      <td>1-2 Miles</td>\n",
       "      <td>40</td>\n",
       "    </tr>\n",
       "    <tr>\n",
       "      <th>11001</th>\n",
       "      <td>Single</td>\n",
       "      <td>Male</td>\n",
       "      <td>60000</td>\n",
       "      <td>3</td>\n",
       "      <td>Bachelors</td>\n",
       "      <td>Professional</td>\n",
       "      <td>0</td>\n",
       "      <td>1</td>\n",
       "      <td>0-1 Miles</td>\n",
       "      <td>41</td>\n",
       "    </tr>\n",
       "    <tr>\n",
       "      <th>11002</th>\n",
       "      <td>Married</td>\n",
       "      <td>Male</td>\n",
       "      <td>60000</td>\n",
       "      <td>3</td>\n",
       "      <td>Bachelors</td>\n",
       "      <td>Professional</td>\n",
       "      <td>1</td>\n",
       "      <td>1</td>\n",
       "      <td>2-5 Miles</td>\n",
       "      <td>41</td>\n",
       "    </tr>\n",
       "    <tr>\n",
       "      <th>11003</th>\n",
       "      <td>Single</td>\n",
       "      <td>Female</td>\n",
       "      <td>70000</td>\n",
       "      <td>0</td>\n",
       "      <td>Bachelors</td>\n",
       "      <td>Professional</td>\n",
       "      <td>0</td>\n",
       "      <td>1</td>\n",
       "      <td>5-10 Miles</td>\n",
       "      <td>38</td>\n",
       "    </tr>\n",
       "    <tr>\n",
       "      <th>11004</th>\n",
       "      <td>Single</td>\n",
       "      <td>Female</td>\n",
       "      <td>80000</td>\n",
       "      <td>5</td>\n",
       "      <td>Bachelors</td>\n",
       "      <td>Professional</td>\n",
       "      <td>1</td>\n",
       "      <td>4</td>\n",
       "      <td>1-2 Miles</td>\n",
       "      <td>38</td>\n",
       "    </tr>\n",
       "  </tbody>\n",
       "</table>\n",
       "</div>"
      ],
      "text/plain": [
       "            Marital Status  Gender  Income  Children  Education    Occupation  \\\n",
       "CustomerKey                                                                     \n",
       "11000              Married    Male   90000         2  Bachelors  Professional   \n",
       "11001               Single    Male   60000         3  Bachelors  Professional   \n",
       "11002              Married    Male   60000         3  Bachelors  Professional   \n",
       "11003               Single  Female   70000         0  Bachelors  Professional   \n",
       "11004               Single  Female   80000         5  Bachelors  Professional   \n",
       "\n",
       "             HomeOwner  Number of cars CommuteDistance  Age  \n",
       "CustomerKey                                                  \n",
       "11000                1               0       1-2 Miles   40  \n",
       "11001                0               1       0-1 Miles   41  \n",
       "11002                1               1       2-5 Miles   41  \n",
       "11003                0               1      5-10 Miles   38  \n",
       "11004                1               4       1-2 Miles   38  "
      ]
     },
     "execution_count": 30,
     "metadata": {},
     "output_type": "execute_result"
    }
   ],
   "source": [
    "potential_df.head()"
   ]
  },
  {
   "cell_type": "code",
   "execution_count": null,
   "id": "aggressive-district",
   "metadata": {},
   "outputs": [
    {
     "data": {
      "text/plain": [
       "Marital Status     object\n",
       "Gender             object\n",
       "Income              int64\n",
       "Children            int64\n",
       "Education          object\n",
       "Occupation         object\n",
       "HomeOwner           int64\n",
       "Number of cars      int64\n",
       "CommuteDistance    object\n",
       "Age                 int64\n",
       "BikeBuyer           int64\n",
       "dtype: object"
      ]
     },
     "execution_count": 31,
     "metadata": {},
     "output_type": "execute_result"
    }
   ],
   "source": [
    "historical_df.dtypes"
   ]
  },
  {
   "cell_type": "markdown",
   "id": "generous-jaguar",
   "metadata": {},
   "source": [
    "### Prepare data for machine learning"
   ]
  },
  {
   "cell_type": "code",
   "execution_count": null,
   "id": "preliminary-memphis",
   "metadata": {},
   "outputs": [],
   "source": [
    "# split dataset into X and y \n",
    "historical_y = historical_df['BikeBuyer'].astype('int')\n",
    "historical_x = historical_df.drop('BikeBuyer', axis = 1)"
   ]
  },
  {
   "cell_type": "code",
   "execution_count": null,
   "id": "stuck-integral",
   "metadata": {},
   "outputs": [
    {
     "data": {
      "text/plain": [
       "(4897, 10)"
      ]
     },
     "execution_count": 33,
     "metadata": {},
     "output_type": "execute_result"
    }
   ],
   "source": [
    "historical_x.shape"
   ]
  },
  {
   "cell_type": "code",
   "execution_count": null,
   "id": "psychological-breeding",
   "metadata": {},
   "outputs": [
    {
     "data": {
      "text/plain": [
       "(18484, 10)"
      ]
     },
     "execution_count": 34,
     "metadata": {},
     "output_type": "execute_result"
    }
   ],
   "source": [
    "potential_df.shape"
   ]
  },
  {
   "cell_type": "code",
   "execution_count": null,
   "id": "composed-nebraska",
   "metadata": {},
   "outputs": [],
   "source": [
    "# fill missing data\n",
    "\n",
    "for c in categorical_columns:\n",
    "    if c in historical_x.columns:\n",
    "        historical_x[c].fillna(historical_x[c].mode()[0], inplace=True)\n",
    "    if c in potential_df.columns:\n",
    "        potential_df[c].fillna(potential_df[c].mode()[0], inplace=True)\n",
    "    \n",
    "for c in numerical_columns:\n",
    "    if c in historical_x.columns:\n",
    "        historical_x[c].fillna(historical_x[c].median(), inplace=True)\n",
    "    if c in potential_df.columns:\n",
    "        potential_df[c].fillna(potential_df[c].median(), inplace=True)"
   ]
  },
  {
   "cell_type": "code",
   "execution_count": null,
   "id": "different-morning",
   "metadata": {},
   "outputs": [],
   "source": [
    "# encoding variables for decision trees algorithms ex. one-hot-encoding\n",
    "historical_x = pd.concat([historical_x[numerical_columns],\n",
    "    pd.get_dummies(historical_x[categorical_columns])], axis=1)\n",
    "potential_df = pd.concat([potential_df[numerical_columns],\n",
    "    pd.get_dummies(potential_df[categorical_columns])], axis=1)"
   ]
  },
  {
   "cell_type": "code",
   "execution_count": null,
   "id": "negative-adams",
   "metadata": {},
   "outputs": [
    {
     "data": {
      "text/html": [
       "<div>\n",
       "<style scoped>\n",
       "    .dataframe tbody tr th:only-of-type {\n",
       "        vertical-align: middle;\n",
       "    }\n",
       "\n",
       "    .dataframe tbody tr th {\n",
       "        vertical-align: top;\n",
       "    }\n",
       "\n",
       "    .dataframe thead th {\n",
       "        text-align: right;\n",
       "    }\n",
       "</style>\n",
       "<table border=\"1\" class=\"dataframe\">\n",
       "  <thead>\n",
       "    <tr style=\"text-align: right;\">\n",
       "      <th></th>\n",
       "      <th>Income</th>\n",
       "      <th>Children</th>\n",
       "      <th>Number of cars</th>\n",
       "      <th>Age</th>\n",
       "      <th>HomeOwner</th>\n",
       "      <th>Marital Status_Married</th>\n",
       "      <th>Marital Status_Single</th>\n",
       "      <th>Gender_Female</th>\n",
       "      <th>Gender_Male</th>\n",
       "      <th>Education_Bachelors</th>\n",
       "      <th>...</th>\n",
       "      <th>Occupation_Clerical</th>\n",
       "      <th>Occupation_Management</th>\n",
       "      <th>Occupation_Manual</th>\n",
       "      <th>Occupation_Professional</th>\n",
       "      <th>Occupation_Skilled Manual</th>\n",
       "      <th>CommuteDistance_0-1 Miles</th>\n",
       "      <th>CommuteDistance_1-2 Miles</th>\n",
       "      <th>CommuteDistance_10+ Miles</th>\n",
       "      <th>CommuteDistance_2-5 Miles</th>\n",
       "      <th>CommuteDistance_5-10 Miles</th>\n",
       "    </tr>\n",
       "    <tr>\n",
       "      <th>CustomerKey</th>\n",
       "      <th></th>\n",
       "      <th></th>\n",
       "      <th></th>\n",
       "      <th></th>\n",
       "      <th></th>\n",
       "      <th></th>\n",
       "      <th></th>\n",
       "      <th></th>\n",
       "      <th></th>\n",
       "      <th></th>\n",
       "      <th></th>\n",
       "      <th></th>\n",
       "      <th></th>\n",
       "      <th></th>\n",
       "      <th></th>\n",
       "      <th></th>\n",
       "      <th></th>\n",
       "      <th></th>\n",
       "      <th></th>\n",
       "      <th></th>\n",
       "      <th></th>\n",
       "    </tr>\n",
       "  </thead>\n",
       "  <tbody>\n",
       "    <tr>\n",
       "      <th>11000</th>\n",
       "      <td>90000</td>\n",
       "      <td>2</td>\n",
       "      <td>0</td>\n",
       "      <td>40</td>\n",
       "      <td>1</td>\n",
       "      <td>1</td>\n",
       "      <td>0</td>\n",
       "      <td>0</td>\n",
       "      <td>1</td>\n",
       "      <td>1</td>\n",
       "      <td>...</td>\n",
       "      <td>0</td>\n",
       "      <td>0</td>\n",
       "      <td>0</td>\n",
       "      <td>1</td>\n",
       "      <td>0</td>\n",
       "      <td>0</td>\n",
       "      <td>1</td>\n",
       "      <td>0</td>\n",
       "      <td>0</td>\n",
       "      <td>0</td>\n",
       "    </tr>\n",
       "    <tr>\n",
       "      <th>11001</th>\n",
       "      <td>60000</td>\n",
       "      <td>3</td>\n",
       "      <td>1</td>\n",
       "      <td>41</td>\n",
       "      <td>0</td>\n",
       "      <td>0</td>\n",
       "      <td>1</td>\n",
       "      <td>0</td>\n",
       "      <td>1</td>\n",
       "      <td>1</td>\n",
       "      <td>...</td>\n",
       "      <td>0</td>\n",
       "      <td>0</td>\n",
       "      <td>0</td>\n",
       "      <td>1</td>\n",
       "      <td>0</td>\n",
       "      <td>1</td>\n",
       "      <td>0</td>\n",
       "      <td>0</td>\n",
       "      <td>0</td>\n",
       "      <td>0</td>\n",
       "    </tr>\n",
       "    <tr>\n",
       "      <th>29004</th>\n",
       "      <td>70000</td>\n",
       "      <td>4</td>\n",
       "      <td>2</td>\n",
       "      <td>57</td>\n",
       "      <td>1</td>\n",
       "      <td>1</td>\n",
       "      <td>0</td>\n",
       "      <td>0</td>\n",
       "      <td>1</td>\n",
       "      <td>1</td>\n",
       "      <td>...</td>\n",
       "      <td>0</td>\n",
       "      <td>1</td>\n",
       "      <td>0</td>\n",
       "      <td>0</td>\n",
       "      <td>0</td>\n",
       "      <td>0</td>\n",
       "      <td>0</td>\n",
       "      <td>1</td>\n",
       "      <td>0</td>\n",
       "      <td>0</td>\n",
       "    </tr>\n",
       "    <tr>\n",
       "      <th>25562</th>\n",
       "      <td>20000</td>\n",
       "      <td>0</td>\n",
       "      <td>0</td>\n",
       "      <td>27</td>\n",
       "      <td>1</td>\n",
       "      <td>1</td>\n",
       "      <td>0</td>\n",
       "      <td>1</td>\n",
       "      <td>0</td>\n",
       "      <td>1</td>\n",
       "      <td>...</td>\n",
       "      <td>1</td>\n",
       "      <td>0</td>\n",
       "      <td>0</td>\n",
       "      <td>0</td>\n",
       "      <td>0</td>\n",
       "      <td>1</td>\n",
       "      <td>0</td>\n",
       "      <td>0</td>\n",
       "      <td>0</td>\n",
       "      <td>0</td>\n",
       "    </tr>\n",
       "    <tr>\n",
       "      <th>18839</th>\n",
       "      <td>80000</td>\n",
       "      <td>3</td>\n",
       "      <td>1</td>\n",
       "      <td>51</td>\n",
       "      <td>1</td>\n",
       "      <td>1</td>\n",
       "      <td>0</td>\n",
       "      <td>0</td>\n",
       "      <td>1</td>\n",
       "      <td>0</td>\n",
       "      <td>...</td>\n",
       "      <td>0</td>\n",
       "      <td>0</td>\n",
       "      <td>0</td>\n",
       "      <td>1</td>\n",
       "      <td>0</td>\n",
       "      <td>0</td>\n",
       "      <td>1</td>\n",
       "      <td>0</td>\n",
       "      <td>0</td>\n",
       "      <td>0</td>\n",
       "    </tr>\n",
       "  </tbody>\n",
       "</table>\n",
       "<p>5 rows × 24 columns</p>\n",
       "</div>"
      ],
      "text/plain": [
       "             Income  Children  Number of cars  Age  HomeOwner  \\\n",
       "CustomerKey                                                     \n",
       "11000         90000         2               0   40          1   \n",
       "11001         60000         3               1   41          0   \n",
       "29004         70000         4               2   57          1   \n",
       "25562         20000         0               0   27          1   \n",
       "18839         80000         3               1   51          1   \n",
       "\n",
       "             Marital Status_Married  Marital Status_Single  Gender_Female  \\\n",
       "CustomerKey                                                                 \n",
       "11000                             1                      0              0   \n",
       "11001                             0                      1              0   \n",
       "29004                             1                      0              0   \n",
       "25562                             1                      0              1   \n",
       "18839                             1                      0              0   \n",
       "\n",
       "             Gender_Male  Education_Bachelors  ...  Occupation_Clerical  \\\n",
       "CustomerKey                                    ...                        \n",
       "11000                  1                    1  ...                    0   \n",
       "11001                  1                    1  ...                    0   \n",
       "29004                  1                    1  ...                    0   \n",
       "25562                  0                    1  ...                    1   \n",
       "18839                  1                    0  ...                    0   \n",
       "\n",
       "             Occupation_Management  Occupation_Manual  \\\n",
       "CustomerKey                                             \n",
       "11000                            0                  0   \n",
       "11001                            0                  0   \n",
       "29004                            1                  0   \n",
       "25562                            0                  0   \n",
       "18839                            0                  0   \n",
       "\n",
       "             Occupation_Professional  Occupation_Skilled Manual  \\\n",
       "CustomerKey                                                       \n",
       "11000                              1                          0   \n",
       "11001                              1                          0   \n",
       "29004                              0                          0   \n",
       "25562                              0                          0   \n",
       "18839                              1                          0   \n",
       "\n",
       "             CommuteDistance_0-1 Miles  CommuteDistance_1-2 Miles  \\\n",
       "CustomerKey                                                         \n",
       "11000                                0                          1   \n",
       "11001                                1                          0   \n",
       "29004                                0                          0   \n",
       "25562                                1                          0   \n",
       "18839                                0                          1   \n",
       "\n",
       "             CommuteDistance_10+ Miles  CommuteDistance_2-5 Miles  \\\n",
       "CustomerKey                                                         \n",
       "11000                                0                          0   \n",
       "11001                                0                          0   \n",
       "29004                                1                          0   \n",
       "25562                                0                          0   \n",
       "18839                                0                          0   \n",
       "\n",
       "             CommuteDistance_5-10 Miles  \n",
       "CustomerKey                              \n",
       "11000                                 0  \n",
       "11001                                 0  \n",
       "29004                                 0  \n",
       "25562                                 0  \n",
       "18839                                 0  \n",
       "\n",
       "[5 rows x 24 columns]"
      ]
     },
     "execution_count": 37,
     "metadata": {},
     "output_type": "execute_result"
    }
   ],
   "source": [
    "historical_x.head()"
   ]
  },
  {
   "cell_type": "code",
   "execution_count": null,
   "id": "controlling-dragon",
   "metadata": {},
   "outputs": [
    {
     "data": {
      "text/html": [
       "<div>\n",
       "<style scoped>\n",
       "    .dataframe tbody tr th:only-of-type {\n",
       "        vertical-align: middle;\n",
       "    }\n",
       "\n",
       "    .dataframe tbody tr th {\n",
       "        vertical-align: top;\n",
       "    }\n",
       "\n",
       "    .dataframe thead th {\n",
       "        text-align: right;\n",
       "    }\n",
       "</style>\n",
       "<table border=\"1\" class=\"dataframe\">\n",
       "  <thead>\n",
       "    <tr style=\"text-align: right;\">\n",
       "      <th></th>\n",
       "      <th>Income</th>\n",
       "      <th>Children</th>\n",
       "      <th>Number of cars</th>\n",
       "      <th>Age</th>\n",
       "      <th>HomeOwner</th>\n",
       "      <th>Marital Status_Married</th>\n",
       "      <th>Marital Status_Single</th>\n",
       "      <th>Gender_Female</th>\n",
       "      <th>Gender_Male</th>\n",
       "      <th>Education_Bachelors</th>\n",
       "      <th>...</th>\n",
       "      <th>Occupation_Clerical</th>\n",
       "      <th>Occupation_Management</th>\n",
       "      <th>Occupation_Manual</th>\n",
       "      <th>Occupation_Professional</th>\n",
       "      <th>Occupation_Skilled Manual</th>\n",
       "      <th>CommuteDistance_0-1 Miles</th>\n",
       "      <th>CommuteDistance_1-2 Miles</th>\n",
       "      <th>CommuteDistance_10+ Miles</th>\n",
       "      <th>CommuteDistance_2-5 Miles</th>\n",
       "      <th>CommuteDistance_5-10 Miles</th>\n",
       "    </tr>\n",
       "    <tr>\n",
       "      <th>CustomerKey</th>\n",
       "      <th></th>\n",
       "      <th></th>\n",
       "      <th></th>\n",
       "      <th></th>\n",
       "      <th></th>\n",
       "      <th></th>\n",
       "      <th></th>\n",
       "      <th></th>\n",
       "      <th></th>\n",
       "      <th></th>\n",
       "      <th></th>\n",
       "      <th></th>\n",
       "      <th></th>\n",
       "      <th></th>\n",
       "      <th></th>\n",
       "      <th></th>\n",
       "      <th></th>\n",
       "      <th></th>\n",
       "      <th></th>\n",
       "      <th></th>\n",
       "      <th></th>\n",
       "    </tr>\n",
       "  </thead>\n",
       "  <tbody>\n",
       "    <tr>\n",
       "      <th>11000</th>\n",
       "      <td>90000</td>\n",
       "      <td>2</td>\n",
       "      <td>0</td>\n",
       "      <td>40</td>\n",
       "      <td>1</td>\n",
       "      <td>1</td>\n",
       "      <td>0</td>\n",
       "      <td>0</td>\n",
       "      <td>1</td>\n",
       "      <td>1</td>\n",
       "      <td>...</td>\n",
       "      <td>0</td>\n",
       "      <td>0</td>\n",
       "      <td>0</td>\n",
       "      <td>1</td>\n",
       "      <td>0</td>\n",
       "      <td>0</td>\n",
       "      <td>1</td>\n",
       "      <td>0</td>\n",
       "      <td>0</td>\n",
       "      <td>0</td>\n",
       "    </tr>\n",
       "    <tr>\n",
       "      <th>11001</th>\n",
       "      <td>60000</td>\n",
       "      <td>3</td>\n",
       "      <td>1</td>\n",
       "      <td>41</td>\n",
       "      <td>0</td>\n",
       "      <td>0</td>\n",
       "      <td>1</td>\n",
       "      <td>0</td>\n",
       "      <td>1</td>\n",
       "      <td>1</td>\n",
       "      <td>...</td>\n",
       "      <td>0</td>\n",
       "      <td>0</td>\n",
       "      <td>0</td>\n",
       "      <td>1</td>\n",
       "      <td>0</td>\n",
       "      <td>1</td>\n",
       "      <td>0</td>\n",
       "      <td>0</td>\n",
       "      <td>0</td>\n",
       "      <td>0</td>\n",
       "    </tr>\n",
       "    <tr>\n",
       "      <th>11002</th>\n",
       "      <td>60000</td>\n",
       "      <td>3</td>\n",
       "      <td>1</td>\n",
       "      <td>41</td>\n",
       "      <td>1</td>\n",
       "      <td>1</td>\n",
       "      <td>0</td>\n",
       "      <td>0</td>\n",
       "      <td>1</td>\n",
       "      <td>1</td>\n",
       "      <td>...</td>\n",
       "      <td>0</td>\n",
       "      <td>0</td>\n",
       "      <td>0</td>\n",
       "      <td>1</td>\n",
       "      <td>0</td>\n",
       "      <td>0</td>\n",
       "      <td>0</td>\n",
       "      <td>0</td>\n",
       "      <td>1</td>\n",
       "      <td>0</td>\n",
       "    </tr>\n",
       "    <tr>\n",
       "      <th>11003</th>\n",
       "      <td>70000</td>\n",
       "      <td>0</td>\n",
       "      <td>1</td>\n",
       "      <td>38</td>\n",
       "      <td>0</td>\n",
       "      <td>0</td>\n",
       "      <td>1</td>\n",
       "      <td>1</td>\n",
       "      <td>0</td>\n",
       "      <td>1</td>\n",
       "      <td>...</td>\n",
       "      <td>0</td>\n",
       "      <td>0</td>\n",
       "      <td>0</td>\n",
       "      <td>1</td>\n",
       "      <td>0</td>\n",
       "      <td>0</td>\n",
       "      <td>0</td>\n",
       "      <td>0</td>\n",
       "      <td>0</td>\n",
       "      <td>1</td>\n",
       "    </tr>\n",
       "    <tr>\n",
       "      <th>11004</th>\n",
       "      <td>80000</td>\n",
       "      <td>5</td>\n",
       "      <td>4</td>\n",
       "      <td>38</td>\n",
       "      <td>1</td>\n",
       "      <td>0</td>\n",
       "      <td>1</td>\n",
       "      <td>1</td>\n",
       "      <td>0</td>\n",
       "      <td>1</td>\n",
       "      <td>...</td>\n",
       "      <td>0</td>\n",
       "      <td>0</td>\n",
       "      <td>0</td>\n",
       "      <td>1</td>\n",
       "      <td>0</td>\n",
       "      <td>0</td>\n",
       "      <td>1</td>\n",
       "      <td>0</td>\n",
       "      <td>0</td>\n",
       "      <td>0</td>\n",
       "    </tr>\n",
       "  </tbody>\n",
       "</table>\n",
       "<p>5 rows × 24 columns</p>\n",
       "</div>"
      ],
      "text/plain": [
       "             Income  Children  Number of cars  Age  HomeOwner  \\\n",
       "CustomerKey                                                     \n",
       "11000         90000         2               0   40          1   \n",
       "11001         60000         3               1   41          0   \n",
       "11002         60000         3               1   41          1   \n",
       "11003         70000         0               1   38          0   \n",
       "11004         80000         5               4   38          1   \n",
       "\n",
       "             Marital Status_Married  Marital Status_Single  Gender_Female  \\\n",
       "CustomerKey                                                                 \n",
       "11000                             1                      0              0   \n",
       "11001                             0                      1              0   \n",
       "11002                             1                      0              0   \n",
       "11003                             0                      1              1   \n",
       "11004                             0                      1              1   \n",
       "\n",
       "             Gender_Male  Education_Bachelors  ...  Occupation_Clerical  \\\n",
       "CustomerKey                                    ...                        \n",
       "11000                  1                    1  ...                    0   \n",
       "11001                  1                    1  ...                    0   \n",
       "11002                  1                    1  ...                    0   \n",
       "11003                  0                    1  ...                    0   \n",
       "11004                  0                    1  ...                    0   \n",
       "\n",
       "             Occupation_Management  Occupation_Manual  \\\n",
       "CustomerKey                                             \n",
       "11000                            0                  0   \n",
       "11001                            0                  0   \n",
       "11002                            0                  0   \n",
       "11003                            0                  0   \n",
       "11004                            0                  0   \n",
       "\n",
       "             Occupation_Professional  Occupation_Skilled Manual  \\\n",
       "CustomerKey                                                       \n",
       "11000                              1                          0   \n",
       "11001                              1                          0   \n",
       "11002                              1                          0   \n",
       "11003                              1                          0   \n",
       "11004                              1                          0   \n",
       "\n",
       "             CommuteDistance_0-1 Miles  CommuteDistance_1-2 Miles  \\\n",
       "CustomerKey                                                         \n",
       "11000                                0                          1   \n",
       "11001                                1                          0   \n",
       "11002                                0                          0   \n",
       "11003                                0                          0   \n",
       "11004                                0                          1   \n",
       "\n",
       "             CommuteDistance_10+ Miles  CommuteDistance_2-5 Miles  \\\n",
       "CustomerKey                                                         \n",
       "11000                                0                          0   \n",
       "11001                                0                          0   \n",
       "11002                                0                          1   \n",
       "11003                                0                          0   \n",
       "11004                                0                          0   \n",
       "\n",
       "             CommuteDistance_5-10 Miles  \n",
       "CustomerKey                              \n",
       "11000                                 0  \n",
       "11001                                 0  \n",
       "11002                                 0  \n",
       "11003                                 1  \n",
       "11004                                 0  \n",
       "\n",
       "[5 rows x 24 columns]"
      ]
     },
     "execution_count": 38,
     "metadata": {},
     "output_type": "execute_result"
    }
   ],
   "source": [
    "potential_df.head()"
   ]
  },
  {
   "cell_type": "code",
   "execution_count": null,
   "id": "copyrighted-syndication",
   "metadata": {},
   "outputs": [
    {
     "data": {
      "text/plain": [
       "(4897, 24)"
      ]
     },
     "execution_count": 39,
     "metadata": {},
     "output_type": "execute_result"
    }
   ],
   "source": [
    "historical_x.shape"
   ]
  },
  {
   "cell_type": "code",
   "execution_count": null,
   "id": "numerous-argument",
   "metadata": {},
   "outputs": [
    {
     "data": {
      "text/plain": [
       "(18484, 24)"
      ]
     },
     "execution_count": 40,
     "metadata": {},
     "output_type": "execute_result"
    }
   ],
   "source": [
    "potential_df.shape"
   ]
  },
  {
   "cell_type": "markdown",
   "id": "light-pickup",
   "metadata": {},
   "source": [
    "### Split data into training and testing datasets"
   ]
  },
  {
   "cell_type": "code",
   "execution_count": null,
   "id": "valuable-theorem",
   "metadata": {},
   "outputs": [],
   "source": [
    "# split data into train and validation part\n",
    "from sklearn.model_selection import train_test_split\n",
    "X_train, X_valid, y_train, y_valid = train_test_split(historical_x,historical_y,test_size=0.3, random_state=17)"
   ]
  },
  {
   "cell_type": "code",
   "execution_count": null,
   "id": "fabulous-savannah",
   "metadata": {},
   "outputs": [],
   "source": [
    "from sklearn.model_selection import GridSearchCV, cross_val_score\n",
    "from sklearn.tree import DecisionTreeClassifier, plot_tree\n",
    "from sklearn.ensemble import RandomForestClassifier\n",
    "from sklearn.metrics import accuracy_score"
   ]
  },
  {
   "cell_type": "markdown",
   "id": "mounted-postage",
   "metadata": {},
   "source": [
    "### Train Machine Learning (ML) model"
   ]
  },
  {
   "cell_type": "code",
   "execution_count": null,
   "id": "moderate-violation",
   "metadata": {},
   "outputs": [
    {
     "data": {
      "text/plain": [
       "DecisionTreeClassifier(max_depth=3, random_state=17)"
      ]
     },
     "execution_count": 43,
     "metadata": {},
     "output_type": "execute_result"
    }
   ],
   "source": [
    "tree = DecisionTreeClassifier(max_depth=3, random_state=17)\n",
    "tree.fit(X_train, y_train)"
   ]
  },
  {
   "cell_type": "markdown",
   "id": "statewide-initial",
   "metadata": {},
   "source": [
    "### Analyze model results"
   ]
  },
  {
   "cell_type": "code",
   "execution_count": null,
   "id": "automotive-software",
   "metadata": {},
   "outputs": [
    {
     "data": {
      "text/plain": [
       "0.6238095238095238"
      ]
     },
     "execution_count": 44,
     "metadata": {},
     "output_type": "execute_result"
    }
   ],
   "source": [
    "tree_predictions = tree.predict(X_valid)  \n",
    "accuracy_score(y_valid, tree_predictions)"
   ]
  },
  {
   "cell_type": "code",
   "execution_count": null,
   "id": "personalized-ensemble",
   "metadata": {},
   "outputs": [
    {
     "name": "stdout",
     "output_type": "stream",
     "text": [
      "Best params: {'max_depth': 8}\n",
      "Best cross validaton score 0.7079925371578663\n",
      "CPU times: user 440 ms, sys: 0 ns, total: 440 ms\n",
      "Wall time: 440 ms\n"
     ]
    }
   ],
   "source": [
    "%%time\n",
    "tree_params = {'max_depth': range(2, 11)}\n",
    "\n",
    "locally_best_tree = GridSearchCV(DecisionTreeClassifier(random_state=17),\n",
    "                                 tree_params, cv=5)                  \n",
    "\n",
    "locally_best_tree.fit(historical_x, historical_y)\n",
    "print(\"Best params:\", locally_best_tree.best_params_)\n",
    "print(\"Best cross validaton score\", locally_best_tree.best_score_)"
   ]
  },
  {
   "cell_type": "code",
   "execution_count": null,
   "id": "banner-blair",
   "metadata": {},
   "outputs": [
    {
     "data": {
      "text/plain": [
       "0.6850340136054421"
      ]
     },
     "execution_count": 46,
     "metadata": {},
     "output_type": "execute_result"
    }
   ],
   "source": [
    "tuned_tree = DecisionTreeClassifier(max_depth=8, random_state=17)\n",
    "tuned_tree.fit(X_train, y_train)\n",
    "tuned_tree_predictions = tuned_tree.predict(X_valid)\n",
    "accuracy_score(y_valid, tuned_tree_predictions)"
   ]
  },
  {
   "cell_type": "code",
   "execution_count": null,
   "id": "obvious-parade",
   "metadata": {},
   "outputs": [
    {
     "data": {
      "image/png": "[encoded data removed]",
      "text/plain": [
       "<Figure size 432x288 with 2 Axes>"
      ]
     },
     "metadata": {
      "image/png": {
       "height": 267,
       "width": 322
      }
     },
     "output_type": "display_data"
    }
   ],
   "source": [
    "from sklearn.metrics import confusion_matrix, ConfusionMatrixDisplay\n",
    "cm = confusion_matrix(y_valid, tuned_tree_predictions)\n",
    "disp = ConfusionMatrixDisplay(confusion_matrix=cm)\n",
    "disp.plot()\n",
    "plt.show()\n"
   ]
  },
  {
   "cell_type": "code",
   "execution_count": null,
   "id": "breeding-zambia",
   "metadata": {},
   "outputs": [],
   "source": [
    "from sklearn.tree import export_graphviz"
   ]
  },
  {
   "cell_type": "code",
   "execution_count": null,
   "id": "geological-dominican",
   "metadata": {},
   "outputs": [],
   "source": [
    "export_graphviz(tuned_tree, out_file='bike_tree.dot',\n",
    "                feature_names=X_train.columns, filled = True, max_depth=8)"
   ]
  },
  {
   "cell_type": "code",
   "execution_count": null,
   "id": "brief-response",
   "metadata": {},
   "outputs": [],
   "source": [
    "!dot -Tpng bike_tree.dot -o bike_tree.png"
   ]
  },
  {
   "cell_type": "code",
   "execution_count": null,
   "id": "growing-locking",
   "metadata": {},
   "outputs": [
    {
     "name": "stdout",
     "output_type": "stream",
     "text": [
      "total 10828\r\n",
      "-rw-rw-r-- 1 jovyan users   34163 Oct  3 23:06  bike_tree.dot\r\n",
      "-rw-rw-r-- 1 jovyan users 2193149 Oct  3 23:06  bike_tree.png\r\n",
      "-rw-rw-r-- 1 jovyan users    5411 Oct  3 06:06  bike_tree_pruned.dot\r\n",
      "-rw-rw-r-- 1 jovyan users  330307 Oct  3 06:06  bike_tree_pruned.png\r\n",
      "-rw-rw-r-- 1 jovyan users   27664 Sep 21 13:47  boxplot.png\r\n",
      "-rw-rw-r-- 1 jovyan users 5803520 Sep 21 13:47 'Historic Customer Data.xls'\r\n",
      "-rw-r--r-- 1 jovyan users 1439906 Oct  3 22:59  lab3-argyropoulos.ipynb\r\n",
      "-rw-rw-r-- 1 jovyan users 1240335 Oct  3 23:04  Lab3_Lukinskii.ipynb\r\n"
     ]
    }
   ],
   "source": [
    "!ls -l"
   ]
  },
  {
   "cell_type": "markdown",
   "id": "paperback-advantage",
   "metadata": {},
   "source": [
    "<img src='bike_tree.png'>"
   ]
  },
  {
   "cell_type": "code",
   "execution_count": null,
   "id": "perceived-frequency",
   "metadata": {},
   "outputs": [],
   "source": [
    "export_graphviz(tuned_tree, out_file='bike_tree_pruned.dot',\n",
    "                feature_names=X_train.columns, filled = True, max_depth=4)\n",
    "!dot -Tpng bike_tree_pruned.dot -o bike_tree_pruned.png"
   ]
  },
  {
   "cell_type": "markdown",
   "id": "silver-plane",
   "metadata": {},
   "source": [
    "<img src='bike_tree_pruned.png'>"
   ]
  },
  {
   "cell_type": "markdown",
   "id": "unable-oxygen",
   "metadata": {},
   "source": [
    "### Self-control stop \n",
    "- Which group of potential customers are most likely to buy a bike? Prove your answer with the screenshot.\n",
    "- Which group of customers is least interesting to bike sellers? Prove your answer with the screenshot."
   ]
  },
  {
   "cell_type": "markdown",
   "id": "level-order",
   "metadata": {},
   "source": [
    "Looking at the bottom groups at the big picture, we can notice the one seeming the most promising:  \n",
    "That's with the gini = 0.139, and division of 7/86. It's not the best gini, though, it's the biggest bikers/bikers+non-bikers proportion, so we'll stick with that.  \n",
    "The final group will have these characteristics:  \n",
    "- Doesn't have a car  \n",
    "- Has less than 3 children  \n",
    "- Has Bachelors or higher education  \n",
    "- Income is more than 15k but less than 55k  \n",
    "- Age is less than 49  \n",
    "- Occupation clerical > 0.5  \n",
    "\n",
    "Same goes for least promising group: it's with gini = 0.044, and division of 43/1.  \n",
    "- Less than 1 car  \n",
    "- More then 3 children  \n",
    "- Older then 40  \n",
    "- No clerical occupation  \n",
    "- Commute distance less then 10 miles   \n",
    "- Partial High School   \n",
    "- No degree  \n",
    "- Single  \n",
    "<em>(Kind of a sad picture, to be honest)</em>"
   ]
  },
  {
   "cell_type": "code",
   "execution_count": null,
   "id": "cleared-lindsay",
   "metadata": {},
   "outputs": [
    {
     "data": {
      "text/plain": [
       "<1470x327 sparse matrix of type '<class 'numpy.int64'>'\n",
       "\twith 13022 stored elements in Compressed Sparse Row format>"
      ]
     },
     "execution_count": 53,
     "metadata": {},
     "output_type": "execute_result"
    }
   ],
   "source": [
    "#calculating tree probabilities\n",
    "probs = tuned_tree.predict_proba(X_valid)\n",
    "dec_paths = tuned_tree.decision_path(X_valid)\n",
    "dec_paths"
   ]
  },
  {
   "cell_type": "code",
   "execution_count": null,
   "id": "reflected-japanese",
   "metadata": {},
   "outputs": [
    {
     "ename": "NameError",
     "evalue": "name 'feature_names' is not defined",
     "output_type": "error",
     "traceback": [
      "\u001b[0;31m---------------------------------------------------------------------------\u001b[0m",
      "\u001b[0;31mNameError\u001b[0m                                 Traceback (most recent call last)",
      "\u001b[0;32m<ipython-input-54-357e13c7ef6d>\u001b[0m in \u001b[0;36m<module>\u001b[0;34m\u001b[0m\n\u001b[1;32m     13\u001b[0m     \u001b[0mrecurse\u001b[0m\u001b[0;34m(\u001b[0m\u001b[0;36m0\u001b[0m\u001b[0;34m)\u001b[0m\u001b[0;34m\u001b[0m\u001b[0;34m\u001b[0m\u001b[0m\n\u001b[1;32m     14\u001b[0m \u001b[0;34m\u001b[0m\u001b[0m\n\u001b[0;32m---> 15\u001b[0;31m \u001b[0mtree_get_leaf_size_for_elem\u001b[0m\u001b[0;34m(\u001b[0m\u001b[0mclf\u001b[0m\u001b[0;34m,\u001b[0m \u001b[0mfeature_names\u001b[0m\u001b[0;34m)\u001b[0m\u001b[0;34m\u001b[0m\u001b[0;34m\u001b[0m\u001b[0m\n\u001b[0m",
      "\u001b[0;31mNameError\u001b[0m: name 'feature_names' is not defined"
     ]
    }
   ],
   "source": [
    "clf = DecisionTreeClassifier().fit(X_train, y_train)\n",
    "\n",
    "def tree_get_leaf_size_for_elem(tree, feature_names):\n",
    "\n",
    "    tree_ = tree.tree_\n",
    "\n",
    "    def recurse(node):\n",
    "        if tree_.feature[node] != _tree.TREE_UNDEFINED:\n",
    "            recurse(tree_.children_left[node])\n",
    "        else:\n",
    "            samples_in_leaf = np.sum(tree_.value[node][0])\n",
    "\n",
    "    recurse(0)\n",
    "\n",
    "tree_get_leaf_size_for_elem(clf, feature_names)"
   ]
  },
  {
   "cell_type": "code",
   "execution_count": null,
   "id": "standing-exclusive",
   "metadata": {
    "scrolled": true
   },
   "outputs": [
    {
     "data": {
      "image/png": "[encoded data removed]",
      "text/plain": [
       "<Figure size 432x288 with 1 Axes>"
      ]
     },
     "metadata": {
      "image/png": {
       "height": 281,
       "width": 393
      }
     },
     "output_type": "display_data"
    }
   ],
   "source": [
    "# CUMMULATIVE GAIN PLOT\n",
    "import kds\n",
    "kds.metrics.plot_cumulative_gain(y_valid, probs[:,1])"
   ]
  },
  {
   "cell_type": "markdown",
   "id": "rough-sixth",
   "metadata": {},
   "source": [
    "### Self-control stop \n",
    "- Explain accuracy chart and meaning of the models, presented on it"
   ]
  },
  {
   "cell_type": "markdown",
   "id": "suited-airline",
   "metadata": {},
   "source": [
    "Basically, it's our model (blue line with dots) compared to ideal 100%-accurate wizard model (which is not suitable for practice because of overfitting - like tailoring the model so close to our data, it becomes not applicable for other datasets), and to random model (coin-flip type).  \n",
    "  \n",
    "Generally, the closer our model is to wizard, the better. We can see, for example, that for 5th decile we are at 70%, whilst random model is at 50%, however our trained model does not predict a higher proportion of the target class in the validation subsample."
   ]
  },
  {
   "cell_type": "markdown",
   "id": "analyzed-sleeping",
   "metadata": {},
   "source": [
    "https://www.analyticsvidhya.com/blog/2021/09/how-to-evaluate-the-business-value-of-ml-model/"
   ]
  },
  {
   "cell_type": "markdown",
   "id": "coral-surprise",
   "metadata": {},
   "source": [
    "## Let's build a profit chart for our model"
   ]
  },
  {
   "cell_type": "code",
   "execution_count": null,
   "id": "absent-rendering",
   "metadata": {},
   "outputs": [],
   "source": [
    "potential_predictions = tuned_tree.predict(potential_df)\n",
    "potential_probs = tuned_tree.predict_proba(potential_df)"
   ]
  },
  {
   "cell_type": "code",
   "execution_count": null,
   "id": "pharmaceutical-civilization",
   "metadata": {},
   "outputs": [
    {
     "data": {
      "text/plain": [
       "numpy.ndarray"
      ]
     },
     "execution_count": 57,
     "metadata": {},
     "output_type": "execute_result"
    }
   ],
   "source": [
    "type(potential_predictions)"
   ]
  },
  {
   "cell_type": "code",
   "execution_count": null,
   "id": "biological-advantage",
   "metadata": {},
   "outputs": [
    {
     "data": {
      "text/plain": [
       "1"
      ]
     },
     "execution_count": 58,
     "metadata": {},
     "output_type": "execute_result"
    }
   ],
   "source": [
    "potential_predictions[1]"
   ]
  },
  {
   "cell_type": "code",
   "execution_count": null,
   "id": "confidential-contest",
   "metadata": {},
   "outputs": [
    {
     "data": {
      "text/plain": [
       "(18484, 2)"
      ]
     },
     "execution_count": 59,
     "metadata": {},
     "output_type": "execute_result"
    }
   ],
   "source": [
    "potential_probs.shape"
   ]
  },
  {
   "cell_type": "code",
   "execution_count": null,
   "id": "victorian-harmony",
   "metadata": {},
   "outputs": [
    {
     "data": {
      "text/plain": [
       "1.0"
      ]
     },
     "execution_count": 60,
     "metadata": {},
     "output_type": "execute_result"
    }
   ],
   "source": [
    "potential_probs[0][1]"
   ]
  },
  {
   "cell_type": "code",
   "execution_count": null,
   "id": "alternate-lawrence",
   "metadata": {},
   "outputs": [],
   "source": [
    "potential_df['probability'] = potential_probs[:,1]"
   ]
  },
  {
   "cell_type": "code",
   "execution_count": null,
   "id": "sought-presence",
   "metadata": {},
   "outputs": [],
   "source": [
    "potential_df['result'] = potential_predictions"
   ]
  },
  {
   "cell_type": "code",
   "execution_count": null,
   "id": "parliamentary-hunger",
   "metadata": {},
   "outputs": [],
   "source": [
    "potential_df.sort_values(by = 'probability', ascending=False, inplace=True)"
   ]
  },
  {
   "cell_type": "code",
   "execution_count": null,
   "id": "established-method",
   "metadata": {},
   "outputs": [
    {
     "data": {
      "text/html": [
       "<div>\n",
       "<style scoped>\n",
       "    .dataframe tbody tr th:only-of-type {\n",
       "        vertical-align: middle;\n",
       "    }\n",
       "\n",
       "    .dataframe tbody tr th {\n",
       "        vertical-align: top;\n",
       "    }\n",
       "\n",
       "    .dataframe thead th {\n",
       "        text-align: right;\n",
       "    }\n",
       "</style>\n",
       "<table border=\"1\" class=\"dataframe\">\n",
       "  <thead>\n",
       "    <tr style=\"text-align: right;\">\n",
       "      <th></th>\n",
       "      <th>Income</th>\n",
       "      <th>Children</th>\n",
       "      <th>Number of cars</th>\n",
       "      <th>Age</th>\n",
       "      <th>HomeOwner</th>\n",
       "      <th>Marital Status_Married</th>\n",
       "      <th>Marital Status_Single</th>\n",
       "      <th>Gender_Female</th>\n",
       "      <th>Gender_Male</th>\n",
       "      <th>Education_Bachelors</th>\n",
       "      <th>...</th>\n",
       "      <th>Occupation_Professional</th>\n",
       "      <th>Occupation_Skilled Manual</th>\n",
       "      <th>CommuteDistance_0-1 Miles</th>\n",
       "      <th>CommuteDistance_1-2 Miles</th>\n",
       "      <th>CommuteDistance_10+ Miles</th>\n",
       "      <th>CommuteDistance_2-5 Miles</th>\n",
       "      <th>CommuteDistance_5-10 Miles</th>\n",
       "      <th>probability</th>\n",
       "      <th>result</th>\n",
       "      <th>revenue</th>\n",
       "    </tr>\n",
       "    <tr>\n",
       "      <th>CustomerKey</th>\n",
       "      <th></th>\n",
       "      <th></th>\n",
       "      <th></th>\n",
       "      <th></th>\n",
       "      <th></th>\n",
       "      <th></th>\n",
       "      <th></th>\n",
       "      <th></th>\n",
       "      <th></th>\n",
       "      <th></th>\n",
       "      <th></th>\n",
       "      <th></th>\n",
       "      <th></th>\n",
       "      <th></th>\n",
       "      <th></th>\n",
       "      <th></th>\n",
       "      <th></th>\n",
       "      <th></th>\n",
       "      <th></th>\n",
       "      <th></th>\n",
       "      <th></th>\n",
       "    </tr>\n",
       "  </thead>\n",
       "  <tbody>\n",
       "    <tr>\n",
       "      <th>11000</th>\n",
       "      <td>90000</td>\n",
       "      <td>2</td>\n",
       "      <td>0</td>\n",
       "      <td>40</td>\n",
       "      <td>1</td>\n",
       "      <td>1</td>\n",
       "      <td>0</td>\n",
       "      <td>0</td>\n",
       "      <td>1</td>\n",
       "      <td>1</td>\n",
       "      <td>...</td>\n",
       "      <td>1</td>\n",
       "      <td>0</td>\n",
       "      <td>0</td>\n",
       "      <td>1</td>\n",
       "      <td>0</td>\n",
       "      <td>0</td>\n",
       "      <td>0</td>\n",
       "      <td>1.0</td>\n",
       "      <td>1</td>\n",
       "      <td>30.0</td>\n",
       "    </tr>\n",
       "    <tr>\n",
       "      <th>18049</th>\n",
       "      <td>40000</td>\n",
       "      <td>4</td>\n",
       "      <td>2</td>\n",
       "      <td>45</td>\n",
       "      <td>1</td>\n",
       "      <td>0</td>\n",
       "      <td>1</td>\n",
       "      <td>0</td>\n",
       "      <td>1</td>\n",
       "      <td>0</td>\n",
       "      <td>...</td>\n",
       "      <td>0</td>\n",
       "      <td>1</td>\n",
       "      <td>0</td>\n",
       "      <td>0</td>\n",
       "      <td>0</td>\n",
       "      <td>1</td>\n",
       "      <td>0</td>\n",
       "      <td>1.0</td>\n",
       "      <td>1</td>\n",
       "      <td>30.0</td>\n",
       "    </tr>\n",
       "    <tr>\n",
       "      <th>17932</th>\n",
       "      <td>30000</td>\n",
       "      <td>4</td>\n",
       "      <td>0</td>\n",
       "      <td>45</td>\n",
       "      <td>1</td>\n",
       "      <td>1</td>\n",
       "      <td>0</td>\n",
       "      <td>0</td>\n",
       "      <td>1</td>\n",
       "      <td>0</td>\n",
       "      <td>...</td>\n",
       "      <td>0</td>\n",
       "      <td>0</td>\n",
       "      <td>1</td>\n",
       "      <td>0</td>\n",
       "      <td>0</td>\n",
       "      <td>0</td>\n",
       "      <td>0</td>\n",
       "      <td>1.0</td>\n",
       "      <td>1</td>\n",
       "      <td>30.0</td>\n",
       "    </tr>\n",
       "    <tr>\n",
       "      <th>17924</th>\n",
       "      <td>10000</td>\n",
       "      <td>1</td>\n",
       "      <td>0</td>\n",
       "      <td>28</td>\n",
       "      <td>0</td>\n",
       "      <td>0</td>\n",
       "      <td>1</td>\n",
       "      <td>1</td>\n",
       "      <td>0</td>\n",
       "      <td>0</td>\n",
       "      <td>...</td>\n",
       "      <td>0</td>\n",
       "      <td>0</td>\n",
       "      <td>0</td>\n",
       "      <td>1</td>\n",
       "      <td>0</td>\n",
       "      <td>0</td>\n",
       "      <td>0</td>\n",
       "      <td>1.0</td>\n",
       "      <td>1</td>\n",
       "      <td>30.0</td>\n",
       "    </tr>\n",
       "    <tr>\n",
       "      <th>17923</th>\n",
       "      <td>10000</td>\n",
       "      <td>1</td>\n",
       "      <td>0</td>\n",
       "      <td>29</td>\n",
       "      <td>0</td>\n",
       "      <td>0</td>\n",
       "      <td>1</td>\n",
       "      <td>0</td>\n",
       "      <td>1</td>\n",
       "      <td>0</td>\n",
       "      <td>...</td>\n",
       "      <td>0</td>\n",
       "      <td>0</td>\n",
       "      <td>0</td>\n",
       "      <td>1</td>\n",
       "      <td>0</td>\n",
       "      <td>0</td>\n",
       "      <td>0</td>\n",
       "      <td>1.0</td>\n",
       "      <td>1</td>\n",
       "      <td>30.0</td>\n",
       "    </tr>\n",
       "  </tbody>\n",
       "</table>\n",
       "<p>5 rows × 27 columns</p>\n",
       "</div>"
      ],
      "text/plain": [
       "             Income  Children  Number of cars  Age  HomeOwner  \\\n",
       "CustomerKey                                                     \n",
       "11000         90000         2               0   40          1   \n",
       "18049         40000         4               2   45          1   \n",
       "17932         30000         4               0   45          1   \n",
       "17924         10000         1               0   28          0   \n",
       "17923         10000         1               0   29          0   \n",
       "\n",
       "             Marital Status_Married  Marital Status_Single  Gender_Female  \\\n",
       "CustomerKey                                                                 \n",
       "11000                             1                      0              0   \n",
       "18049                             0                      1              0   \n",
       "17932                             1                      0              0   \n",
       "17924                             0                      1              1   \n",
       "17923                             0                      1              0   \n",
       "\n",
       "             Gender_Male  Education_Bachelors  ...  Occupation_Professional  \\\n",
       "CustomerKey                                    ...                            \n",
       "11000                  1                    1  ...                        1   \n",
       "18049                  1                    0  ...                        0   \n",
       "17932                  1                    0  ...                        0   \n",
       "17924                  0                    0  ...                        0   \n",
       "17923                  1                    0  ...                        0   \n",
       "\n",
       "             Occupation_Skilled Manual  CommuteDistance_0-1 Miles  \\\n",
       "CustomerKey                                                         \n",
       "11000                                0                          0   \n",
       "18049                                1                          0   \n",
       "17932                                0                          1   \n",
       "17924                                0                          0   \n",
       "17923                                0                          0   \n",
       "\n",
       "             CommuteDistance_1-2 Miles  CommuteDistance_10+ Miles  \\\n",
       "CustomerKey                                                         \n",
       "11000                                1                          0   \n",
       "18049                                0                          0   \n",
       "17932                                0                          0   \n",
       "17924                                1                          0   \n",
       "17923                                1                          0   \n",
       "\n",
       "             CommuteDistance_2-5 Miles  CommuteDistance_5-10 Miles  \\\n",
       "CustomerKey                                                          \n",
       "11000                                0                           0   \n",
       "18049                                1                           0   \n",
       "17932                                0                           0   \n",
       "17924                                0                           0   \n",
       "17923                                0                           0   \n",
       "\n",
       "             probability  result  revenue  \n",
       "CustomerKey                                \n",
       "11000                1.0       1     30.0  \n",
       "18049                1.0       1     30.0  \n",
       "17932                1.0       1     30.0  \n",
       "17924                1.0       1     30.0  \n",
       "17923                1.0       1     30.0  \n",
       "\n",
       "[5 rows x 27 columns]"
      ]
     },
     "execution_count": 64,
     "metadata": {},
     "output_type": "execute_result"
    }
   ],
   "source": [
    "potential_df['revenue'] = potential_df['probability']*30\n",
    "potential_df.head()"
   ]
  },
  {
   "cell_type": "code",
   "execution_count": null,
   "id": "relative-baltimore",
   "metadata": {},
   "outputs": [],
   "source": [
    "#c.f. context\n",
    "def revenue_builder(potenti_df,item_revenue):\n",
    "    base_cost = -5000 \n",
    "    target_population = len(potenti_df)\n",
    "    costs0_1000 = -25\n",
    "    costs1001_5000 = -20\n",
    "    costs_more_5000 = -15  \n",
    "    potential_df['revenue'] = potential_df['probability']*item_revenue\n",
    "    model_points = [] \n",
    "    no_model_points = []\n",
    "    Extremums = {}\n",
    "    switch = False\n",
    "\n",
    "    for i in range(len(potential_df)):\n",
    "        unit_cost = 0\n",
    "        if i < 1001: \n",
    "            unit_cost = costs0_1000\n",
    "        elif i < 5001:\n",
    "            unit_cost = costs1001_5000\n",
    "        else : \n",
    "            unit_cost = costs_more_5000\n",
    "        revenue = potential_df['revenue'].iloc[:i].sum() \n",
    "    #print(revenue)\n",
    "        model_result = base_cost + unit_cost*i +revenue\n",
    "    \n",
    "    # Simplistic way to display peaks by turning the binary swich\n",
    "        if i > 1 and model_result < model_points[-1] and not switch:\n",
    "            switch = True\n",
    "            #print('Breakpoint: ',i)\n",
    "            Extremums[model_result] = i\n",
    "        elif i > 1 and model_result > model_points[-1] and switch:\n",
    "            switch = False\n",
    "        \n",
    "        model_points.append(model_result)\n",
    "    print('Highest point: ',Extremums[max(Extremums)])\n",
    "    print('Highest revenue: ',round(max(Extremums),2))\n",
    "    print('Percentage of the population: ',round(Extremums[max(Extremums)]/len(potential_df)*100,2),'%')\n",
    "    plt.plot(model_points)\n",
    "\n",
    "    plt.plot(no_model_points)\n",
    "    plt.show()    \n",
    "    \n",
    "    "
   ]
  },
  {
   "cell_type": "code",
   "execution_count": null,
   "id": "czech-maker",
   "metadata": {
    "scrolled": false
   },
   "outputs": [
    {
     "name": "stdout",
     "output_type": "stream",
     "text": [
      "Highest point:  9987\n",
      "Highest revenue:  64365.55\n",
      "Percentage of the population:  54.03 %\n"
     ]
    },
    {
     "data": {
      "image/png": "[encoded data removed]",
      "text/plain": [
       "<Figure size 432x288 with 1 Axes>"
      ]
     },
     "metadata": {
      "image/png": {
       "height": 251,
       "width": 402
      }
     },
     "output_type": "display_data"
    }
   ],
   "source": [
    "revenue_builder(potential_df,30)"
   ]
  },
  {
   "cell_type": "code",
   "execution_count": null,
   "id": "noted-zealand",
   "metadata": {
    "scrolled": true
   },
   "outputs": [
    {
     "name": "stdout",
     "output_type": "stream",
     "text": [
      "Highest point:  10981\n",
      "Highest revenue:  101911.66\n",
      "Percentage of the population:  59.41 %\n"
     ]
    },
    {
     "data": {
      "image/png": "[encoded data removed]",
      "text/plain": [
       "<Figure size 432x288 with 1 Axes>"
      ]
     },
     "metadata": {
      "image/png": {
       "height": 251,
       "width": 400
      }
     },
     "output_type": "display_data"
    }
   ],
   "source": [
    "revenue_builder(potential_df,35)"
   ]
  },
  {
   "cell_type": "code",
   "execution_count": null,
   "id": "muslim-myanmar",
   "metadata": {
    "scrolled": true
   },
   "outputs": [
    {
     "name": "stdout",
     "output_type": "stream",
     "text": [
      "Highest point:  7323\n",
      "Highest revenue:  32130.6\n",
      "Percentage of the population:  39.62 %\n"
     ]
    },
    {
     "data": {
      "image/png": "[encoded data removed]",
      "text/plain": [
       "<Figure size 432x288 with 1 Axes>"
      ]
     },
     "metadata": {
      "image/png": {
       "height": 251,
       "width": 402
      }
     },
     "output_type": "display_data"
    }
   ],
   "source": [
    "revenue_builder(potential_df,25)"
   ]
  },
  {
   "cell_type": "code",
   "execution_count": null,
   "id": "alike-paint",
   "metadata": {},
   "outputs": [
    {
     "data": {
      "text/plain": [
       "3"
      ]
     },
     "execution_count": 90,
     "metadata": {},
     "output_type": "execute_result"
    }
   ],
   "source": [
    "dic = {1:1,2:1,3:5}\n",
    "max(dic)"
   ]
  },
  {
   "cell_type": "code",
   "execution_count": null,
   "id": "convertible-disclosure",
   "metadata": {},
   "outputs": [
    {
     "data": {
      "text/plain": [
       "18484"
      ]
     },
     "execution_count": 69,
     "metadata": {},
     "output_type": "execute_result"
    }
   ],
   "source": [
    "target_population"
   ]
  },
  {
   "cell_type": "markdown",
   "id": "revised-stamp",
   "metadata": {},
   "source": [
    "### Self-control stops"
   ]
  },
  {
   "cell_type": "markdown",
   "id": "ceramic-survival",
   "metadata": {},
   "source": [
    "- What percentage of population should be targeted with our direct mail marketing campaign?\n",
    "\n",
    "Highest point is at approx. 9987, si it's 54%.\n",
    "\n",
    "- What happens if we increase revenue per individual to 35 (decrease to 25)?\n",
    "\n",
    "If we decrease to 25, 7323 will be at the highest point, so 39.6%\n",
    "\n",
    "If we increase to 35, 10981, 59.4%"
   ]
  },
  {
   "cell_type": "markdown",
   "id": "honest-slave",
   "metadata": {},
   "source": [
    "## In-class discussions"
   ]
  },
  {
   "cell_type": "markdown",
   "id": "standing-array",
   "metadata": {},
   "source": [
    "-\tWhat have you learned?\n",
    "-\tDescribe the steps of the typical data mining process based on the lab and why they’re needed.\n",
    "-\tWhy do you need a test dataset?\n",
    "-\tWhat are the main challenges in implementing data mining in practice?\n",
    "-\tWhat to do if you don’t have historical data?\n",
    "-\tMake a guess about how decision trees work.\n",
    "-\tHow you can apply new knowledge in planning marketing campaigns?\n"
   ]
  },
  {
   "cell_type": "code",
   "execution_count": null,
   "id": "loved-toyota",
   "metadata": {},
   "outputs": [],
   "source": []
  }
 ],
 "metadata": {
  "kernelspec": {
   "display_name": "Python 3.11.0 64-bit",
   "language": "python",
   "name": "python3"
  },
  "language_info": {
   "codemirror_mode": {
    "name": "ipython",
    "version": 3
   },
   "file_extension": ".py",
   "mimetype": "text/x-python",
   "name": "python",
   "nbconvert_exporter": "python",
   "pygments_lexer": "ipython3",
   "version": "3.11.0"
  },
  "vscode": {
   "interpreter": {
    "hash": "d4ca170f306ca5ee8aa640b41f72b4fdd4c7f1e8d0f6ea887d8501278c7a7edc"
   }
  }
 },
 "nbformat": 4,
 "nbformat_minor": 5
}
