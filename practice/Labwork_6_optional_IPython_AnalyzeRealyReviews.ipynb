{
 "cells": [
  {
   "cell_type": "markdown",
   "metadata": {},
   "source": [
    "## Lab 6 - Analyzing Reviews on Real Estate Services \"CIAN\" and \"Yandex.Realty\"\n",
    "We have reviews left on Yandex on Cian.ru and Realty.Yandex.ru. These reviews are open to everyone and can be seen on Yandex.Browser:\n",
    "<img src = 'reviews_data/reviews_yandex_browser.png'>\n",
    "\n",
    "\n",
    "\n",
    "### Main objectives\n",
    "After successful completion of the lab work students will be able to:\n",
    "-\tUse reviews datasets to automatically analyze customer views on competitors. This technique is useful both for product managers and product analysts.\n",
    "\n",
    "\n",
    "### Tasks\n",
    "-\tCreate a classifier to differentiate between reviews on 2 competitors in order to get most differentiating words and bigrams that customer used\n",
    "-   Find out how customer view on the product changed over time\n",
    "\n"
   ]
  },
  {
   "cell_type": "code",
   "execution_count": null,
   "metadata": {},
   "outputs": [],
   "source": [
    "# let's import pandas library and set options to be able to view data right in the browser\n",
    "# Assign pd for a short alias for pandas library\n",
    "import pandas as pd\n",
    "\n",
    "# useful options to display more data from dataframes right in the notebook\n",
    "pd.set_option('display.max_columns', 500)\n",
    "pd.set_option('display.width', 1000)\n",
    "pd.set_option('display.max_colwidth', 1000)\n",
    "pd.set_option('display.max_rows', 500)\n",
    "\n",
    "# in order to display plots right in the notebook:\n",
    "from matplotlib import pyplot as plt\n",
    "%matplotlib inline\n",
    "\n",
    "# libraries for working with text data\n",
    "from nltk.corpus import stopwords\n",
    "from wordcloud import WordCloud, STOPWORDS\n",
    "import nltk"
   ]
  },
  {
   "cell_type": "code",
   "execution_count": null,
   "metadata": {},
   "outputs": [],
   "source": [
    "REALTY_REVIEWS_PATH = 'reviews_data/realty.reviews.tsv'\n",
    "CIAN_REVIEWS_PATH = 'reviews_data/cian.reviews.tsv'"
   ]
  },
  {
   "cell_type": "code",
   "execution_count": null,
   "metadata": {},
   "outputs": [],
   "source": [
    "cian_reviews = pd.read_csv(CIAN_REVIEWS_PATH, sep = '\\t')\n",
    "realty_reviews = pd.read_csv(REALTY_REVIEWS_PATH, sep = '\\t')"
   ]
  },
  {
   "cell_type": "code",
   "execution_count": null,
   "metadata": {},
   "outputs": [],
   "source": [
    "# let's investigate the data\n",
    "# HINT for non-russian speaking students: please use https://translate.yandex.com/ or ask colleagues from your teams to \n",
    "# understand what people right in reviews\n",
    "cian_reviews.head()"
   ]
  },
  {
   "cell_type": "code",
   "execution_count": null,
   "metadata": {},
   "outputs": [],
   "source": [
    "realty_reviews.head()"
   ]
  },
  {
   "cell_type": "code",
   "execution_count": null,
   "metadata": {},
   "outputs": [],
   "source": [
    "# let's check that we don't have hosts other then cian.ru and realyt.yandex.ru in the data\n",
    "cian_reviews.host.value_counts()"
   ]
  },
  {
   "cell_type": "code",
   "execution_count": null,
   "metadata": {},
   "outputs": [],
   "source": [
    "realty_reviews.host.value_counts()"
   ]
  },
  {
   "cell_type": "markdown",
   "metadata": {},
   "source": [
    "### Let's look at what are the popular words in CIAN and Yandex.Realty reviews"
   ]
  },
  {
   "cell_type": "code",
   "execution_count": null,
   "metadata": {},
   "outputs": [],
   "source": [
    "# get stopwords for russian language\n",
    "nltk.download(\"stopwords\")\n",
    "russian_stopwords = stopwords.words(\"russian\")"
   ]
  },
  {
   "cell_type": "code",
   "execution_count": null,
   "metadata": {},
   "outputs": [],
   "source": [
    "# let's look at what particular words are put in this list and check whether it makes sense\n",
    "# tak top 10 elements from the list\n",
    "russian_stopwords[0:10]"
   ]
  },
  {
   "cell_type": "code",
   "execution_count": null,
   "metadata": {},
   "outputs": [],
   "source": [
    "# create the WordCloud using russian stopwords to see which words are used in reviews:\n",
    "wordcloud = WordCloud(background_color='black', stopwords = russian_stopwords,\n",
    "                max_words = 200, max_font_size = 100, \n",
    "                random_state = 17, width=800, height=400)"
   ]
  },
  {
   "cell_type": "code",
   "execution_count": null,
   "metadata": {},
   "outputs": [],
   "source": [
    "list(realty_reviews.loc[:, 'text'])"
   ]
  },
  {
   "cell_type": "code",
   "execution_count": null,
   "metadata": {},
   "outputs": [],
   "source": [
    "plt.figure(figsize=(16, 12))\n",
    "# take all rows from 'text' column and generate WordCloud\n",
    "all_texts = list(realty_reviews.loc[:, 'text'])\n",
    "wordcloud.generate(\" \".join(all_texts))\n",
    "plt.imshow(wordcloud);"
   ]
  },
  {
   "cell_type": "code",
   "execution_count": null,
   "metadata": {},
   "outputs": [],
   "source": [
    "all_5_star_texts = list(realty_reviews.loc[realty_reviews['rating'] == 5, 'text'])\n",
    "wordcloud.generate(\" \".join(all_5_star_texts))\n",
    "plt.imshow(wordcloud);"
   ]
  },
  {
   "cell_type": "code",
   "execution_count": null,
   "metadata": {},
   "outputs": [],
   "source": [
    "# let's create a method to generate wordcloud from reviews from different ratings:\n",
    "def gen_wordcloud(df, rating = None, text_column_name = 'text'):\n",
    "    if rating is None:\n",
    "        all_texts = list(df.loc[:, text_column_name])\n",
    "    else:\n",
    "        all_texts = list(df.loc[df['rating'] == rating, text_column_name])\n",
    "    wordcloud.generate(\" \".join(all_texts))\n",
    "    plt.imshow(wordcloud)"
   ]
  },
  {
   "cell_type": "code",
   "execution_count": null,
   "metadata": {},
   "outputs": [],
   "source": [
    "gen_wordcloud(realty_reviews, rating = 4)"
   ]
  },
  {
   "cell_type": "code",
   "execution_count": null,
   "metadata": {},
   "outputs": [],
   "source": [
    "gen_wordcloud(realty_reviews, rating = 3)"
   ]
  },
  {
   "cell_type": "code",
   "execution_count": null,
   "metadata": {},
   "outputs": [],
   "source": [
    "gen_wordcloud(realty_reviews, rating = 2)"
   ]
  },
  {
   "cell_type": "code",
   "execution_count": null,
   "metadata": {},
   "outputs": [],
   "source": [
    "gen_wordcloud(realty_reviews, rating = 1)"
   ]
  },
  {
   "cell_type": "markdown",
   "metadata": {},
   "source": [
    "### Self-control stops\n",
    "- Generate WordCloud for all CIAN reviews and CIAN reviews for each rating from 5 to 1. How are the most popular words used different from those in Yandex.Realty reviews?"
   ]
  },
  {
   "cell_type": "markdown",
   "metadata": {},
   "source": [
    "### Let's analyze the most popular n-grams from reviews\n",
    "n-gram is a sequence of n consecutive words from the texts"
   ]
  },
  {
   "cell_type": "markdown",
   "metadata": {},
   "source": [
    "#### 1st step is to get a lemmatized list of tokens from text. It's important to count same words in different forms as the same word"
   ]
  },
  {
   "cell_type": "code",
   "execution_count": null,
   "metadata": {},
   "outputs": [],
   "source": [
    "from pymystem3 import Mystem\n",
    "from string import punctuation"
   ]
  },
  {
   "cell_type": "code",
   "execution_count": null,
   "metadata": {},
   "outputs": [],
   "source": [
    "#Create lemmatizer\n",
    "mystem = Mystem() \n",
    "\n",
    "#Preprocess function\n",
    "def preprocess_text(text):\n",
    "    tokens = mystem.lemmatize(text.lower())\n",
    "    tokens = [token for token in tokens if token not in russian_stopwords\\\n",
    "              and token != \" \" \\\n",
    "              and token.strip() not in punctuation]\n",
    "    \n",
    "    text = \" \".join(tokens)\n",
    "    \n",
    "    return text\n",
    "\n",
    "#Examples    \n",
    "preprocess_text(\"Ну что сказать, я вижу кто-то наступил на грабли, Ты разочаровал меня, ты был натравлен.\")\n"
   ]
  },
  {
   "cell_type": "code",
   "execution_count": null,
   "metadata": {},
   "outputs": [],
   "source": [
    "# preprocess all texts and save them in separate column\n",
    "realty_reviews['preprocessed_text'] = realty_reviews['text'].map(preprocess_text)"
   ]
  },
  {
   "cell_type": "code",
   "execution_count": null,
   "metadata": {},
   "outputs": [],
   "source": [
    "# see sample of preprocessing result:\n",
    "realty_reviews['preprocessed_text'].sample(5)"
   ]
  },
  {
   "cell_type": "markdown",
   "metadata": {},
   "source": [
    "#### 2nd step: get most popular n-grams from reviews with different rating"
   ]
  },
  {
   "cell_type": "code",
   "execution_count": null,
   "metadata": {},
   "outputs": [],
   "source": [
    "from sklearn.feature_extraction.text import TfidfVectorizer, CountVectorizer"
   ]
  },
  {
   "cell_type": "code",
   "execution_count": null,
   "metadata": {},
   "outputs": [],
   "source": [
    "import collections"
   ]
  },
  {
   "cell_type": "code",
   "execution_count": null,
   "metadata": {},
   "outputs": [],
   "source": [
    "def get_top_n_grams(df_reviews, \n",
    "                    rating = 5, \n",
    "                    ngrams = 2, \n",
    "                    rating_col_name = 'rating', \n",
    "                    text_col_name = 'preprocessed_text'):\n",
    "    '''\n",
    "    returns most popular n-grams used in reviews\n",
    "    support 1,2,3-grams\n",
    "    '''\n",
    "    counts = collections.Counter()\n",
    "    for review in df_reviews[df_reviews[rating_col_name] == rating][text_col_name]:\n",
    "        words = nltk.word_tokenize(review)\n",
    "        if ngrams == 2:\n",
    "            counts.update(nltk.bigrams(words))\n",
    "        elif ngrams == 1:\n",
    "            counts.update(words)\n",
    "        elif ngrams == 3:\n",
    "            counts.update(nltk.trigrams(words))\n",
    "    counts_popular = {k: v for k, v in counts.items() if v > 1}\n",
    "#     sorted_counts = {k: v for k, v in sorted(counts_popular.items(), key=lambda item: item[1], reverse = True) }\n",
    "    sorted_counts = {k: v for k, v in sorted(counts.items(), key=lambda item: item[1], reverse = True) }\n",
    "    return sorted_counts\n",
    "    "
   ]
  },
  {
   "cell_type": "code",
   "execution_count": null,
   "metadata": {},
   "outputs": [],
   "source": [
    "nltk.download(\"punkt\")\n",
    "get_top_n_grams(df_reviews=realty_reviews, rating = 5, ngrams=3)"
   ]
  },
  {
   "cell_type": "markdown",
   "metadata": {},
   "source": [
    "### Self-control stops\n",
    "- Analyze top 2-grams and 3-grams for both CIAN and Yandex.Realty for 5-star reviews and 1-star reviews. What are the common things people say about services and what are the differencies?\n",
    "- What are the mean and median ratings for CIAN and Yandex.Realty reviews? How the mean and median ratings change if we look just at recent reviews for the last year from 2019-10-10?\n",
    "Hint: to filter by date you can just use date in yyyy-mm-dd format lik this - ``realty_reviews[realty_reviews.day >= '2019-10-01']``)\n",
    "- Some authors have used both services and wrote their reviews. What are the mean and median ratings for CIAN and Yandex.Realty reviews written by the same authors? "
   ]
  },
  {
   "cell_type": "markdown",
   "metadata": {},
   "source": [
    "### Try to build classifier for cian/realty reviews and analyze factors\n",
    "#### prepare the dataset"
   ]
  },
  {
   "cell_type": "code",
   "execution_count": null,
   "metadata": {},
   "outputs": [],
   "source": [
    "cian_reviews['preprocessed_text'] = cian_reviews['text'].map(preprocess_text)"
   ]
  },
  {
   "cell_type": "code",
   "execution_count": null,
   "metadata": {},
   "outputs": [],
   "source": [
    "df_all = pd.concat([cian_reviews, realty_reviews])"
   ]
  },
  {
   "cell_type": "code",
   "execution_count": null,
   "metadata": {},
   "outputs": [],
   "source": [
    "len(df_all)"
   ]
  },
  {
   "cell_type": "code",
   "execution_count": null,
   "metadata": {},
   "outputs": [],
   "source": [
    "list(df_all)"
   ]
  },
  {
   "cell_type": "code",
   "execution_count": null,
   "metadata": {},
   "outputs": [],
   "source": [
    "# make a label for classified\n",
    "df_all['label_yandex'] = df_all['host'].map({'cian.ru': 0, 'realty.yandex.ru': 1})"
   ]
  },
  {
   "cell_type": "code",
   "execution_count": null,
   "metadata": {},
   "outputs": [],
   "source": [
    "df_all.sample(5)"
   ]
  },
  {
   "cell_type": "markdown",
   "metadata": {},
   "source": [
    "#### prepare testing and training datasets and train the model to classify whether review is written about Yandex.Realty"
   ]
  },
  {
   "cell_type": "code",
   "execution_count": null,
   "metadata": {},
   "outputs": [],
   "source": [
    "from sklearn.model_selection import train_test_split\n",
    "from sklearn.linear_model import LogisticRegression\n",
    "from sklearn.metrics import accuracy_score\n",
    "from sklearn.metrics import roc_auc_score\n",
    "from sklearn.metrics import confusion_matrix"
   ]
  },
  {
   "cell_type": "code",
   "execution_count": null,
   "metadata": {},
   "outputs": [],
   "source": [
    "stopwords_classifier = ['яндекс', 'сервис', 'саит']\n",
    "def train_text_classfier(df, label = 'label_yandex'):\n",
    "    '''\n",
    "    preprocessed text and label_yandex should be in passed df\n",
    "    '''\n",
    "    xtrain, xvalid, ytrain, yvalid = train_test_split(df.preprocessed_text.values, df[label].values, \n",
    "                                                  stratify=df.label_yandex.values, \n",
    "                                                  random_state=42, \n",
    "                                                  test_size=0.1, shuffle=True)\n",
    "    tfv = TfidfVectorizer(min_df=3,  max_features=None, \n",
    "            strip_accents='unicode', analyzer='word',token_pattern=r'\\w{1,}',\n",
    "            ngram_range=(1, 3), use_idf=1,smooth_idf=1,sublinear_tf=1,\n",
    "                      stop_words=stopwords_classifier)\n",
    "\n",
    "    # Fitting TF-IDF to both training and test sets (semi-supervised learning)\n",
    "    tfv.fit(list(xtrain) + list(xvalid))\n",
    "    xtrain_tfv =  tfv.transform(xtrain) \n",
    "    xvalid_tfv = tfv.transform(xvalid)\n",
    "    \n",
    "    # Fitting a simple Logistic Regression on TFIDF\n",
    "    clf = LogisticRegression(C=1.0)\n",
    "    clf.fit(xtrain_tfv, ytrain)\n",
    "\n",
    "    predictions = clf.predict(xvalid_tfv)\n",
    "                          \n",
    "    return clf, tfv, yvalid, predictions "
   ]
  },
  {
   "cell_type": "code",
   "execution_count": null,
   "metadata": {},
   "outputs": [],
   "source": [
    "clf, tfv, yvalid, predictions = train_text_classfier(df_all)"
   ]
  },
  {
   "cell_type": "code",
   "execution_count": null,
   "metadata": {},
   "outputs": [],
   "source": [
    "confusion_matrix(yvalid, predictions)"
   ]
  },
  {
   "cell_type": "code",
   "execution_count": null,
   "metadata": {},
   "outputs": [],
   "source": [
    "roc_auc_score(yvalid, predictions)"
   ]
  },
  {
   "cell_type": "code",
   "execution_count": null,
   "metadata": {},
   "outputs": [],
   "source": [
    "accuracy_score(yvalid, predictions)"
   ]
  },
  {
   "cell_type": "markdown",
   "metadata": {},
   "source": [
    "#### analyze which factors were the most important in text to decide whether review was writtent about yandex"
   ]
  },
  {
   "cell_type": "code",
   "execution_count": null,
   "metadata": {},
   "outputs": [],
   "source": [
    "import eli5\n",
    "eli5.show_weights(estimator=clf,\n",
    "                 vec = tfv, top=50)"
   ]
  },
  {
   "cell_type": "markdown",
   "metadata": {},
   "source": [
    "### Self-control stops\n",
    "- Analyze from top factors which words should be added to stopwords list. Add them and rerun the classifier. What are the top words, which differntiate Yandex.Reatly from CIAN? Find some reviews with them to understand the context.\n",
    "- Make the same analysis for positive reviews with ratings of 4 and 5, and for negative reviews, with ratings of 1 and 2. What are the top factors, which differentiate Yandex.Realty from CIAN for positive and negative reviews?"
   ]
  },
  {
   "cell_type": "code",
   "execution_count": null,
   "metadata": {},
   "outputs": [],
   "source": []
  }
 ],
 "metadata": {
  "kernelspec": {
   "display_name": "Python 3",
   "language": "python",
   "name": "python3"
  },
  "language_info": {
   "codemirror_mode": {
    "name": "ipython",
    "version": 3
   },
   "file_extension": ".py",
   "mimetype": "text/x-python",
   "name": "python",
   "nbconvert_exporter": "python",
   "pygments_lexer": "ipython3",
   "version": "3.8.6"
  }
 },
 "nbformat": 4,
 "nbformat_minor": 2
}
