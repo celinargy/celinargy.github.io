{
 "cells": [
  {
   "cell_type": "markdown",
   "id": "3ec1c7e2",
   "metadata": {},
   "source": [
    "# Final Project"
   ]
  },
  {
   "cell_type": "markdown",
   "id": "46b51a40",
   "metadata": {},
   "source": [
    "## To Do in Python:  \n",
    "- Take the list of product codes, issuing countries and corresponding waves of sanctions  \n",
    "- Find the full codes of products  \n",
    "- Get the values of export for 2021 from Russia to corresponding country (sanction issuer)  \n",
    "  \n",
    "This way we can estimate the potential loss by sanction wave or by country-issuer  "
   ]
  },
  {
   "cell_type": "markdown",
   "id": "2fd4add5",
   "metadata": {},
   "source": [
    "Libraries import"
   ]
  },
  {
   "cell_type": "code",
   "execution_count": 1,
   "id": "00935305",
   "metadata": {},
   "outputs": [],
   "source": [
    "import os\n",
    "import json\n",
    "import requests\n",
    "import pandas as pd\n",
    "import qgrid\n",
    "from requests.adapters import HTTPAdapter\n",
    "from urllib3.util.retry import Retry\n",
    "import urllib3\n",
    "from datetime import datetime\n",
    "from bs4 import BeautifulSoup\n",
    "\n",
    "#qgrid.disable()"
   ]
  },
  {
   "cell_type": "markdown",
   "id": "fe33bd27",
   "metadata": {},
   "source": [
    "Initial dataset uploading  "
   ]
  },
  {
   "cell_type": "code",
   "execution_count": 2,
   "id": "da1cb907",
   "metadata": {},
   "outputs": [],
   "source": [
    "Export_all = pd.read_excel('Initial data.xlsx',sheet_name = 0,converters={'Код':str})\n",
    "Codes_all = pd.read_excel('Initial data.xlsx',sheet_name = 1,converters={'Код ТН ВЭД':str})\n",
    "Codes_all = Codes_all.dropna(how='all')\n",
    "Codes_all = Codes_all.reset_index(drop = True)\n",
    "Codes_all = Codes_all.copy()"
   ]
  },
  {
   "cell_type": "code",
   "execution_count": 3,
   "id": "a58f5297",
   "metadata": {},
   "outputs": [
    {
     "data": {
      "text/html": [
       "<div>\n",
       "<style scoped>\n",
       "    .dataframe tbody tr th:only-of-type {\n",
       "        vertical-align: middle;\n",
       "    }\n",
       "\n",
       "    .dataframe tbody tr th {\n",
       "        vertical-align: top;\n",
       "    }\n",
       "\n",
       "    .dataframe thead th {\n",
       "        text-align: right;\n",
       "    }\n",
       "</style>\n",
       "<table border=\"1\" class=\"dataframe\">\n",
       "  <thead>\n",
       "    <tr style=\"text-align: right;\">\n",
       "      <th></th>\n",
       "      <th>Код</th>\n",
       "      <th>Наименование товара</th>\n",
       "    </tr>\n",
       "  </thead>\n",
       "  <tbody>\n",
       "    <tr>\n",
       "      <th>0</th>\n",
       "      <td>TOTAL</td>\n",
       "      <td>Все продукты</td>\n",
       "    </tr>\n",
       "    <tr>\n",
       "      <th>1</th>\n",
       "      <td>270900</td>\n",
       "      <td>Нефть сырая и нефтепродукты сырые, полученные ...</td>\n",
       "    </tr>\n",
       "    <tr>\n",
       "      <th>2</th>\n",
       "      <td>999999</td>\n",
       "      <td>Товары, нигде не указанные</td>\n",
       "    </tr>\n",
       "    <tr>\n",
       "      <th>3</th>\n",
       "      <td>271019</td>\n",
       "      <td>Прочие дистилляты и продукты</td>\n",
       "    </tr>\n",
       "    <tr>\n",
       "      <th>4</th>\n",
       "      <td>710812</td>\n",
       "      <td>Золото в прочих необработанных формах</td>\n",
       "    </tr>\n",
       "  </tbody>\n",
       "</table>\n",
       "</div>"
      ],
      "text/plain": [
       "      Код                                Наименование товара\n",
       "0   TOTAL                                       Все продукты\n",
       "1  270900  Нефть сырая и нефтепродукты сырые, полученные ...\n",
       "2  999999                         Товары, нигде не указанные\n",
       "3  271019                       Прочие дистилляты и продукты\n",
       "4  710812              Золото в прочих необработанных формах"
      ]
     },
     "execution_count": 3,
     "metadata": {},
     "output_type": "execute_result"
    }
   ],
   "source": [
    "Export_all.head()"
   ]
  },
  {
   "cell_type": "code",
   "execution_count": 4,
   "id": "4fd1b6d4",
   "metadata": {},
   "outputs": [
    {
     "data": {
      "text/html": [
       "<div>\n",
       "<style scoped>\n",
       "    .dataframe tbody tr th:only-of-type {\n",
       "        vertical-align: middle;\n",
       "    }\n",
       "\n",
       "    .dataframe tbody tr th {\n",
       "        vertical-align: top;\n",
       "    }\n",
       "\n",
       "    .dataframe thead th {\n",
       "        text-align: right;\n",
       "    }\n",
       "</style>\n",
       "<table border=\"1\" class=\"dataframe\">\n",
       "  <thead>\n",
       "    <tr style=\"text-align: right;\">\n",
       "      <th></th>\n",
       "      <th>Код ТН ВЭД</th>\n",
       "      <th>Только код (для ВПР)</th>\n",
       "      <th>Пошлина</th>\n",
       "      <th>Название по классификации ФТС</th>\n",
       "      <th>Отрасль</th>\n",
       "      <th>Наименование (англ.) -\\n первоисточник</th>\n",
       "      <th>Наименование \\n(перевод)</th>\n",
       "      <th>Страна</th>\n",
       "      <th>Дата</th>\n",
       "      <th>№ пакета санкций</th>\n",
       "    </tr>\n",
       "  </thead>\n",
       "  <tbody>\n",
       "    <tr>\n",
       "      <th>0</th>\n",
       "      <td>Запрет на ввоз определенных изделий из железа ...</td>\n",
       "      <td>NaN</td>\n",
       "      <td>NaN</td>\n",
       "      <td>NaN</td>\n",
       "      <td>NaN</td>\n",
       "      <td>NaN</td>\n",
       "      <td>NaN</td>\n",
       "      <td>NaN</td>\n",
       "      <td>NaT</td>\n",
       "      <td>NaN</td>\n",
       "    </tr>\n",
       "    <tr>\n",
       "      <th>1</th>\n",
       "      <td>721041 (объедиенение на уровне 6-значного кода...</td>\n",
       "      <td>721041.0</td>\n",
       "      <td>NaN</td>\n",
       "      <td>ПРОКАТ ПЛОСКИЙ ИЗ ЖЕЛЕЗА ИЛИ НЕЛЕГИРОВАННОЙ СТ...</td>\n",
       "      <td>Металлопродукция</td>\n",
       "      <td>Metallic Coated Sheets</td>\n",
       "      <td>Листы с металлическим покрытием</td>\n",
       "      <td>ЕС</td>\n",
       "      <td>2022-03-15</td>\n",
       "      <td>4.0</td>\n",
       "    </tr>\n",
       "    <tr>\n",
       "      <th>2</th>\n",
       "      <td>721049 (объедиенение на уровне 6-значного кода...</td>\n",
       "      <td>721049.0</td>\n",
       "      <td>NaN</td>\n",
       "      <td>ПРОКАТ ПЛОСКИЙ ИЗ ЖЕЛЕЗА ИЛИ НЕЛЕГИРОВАННОЙ СТ...</td>\n",
       "      <td>Металлопродукция</td>\n",
       "      <td>Metallic Coated Sheets</td>\n",
       "      <td>Листы с металлическим покрытием</td>\n",
       "      <td>ЕС</td>\n",
       "      <td>2022-03-15</td>\n",
       "      <td>4.0</td>\n",
       "    </tr>\n",
       "    <tr>\n",
       "      <th>3</th>\n",
       "      <td>721061 (объедиенение на уровне 6-значного кода...</td>\n",
       "      <td>721061.0</td>\n",
       "      <td>NaN</td>\n",
       "      <td>ПРОКАТ ПЛОСКИЙ ИЗ ЖЕЛЕЗА ИЛИ НЕЛЕГИРОВАННОЙ СТ...</td>\n",
       "      <td>Металлопродукция</td>\n",
       "      <td>Metallic Coated Sheets</td>\n",
       "      <td>Листы с металлическим покрытием</td>\n",
       "      <td>ЕС</td>\n",
       "      <td>2022-03-15</td>\n",
       "      <td>4.0</td>\n",
       "    </tr>\n",
       "    <tr>\n",
       "      <th>4</th>\n",
       "      <td>721069 (объедиенение на уровне 6-значного кода...</td>\n",
       "      <td>721069.0</td>\n",
       "      <td>NaN</td>\n",
       "      <td>ПРОКАТ ПЛОСКИЙ ИЗ ЖЕЛЕЗА ИЛИ НЕЛЕГИРОВАННОЙ СТ...</td>\n",
       "      <td>Металлопродукция</td>\n",
       "      <td>Metallic Coated Sheets</td>\n",
       "      <td>Листы с металлическим покрытием</td>\n",
       "      <td>ЕС</td>\n",
       "      <td>2022-03-15</td>\n",
       "      <td>4.0</td>\n",
       "    </tr>\n",
       "  </tbody>\n",
       "</table>\n",
       "</div>"
      ],
      "text/plain": [
       "                                          Код ТН ВЭД  Только код (для ВПР)  \\\n",
       "0  Запрет на ввоз определенных изделий из железа ...                   NaN   \n",
       "1  721041 (объедиенение на уровне 6-значного кода...              721041.0   \n",
       "2  721049 (объедиенение на уровне 6-значного кода...              721049.0   \n",
       "3  721061 (объедиенение на уровне 6-значного кода...              721061.0   \n",
       "4  721069 (объедиенение на уровне 6-значного кода...              721069.0   \n",
       "\n",
       "  Пошлина                      Название по классификации ФТС  \\\n",
       "0     NaN                                                NaN   \n",
       "1     NaN  ПРОКАТ ПЛОСКИЙ ИЗ ЖЕЛЕЗА ИЛИ НЕЛЕГИРОВАННОЙ СТ...   \n",
       "2     NaN  ПРОКАТ ПЛОСКИЙ ИЗ ЖЕЛЕЗА ИЛИ НЕЛЕГИРОВАННОЙ СТ...   \n",
       "3     NaN  ПРОКАТ ПЛОСКИЙ ИЗ ЖЕЛЕЗА ИЛИ НЕЛЕГИРОВАННОЙ СТ...   \n",
       "4     NaN  ПРОКАТ ПЛОСКИЙ ИЗ ЖЕЛЕЗА ИЛИ НЕЛЕГИРОВАННОЙ СТ...   \n",
       "\n",
       "            Отрасль Наименование (англ.) -\\n первоисточник  \\\n",
       "0               NaN                                    NaN   \n",
       "1  Металлопродукция                 Metallic Coated Sheets   \n",
       "2  Металлопродукция                 Metallic Coated Sheets   \n",
       "3  Металлопродукция                 Metallic Coated Sheets   \n",
       "4  Металлопродукция                 Metallic Coated Sheets   \n",
       "\n",
       "          Наименование \\n(перевод) Страна       Дата  № пакета санкций  \n",
       "0                              NaN    NaN        NaT               NaN  \n",
       "1  Листы с металлическим покрытием     ЕС 2022-03-15               4.0  \n",
       "2  Листы с металлическим покрытием     ЕС 2022-03-15               4.0  \n",
       "3  Листы с металлическим покрытием     ЕС 2022-03-15               4.0  \n",
       "4  Листы с металлическим покрытием     ЕС 2022-03-15               4.0  "
      ]
     },
     "execution_count": 4,
     "metadata": {},
     "output_type": "execute_result"
    }
   ],
   "source": [
    "Codes_all.head()"
   ]
  },
  {
   "cell_type": "markdown",
   "id": "80aeb34a",
   "metadata": {},
   "source": [
    "As we can see, Codes_all has a rather complicated Code naming pattern. To get the actual codes, we need to analyze each string and get the number inside. As we can see, the structure is mainly \"aaa 123 aa\": the number between the symbols.  \n",
    "    \n",
    "This function will take the value, and if it is string, not int, it will split it by \" \", then trying to convert each part to integer. If success, then this is the needed value."
   ]
  },
  {
   "cell_type": "code",
   "execution_count": 5,
   "id": "9f663b5a",
   "metadata": {},
   "outputs": [],
   "source": [
    "def code_catcher(b,k):\n",
    "    if not k == len(b):\n",
    "        try:\n",
    "            a2 = int(b[k])\n",
    "            a = b[k]\n",
    "            #break\n",
    "        except ValueError:\n",
    "            k += 1\n",
    "            a = code_catcher(b,k)\n",
    "        return(a)\n",
    "    else:\n",
    "        return(0)\n",
    "\n",
    "def str_divider(a):\n",
    "    if type(a) == str:\n",
    "        return(code_catcher(a.split(' '),0))\n",
    "    else:\n",
    "        return(a)"
   ]
  },
  {
   "cell_type": "markdown",
   "id": "2c3524dc",
   "metadata": {},
   "source": [
    "Here's a small demonstration:"
   ]
  },
  {
   "cell_type": "code",
   "execution_count": 6,
   "id": "420fb191",
   "metadata": {},
   "outputs": [
    {
     "data": {
      "text/plain": [
       "'123'"
      ]
     },
     "execution_count": 6,
     "metadata": {},
     "output_type": "execute_result"
    }
   ],
   "source": [
    "str_divider('aaaa 123 aa a')"
   ]
  },
  {
   "cell_type": "code",
   "execution_count": 7,
   "id": "690668d4",
   "metadata": {
    "scrolled": false
   },
   "outputs": [
    {
     "name": "stderr",
     "output_type": "stream",
     "text": [
      "C:\\Users\\Home\\AppData\\Local\\Temp\\ipykernel_4296\\3603592139.py:2: SettingWithCopyWarning: \n",
      "A value is trying to be set on a copy of a slice from a DataFrame\n",
      "\n",
      "See the caveats in the documentation: https://pandas.pydata.org/pandas-docs/stable/user_guide/indexing.html#returning-a-view-versus-a-copy\n",
      "  Codes_all['Код ТН ВЭД'][i] = str(str_divider(Codes_all['Код ТН ВЭД'][i]))\n"
     ]
    }
   ],
   "source": [
    "for i in range(0,len(Codes_all)):\n",
    "    Codes_all['Код ТН ВЭД'][i] = str(str_divider(Codes_all['Код ТН ВЭД'][i]))"
   ]
  },
  {
   "cell_type": "markdown",
   "id": "2e5d3f0c",
   "metadata": {},
   "source": [
    "Next issue is that codes are not neccessarily identical: we can have 290711 in Export_all, but the value in Codes_all would be 2907. So basic merging won't work: we need to cut the last 2 digits.  \n",
    "  \n",
    "It was decided to create 2 dictionaries like: {Code: Sanction pack} and {Code: country}  \n",
    "  \n",
    "Then we check each value in Export_all, cutting the last digits, and connecting it to dictionary values."
   ]
  },
  {
   "cell_type": "code",
   "execution_count": 8,
   "id": "40b3e920",
   "metadata": {},
   "outputs": [],
   "source": [
    "Dict_sanction_pack = dict(zip(Codes_all['Код ТН ВЭД'],Codes_all['№ пакета санкций']))\n",
    "Dict_country = dict(zip(Codes_all['Код ТН ВЭД'],Codes_all['Страна']))\n",
    "\n",
    "column_pack = []\n",
    "column_countries = []\n",
    "for i in Export_all['Код']:\n",
    "    try:\n",
    "        if (str(i)[:-2]) in Dict_sanction_pack:\n",
    "            column_pack.append(Dict_sanction_pack[(str(i)[:-2])])\n",
    "        else: \n",
    "            column_pack.append(0)\n",
    "    except ValueError:\n",
    "        column_pack.append(0)\n",
    "        \n",
    "    try:\n",
    "        if (str(i)[:-2]) in Dict_country:\n",
    "            column_countries.append(Dict_country[(str(i)[:-2])])\n",
    "        else: \n",
    "            column_countries.append(0)\n",
    "    except ValueError:\n",
    "        column_countries.append(0)\n",
    "\n",
    "Export_all['Sanction pack'] = column_pack\n",
    "Export_all['Block region'] = column_countries\n",
    "Export_packs = Export_all.loc[Export_all['Sanction pack'] > 0]\n",
    "Export_packs = Export_packs.reset_index(drop=True)"
   ]
  },
  {
   "cell_type": "markdown",
   "id": "64132372",
   "metadata": {},
   "source": [
    "The website we will fish the data from has a way of encoding the countries according to M49 regulation. We tried to tie our countries to a dictionary of all the countries, but it turned out sometimes codes could varry. So we decided to use the specific codes from the website, which we found manually - we don't have that many countries after all, so no problem."
   ]
  },
  {
   "cell_type": "code",
   "execution_count": 9,
   "id": "40428bf2",
   "metadata": {
    "scrolled": true
   },
   "outputs": [],
   "source": [
    "Country_codes_dict = {}\n",
    "column_code = []\n",
    "Country_codes_dict['ЕС'] = 26\n",
    "Country_codes_dict['США'] = 842\n",
    "Country_codes_dict['Великобритания'] = 826\n",
    "Country_codes_dict['Канада'] = 124\n",
    "Country_codes_dict['Новая Зеландия'] = 554\n",
    "Country_codes_dict['Швейцария'] = 757\n",
    "for i in Export_packs['Block region']:\n",
    "    column_code.append(Country_codes_dict[i])\n",
    "Export_packs['countryCode'] = column_code"
   ]
  },
  {
   "cell_type": "code",
   "execution_count": 10,
   "id": "8523c78d",
   "metadata": {
    "scrolled": false
   },
   "outputs": [
    {
     "data": {
      "text/html": [
       "<div>\n",
       "<style scoped>\n",
       "    .dataframe tbody tr th:only-of-type {\n",
       "        vertical-align: middle;\n",
       "    }\n",
       "\n",
       "    .dataframe tbody tr th {\n",
       "        vertical-align: top;\n",
       "    }\n",
       "\n",
       "    .dataframe thead th {\n",
       "        text-align: right;\n",
       "    }\n",
       "</style>\n",
       "<table border=\"1\" class=\"dataframe\">\n",
       "  <thead>\n",
       "    <tr style=\"text-align: right;\">\n",
       "      <th></th>\n",
       "      <th>Код</th>\n",
       "      <th>Наименование товара</th>\n",
       "      <th>Sanction pack</th>\n",
       "      <th>Block region</th>\n",
       "      <th>countryCode</th>\n",
       "    </tr>\n",
       "  </thead>\n",
       "  <tbody>\n",
       "    <tr>\n",
       "      <th>0</th>\n",
       "      <td>270900</td>\n",
       "      <td>Нефть сырая и нефтепродукты сырые, полученные ...</td>\n",
       "      <td>6.0</td>\n",
       "      <td>ЕС</td>\n",
       "      <td>26</td>\n",
       "    </tr>\n",
       "    <tr>\n",
       "      <th>1</th>\n",
       "      <td>271019</td>\n",
       "      <td>Прочие дистилляты и продукты</td>\n",
       "      <td>6.0</td>\n",
       "      <td>ЕС</td>\n",
       "      <td>26</td>\n",
       "    </tr>\n",
       "    <tr>\n",
       "      <th>2</th>\n",
       "      <td>710812</td>\n",
       "      <td>Золото в прочих необработанных формах</td>\n",
       "      <td>7.0</td>\n",
       "      <td>Новая Зеландия</td>\n",
       "      <td>554</td>\n",
       "    </tr>\n",
       "    <tr>\n",
       "      <th>3</th>\n",
       "      <td>271012</td>\n",
       "      <td>Легкие дистилляты и продукты</td>\n",
       "      <td>6.0</td>\n",
       "      <td>ЕС</td>\n",
       "      <td>26</td>\n",
       "    </tr>\n",
       "    <tr>\n",
       "      <th>4</th>\n",
       "      <td>270112</td>\n",
       "      <td>Уголь битуминозный</td>\n",
       "      <td>5.0</td>\n",
       "      <td>ЕС</td>\n",
       "      <td>26</td>\n",
       "    </tr>\n",
       "  </tbody>\n",
       "</table>\n",
       "</div>"
      ],
      "text/plain": [
       "      Код                                Наименование товара  Sanction pack  \\\n",
       "0  270900  Нефть сырая и нефтепродукты сырые, полученные ...            6.0   \n",
       "1  271019                       Прочие дистилляты и продукты            6.0   \n",
       "2  710812              Золото в прочих необработанных формах            7.0   \n",
       "3  271012                       Легкие дистилляты и продукты            6.0   \n",
       "4  270112                                 Уголь битуминозный            5.0   \n",
       "\n",
       "     Block region  countryCode  \n",
       "0              ЕС           26  \n",
       "1              ЕС           26  \n",
       "2  Новая Зеландия          554  \n",
       "3              ЕС           26  \n",
       "4              ЕС           26  "
      ]
     },
     "execution_count": 10,
     "metadata": {},
     "output_type": "execute_result"
    }
   ],
   "source": [
    "Export_packs.head()"
   ]
  },
  {
   "cell_type": "markdown",
   "id": "845ced20",
   "metadata": {},
   "source": [
    "## Now to the most interesting part.  \n",
    "\n",
    "We have a website, https://www.trademap.org/. It doesn't have API, so if we want to get the data, we either have to search for it manually, or find a way to automate the searches.  \n",
    "    \n",
    "We found a pattern in URL creation, which helped us to add needed product and country codes in it. This function sends the url wo a website, grabs back full html-code of the page, and then finds the needed value - export for 2021. Off course, it's not completely automatic - the code needs some initial toggling, just to determine where exactly to look on the page.  \n",
    "  \n",
    "After that the function returns the value and the created URL, which can be useful for later. Average time is 1 sec. "
   ]
  },
  {
   "cell_type": "code",
   "execution_count": 11,
   "id": "4d00363f",
   "metadata": {},
   "outputs": [],
   "source": [
    "def html_parse(countryCode,Code):\n",
    "    urllib3.disable_warnings(urllib3.exceptions.InsecureRequestWarning)\n",
    "    if not countryCode == 26:   \n",
    "        query1 = 'https://www.trademap.org/Bilateral_TS.aspx?nvpm=1%7c643%7c%7c'\n",
    "        query2 = '%7c%7c'\n",
    "        query3 = '%7c%7c%7c6%7c1%7c1%7c2%7c2%7c1%7c1%7c1%7c1%7c1'\n",
    "        vgm_url = query1+str(countryCode)+query2+str(Code)+query3\n",
    "    else:\n",
    "        query1 = 'https://www.trademap.org/Bilateral_TS.aspx?nvpm=1%7c643%7c%7c%7c26%7c'\n",
    "        #query2 = '%7c%7c'\n",
    "        query3 = '%7c%7c%7c6%7c1%7c1%7c2%7c2%7c1%7c1%7c1%7c1%7c1'\n",
    "        vgm_url = query1+str(Code)+query3\n",
    "\n",
    "    #print(vgm_url)    \n",
    "    headers = requests.utils.default_headers()\n",
    "\n",
    "    headers.update(\n",
    "        {\n",
    "        'User-Agent': 'My User Agent 1.0',\n",
    "        }\n",
    "    )\n",
    "    session = requests.Session()\n",
    "    retry = Retry(connect=3, backoff_factor=0.5)\n",
    "    adapter = HTTPAdapter(max_retries=retry)\n",
    "    session.mount('http://', adapter)\n",
    "    session.mount('https://', adapter)\n",
    "    a = session.get(vgm_url,headers=headers,verify=False).text\n",
    "    soup = BeautifulSoup(a, 'html.parser')\n",
    "    dfs = pd.read_html(a)\n",
    "    value = int(dfs[8].loc[dfs[8][1] == (Code)][5])\n",
    "\n",
    "    return(value,vgm_url)"
   ]
  },
  {
   "cell_type": "markdown",
   "id": "580e2110",
   "metadata": {},
   "source": [
    "Here's the cicle. Sometimes something can be wrong: for example, the needed value is not displayed on the webpage. Then the algorithm will display the problematic place, but will carry on. We had around 20 errors out of 1800 values, which was decided to be acceptable.  "
   ]
  },
  {
   "cell_type": "code",
   "execution_count": null,
   "id": "6d5d4b6f",
   "metadata": {},
   "outputs": [],
   "source": [
    "Final_list = []\n",
    "\n",
    "for i in range(0,len(Export_packs)):\n",
    "    #print(i)\n",
    "    if len(Export_packs['Код'][i]) > 1:\n",
    "        code = str(Export_packs['Код'][i][:-2])\n",
    "        countryCode = int(Export_packs['countryCode'][i])\n",
    "        try:\n",
    "            result,url = html_parse(countryCode,code)\n",
    "        except TypeError:\n",
    "            result = 'Err'\n",
    "            url = 'Err'\n",
    "            print('Error on ',i,code,countryCode)\n",
    "        #print(countryCode,code)\n",
    "        Final_list.append([code,countryCode,result,Export_packs['Sanction pack'][i],url])\n",
    "    if i % 100 == 0:\n",
    "        now = datetime.now()\n",
    "        current_time = now.strftime(\"%H:%M:%S\")\n",
    "        print('Finished ',i,'out of',len(Export_packs),'; currently ',len(Final_list),'lines. Time: ',current_time)"
   ]
  },
  {
   "cell_type": "code",
   "execution_count": null,
   "id": "066630d4",
   "metadata": {},
   "outputs": [],
   "source": [
    "Finalll = pd.DataFrame(Final_list)"
   ]
  },
  {
   "cell_type": "code",
   "execution_count": null,
   "id": "082f8fb9",
   "metadata": {},
   "outputs": [],
   "source": [
    "Finalll.columns = ['Code','Country','Sum for 2021','Sanction pack','url']"
   ]
  },
  {
   "cell_type": "code",
   "execution_count": null,
   "id": "24cb25bf",
   "metadata": {},
   "outputs": [],
   "source": [
    "Finalll = Finalll.drop_duplicates()\n",
    "Finalll.to_csv('Final result.csv')"
   ]
  }
 ],
 "metadata": {
  "kernelspec": {
   "display_name": "Python 3.11.0 64-bit",
   "language": "python",
   "name": "python3"
  },
  "language_info": {
   "codemirror_mode": {
    "name": "ipython",
    "version": 3
   },
   "file_extension": ".py",
   "mimetype": "text/x-python",
   "name": "python",
   "nbconvert_exporter": "python",
   "pygments_lexer": "ipython3",
   "version": "3.11.0"
  },
  "vscode": {
   "interpreter": {
    "hash": "d4ca170f306ca5ee8aa640b41f72b4fdd4c7f1e8d0f6ea887d8501278c7a7edc"
   }
  }
 },
 "nbformat": 4,
 "nbformat_minor": 5
}
