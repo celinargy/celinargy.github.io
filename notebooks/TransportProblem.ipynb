{
 "cells": [
  {
   "cell_type": "code",
   "execution_count": 1,
   "metadata": {},
   "outputs": [],
   "source": [
    "import gspread\n",
    "import pandas as pd\n",
    "from google.oauth2.service_account toimport Credentials\n",
    "from pydrive.auth import GoogleAuth\n",
    "from pydrive.drive import GoogleDrive"
   ]
  },
  {
   "cell_type": "markdown",
   "metadata": {},
   "source": [
    "# Transportation problem\n",
    "Problem: Lack of shipping containers and European trucks, difficulty reaching global markets due to restrictions, unbalanced mill operations in new demand circumstances.​\n",
    "Limited export possibilities : 2 ports, Turkey, railway.\n",
    "Request: calculate the best transportation allocation post-sanctions, based on 2021 data.\n",
    "Data: list of deliveries for each customer\n",
    "## Steps to accomplish\n",
    "1) To sort out which deliveries are still relevant post sanctions. All EU28 countries stopped trading with Russia, as well as a handful of non-EU countries\n",
    "2) To calculate the new allocation of transport per mill depending on the maximum capacity and cost per deliveries."
   ]
  },
  {
   "cell_type": "code",
   "execution_count": 2,
   "metadata": {},
   "outputs": [],
   "source": [
    "#Create API and Service credential on Google Cloud project, download and rename json\n",
    "# mkdir %APPDATA%\\gspread\n",
    "# move credentials.json %APPDATA%\\gspread\\service_account.json\n",
    "# gc = gspread.oauth()\n",
    "sa = gspread.service_account()\n",
    "sh = sa.open(\"data\")"
   ]
  },
  {
   "cell_type": "code",
   "execution_count": 3,
   "metadata": {},
   "outputs": [],
   "source": [
    "wks = sh.worksheet('Исходные данные')\n",
    "#create a blank worksheet to keep the original untouched\n",
    "wks1 = sh.worksheet('разбор')\n",
    "#to format the number with commas instead of do-ts\n",
    "wks1.format('E', {'numberFormat': {'type' : 'NUMBER', 'pattern': '0,0#'}})\n",
    "wks2 = sh.worksheet('производительность установки')\n",
    "wks2.format('E', {'numberFormat': {'type' : 'NUMBER', 'pattern': '0,0#'}})\n",
    "wks3 = sh.worksheet('расстояние')\n",
    "wks4 = sh.worksheet('спрос и предложение')\n",
    "data = wks.get_all_values()\n",
    "headers = data.pop(0)"
   ]
  },
  {
   "cell_type": "code",
   "execution_count": 4,
   "metadata": {},
   "outputs": [
    {
     "data": {
      "text/html": [
       "<div>\n",
       "<style scoped>\n",
       "    .dataframe tbody tr th:only-of-type {\n",
       "        vertical-align: middle;\n",
       "    }\n",
       "\n",
       "    .dataframe tbody tr th {\n",
       "        vertical-align: top;\n",
       "    }\n",
       "\n",
       "    .dataframe thead th {\n",
       "        text-align: right;\n",
       "    }\n",
       "</style>\n",
       "<table border=\"1\" class=\"dataframe\">\n",
       "  <thead>\n",
       "    <tr style=\"text-align: right;\">\n",
       "      <th></th>\n",
       "      <th>точка отгрузки</th>\n",
       "      <th>страна назначения</th>\n",
       "      <th>страна</th>\n",
       "      <th>зона доставки в стране назначения</th>\n",
       "      <th>стоимость (для ru - рубли, остальное - евро)</th>\n",
       "      <th>номер перевозки</th>\n",
       "      <th>месяц перевозки</th>\n",
       "    </tr>\n",
       "  </thead>\n",
       "  <tbody>\n",
       "    <tr>\n",
       "      <th>count</th>\n",
       "      <td>12967</td>\n",
       "      <td>12967</td>\n",
       "      <td>12967</td>\n",
       "      <td>12967</td>\n",
       "      <td>12967</td>\n",
       "      <td>12967</td>\n",
       "      <td>12967</td>\n",
       "    </tr>\n",
       "    <tr>\n",
       "      <th>unique</th>\n",
       "      <td>7</td>\n",
       "      <td>32</td>\n",
       "      <td>32</td>\n",
       "      <td>73</td>\n",
       "      <td>442</td>\n",
       "      <td>12956</td>\n",
       "      <td>12</td>\n",
       "    </tr>\n",
       "    <tr>\n",
       "      <th>top</th>\n",
       "      <td>КОСТРОМА</td>\n",
       "      <td>RU</td>\n",
       "      <td>Russian Federation</td>\n",
       "      <td>центр</td>\n",
       "      <td>17 000,00</td>\n",
       "      <td>10083439</td>\n",
       "      <td>Июнь</td>\n",
       "    </tr>\n",
       "    <tr>\n",
       "      <th>freq</th>\n",
       "      <td>3892</td>\n",
       "      <td>3972</td>\n",
       "      <td>3972</td>\n",
       "      <td>3533</td>\n",
       "      <td>493</td>\n",
       "      <td>2</td>\n",
       "      <td>1318</td>\n",
       "    </tr>\n",
       "  </tbody>\n",
       "</table>\n",
       "</div>"
      ],
      "text/plain": [
       "       точка отгрузки страна назначения              страна  \\\n",
       "count           12967             12967               12967   \n",
       "unique              7                32                  32   \n",
       "top          КОСТРОМА                RU  Russian Federation   \n",
       "freq             3892              3972                3972   \n",
       "\n",
       "       зона доставки в стране назначения  \\\n",
       "count                              12967   \n",
       "unique                                73   \n",
       "top                                центр   \n",
       "freq                                3533   \n",
       "\n",
       "       стоимость (для ru - рубли, остальное - евро) номер перевозки  \\\n",
       "count                                         12967           12967   \n",
       "unique                                          442           12956   \n",
       "top                                       17 000,00        10083439   \n",
       "freq                                            493               2   \n",
       "\n",
       "       месяц перевозки  \n",
       "count            12967  \n",
       "unique              12  \n",
       "top               Июнь  \n",
       "freq              1318  "
      ]
     },
     "execution_count": 4,
     "metadata": {},
     "output_type": "execute_result"
    }
   ],
   "source": [
    "df = pd.DataFrame(data, columns=headers)\n",
    "#Remove Upper case\n",
    "df.columns= df.columns.str.lower()\n",
    "df.describe()"
   ]
  },
  {
   "cell_type": "code",
   "execution_count": 5,
   "metadata": {},
   "outputs": [
    {
     "data": {
      "text/plain": [
       "КОСТРОМА      3892\n",
       "УСТЬ-ИЖОРА    2540\n",
       "НОВАТОР       1791\n",
       "МАНТУРОВО     1446\n",
       "СИНЯЧИХА      1396\n",
       "УРАЛЬСКИЙ     1040\n",
       "ТЮМЕНЬ         862\n",
       "Name: точка отгрузки, dtype: int64"
      ]
     },
     "execution_count": 5,
     "metadata": {},
     "output_type": "execute_result"
    }
   ],
   "source": [
    "df['точка отгрузки'].value_counts()"
   ]
  },
  {
   "cell_type": "code",
   "execution_count": 6,
   "metadata": {},
   "outputs": [
    {
     "data": {
      "text/plain": [
       "точка отгрузки                                  0\n",
       "страна назначения                               0\n",
       "страна                                          0\n",
       "зона доставки в стране назначения               0\n",
       "стоимость (для ru - рубли, остальное - евро)    0\n",
       "номер перевозки                                 0\n",
       "месяц перевозки                                 0\n",
       "dtype: int64"
      ]
     },
     "execution_count": 6,
     "metadata": {},
     "output_type": "execute_result"
    }
   ],
   "source": [
    "#Check if any empty rows\n",
    "df.isnull().sum()"
   ]
  },
  {
   "cell_type": "code",
   "execution_count": 7,
   "metadata": {},
   "outputs": [
    {
     "data": {
      "text/plain": [
       "array(['Russian Federation', 'China', 'United States', 'Albania',\n",
       "       'Norway', 'Switzerland', 'Serbia', 'Turkey',\n",
       "       'Bosnia and Herzegovina', 'Uzbekistan', 'Belarus'], dtype=object)"
      ]
     },
     "execution_count": 7,
     "metadata": {},
     "output_type": "execute_result"
    }
   ],
   "source": [
    "# coco best classification type for our case is \"EU\" but some non-EU candidates joined sanctions\n",
    "# check list https://notebook.community/konstantinstadler/country_converter/doc/country_converter_examples \n",
    "import country_converter as coco\n",
    "cc = coco.CountryConverter()\n",
    "df['EU'] = cc.pandas_convert(series=df['страна назначения'], to='EU') \n",
    "# Let's classify Russian Federation in our new column and check what are the others left\n",
    "df['страна'].loc[df['EU'] == 'not found'].unique()"
   ]
  },
  {
   "cell_type": "code",
   "execution_count": 8,
   "metadata": {},
   "outputs": [],
   "source": [
    "#We start filtering out our non-EU countries that joined the sanctions  \n",
    "df.loc[(df['EU'] == 'EU')|(df['страна'] == 'Albania')|\n",
    "(df['страна'] == 'Bosnia and Herzegovina')|\n",
    "(df['страна'] == 'Switzerland')|\n",
    "(df['страна'] == 'Norway')|\n",
    "(df['страна'] == 'United States')\n",
    ", 'санкции'] = True\n",
    "df['санкции'].fillna(value=False, inplace=True)"
   ]
  },
  {
   "cell_type": "markdown",
   "metadata": {},
   "source": [
    "## Mill capacity\n",
    "\n",
    "Objective = supply chain redistribution at lowest costs\n",
    "\n",
    "Capacity used as a proxy is that each row per factory is considered as a unit of capacity. therefore, we count the total deliveries per mill and calculate the percentage of sanctioned deliveries, per mill, out of total capacity"
   ]
  },
  {
   "cell_type": "code",
   "execution_count": 9,
   "metadata": {},
   "outputs": [],
   "source": [
    "#We need to rename to use it as a method\n",
    "df.rename(columns = {'стоимость (для ru - рубли, остальное - евро)': 'стоимость'}, inplace = True)\n",
    "#Problems with Novator for our localisation later\n",
    "df = df.replace({'точка отгрузки':{'НОВАТОР':'ОПАЛИПСОВО'}})\n",
    "df.стоимость = df.стоимость.str.replace(' ', '')\n",
    "#Remove unicode, set locale method doesn't work but is the usual procedure\n",
    "#we find the exact piece of text to replace by seeing the error when we wanted to convert to numeric\n",
    "df['стоимость'].str.encode('ascii', 'ignore').str.decode('ascii')\n",
    "df.стоимость = df.стоимость.str.replace('\\u202f', '')\n",
    "df.стоимость = df.стоимость.str.replace(',', '.')\n",
    "#use locale to set to_numeric default use\n",
    "import locale, pprint, time, calendar\n",
    "locale.setlocale(locale.LC_ALL)\n",
    "locale.setlocale(locale.LC_ALL, ('ru_RU', 'UTF-8'))\n",
    "# doesn't work, could not convert to float using locale because contains unicode\n",
    "df['стоимость'] = pd.to_numeric(df['стоимость'])\n",
    "#add currency in separate column\n",
    "df.loc[(df['страна'] !='Russian Federation'), 'валюта'] = 'EUR'\n",
    "df.loc[(df['страна'] =='Russian Federation'), 'валюта'] = 'RUB'"
   ]
  },
  {
   "cell_type": "code",
   "execution_count": 10,
   "metadata": {},
   "outputs": [],
   "source": [
    "#we take a dataframe with sanctions\n",
    "# NB on method count = takes only non NaN values\n",
    "df_sanction = df[~df['санкции'] == False]\n",
    "sanction = df_sanction.groupby(['точка отгрузки']).санкции.count().reset_index()\n",
    "total = df.groupby(['точка отгрузки']).страна.count().reset_index()\n",
    "total.rename(columns = {'страна': 'поставка'}, inplace = True)\n",
    "# We count the cost of the sanctioned deliveries\n",
    "cost_sanctioned = df_sanction.groupby(['точка отгрузки']).стоимость.sum().reset_index()"
   ]
  },
  {
   "cell_type": "code",
   "execution_count": 11,
   "metadata": {},
   "outputs": [],
   "source": [
    "performance = sanction.merge(total)\n",
    "performance['процент поставок под действие санкций'] = (performance.санкции/performance.поставка)*100\n",
    "performance = performance.merge(cost_sanctioned, how='inner')\n",
    "performance.rename(columns = {'стоимость': 'общая стоимость поставок под действие санкций (EUR)'}, inplace = True)\n",
    "no_sanction = performance.поставка - performance.санкции\n",
    "performance.insert(loc = 3, column = 'без санкции',value = no_sanction)"
   ]
  },
  {
   "cell_type": "code",
   "execution_count": 12,
   "metadata": {},
   "outputs": [
    {
     "name": "stdout",
     "output_type": "stream",
     "text": [
      "12967\n",
      "12967\n"
     ]
    }
   ],
   "source": [
    "#Checking if the numbers of our new table match with our df\n",
    "print(df['точка отгрузки'].value_counts().sum())\n",
    "print(df['санкции'].value_counts().sum())"
   ]
  },
  {
   "cell_type": "code",
   "execution_count": 13,
   "metadata": {},
   "outputs": [],
   "source": [
    "#Upload final results in Google sheet\n",
    "wks2.clear()\n",
    "from gspread_dataframe import get_as_dataframe, set_with_dataframe\n",
    "set_with_dataframe(worksheet=wks2, dataframe=performance, include_index=False,\n",
    "include_column_header=True, resize=True)"
   ]
  },
  {
   "cell_type": "markdown",
   "metadata": {},
   "source": [
    "## A linear function to optimize transportation costs\n",
    "Objective = optimal transportations with minimum costs\n",
    "Decision variable = mill capacity, VC and FC per mill\n",
    "Constraints = Demand, maximum capacity per mill\n",
    "\n",
    "SUPPLY: as a proxy, the maximum capacity (sum of number of deliveries) per mill has already been calculated previously. \n",
    "\n",
    "DEMAND: the sum of number of deliveries per destination (non sanctioned) will be used as a proxy\n",
    "\n",
    "COST: We have our cost per delivery, but we need a proxy. Let's use only our non sanctioned deliveries, the rest is irrelevant for our solution\n",
    "### Steps to accomplish: \n",
    "DEMAND: sum of deliveries per destination not sanctioned\n",
    "\n",
    "COST: convert all in functional currency (RUB) at transaction date, calculate cost per km per mill-destination\n",
    "\n",
    "Then create linear function using PulP"
   ]
  },
  {
   "cell_type": "code",
   "execution_count": 14,
   "metadata": {},
   "outputs": [
    {
     "name": "stderr",
     "output_type": "stream",
     "text": [
      "C:\\Users\\argyropoulos_c\\AppData\\Local\\Temp\\ipykernel_3768\\4233559672.py:5: PerformanceWarning: Non-vectorized DateOffset being applied to Series or DatetimeIndex.\n",
      "  df['месяц_перевозки'] + pd.offsets.DateOffset(year=2021))\n"
     ]
    }
   ],
   "source": [
    "#we want to have a correct date formatting. Transform the month into a datetime format and correct the year (because it only contains the month, it sets default to year 1900)\n",
    "df.rename(columns = {'месяц перевозки': 'месяц_перевозки'}, inplace = True)\n",
    "df['месяц_перевозки'] = pd.to_datetime(df['месяц_перевозки'], format='%B')\n",
    "df['месяц_перевозки'] = df['месяц_перевозки'].mask(df['месяц_перевозки'].dt.year == 1900, \n",
    "                             df['месяц_перевозки'] + pd.offsets.DateOffset(year=2021))\n",
    "#Better not use apply because it's a loop function when you want to apply for a whole df a vectorised solution is better\n",
    "#We now have our correct date, we can calculate historical XR with a set library\n",
    "df['месяц_перевозки'] = pd.to_datetime(df.месяц_перевозки, unit='D').sort_index()"
   ]
  },
  {
   "cell_type": "code",
   "execution_count": 15,
   "metadata": {},
   "outputs": [
    {
     "name": "stderr",
     "output_type": "stream",
     "text": [
      "100%|██████████| 12/12 [00:05<00:00,  2.27it/s]\n"
     ]
    }
   ],
   "source": [
    "from forex_python.converter import CurrencyRates\n",
    "from datetime import datetime\n",
    "c = CurrencyRates()\n",
    "# get rates for all unique dates, added tqdm progress bar to see progress\n",
    "from tqdm import tqdm  \n",
    "rates_dict = pd.DataFrame({date: CurrencyRates().get_rates('EUR', date_obj=pd.to_datetime(date, unit='D'))\n",
    "              for date in tqdm(df['месяц_перевозки'].unique())})\n",
    "# now use these rates to set cost to 1/(RUB to currency_x rate), except when currency is RUB and when servicecost is 0, in those cases just use servicecost\n",
    "#df['XR'] = df.apply(lambda row: 1.0/rates_dict[row['месяц_перевозки']][row['валюта']]*row['стоимость'] if row['валюта']!='RUB' and row['стоимость'] != 0 else row['стоимость'], axis=1)"
   ]
  },
  {
   "cell_type": "code",
   "execution_count": 16,
   "metadata": {},
   "outputs": [],
   "source": [
    "rates_rub = rates_dict.T\n",
    "rates_rub = rates_rub.loc[:,['RUB']]\n",
    "rates_rub.index.name = 'месяц_перевозки'"
   ]
  },
  {
   "cell_type": "code",
   "execution_count": 17,
   "metadata": {},
   "outputs": [],
   "source": [
    "df = df.merge(rates_rub,on='месяц_перевозки')\n",
    "df.rename(columns = {'RUB': 'XR'}, inplace = True)\n",
    "df.loc[(df['страна'] =='Russian Federation'),'XR'] = 1"
   ]
  },
  {
   "cell_type": "code",
   "execution_count": 18,
   "metadata": {},
   "outputs": [],
   "source": [
    "df['стоимость_РУБ'] = df.стоимость * df.XR"
   ]
  },
  {
   "cell_type": "code",
   "execution_count": 19,
   "metadata": {},
   "outputs": [
    {
     "name": "stdout",
     "output_type": "stream",
     "text": [
      "12\n"
     ]
    },
    {
     "data": {
      "text/plain": [
       "Index(['точка отгрузки', 'страна назначения', 'страна',\n",
       "       'зона доставки в стране назначения', 'стоимость', 'номер перевозки',\n",
       "       'месяц_перевозки', 'EU', 'санкции', 'валюта', 'XR', 'стоимость_РУБ'],\n",
       "      dtype='object')"
      ]
     },
     "execution_count": 19,
     "metadata": {},
     "output_type": "execute_result"
    }
   ],
   "source": [
    "print(df.shape[1])\n",
    "df.columns"
   ]
  },
  {
   "cell_type": "code",
   "execution_count": 20,
   "metadata": {},
   "outputs": [],
   "source": [
    "#We upload the final result to Google Sheet\n",
    "wks1.clear()\n",
    "from gspread_dataframe import get_as_dataframe, set_with_dataframe\n",
    "set_with_dataframe(worksheet=wks1, dataframe=df, include_index=False,\n",
    "include_column_header=True, resize=True)"
   ]
  },
  {
   "cell_type": "code",
   "execution_count": 21,
   "metadata": {},
   "outputs": [
    {
     "name": "stdout",
     "output_type": "stream",
     "text": [
      "ГРОЗНЫЙ\n",
      "ВОСТОК\n",
      "САНКТ-ПЕТЕРБУРГ\n",
      "ЯНИНО\n",
      "ОМСК\n",
      "ЕКАТЕРИНБУРГ\n",
      "УРАЛЬСКИЙ\n",
      "СПБ\n",
      "CПБ\n",
      "КАЛУГА\n",
      "ВОСТОК МО\n",
      "МОСКВА\n",
      "КОВРОВ\n",
      "ЮГ МО 1\n",
      "КОСТРОМА\n",
      "ЦЕНТР\n",
      "ПОКРОВ\n",
      "СЕВЕР МО 1\n",
      "УФА\n",
      "ТАМБОВ\n",
      "ИВАНОВО\n",
      "ТЮМЕНЬ\n",
      "ЗАПАД МО\n",
      "СЕВЕР МО 2\n",
      "ДЗЕРЖИНСК\n",
      "СЕВЕР\n",
      "GOMEL\n",
      "КАЛИНИНГРАД\n",
      "НОВОСИБИРСК\n",
      "МАЛОЯРОСЛАВЕЦ\n",
      "MANTUROVO\n",
      "ПЕРМЬ\n",
      "СЕВЕРО-ЗАПАД\n",
      "SLOBODA\n",
      "КРАСНОДАР\n",
      "СОЧИ\n",
      "ЮГ\n",
      "СУРГУТ\n",
      "ST. PETERSBURG\n",
      "ВОРОНЕЖ\n",
      "УЛЬЯНОВСК\n",
      "СТАРЫЙ ОСКОЛ\n",
      "НИЖНИЙ НОВГОРОД\n",
      "КАЗАНЬ\n",
      "CЕВЕРО-ЗАПАД\n",
      "ПОВОЛЖЬЕ\n",
      "ЧЕРЕПОВЕЦ\n",
      "НОВАТОР\n",
      "UZBEKISTAN\n",
      "ЗАПАД\n",
      "POLOCHANY\n",
      "МУРМАНСК\n",
      "БАТАЙСК\n",
      "КИРОВ\n",
      "ТВЕРЬ\n",
      "СЫСЕРТЬ\n",
      "МАНТУРОВО\n"
     ]
    },
    {
     "name": "stderr",
     "output_type": "stream",
     "text": [
      "C:\\Users\\argyropoulos_c\\AppData\\Local\\Temp\\ipykernel_3768\\1735491430.py:4: SettingWithCopyWarning: \n",
      "A value is trying to be set on a copy of a slice from a DataFrame\n",
      "\n",
      "See the caveats in the documentation: https://pandas.pydata.org/pandas-docs/stable/user_guide/indexing.html#returning-a-view-versus-a-copy\n",
      "  df_no_sanction.rename(columns = {'зона доставки в стране назначения': 'город'}, inplace = True)\n",
      "C:\\Users\\argyropoulos_c\\AppData\\Local\\Temp\\ipykernel_3768\\1735491430.py:6: SettingWithCopyWarning: \n",
      "A value is trying to be set on a copy of a slice from a DataFrame.\n",
      "Try using .loc[row_indexer,col_indexer] = value instead\n",
      "\n",
      "See the caveats in the documentation: https://pandas.pydata.org/pandas-docs/stable/user_guide/indexing.html#returning-a-view-versus-a-copy\n",
      "  df_no_sanction['страна'] = df_no_sanction['страна'].str.strip()\n",
      "C:\\Users\\argyropoulos_c\\AppData\\Local\\Temp\\ipykernel_3768\\1735491430.py:7: SettingWithCopyWarning: \n",
      "A value is trying to be set on a copy of a slice from a DataFrame.\n",
      "Try using .loc[row_indexer,col_indexer] = value instead\n",
      "\n",
      "See the caveats in the documentation: https://pandas.pydata.org/pandas-docs/stable/user_guide/indexing.html#returning-a-view-versus-a-copy\n",
      "  df_no_sanction['город'] = df_no_sanction['город'].str.upper()\n",
      "C:\\Users\\argyropoulos_c\\AppData\\Local\\Temp\\ipykernel_3768\\1735491430.py:8: SettingWithCopyWarning: \n",
      "A value is trying to be set on a copy of a slice from a DataFrame.\n",
      "Try using .loc[row_indexer,col_indexer] = value instead\n",
      "\n",
      "See the caveats in the documentation: https://pandas.pydata.org/pandas-docs/stable/user_guide/indexing.html#returning-a-view-versus-a-copy\n",
      "  df_no_sanction['город'] = df_no_sanction['город'].str.strip()\n"
     ]
    }
   ],
   "source": [
    "#we want to calculate the cost and demand per destination\n",
    "df_no_sanction = df[~df['санкции'] == True]\n",
    "#formatting to transform\n",
    "df_no_sanction.rename(columns = {'зона доставки в стране назначения': 'город'}, inplace = True)\n",
    "#remove whitespace, homogenize each delivery zone\n",
    "df_no_sanction['страна'] = df_no_sanction['страна'].str.strip()\n",
    "df_no_sanction['город'] = df_no_sanction['город'].str.upper()\n",
    "df_no_sanction['город'] = df_no_sanction['город'].str.strip()\n",
    "#Generating a list to check individually, there are duplicates and formatting errors\n",
    "list_zones = df_no_sanction['город'].unique()\n",
    "list_inp = list_zones.tolist()\n",
    "for item in list_inp: \n",
    "    print(item) "
   ]
  },
  {
   "cell_type": "code",
   "execution_count": 22,
   "metadata": {},
   "outputs": [
    {
     "data": {
      "text/plain": [
       "4333"
      ]
     },
     "execution_count": 22,
     "metadata": {},
     "output_type": "execute_result"
    }
   ],
   "source": [
    "len(df_no_sanction)"
   ]
  },
  {
   "cell_type": "code",
   "execution_count": 23,
   "metadata": {},
   "outputs": [],
   "source": [
    "#Using our list previously we start correcting. First, replace cities of SPb under one and replace latin character\n",
    "df_no_sanction = df_no_sanction.replace({'город': \n",
    "{'СПБ':'САНКТ-ПЕТЕРБУРГ','CПБ':'САНКТ-ПЕТЕРБУРГ','ST. PETERSBURG':'САНКТ-ПЕТЕРБУРГ','CЕВЕРО-ЗАПАД':'СЕВЕРО-ЗАПАД'\n",
    "}})\n",
    "#To calculate distance we need to replace the region by some cities (using Google search)\n",
    "#NOVATOR is confusing, we replace by a city close to Sveza NOVATOR mill\n",
    "df_no_sanction.loc[(df_no_sanction['страна'] == 'Russian Federation', 'город')] = df_no_sanction.replace({'город': \n",
    "{'MANTUROVO':'МАНТУРОВО','ТРОГИНО':'CТРОГИНО','СЕВЕР МО 1':'ХОРУГВИНО','СЕВЕР МО 2':'СОЛНЕЧНОГОРСК','ЮГ МО 1':'ГОРКИ ЛЕНИНСКИЕ','ЗАПАД МО':'ВОЛОКОЛАМСК','ВОСТОК МО':'ОРЕХОВО-ЗУЕВО',\n",
    "'ЦЕНТР':'МОСКВА','СЕВЕР':'АРХАНГЕЛЬСК','ЗАПАД':'СМОЛЕНСК','ЮГ':'СОЧИ','ВОСТОК':'ХАБАРОВСК','СЕВЕРО-ЗАПАД':'САНКТ-ПЕТЕРБУРГ', \n",
    "}})\n",
    "#Same but for non-RU cities\n",
    "df_no_sanction_noRU = df_no_sanction[df_no_sanction['страна'] != 'Russian Federation']\n",
    "#list_cities_noRU = df_no_sanction_noRU.groupby(['страна','город'])['страна назначения'].count().reset_index()\n",
    "#Slabada is an ancient name for many villages that used to be part of Russia, found in Belarus and Ukraine.. \n",
    "df_no_sanction.loc[(df_no_sanction['страна'] == 'Belarus', 'город')] = df_no_sanction.replace({'город': {'ЦЕНТР':'МИНСК','GOMEL':'ГОМЕЛ','POLOCHANY':'ПОЛОЧАНЫ','SLOBODA':'ВИТЕБСК'}})\n",
    "df_no_sanction.loc[(df_no_sanction['страна'] == 'China', 'город')] = df_no_sanction.replace({'город': {'ЦЕНТР':'ПЕКИН','ВОСТОК':'ШАНХАЙ'}})\n",
    "df_no_sanction.loc[(df_no_sanction['страна'] == 'Serbia', 'город')] = df_no_sanction.replace({'город': {'ЦЕНТР':'БЕЛГРАД'}})\n",
    "df_no_sanction.loc[(df_no_sanction['страна'] == 'Turkey', 'город')] = df_no_sanction.replace({'город': {'ЦЕНТР':'АНКАРА','СЕВЕР':'ИСТАНБУЛ','ЮГ': 'МЕРСИН','ЗАПАД': 'КАРС'}})\n",
    "df_no_sanction.loc[(df_no_sanction['страна'] == 'Uzbekistan', 'город')] = df_no_sanction.replace({'город': {'UZBEKISTAN':'ТАШКЕНТ'}})"
   ]
  },
  {
   "cell_type": "code",
   "execution_count": 24,
   "metadata": {},
   "outputs": [
    {
     "data": {
      "text/plain": [
       "0        Russian Federation\n",
       "1        Russian Federation\n",
       "2        Russian Federation\n",
       "3        Russian Federation\n",
       "4        Russian Federation\n",
       "                ...        \n",
       "12582                Serbia\n",
       "12589                Turkey\n",
       "12590                Turkey\n",
       "12591                Turkey\n",
       "12799                Turkey\n",
       "Name: страна, Length: 4333, dtype: object"
      ]
     },
     "execution_count": 24,
     "metadata": {},
     "output_type": "execute_result"
    }
   ],
   "source": [
    "#Create one column to get the combination country-city delivery point\n",
    "df_no_sanction.страна = df_no_sanction.страна.astype(str)\n",
    "df_no_sanction.город = df_no_sanction.город.astype(str)\n",
    "df_no_sanction.страна.str.encode('ascii', 'ignore').str.decode('ascii')"
   ]
  },
  {
   "cell_type": "code",
   "execution_count": 25,
   "metadata": {},
   "outputs": [],
   "source": [
    "df_no_sanction['страна_зона'] = df_no_sanction.страна + \" \" + df_no_sanction.город\n",
    "df_no_sanction[['страна_зона']] = df_no_sanction[['страна_зона']].astype(str)"
   ]
  },
  {
   "cell_type": "code",
   "execution_count": 26,
   "metadata": {},
   "outputs": [
    {
     "name": "stdout",
     "output_type": "stream",
     "text": [
      "at least one ascii\n"
     ]
    }
   ],
   "source": [
    "if True in df_no_sanction['страна'].apply(lambda x: x.isascii() if isinstance(x, str) else False).to_list():\n",
    "    print('at least one ascii')\n",
    "else:\n",
    "    print('no ascii')"
   ]
  },
  {
   "cell_type": "code",
   "execution_count": 27,
   "metadata": {},
   "outputs": [
    {
     "name": "stdout",
     "output_type": "stream",
     "text": [
      "Index(['точка отгрузки', 'страна назначения', 'страна', 'город', 'стоимость',\n",
      "       'номер перевозки', 'месяц_перевозки', 'EU', 'санкции', 'валюта', 'XR',\n",
      "       'стоимость_РУБ', 'страна_зона'],\n",
      "      dtype='object')\n"
     ]
    }
   ],
   "source": [
    "print(df_no_sanction.columns)"
   ]
  },
  {
   "cell_type": "code",
   "execution_count": 28,
   "metadata": {},
   "outputs": [],
   "source": [
    "demand = df_no_sanction.groupby(['страна','точка отгрузки','город','страна_зона','стоимость_РУБ'])['страна назначения'].count().reset_index()\n",
    "demand.rename(columns = {'стоимость_РУБ': 'предложение_RUB'}, inplace = True)\n",
    "demand.rename(columns = {'страна назначения': 'счет'}, inplace = True)\n",
    "demand.drop(['счет'], axis=1)\n",
    "#we take our total number per mill from our previous table\n",
    "demand = demand.merge(total)\n",
    "demand_per_combination  =  df_no_sanction.groupby(['страна_зона'])['страна назначения'].count().reset_index()\n",
    "demand_per_combination.rename(columns = {'страна назначения': 'итоге_страна_зона'}, inplace = True)\n",
    "demand = demand.merge(demand_per_combination)"
   ]
  },
  {
   "cell_type": "code",
   "execution_count": 29,
   "metadata": {},
   "outputs": [],
   "source": [
    "# Calculate supply (total per mill) = done\n",
    "# Converted all deliveries at historic rate (in RUB) = done\n",
    "# Check and remove outliers per destination\n",
    "import seaborn as sns\n",
    "import warnings\n",
    "import numpy as np\n",
    "import matplotlib.pyplot as plt\n",
    "warnings.filterwarnings('ignore')\n",
    "%matplotlib inline\n",
    "sns.set()\n",
    "# Graphics in retina format are more sharp and legible\n",
    "%config InlineBackend.figure_format = 'retina'"
   ]
  },
  {
   "cell_type": "code",
   "execution_count": 30,
   "metadata": {},
   "outputs": [],
   "source": [
    "import geocoder\n",
    "from pprint import pprint\n",
    "key = '484ae73bfa5b43d28bde740af59c0c0c' # get api key from: https://opencagedata.com\n",
    "mills = dict.fromkeys(demand['точка отгрузки'])\n",
    "cities = dict.fromkeys(demand['город'])\n",
    "for name in mills:\n",
    "    result = geocoder.opencage(name, key=key)\n",
    "    mills[name] = result.latlng\n",
    "for name in cities:\n",
    "    result = geocoder.opencage(name, key=key)\n",
    "    cities[name] = result.latlng"
   ]
  },
  {
   "cell_type": "code",
   "execution_count": 31,
   "metadata": {},
   "outputs": [],
   "source": [
    "#Transform, rename, merge\n",
    "mills_distance = pd.DataFrame.from_dict(mills, orient='index',columns=['lat_точка','long_точка'])\n",
    "cities_distance = pd.DataFrame.from_dict(cities, orient='index',columns=['lat_город','long_город'])\n",
    "mills_distance.index.name = 'точка отгрузки'\n",
    "cities_distance.index.name = 'город'\n",
    "demand = demand.merge(mills_distance, left_on='точка отгрузки', right_on='точка отгрузки')\n",
    "demand = demand.merge(cities_distance, left_on='город', right_on='город')"
   ]
  },
  {
   "cell_type": "code",
   "execution_count": 32,
   "metadata": {},
   "outputs": [],
   "source": [
    "#Calculate distance between two points, calculate cost per km = proxy for cost minimization function\n",
    "import h3\n",
    "demand['расстояние'] = demand.apply(lambda row: h3.point_dist((row['lat_точка'], row['long_точка']), (row['lat_город'], row['long_город'])), axis=1)\n",
    "demand['стоимость за километр'] = demand.предложение_RUB/demand.расстояние"
   ]
  },
  {
   "cell_type": "code",
   "execution_count": 33,
   "metadata": {},
   "outputs": [],
   "source": [
    "#issue with inf type of float, which json doesn't recognise\n",
    "demand[[\"lat_точка\", \"long_точка\", \"lat_город\", \"long_город\", 'расстояние','стоимость за километр']] = demand[[\"lat_точка\", \"long_точка\", \"lat_город\", \"long_город\", 'расстояние','стоимость за километр']].astype(str)\n",
    "demand[[\"lat_точка\", \"long_точка\", \"lat_город\", \"long_город\", 'расстояние','стоимость за километр']] = demand[[\"lat_точка\", \"long_точка\", \"lat_город\", \"long_город\", 'расстояние','стоимость за километр']].astype(str)"
   ]
  },
  {
   "cell_type": "code",
   "execution_count": 34,
   "metadata": {},
   "outputs": [],
   "source": [
    "#Some rows are very high in comparison to the distance, meaning the unit sold where much bigger than the km traveled\n",
    "demand_SPB = demand[demand['страна_зона'] == 'Russian Federation_САНКТ-ПЕТЕРБУРГ']\n",
    "demand_SPB = demand_SPB.sort_values(by='стоимость за километр', ascending = False)"
   ]
  },
  {
   "cell_type": "code",
   "execution_count": 35,
   "metadata": {},
   "outputs": [],
   "source": [
    "#Upload final results in Google sheet\n",
    "wks4.clear()\n",
    "from gspread_dataframe import get_as_dataframe, set_with_dataframe\n",
    "set_with_dataframe(worksheet=wks4, dataframe=demand, include_index=False,\n",
    "include_column_header=True, resize=True)"
   ]
  },
  {
   "cell_type": "code",
   "execution_count": 36,
   "metadata": {},
   "outputs": [],
   "source": [
    "#issue with inf type of float, which json doesn't recognise\n",
    "demand[[\"lat_точка\", \"long_точка\", \"lat_город\", \"long_город\", 'расстояние','стоимость за километр']] = demand[[\"lat_точка\", \"long_точка\", \"lat_город\", \"long_город\", 'расстояние','стоимость за километр']].astype(float)\n",
    "demand[[\"lat_точка\", \"long_точка\", \"lat_город\", \"long_город\", 'расстояние','стоимость за километр']] = demand[[\"lat_точка\", \"long_точка\", \"lat_город\", \"long_город\", 'расстояние','стоимость за километр']].astype(float)"
   ]
  },
  {
   "cell_type": "code",
   "execution_count": 37,
   "metadata": {},
   "outputs": [],
   "source": [
    "#Define translating def\n",
    "import cyrtranslit\n",
    "def translation(cyrillic):\n",
    "    return cyrtranslit.to_latin(cyrillic,'ru')"
   ]
  },
  {
   "cell_type": "code",
   "execution_count": 38,
   "metadata": {},
   "outputs": [],
   "source": [
    "#Need to put everything in UTF\n",
    "demand_per_combination_latin = demand_per_combination[:]\n",
    "demand_per_combination_latin['страна_зона'] = demand_per_combination_latin['страна_зона'].apply(lambda x: cyrtranslit.to_latin(x,'ru'))\n",
    "demand_latin = demand[:]\n",
    "demand_latin['точка отгрузки'] = demand_latin['точка отгрузки'].apply(lambda x: cyrtranslit.to_latin(x,'ru'))\n",
    "demand_latin['страна_зона'] = demand_latin['страна_зона'].apply(lambda x: cyrtranslit.to_latin(x,'ru'))\n",
    "demand_latin.страна_зона = demand_latin.страна_зона.str.replace(\"-\", \" \")\n",
    "demand_per_combination_latin.страна_зона = demand_per_combination_latin.страна_зона.str.replace(\"-\", \" \")"
   ]
  },
  {
   "cell_type": "code",
   "execution_count": 39,
   "metadata": {},
   "outputs": [],
   "source": [
    "distance = pd.pivot_table(demand_latin,values='расстояние',index=['точка отгрузки','страна_зона'], aggfunc='first')\n",
    "cost = pd.pivot_table(demand_latin,values='стоимость за километр',index=['точка отгрузки','страна_зона'], aggfunc='first')"
   ]
  },
  {
   "cell_type": "code",
   "execution_count": 40,
   "metadata": {},
   "outputs": [],
   "source": [
    "#Upload final results in Google sheet\n",
    "wks3.clear()\n",
    "from gspread_dataframe import get_as_dataframe, set_with_dataframe\n",
    "set_with_dataframe(worksheet=wks3, dataframe=distance, include_index=True,\n",
    "include_column_header=True, resize=True)"
   ]
  },
  {
   "cell_type": "code",
   "execution_count": 41,
   "metadata": {},
   "outputs": [],
   "source": [
    "mills_latin = pd.Series(mills.keys()).apply(lambda x: cyrtranslit.to_latin(x,'ru'))\n",
    "mills_final = dict.fromkeys(mills_latin.tolist())"
   ]
  },
  {
   "cell_type": "code",
   "execution_count": 42,
   "metadata": {},
   "outputs": [
    {
     "data": {
      "text/plain": [
       "{'КОСТРОМА': [57.7679158, 40.9269141],\n",
       " 'СИНЯЧИХА': [57.9891499, 61.5885861],\n",
       " 'ТЮМЕНЬ': [57.153534, 65.542274],\n",
       " 'УРАЛЬСКИЙ': [57.9333616, 55.5175276],\n",
       " 'МАНТУРОВО': [58.333271, 44.761791],\n",
       " 'ОПАЛИПСОВО': [60.73188, 46.1883074],\n",
       " 'УСТЬ-ИЖОРА': [59.803871, 30.59951]}"
      ]
     },
     "execution_count": 42,
     "metadata": {},
     "output_type": "execute_result"
    }
   ],
   "source": [
    "mills"
   ]
  },
  {
   "cell_type": "code",
   "execution_count": 43,
   "metadata": {},
   "outputs": [],
   "source": [
    "for key, value in mills_final.items():\n",
    "    for key2 in mills:\n",
    "        mills_final[key] = mills[key2]\n",
    "        break"
   ]
  },
  {
   "cell_type": "code",
   "execution_count": 44,
   "metadata": {},
   "outputs": [],
   "source": [
    "#Develop new demand forecasts (less in SPb and Belgrade, more in Asian routes)\n",
    "#Re-allocate 4333 non sanctioned orders + orders from SPb\n",
    "adapted_mship = demand_latin[:]\n",
    "for i in adapted_mship.страна_зона:\n",
    "    if i in {'Russian Federation SOCHI','Russian Federation XABAROVSK','Russian Federation NOVOSIBIRSK','Turkey MERSIN','Uzbekistan TASHKENT'}:\n",
    "        adapted_mship.loc[(adapted_mship['страна_зона'] == i),'итоге_страна_зона'] = adapted_mship.loc[(adapted_mship['страна_зона'] == i),'итоге_страна_зона'] + 750\n",
    "    elif i in {'Russian Federation_САНКТ-ПЕТЕРБУРГ'}:\n",
    "        adapted_mship.loc[(adapted_mship['страна_зона'] == i),'итоге_страна_зона'] = adapted_mship.loc[(adapted_mship['страна_зона'] == i),'итоге_страна_зона'] - 1225\n",
    "    else:\n",
    "        pass"
   ]
  },
  {
   "cell_type": "code",
   "execution_count": 45,
   "metadata": {},
   "outputs": [],
   "source": [
    "#we start using our solver, set up\n",
    "from pulp import *\n",
    "#SETS\n",
    "mills = list(mills_final.keys())\n",
    "destinations = list(adapted_mship['страна_зона'].unique())\n",
    "#dict of amount that can be shipped to each\n",
    "#Need to change to dict into sum of orders from the country I guess\n",
    "mship = adapted_mship.set_index('страна_зона').to_dict()['итоге_страна_зона']\n",
    "#dict of max supply\n",
    "supply = adapted_mship.set_index('точка отгрузки').to_dict()['поставка']\n",
    "#dict of distance for all mills and destinations\n",
    "adapted_mship['расстояние'] = adapted_mship['расстояние'].astype(float)\n",
    "distance_set = adapted_mship[['точка отгрузки','страна_зона','расстояние']]\n",
    "distance_set.rename(columns = {'точка отгрузки': 'точка'}, inplace = True)\n",
    "from collections import defaultdict\n",
    "d = defaultdict(dict)\n",
    "for i, row in distance_set.iterrows():\n",
    "    d[row.точка][row.страна_зона] = row.drop(['точка', 'страна_зона']).to_dict()\n",
    "distance_dict = dict(d)"
   ]
  },
  {
   "cell_type": "code",
   "execution_count": 46,
   "metadata": {},
   "outputs": [
    {
     "data": {
      "text/plain": [
       "['Belarus VITEBSK',\n",
       " 'Belarus GOMEL',\n",
       " 'Belarus MINSK',\n",
       " \"Belarus POLOCHANY'\",\n",
       " 'Russian Federation GORKI LENINSKIE',\n",
       " 'Russian Federation DZERZHINSK',\n",
       " 'Russian Federation IVANOVO',\n",
       " \"Russian Federation KAZAN'\",\n",
       " 'Russian Federation KOVROV',\n",
       " 'Russian Federation KOSTROMA',\n",
       " 'Russian Federation MANTUROVO',\n",
       " 'Russian Federation MOSKVA',\n",
       " 'Russian Federation NOVATOR',\n",
       " \"Russian Federation POVOLZH'E\",\n",
       " 'Russian Federation SANKT PETERBURG',\n",
       " 'Russian Federation SOLNECHNOGORSK',\n",
       " 'Russian Federation SOCHI',\n",
       " \"Russian Federation STARY'J OSKOL\",\n",
       " 'Russian Federation TAMBOV',\n",
       " \"Russian Federation UL'YANOVSK\",\n",
       " 'Russian Federation XORUGVINO',\n",
       " 'Serbia BELGRAD',\n",
       " 'Turkey ANKARA',\n",
       " 'Turkey ISTANBUL',\n",
       " 'Turkey KARS',\n",
       " 'Turkey MERSIN',\n",
       " 'Russian Federation OREXOVO ZUEVO',\n",
       " \"Russian Federation TYUMEN'\",\n",
       " 'Russian Federation VORONEZH',\n",
       " 'Russian Federation EKATERINBURG',\n",
       " 'Russian Federation NOVOSIBIRSK',\n",
       " 'Russian Federation SURGUT',\n",
       " \"Russian Federation URAL'SKIJ\",\n",
       " 'Russian Federation XABAROVSK',\n",
       " 'Russian Federation YANINO',\n",
       " 'Russian Federation SMOLENSK',\n",
       " \"Russian Federation GROZNY'J\",\n",
       " 'Russian Federation KRASNODAR',\n",
       " 'Russian Federation OMSK',\n",
       " \"Russian Federation PERM'\",\n",
       " \"Russian Federation SY'SERT'\",\n",
       " 'Russian Federation UFA',\n",
       " \"Russian Federation TVER'\",\n",
       " 'China SHANXAJ',\n",
       " 'Russian Federation KALUGA',\n",
       " 'Russian Federation MALOYAROSLAVECZ',\n",
       " 'Russian Federation POKROV',\n",
       " 'Russian Federation BATAJSK',\n",
       " 'Russian Federation VOLOKOLAMSK',\n",
       " 'Russian Federation KALININGRAD',\n",
       " 'Russian Federation KIROV',\n",
       " 'Russian Federation MURMANSK',\n",
       " 'Russian Federation NIZHNIJ NOVGOROD',\n",
       " 'Russian Federation CHEREPOVECZ',\n",
       " 'Uzbekistan TASHKENT']"
      ]
     },
     "execution_count": 46,
     "metadata": {},
     "output_type": "execute_result"
    }
   ],
   "source": [
    "destinations"
   ]
  },
  {
   "cell_type": "code",
   "execution_count": 47,
   "metadata": {},
   "outputs": [],
   "source": [
    "#we grab the value inside the dict to bring it at the right level\n",
    "for mill, info in distance_dict.items():\n",
    "    for k in info:\n",
    "        info[k] = list(info[k].values())[0]"
   ]
  },
  {
   "cell_type": "code",
   "execution_count": 48,
   "metadata": {},
   "outputs": [],
   "source": [
    "#Set problem variable\n",
    "prob = LpProblem(\"Transportation\", LpMinimize)\n",
    "routes = [(i,j) for i in mills for j in destinations]\n",
    "#DECISION VARIABLE\n",
    "amount_vars = LpVariable.dicts('ShipAmount',(mills,destinations),0)"
   ]
  },
  {
   "cell_type": "code",
   "execution_count": null,
   "metadata": {},
   "outputs": [],
   "source": [
    "#OBJECTIVE FUNCTION\n",
    "prob += lpSum(amount_vars[i][j]*distance_dict[i][j] for (i,j) in routes)\n",
    "#CONSTRAINTS\n",
    "for j in destinations:\n",
    "    prob += lpSum(amount_vars[i][j] for i in mills <= mship[j])\n",
    "for i in mills:\n",
    "    prob += lpSum(amount_vars[i][j] for j in destinations == supply[i])\n",
    "prob.solve()\n",
    "print('Status', LpStatus[prob.status])\n",
    "\n",
    "for v in prob.variables():\n",
    "    if v.varValue > 0:\n",
    "        print(v.name, '=', v.varValue)\n",
    "print('total =', value(prob.objective))"
   ]
  },
  {
   "cell_type": "markdown",
   "metadata": {},
   "source": [
    "# Visualisation part\n",
    "The part below contains different scatterplots to visualise the data"
   ]
  },
  {
   "cell_type": "code",
   "execution_count": 50,
   "metadata": {},
   "outputs": [
    {
     "data": {
      "text/html": [
       "<div>\n",
       "<style scoped>\n",
       "    .dataframe tbody tr th:only-of-type {\n",
       "        vertical-align: middle;\n",
       "    }\n",
       "\n",
       "    .dataframe tbody tr th {\n",
       "        vertical-align: top;\n",
       "    }\n",
       "\n",
       "    .dataframe thead th {\n",
       "        text-align: right;\n",
       "    }\n",
       "</style>\n",
       "<table border=\"1\" class=\"dataframe\">\n",
       "  <thead>\n",
       "    <tr style=\"text-align: right;\">\n",
       "      <th></th>\n",
       "      <th>точка отгрузки</th>\n",
       "      <th>поставка</th>\n",
       "      <th>lat_точка</th>\n",
       "      <th>long_точка</th>\n",
       "      <th>город</th>\n",
       "    </tr>\n",
       "  </thead>\n",
       "  <tbody>\n",
       "    <tr>\n",
       "      <th>0</th>\n",
       "      <td>КОСТРОМА</td>\n",
       "      <td>3892</td>\n",
       "      <td>57.767916</td>\n",
       "      <td>40.926914</td>\n",
       "      <td>113</td>\n",
       "    </tr>\n",
       "    <tr>\n",
       "      <th>1</th>\n",
       "      <td>МАНТУРОВО</td>\n",
       "      <td>1446</td>\n",
       "      <td>58.333271</td>\n",
       "      <td>44.761791</td>\n",
       "      <td>92</td>\n",
       "    </tr>\n",
       "    <tr>\n",
       "      <th>2</th>\n",
       "      <td>ОПАЛИПСОВО</td>\n",
       "      <td>1791</td>\n",
       "      <td>60.731880</td>\n",
       "      <td>46.188307</td>\n",
       "      <td>85</td>\n",
       "    </tr>\n",
       "    <tr>\n",
       "      <th>3</th>\n",
       "      <td>СИНЯЧИХА</td>\n",
       "      <td>1396</td>\n",
       "      <td>57.989150</td>\n",
       "      <td>61.588586</td>\n",
       "      <td>74</td>\n",
       "    </tr>\n",
       "    <tr>\n",
       "      <th>4</th>\n",
       "      <td>ТЮМЕНЬ</td>\n",
       "      <td>862</td>\n",
       "      <td>57.153534</td>\n",
       "      <td>65.542274</td>\n",
       "      <td>55</td>\n",
       "    </tr>\n",
       "    <tr>\n",
       "      <th>5</th>\n",
       "      <td>УРАЛЬСКИЙ</td>\n",
       "      <td>1040</td>\n",
       "      <td>57.933362</td>\n",
       "      <td>55.517528</td>\n",
       "      <td>72</td>\n",
       "    </tr>\n",
       "    <tr>\n",
       "      <th>6</th>\n",
       "      <td>УСТЬ-ИЖОРА</td>\n",
       "      <td>2540</td>\n",
       "      <td>59.803871</td>\n",
       "      <td>30.599510</td>\n",
       "      <td>96</td>\n",
       "    </tr>\n",
       "  </tbody>\n",
       "</table>\n",
       "</div>"
      ],
      "text/plain": [
       "  точка отгрузки  поставка  lat_точка  long_точка  город\n",
       "0       КОСТРОМА      3892  57.767916   40.926914    113\n",
       "1      МАНТУРОВО      1446  58.333271   44.761791     92\n",
       "2     ОПАЛИПСОВО      1791  60.731880   46.188307     85\n",
       "3       СИНЯЧИХА      1396  57.989150   61.588586     74\n",
       "4         ТЮМЕНЬ       862  57.153534   65.542274     55\n",
       "5      УРАЛЬСКИЙ      1040  57.933362   55.517528     72\n",
       "6     УСТЬ-ИЖОРА      2540  59.803871   30.599510     96"
      ]
     },
     "execution_count": 50,
     "metadata": {},
     "output_type": "execute_result"
    }
   ],
   "source": [
    "#Let's visualise the production capacity on the map\n",
    "demand_RU = demand[demand['страна'] == 'Russian Federation']\n",
    "viz_RU = demand_RU.groupby(['точка отгрузки','поставка','lat_точка','long_точка']).город.count().reset_index()\n",
    "viz_RU"
   ]
  },
  {
   "cell_type": "code",
   "execution_count": 51,
   "metadata": {},
   "outputs": [
    {
     "data": {
      "application/vnd.plotly.v1+json": {
       "config": {
        "plotlyServerURL": "https://plot.ly"
       },
       "data": [
        {
         "customdata": [
          [
           "КОСТРОМА",
           86.33016656685757
          ],
          [
           "КОСТРОМА",
           87.45966476763579
          ],
          [
           "СИНЯЧИХА",
           55.29503915296377
          ],
          [
           "ТЮМЕНЬ",
           43.23283437685047
          ],
          [
           "ТЮМЕНЬ",
           43.6172649332354
          ],
          [
           "УРАЛЬСКИЙ",
           52.22096331199277
          ],
          [
           "КОСТРОМА",
           61.84539589212353
          ],
          [
           "КОСТРОМА",
           61.95184081061282
          ],
          [
           "КОСТРОМА",
           62.39533115071453
          ],
          [
           "КОСТРОМА",
           70.35760041449151
          ],
          [
           "КОСТРОМА",
           72.4748180681727
          ],
          [
           "КОСТРОМА",
           74.85759282568706
          ],
          [
           "КОСТРОМА",
           75.18212459810356
          ],
          [
           "КОСТРОМА",
           80.0989153408753
          ],
          [
           "КОСТРОМА",
           90.11127975848471
          ],
          [
           "СИНЯЧИХА",
           55.668468802473996
          ],
          [
           "МАНТУРОВО",
           77.01944532224152
          ],
          [
           "МАНТУРОВО",
           87.46966864154757
          ],
          [
           "МАНТУРОВО",
           87.84887782428241
          ],
          [
           "КОСТРОМА",
           73.98138519438072
          ],
          [
           "УРАЛЬСКИЙ",
           58.30865301846489
          ],
          [
           "КОСТРОМА",
           65.81669715447052
          ],
          [
           "КОСТРОМА",
           69.44901959053253
          ],
          [
           "КОСТРОМА",
           75.7625668260355
          ],
          [
           "КОСТРОМА",
           78.91934044378696
          ],
          [
           "КОСТРОМА",
           82.07611406153845
          ],
          [
           "КОСТРОМА",
           88.38966129704141
          ],
          [
           "КОСТРОМА",
           94.70320853254437
          ],
          [
           "КОСТРОМА",
           97.85998215029585
          ],
          [
           "КОСТРОМА",
           101.01675576804732
          ],
          [
           "КОСТРОМА",
           107.33030300355028
          ],
          [
           "КОСТРОМА",
           110.48707662130175
          ],
          [
           "КОСТРОМА",
           113.64385023905324
          ],
          [
           "СИНЯЧИХА",
           37.42176410265318
          ],
          [
           "СИНЯЧИХА",
           39.462951235525175
          ],
          [
           "СИНЯЧИХА",
           42.86492979031183
          ],
          [
           "СИНЯЧИХА",
           44.22572121222649
          ],
          [
           "СИНЯЧИХА",
           49.66888689988513
          ],
          [
           "СИНЯЧИХА",
           51.02967832179979
          ],
          [
           "ТЮМЕНЬ",
           35.10067958935406
          ],
          [
           "ТЮМЕНЬ",
           39.1957588747787
          ],
          [
           "ТЮМЕНЬ",
           40.36578152775717
          ],
          [
           "ТЮМЕНЬ",
           43.87584948669257
          ],
          [
           "ТЮМЕНЬ",
           46.800906119138745
          ],
          [
           "ТЮМЕНЬ",
           53.821042037009555
          ],
          [
           "УРАЛЬСКИЙ",
           49.45923330967792
          ],
          [
           "УРАЛЬСКИЙ",
           53.95552724692137
          ],
          [
           "УРАЛЬСКИЙ",
           55.754044821818745
          ],
          [
           "УРАЛЬСКИЙ",
           64.74663269630564
          ],
          [
           "УРАЛЬСКИЙ",
           67.44440905865171
          ],
          [
           "МАНТУРОВО",
           79.64146575478708
          ],
          [
           "МАНТУРОВО",
           94.8112687556989
          ],
          [
           "МАНТУРОВО",
           98.60371950592686
          ],
          [
           "МАНТУРОВО",
           113.77352250683869
          ],
          [
           "МАНТУРОВО",
           117.56597325706664
          ],
          [
           "МАНТУРОВО",
           123.25464938240857
          ],
          [
           "ОПАЛИПСОВО",
           65.65515139291317
          ],
          [
           "ОПАЛИПСОВО",
           68.2813574486297
          ],
          [
           "ОПАЛИПСОВО",
           69.59446047648797
          ],
          [
           "ОПАЛИПСОВО",
           72.22066653220449
          ],
          [
           "ОПАЛИПСОВО",
           78.78618167149581
          ],
          [
           "ОПАЛИПСОВО",
           80.09928469935407
          ],
          [
           "ОПАЛИПСОВО",
           82.7254907550706
          ],
          [
           "УСТЬ-ИЖОРА",
           54.66170627076535
          ],
          [
           "УСТЬ-ИЖОРА",
           55.44258778891914
          ],
          [
           "УСТЬ-ИЖОРА",
           56.22346930707293
          ],
          [
           "КОСТРОМА",
           122.22490632124621
          ],
          [
           "КОСТРОМА",
           130.9552567727638
          ],
          [
           "КОСТРОМА",
           175.2186321568976
          ],
          [
           "КОСТРОМА",
           256.9873271634498
          ],
          [
           "УРАЛЬСКИЙ",
           56.05177431762266
          ],
          [
           "МАНТУРОВО",
           129.76113616221957
          ],
          [
           "МАНТУРОВО",
           140.8835192618384
          ],
          [
           "МАНТУРОВО",
           166.83574649428232
          ],
          [
           "КОСТРОМА",
           45.820747624877924
          ],
          [
           "КОСТРОМА",
           172.34263456269966
          ],
          [
           "КОСТРОМА",
           178.7256951020589
          ],
          [
           "КОСТРОМА",
           191.4918161807774
          ],
          [
           "УРАЛЬСКИЙ",
           63.04564950772157
          ],
          [
           "МАНТУРОВО",
           129.84183746662927
          ],
          [
           "МАНТУРОВО",
           153.14678265294734
          ],
          [
           "МАНТУРОВО",
           171.12488322524985
          ],
          [
           "МАНТУРОВО",
           173.1224499555057
          ],
          [
           "МАНТУРОВО",
           183.11028360678486
          ],
          [
           "МАНТУРОВО",
           199.7566730255835
          ],
          [
           "МАНТУРОВО",
           209.74450667686267
          ],
          [
           "КОСТРОМА",
           null
          ],
          [
           "КОСТРОМА",
           null
          ],
          [
           "СИНЯЧИХА",
           45.18987232614571
          ],
          [
           "СИНЯЧИХА",
           47.654774453026384
          ],
          [
           "СИНЯЧИХА",
           61.62255317201688
          ],
          [
           "ТЮМЕНЬ",
           42.301011254826896
          ],
          [
           "УРАЛЬСКИЙ",
           37.12958511345748
          ],
          [
           "УРАЛЬСКИЙ",
           40.61048371784412
          ],
          [
           "УРАЛЬСКИЙ",
           46.41198139182185
          ],
          [
           "УРАЛЬСКИЙ",
           48.61655050793339
          ],
          [
           "УРАЛЬСКИЙ",
           48.732580461412944
          ],
          [
           "УРАЛЬСКИЙ",
           52.21347906579958
          ],
          [
           "МАНТУРОВО",
           106.74418017462597
          ],
          [
           "МАНТУРОВО",
           111.013947381611
          ],
          [
           "ОПАЛИПСОВО",
           87.67610149566582
          ],
          [
           "ОПАЛИПСОВО",
           89.92420666222135
          ],
          [
           "ОПАЛИПСОВО",
           92.17231182877688
          ],
          [
           "ОПАЛИПСОВО",
           98.91662732844348
          ],
          [
           "ОПАЛИПСОВО",
           101.16473249499901
          ],
          [
           "ОПАЛИПСОВО",
           103.41283766155455
          ],
          [
           "ОПАЛИПСОВО",
           104.13223131485232
          ],
          [
           "ОПАЛИПСОВО",
           112.40525832777669
          ],
          [
           "ОПАЛИПСОВО",
           114.65336349433223
          ],
          [
           "ОПАЛИПСОВО",
           117.35108969419886
          ],
          [
           "ОПАЛИПСОВО",
           128.14199449366544
          ],
          [
           "ОПАЛИПСОВО",
           130.39009966022095
          ],
          [
           "ОПАЛИПСОВО",
           134.88630999333202
          ],
          [
           "УСТЬ-ИЖОРА",
           55.039455217604825
          ],
          [
           "УСТЬ-ИЖОРА",
           62.902234534405515
          ],
          [
           "УСТЬ-ИЖОРА",
           64.47479039776564
          ],
          [
           "КОСТРОМА",
           102.47441296764093
          ],
          [
           "СИНЯЧИХА",
           48.72074981981478
          ],
          [
           "КОСТРОМА",
           36.469916281014925
          ],
          [
           "КОСТРОМА",
           39.785363215652644
          ],
          [
           "КОСТРОМА",
           53.047150954203524
          ],
          [
           "КОСТРОМА",
           56.36259788884124
          ],
          [
           "КОСТРОМА",
           59.67804482347896
          ],
          [
           "КОСТРОМА",
           66.30893869275441
          ],
          [
           "КОСТРОМА",
           69.62438562739213
          ],
          [
           "КОСТРОМА",
           72.93983256202985
          ],
          [
           "КОСТРОМА",
           76.25527949666757
          ],
          [
           "КОСТРОМА",
           79.57072643130529
          ],
          [
           "КОСТРОМА",
           89.51706723521845
          ],
          [
           "КОСТРОМА",
           99.46340803913161
          ],
          [
           "КОСТРОМА",
           109.40974884304477
          ],
          [
           "КОСТРОМА",
           112.72519577768249
          ],
          [
           "КОСТРОМА",
           116.0406427123202
          ],
          [
           "КОСТРОМА",
           119.35608964695793
          ],
          [
           "КОСТРОМА",
           129.3024304508711
          ],
          [
           "КОСТРОМА",
           132.61787738550882
          ],
          [
           "КОСТРОМА",
           139.24877125478426
          ],
          [
           "КОСТРОМА",
           149.19511205869742
          ],
          [
           "КОСТРОМА",
           159.14145286261058
          ],
          [
           "КОСТРОМА",
           165.77234673188602
          ],
          [
           "КОСТРОМА",
           185.66502833971234
          ],
          [
           "КОСТРОМА",
           192.29592220898778
          ],
          [
           "СИНЯЧИХА",
           29.935965939598443
          ],
          [
           "СИНЯЧИХА",
           30.616328801862046
          ],
          [
           "СИНЯЧИХА",
           32.657417388652846
          ],
          [
           "СИНЯЧИХА",
           35.37886883770725
          ],
          [
           "СИНЯЧИХА",
           36.05923169997085
          ],
          [
           "СИНЯЧИХА",
           37.41995742449806
          ],
          [
           "СИНЯЧИХА",
           38.10032028676166
          ],
          [
           "СИНЯЧИХА",
           38.78068314902526
          ],
          [
           "СИНЯЧИХА",
           39.46104601128886
          ],
          [
           "СИНЯЧИХА",
           40.14140887355246
          ],
          [
           "СИНЯЧИХА",
           40.82177173581606
          ],
          [
           "СИНЯЧИХА",
           44.22358604713406
          ],
          [
           "СИНЯЧИХА",
           46.26467463392487
          ],
          [
           "СИНЯЧИХА",
           51.027214669770075
          ],
          [
           "СИНЯЧИХА",
           52.387940394297274
          ],
          [
           "СИНЯЧИХА",
           53.74866611882448
          ],
          [
           "СИНЯЧИХА",
           56.47011756787888
          ],
          [
           "СИНЯЧИХА",
           61.23265760372409
          ],
          [
           "ТЮМЕНЬ",
           29.107103099929606
          ],
          [
           "ТЮМЕНЬ",
           31.561919024020057
          ],
          [
           "ТЮМЕНЬ",
           32.14639900594635
          ],
          [
           "ТЮМЕНЬ",
           35.06879891557784
          ],
          [
           "ТЮМЕНЬ",
           35.945518888467284
          ],
          [
           "ТЮМЕНЬ",
           36.23775887943044
          ],
          [
           "ТЮМЕНЬ",
           37.991198825209324
          ],
          [
           "ТЮМЕНЬ",
           39.74463877098822
          ],
          [
           "ТЮМЕНЬ",
           46.758398554103785
          ],
          [
           "ТЮМЕНЬ",
           52.60319837336676
          ],
          [
           "УРАЛЬСКИЙ",
           27.881951422812513
          ],
          [
           "УРАЛЬСКИЙ",
           28.01686409098741
          ],
          [
           "УРАЛЬСКИЙ",
           28.781369210645174
          ],
          [
           "УРАЛЬСКИЙ",
           30.580204786310496
          ],
          [
           "УРАЛЬСКИЙ",
           31.479622574143157
          ],
          [
           "УРАЛЬСКИЙ",
           32.37904036197582
          ],
          [
           "УРАЛЬСКИЙ",
           33.27845814980848
          ],
          [
           "УРАЛЬСКИЙ",
           34.17787593764114
          ],
          [
           "УРАЛЬСКИЙ",
           35.97671151330647
          ],
          [
           "УРАЛЬСКИЙ",
           36.87612930113913
          ],
          [
           "УРАЛЬСКИЙ",
           38.67496487680445
          ],
          [
           "УРАЛЬСКИЙ",
           42.272636028135096
          ],
          [
           "УРАЛЬСКИЙ",
           44.07147160380042
          ],
          [
           "УРАЛЬСКИЙ",
           49.46797833079639
          ],
          [
           "УРАЛЬСКИЙ",
           61.16040957262099
          ],
          [
           "УРАЛЬСКИЙ",
           64.75808072395164
          ],
          [
           "УРАЛЬСКИЙ",
           71.95342302661294
          ],
          [
           "МАНТУРОВО",
           30.858701109428946
          ],
          [
           "МАНТУРОВО",
           36.64470756744687
          ],
          [
           "МАНТУРОВО",
           38.57337638678619
          ],
          [
           "МАНТУРОВО",
           42.4307140254648
          ],
          [
           "МАНТУРОВО",
           44.35938284480411
          ],
          [
           "МАНТУРОВО",
           46.28805166414342
          ],
          [
           "МАНТУРОВО",
           48.21672048348273
          ],
          [
           "МАНТУРОВО",
           50.14538930282204
          ],
          [
           "МАНТУРОВО",
           52.07405812216135
          ],
          [
           "МАНТУРОВО",
           54.002726941500654
          ],
          [
           "МАНТУРОВО",
           57.86006458017928
          ],
          [
           "МАНТУРОВО",
           61.71740221885789
          ],
          [
           "МАНТУРОВО",
           63.646071038197206
          ],
          [
           "МАНТУРОВО",
           67.50340867687582
          ],
          [
           "МАНТУРОВО",
           69.43207749621513
          ],
          [
           "МАНТУРОВО",
           73.28941513489374
          ],
          [
           "МАНТУРОВО",
           75.21808395423305
          ],
          [
           "МАНТУРОВО",
           77.14675277357237
          ],
          [
           "МАНТУРОВО",
           81.00409041225099
          ],
          [
           "МАНТУРОВО",
           83.25098958678129
          ],
          [
           "МАНТУРОВО",
           94.50477214762616
          ],
          [
           "МАНТУРОВО",
           96.43344096696546
          ],
          [
           "МАНТУРОВО",
           106.076785063662
          ],
          [
           "МАНТУРОВО",
           111.86279152167994
          ],
          [
           "МАНТУРОВО",
           115.72012916035855
          ],
          [
           "МАНТУРОВО",
           123.43480443771578
          ],
          [
           "МАНТУРОВО",
           131.14947971507303
          ],
          [
           "МАНТУРОВО",
           142.72149263110887
          ],
          [
           "МАНТУРОВО",
           150.4361679084661
          ],
          [
           "МАНТУРОВО",
           154.29350554714475
          ],
          [
           "МАНТУРОВО",
           164.90118405351095
          ],
          [
           "МАНТУРОВО",
           175.50886255987714
          ],
          [
           "ОПАЛИПСОВО",
           54.95044064401754
          ],
          [
           "ОПАЛИПСОВО",
           56.29069529387163
          ],
          [
           "ОПАЛИПСОВО",
           58.9712045935798
          ],
          [
           "ОПАЛИПСОВО",
           60.31145924343389
          ],
          [
           "ОПАЛИПСОВО",
           61.651713893287976
          ],
          [
           "ОПАЛИПСОВО",
           62.08059538124128
          ],
          [
           "ОПАЛИПСОВО",
           62.99196854314206
          ],
          [
           "ОПАЛИПСОВО",
           64.33222319299614
          ],
          [
           "ОПАЛИПСОВО",
           65.67247784285023
          ],
          [
           "ОПАЛИПСОВО",
           66.34260516777728
          ],
          [
           "ОПАЛИПСОВО",
           67.01273249270432
          ],
          [
           "ОПАЛИПСОВО",
           68.3529871425584
          ],
          [
           "ОПАЛИПСОВО",
           69.9612927223833
          ],
          [
           "ОПАЛИПСОВО",
           71.03349644226658
          ],
          [
           "ОПАЛИПСОВО",
           72.37375109212067
          ],
          [
           "ОПАЛИПСОВО",
           73.71400574197474
          ],
          [
           "ОПАЛИПСОВО",
           75.05426039182883
          ],
          [
           "ОПАЛИПСОВО",
           77.73476969153701
          ],
          [
           "ОПАЛИПСОВО",
           80.41527899124519
          ],
          [
           "ОПАЛИПСОВО",
           84.43604294080744
          ],
          [
           "УСТЬ-ИЖОРА",
           24.47802458820232
          ],
          [
           "УСТЬ-ИЖОРА",
           29.373629505842782
          ],
          [
           "УСТЬ-ИЖОРА",
           42.42857595288402
          ],
          [
           "УСТЬ-ИЖОРА",
           44.06044425876417
          ],
          [
           "УСТЬ-ИЖОРА",
           55.483522399925256
          ],
          [
           "УСТЬ-ИЖОРА",
           57.11539070580541
          ],
          [
           "УСТЬ-ИЖОРА",
           58.747259011685564
          ],
          [
           "УСТЬ-ИЖОРА",
           63.642863929326026
          ],
          [
           "УСТЬ-ИЖОРА",
           65.27473223520619
          ],
          [
           "УСТЬ-ИЖОРА",
           66.09066638814626
          ],
          [
           "УСТЬ-ИЖОРА",
           66.90660054108633
          ],
          [
           "УСТЬ-ИЖОРА",
           68.5384688469665
          ],
          [
           "УСТЬ-ИЖОРА",
           71.8022054587268
          ],
          [
           "УСТЬ-ИЖОРА",
           73.43407376460695
          ],
          [
           "УСТЬ-ИЖОРА",
           75.88187622342718
          ],
          [
           "УСТЬ-ИЖОРА",
           89.7527568234085
          ],
          [
           "УСТЬ-ИЖОРА",
           94.64836174104896
          ],
          [
           "КОСТРОМА",
           30.979091480553414
          ],
          [
           "МАНТУРОВО",
           27.53108617416023
          ],
          [
           "КОСТРОМА",
           123.67503501384462
          ],
          [
           "КОСТРОМА",
           126.19901532024961
          ],
          [
           "КОСТРОМА",
           128.49354287152687
          ],
          [
           "КОСТРОМА",
           133.0825979740814
          ],
          [
           "КОСТРОМА",
           137.67165307663595
          ],
          [
           "КОСТРОМА",
           149.14429083302227
          ],
          [
           "КОСТРОМА",
           158.32240103813135
          ],
          [
           "СИНЯЧИХА",
           29.721628474871547
          ],
          [
           "СИНЯЧИХА",
           34.574139246279145
          ],
          [
           "МАНТУРОВО",
           55.23003239503264
          ],
          [
           "КОСТРОМА",
           57.98378743964122
          ],
          [
           "КОСТРОМА",
           61.03556572593812
          ],
          [
           "КОСТРОМА",
           62.561454869086575
          ],
          [
           "КОСТРОМА",
           64.08734401223504
          ],
          [
           "КОСТРОМА",
           67.13912229853193
          ],
          [
           "КОСТРОМА",
           68.66501144168039
          ],
          [
           "КОСТРОМА",
           69.42795601325462
          ],
          [
           "КОСТРОМА",
           70.19090058482884
          ],
          [
           "КОСТРОМА",
           70.95384515640306
          ],
          [
           "КОСТРОМА",
           71.7167897279773
          ],
          [
           "КОСТРОМА",
           73.24267887112575
          ],
          [
           "КОСТРОМА",
           74.76856801427421
          ],
          [
           "КОСТРОМА",
           76.29445715742266
          ],
          [
           "КОСТРОМА",
           77.8203463005711
          ],
          [
           "КОСТРОМА",
           79.34623544371956
          ],
          [
           "КОСТРОМА",
           80.87212458686801
          ],
          [
           "КОСТРОМА",
           82.39801373001647
          ],
          [
           "КОСТРОМА",
           83.92390287316492
          ],
          [
           "КОСТРОМА",
           86.97568115946183
          ],
          [
           "КОСТРОМА",
           88.50157030261028
          ],
          [
           "КОСТРОМА",
           90.02745944575874
          ],
          [
           "КОСТРОМА",
           91.55334858890718
          ],
          [
           "КОСТРОМА",
           93.07923773205565
          ],
          [
           "КОСТРОМА",
           94.60512687520409
          ],
          [
           "КОСТРОМА",
           96.13101601835254
          ],
          [
           "КОСТРОМА",
           97.656905161501
          ],
          [
           "КОСТРОМА",
           100.70868344779791
          ],
          [
           "КОСТРОМА",
           101.01386127642759
          ],
          [
           "КОСТРОМА",
           103.7604617340948
          ],
          [
           "КОСТРОМА",
           105.28635087724327
          ],
          [
           "КОСТРОМА",
           106.81224002039171
          ],
          [
           "КОСТРОМА",
           109.86401830668862
          ],
          [
           "КОСТРОМА",
           111.38990744983708
          ],
          [
           "КОСТРОМА",
           114.44168573613398
          ],
          [
           "КОСТРОМА",
           128.17468802447007
          ],
          [
           "СИНЯЧИХА",
           41.927662947744516
          ],
          [
           "СИНЯЧИХА",
           42.01151827364001
          ],
          [
           "СИНЯЧИХА",
           43.04573395968437
          ],
          [
           "СИНЯЧИХА",
           43.12958928557986
          ],
          [
           "СИНЯЧИХА",
           44.163804971624224
          ],
          [
           "СИНЯЧИХА",
           45.28187598356408
          ],
          [
           "СИНЯЧИХА",
           45.84091148953401
          ],
          [
           "СИНЯЧИХА",
           49.19512452535356
          ],
          [
           "СИНЯЧИХА",
           50.31319553729342
          ],
          [
           "СИНЯЧИХА",
           55.344515091022764
          ],
          [
           "СИНЯЧИХА",
           55.90355059699269
          ],
          [
           "СИНЯЧИХА",
           59.81679913878218
          ],
          [
           "СИНЯЧИХА",
           61.49390565669196
          ],
          [
           "ТЮМЕНЬ",
           36.23642302176776
          ],
          [
           "ТЮМЕНЬ",
           40.15387415925617
          ],
          [
           "ТЮМЕНЬ",
           41.62291833581432
          ],
          [
           "ТЮМЕНЬ",
           44.071325296744575
          ],
          [
           "ТЮМЕНЬ",
           44.658942967367835
          ],
          [
           "ТЮМЕНЬ",
           45.54036947330273
          ],
          [
           "ТЮМЕНЬ",
           51.41654617953534
          ],
          [
           "ТЮМЕНЬ",
           58.7617670623261
          ],
          [
           "УРАЛЬСКИЙ",
           43.33206950814659
          ],
          [
           "УРАЛЬСКИЙ",
           44.01988013526003
          ],
          [
           "УРАЛЬСКИЙ",
           44.70769076237347
          ],
          [
           "УРАЛЬСКИЙ",
           46.083312016600345
          ],
          [
           "УРАЛЬСКИЙ",
           46.77112264371378
          ],
          [
           "УРАЛЬСКИЙ",
           48.834554525054095
          ],
          [
           "УРАЛЬСКИЙ",
           50.89798640639441
          ],
          [
           "УРАЛЬСКИЙ",
           52.96141828773472
          ],
          [
           "УРАЛЬСКИЙ",
           54.337039541961595
          ],
          [
           "УРАЛЬСКИЙ",
           55.02485016907504
          ],
          [
           "УРАЛЬСКИЙ",
           57.08828205041535
          ],
          [
           "УРАЛЬСКИЙ",
           58.46390330464222
          ],
          [
           "УРАЛЬСКИЙ",
           77.03479023670505
          ],
          [
           "МАНТУРОВО",
           66.56228200601677
          ],
          [
           "МАНТУРОВО",
           67.75089418469565
          ],
          [
           "МАНТУРОВО",
           70.12811854205339
          ],
          [
           "МАНТУРОВО",
           72.50534289941113
          ],
          [
           "МАНТУРОВО",
           74.88256725676888
          ],
          [
           "МАНТУРОВО",
           76.07117943544775
          ],
          [
           "МАНТУРОВО",
           76.66548552478719
          ],
          [
           "МАНТУРОВО",
           77.25979161412661
          ],
          [
           "МАНТУРОВО",
           78.4484037928055
          ],
          [
           "МАНТУРОВО",
           79.04270988214492
          ],
          [
           "МАНТУРОВО",
           79.63701597148436
          ],
          [
           "МАНТУРОВО",
           80.82562815016323
          ],
          [
           "МАНТУРОВО",
           82.0142403288421
          ],
          [
           "МАНТУРОВО",
           83.20285250752097
          ],
          [
           "МАНТУРОВО",
           84.39146468619984
          ],
          [
           "МАНТУРОВО",
           85.58007686487872
          ],
          [
           "МАНТУРОВО",
           86.76868904355759
          ],
          [
           "МАНТУРОВО",
           87.95730122223645
          ],
          [
           "МАНТУРОВО",
           89.14591340091533
          ],
          [
           "МАНТУРОВО",
           90.3345255795942
          ],
          [
           "МАНТУРОВО",
           92.71174993695195
          ],
          [
           "МАНТУРОВО",
           95.08897429430968
          ],
          [
           "МАНТУРОВО",
           98.65481083034629
          ],
          [
           "МАНТУРОВО",
           101.03203518770404
          ],
          [
           "МАНТУРОВО",
           104.59787172374065
          ],
          [
           "МАНТУРОВО",
           106.9750960810984
          ],
          [
           "МАНТУРОВО",
           110.54093261713501
          ],
          [
           "МАНТУРОВО",
           111.72954479581388
          ],
          [
           "МАНТУРОВО",
           112.91815697449275
          ],
          [
           "МАНТУРОВО",
           117.67260568920823
          ],
          [
           "МАНТУРОВО",
           118.26691177854767
          ],
          [
           "ОПАЛИПСОВО",
           60.51900498557505
          ],
          [
           "ОПАЛИПСОВО",
           62.80274102276656
          ],
          [
           "ОПАЛИПСОВО",
           63.94460904136232
          ],
          [
           "ОПАЛИПСОВО",
           64.17298264508148
          ],
          [
           "ОПАЛИПСОВО",
           65.08647705995807
          ],
          [
           "ОПАЛИПСОВО",
           66.22834507855383
          ],
          [
           "ОПАЛИПСОВО",
           67.37021309714959
          ],
          [
           "ОПАЛИПСОВО",
           68.51208111574535
          ],
          [
           "ОПАЛИПСОВО",
           69.6539491343411
          ],
          [
           "ОПАЛИПСОВО",
           74.22142120872412
          ],
          [
           "ОПАЛИПСОВО",
           76.50515724591563
          ],
          [
           "ОПАЛИПСОВО",
           77.64702526451138
          ],
          [
           "ОПАЛИПСОВО",
           78.78889328310714
          ],
          [
           "ОПАЛИПСОВО",
           79.9307613017029
          ],
          [
           "ОПАЛИПСОВО",
           82.21449733889442
          ],
          [
           "ОПАЛИПСОВО",
           84.49823337608592
          ],
          [
           "ОПАЛИПСОВО",
           89.06570545046894
          ],
          [
           "ОПАЛИПСОВО",
           91.34944148766046
          ],
          [
           "УСТЬ-ИЖОРА",
           68.83478043667075
          ],
          [
           "УСТЬ-ИЖОРА",
           321.2289753711302
          ],
          [
           "УСТЬ-ИЖОРА",
           367.11882899557736
          ],
          [
           "УСТЬ-ИЖОРА",
           458.8985362444717
          ],
          [
           "УСТЬ-ИЖОРА",
           481.8434630566953
          ],
          [
           "УСТЬ-ИЖОРА",
           504.7883898689189
          ],
          [
           "УСТЬ-ИЖОРА",
           509.3773752313636
          ],
          [
           "УСТЬ-ИЖОРА",
           518.5553459562531
          ],
          [
           "УСТЬ-ИЖОРА",
           550.678243493366
          ],
          [
           "УСТЬ-ИЖОРА",
           596.5680971178132
          ],
          [
           "УСТЬ-ИЖОРА",
           607.1227634514361
          ],
          [
           "УСТЬ-ИЖОРА",
           619.5130239300369
          ],
          [
           "УСТЬ-ИЖОРА",
           642.4579507422604
          ],
          [
           "УСТЬ-ИЖОРА",
           688.3478043667076
          ],
          [
           "УСТЬ-ИЖОРА",
           734.2376579911547
          ],
          [
           "УСТЬ-ИЖОРА",
           780.127511615602
          ],
          [
           "УСТЬ-ИЖОРА",
           807.6614237902702
          ],
          [
           "УСТЬ-ИЖОРА",
           826.0173652400491
          ],
          [
           "УСТЬ-ИЖОРА",
           871.9072188644963
          ],
          [
           "УСТЬ-ИЖОРА",
           894.8521456767198
          ],
          [
           "УСТЬ-ИЖОРА",
           917.7970724889434
          ],
          [
           "УСТЬ-ИЖОРА",
           963.6869261133907
          ],
          [
           "УСТЬ-ИЖОРА",
           1009.5767797378378
          ],
          [
           "УСТЬ-ИЖОРА",
           1101.356486986732
          ],
          [
           "УСТЬ-ИЖОРА",
           1147.2463406111792
          ],
          [
           "УСТЬ-ИЖОРА",
           1239.0260478600737
          ],
          [
           "УСТЬ-ИЖОРА",
           1606.144876855651
          ],
          [
           "УСТЬ-ИЖОРА",
           1652.0347304800982
          ],
          [
           "УСТЬ-ИЖОРА",
           1743.8144377289925
          ],
          [
           "УСТЬ-ИЖОРА",
           1982.4416765761177
          ],
          [
           "УСТЬ-ИЖОРА",
           2065.043413100123
          ],
          [
           "УСТЬ-ИЖОРА",
           2982.8404855890662
          ],
          [
           "УСТЬ-ИЖОРА",
           4634.875216069165
          ],
          [
           "УСТЬ-ИЖОРА",
           4772.544776942505
          ],
          [
           "УСТЬ-ИЖОРА",
           5736.231703055896
          ],
          [
           "УСТЬ-ИЖОРА",
           6699.918629169287
          ],
          [
           "УСТЬ-ИЖОРА",
           7801.275116156019
          ],
          [
           "КОСТРОМА",
           74.08551349730514
          ],
          [
           "КОСТРОМА",
           80.82056017887835
          ],
          [
           "КОСТРОМА",
           84.18808351966494
          ],
          [
           "КОСТРОМА",
           87.55560686045155
          ],
          [
           "КОСТРОМА",
           94.29065354202474
          ],
          [
           "КОСТРОМА",
           101.02570022359794
          ],
          [
           "КОСТРОМА",
           104.39322356438453
          ],
          [
           "КОСТРОМА",
           111.12827024595772
          ],
          [
           "КОСТРОМА",
           114.49579358674433
          ],
          [
           "КОСТРОМА",
           117.86331692753092
          ],
          [
           "КОСТРОМА",
           121.23084026831752
          ],
          [
           "МАНТУРОВО",
           91.41488787735348
          ],
          [
           "МАНТУРОВО",
           108.55517935435726
          ],
          [
           "МАНТУРОВО",
           114.26860984669185
          ],
          [
           "ОПАЛИПСОВО",
           66.63152604170104
          ],
          [
           "ОПАЛИПСОВО",
           67.99135310377656
          ],
          [
           "ОПАЛИПСОВО",
           74.11057488311646
          ],
          [
           "ОПАЛИПСОВО",
           81.58962372453188
          ],
          [
           "ОПАЛИПСОВО",
           85.66910491075846
          ],
          [
           "ОПАЛИПСОВО",
           101.98702965566484
          ],
          [
           "УСТЬ-ИЖОРА",
           61.79838153641653
          ],
          [
           "УСТЬ-ИЖОРА",
           63.61598099336996
          ],
          [
           "УСТЬ-ИЖОРА",
           65.43358045032339
          ],
          [
           "УСТЬ-ИЖОРА",
           67.2511799072768
          ],
          [
           "УСТЬ-ИЖОРА",
           72.70397827813709
          ],
          [
           "КОСТРОМА",
           55.09006558694525
          ],
          [
           "СИНЯЧИХА",
           68.16797438350383
          ],
          [
           "ТЮМЕНЬ",
           27.687202306611205
          ],
          [
           "ТЮМЕНЬ",
           61.763758991671146
          ],
          [
           "ТЮМЕНЬ",
           66.02332857730364
          ],
          [
           "УРАЛЬСКИЙ",
           77.56987127481037
          ],
          [
           "МАНТУРОВО",
           82.32595132756295
          ],
          [
           "ОПАЛИПСОВО",
           57.810096933502926
          ],
          [
           "ОПАЛИПСОВО",
           59.85647204619329
          ],
          [
           "УСТЬ-ИЖОРА",
           56.67142902014784
          ],
          [
           "УСТЬ-ИЖОРА",
           65.59193173628222
          ],
          [
           "УСТЬ-ИЖОРА",
           73.4629635446361
          ],
          [
           "КОСТРОМА",
           69.66821998912445
          ],
          [
           "КОСТРОМА",
           80.16797412526596
          ],
          [
           "КОСТРОМА",
           108.25746890157629
          ],
          [
           "КОСТРОМА",
           55.166958892990934
          ],
          [
           "КОСТРОМА",
           75.85456847786254
          ],
          [
           "КОСТРОМА",
           81.02647087408043
          ],
          [
           "КОСТРОМА",
           86.19837327029833
          ],
          [
           "КОСТРОМА",
           89.64630820111027
          ],
          [
           "КОСТРОМА",
           103.438047924358
          ],
          [
           "КОСТРОМА",
           113.78185271679381
          ],
          [
           "КОСТРОМА",
           117.22978764760573
          ],
          [
           "КОСТРОМА",
           120.67772257841767
          ],
          [
           "СИНЯЧИХА",
           45.94448542187226
          ],
          [
           "ТЮМЕНЬ",
           34.235206254001945
          ],
          [
           "УРАЛЬСКИЙ",
           49.01795134044246
          ],
          [
           "ОПАЛИПСОВО",
           39.68750196339446
          ],
          [
           "ОПАЛИПСОВО",
           58.84698566986075
          ],
          [
           "ОПАЛИПСОВО",
           68.42672752309389
          ],
          [
           "ОПАЛИПСОВО",
           82.11207302771267
          ],
          [
           "УСТЬ-ИЖОРА",
           54.84682990221059
          ],
          [
           "УСТЬ-ИЖОРА",
           58.38533505719192
          ],
          [
           "УСТЬ-ИЖОРА",
           60.15458763468258
          ],
          [
           "УСТЬ-ИЖОРА",
           61.923840212173246
          ],
          [
           "КОСТРОМА",
           75.72177199005121
          ],
          [
           "КОСТРОМА",
           76.91584872258105
          ],
          [
           "КОСТРОМА",
           76.99307296062727
          ],
          [
           "КОСТРОМА",
           77.76830636816071
          ],
          [
           "КОСТРОМА",
           77.874266363794
          ],
          [
           "КОСТРОМА",
           78.00040957122059
          ],
          [
           "КОСТРОМА",
           78.03057116783584
          ],
          [
           "КОСТРОМА",
           78.30656931061137
          ],
          [
           "КОСТРОМА",
           79.00287891979103
          ],
          [
           "КОСТРОМА",
           79.073966824428
          ],
          [
           "КОСТРОМА",
           79.49065272806763
          ],
          [
           "КОСТРОМА",
           79.74034625589225
          ],
          [
           "КОСТРОМА",
           79.83527030721496
          ],
          [
           "КОСТРОМА",
           80.01017322800479
          ],
          [
           "КОСТРОМА",
           80.10852874882114
          ],
          [
           "КОСТРОМА",
           81.63904874774514
          ],
          [
           "КОСТРОМА",
           81.89549074929475
          ],
          [
           "КОСТРОМА",
           81.9376089890695
          ],
          [
           "КОСТРОМА",
           82.07887902974616
          ],
          [
           "КОСТРОМА",
           82.23267803989381
          ],
          [
           "КОСТРОМА",
           84.21365368321032
          ],
          [
           "КОСТРОМА",
           84.35884789168355
          ],
          [
           "КОСТРОМА",
           85.07648237922913
          ],
          [
           "КОСТРОМА",
           86.30840033212428
          ],
          [
           "КОСТРОМА",
           88.90019247556089
          ],
          [
           "КОСТРОМА",
           91.19875447749573
          ],
          [
           "КОСТРОМА",
           124.85363182804421
          ],
          [
           "КОСТРОМА",
           137.33899501084863
          ],
          [
           "СИНЯЧИХА",
           70.79886251770097
          ],
          [
           "СИНЯЧИХА",
           71.32403828522081
          ],
          [
           "СИНЯЧИХА",
           71.54807910168081
          ],
          [
           "СИНЯЧИХА",
           71.63325096074064
          ],
          [
           "СИНЯЧИХА",
           71.74521183817241
          ],
          [
           "СИНЯЧИХА",
           72.50439887581446
          ],
          [
           "СИНЯЧИХА",
           72.62940495671913
          ],
          [
           "СИНЯЧИХА",
           72.68388821177713
          ],
          [
           "СИНЯЧИХА",
           73.87214825278261
          ],
          [
           "СИНЯЧИХА",
           74.7926395592639
          ],
          [
           "СИНЯЧИХА",
           75.87551445660732
          ],
          [
           "СИНЯЧИХА",
           87.85127980184377
          ],
          [
           "ТЮМЕНЬ",
           71.7365207083873
          ],
          [
           "ТЮМЕНЬ",
           72.82084028595342
          ],
          [
           "ТЮМЕНЬ",
           76.26602385640246
          ],
          [
           "ТЮМЕНЬ",
           76.70671549960969
          ],
          [
           "УРАЛЬСКИЙ",
           74.24606448567404
          ],
          [
           "УРАЛЬСКИЙ",
           75.14621007656665
          ],
          [
           "УРАЛЬСКИЙ",
           77.25574824557576
          ],
          [
           "УРАЛЬСКИЙ",
           77.9060409719139
          ],
          [
           "УРАЛЬСКИЙ",
           79.22844165365922
          ],
          [
           "УРАЛЬСКИЙ",
           79.81451932209958
          ],
          [
           "УРАЛЬСКИЙ",
           80.16054096723168
          ],
          [
           "УРАЛЬСКИЙ",
           80.25731153611177
          ],
          [
           "УРАЛЬСКИЙ",
           81.25736580958106
          ],
          [
           "УРАЛЬСКИЙ",
           83.7891943633683
          ],
          [
           "УРАЛЬСКИЙ",
           88.48963577193514
          ],
          [
           "УРАЛЬСКИЙ",
           106.08876716691763
          ],
          [
           "УРАЛЬСКИЙ",
           106.24562627092934
          ],
          [
           "МАНТУРОВО",
           85.26676822779962
          ],
          [
           "МАНТУРОВО",
           85.39796978782832
          ],
          [
           "МАНТУРОВО",
           85.49962875530987
          ],
          [
           "МАНТУРОВО",
           86.95190746665516
          ],
          [
           "МАНТУРОВО",
           88.06713394857064
          ],
          [
           "МАНТУРОВО",
           88.34213575294116
          ],
          [
           "МАНТУРОВО",
           88.6546064299043
          ],
          [
           "МАНТУРОВО",
           89.44293178879367
          ],
          [
           "МАНТУРОВО",
           90.34415677694236
          ],
          [
           "МАНТУРОВО",
           92.86970221120647
          ],
          [
           "МАНТУРОВО",
           94.28814554457769
          ],
          [
           "МАНТУРОВО",
           138.67562305180599
          ],
          [
           "МАНТУРОВО",
           146.17160267622793
          ],
          [
           "ОПАЛИПСОВО",
           96.94789509199896
          ],
          [
           "ОПАЛИПСОВО",
           97.12448506484412
          ],
          [
           "ОПАЛИПСОВО",
           97.25242475819132
          ],
          [
           "ОПАЛИПСОВО",
           97.36819543881239
          ],
          [
           "ОПАЛИПСОВО",
           97.42956942988202
          ],
          [
           "ОПАЛИПСОВО",
           101.70479419681953
          ],
          [
           "ОПАЛИПСОВО",
           102.06452928384475
          ],
          [
           "ОПАЛИПСОВО",
           102.30160270248912
          ],
          [
           "ОПАЛИПСОВО",
           102.97209697736531
          ],
          [
           "ОПАЛИПСОВО",
           104.76603640520227
          ],
          [
           "ОПАЛИПСОВО",
           104.94666533015014
          ],
          [
           "ОПАЛИПСОВО",
           129.99158001029804
          ],
          [
           "УСТЬ-ИЖОРА",
           91.61311259597095
          ],
          [
           "УСТЬ-ИЖОРА",
           91.84862188285004
          ],
          [
           "УСТЬ-ИЖОРА",
           94.0581826792299
          ],
          [
           "УСТЬ-ИЖОРА",
           94.86051831096906
          ],
          [
           "УСТЬ-ИЖОРА",
           100.69058179108309
          ],
          [
           "УСТЬ-ИЖОРА",
           100.86418415464827
          ],
          [
           "УСТЬ-ИЖОРА",
           109.74207312375215
          ],
          [
           "УСТЬ-ИЖОРА",
           139.4806807343612
          ],
          [
           "УСТЬ-ИЖОРА",
           162.7274608567547
          ],
          [
           "КОСТРОМА",
           125.40970092879613
          ],
          [
           "МАНТУРОВО",
           78.85791966436983
          ],
          [
           "МАНТУРОВО",
           79.84053667517969
          ],
          [
           "МАНТУРОВО",
           80.5062060098944
          ],
          [
           "КОСТРОМА",
           52.21252216162849
          ],
          [
           "КОСТРОМА",
           53.08912380942172
          ],
          [
           "КОСТРОМА",
           53.783713802795546
          ],
          [
           "КОСТРОМА",
           57.97347231163375
          ],
          [
           "КОСТРОМА",
           58.01307941695922
          ],
          [
           "КОСТРОМА",
           63.223256909345075
          ],
          [
           "КОСТРОМА",
           63.44688082015391
          ],
          [
           "КОСТРОМА",
           64.01105663805126
          ],
          [
           "КОСТРОМА",
           64.3349556825347
          ],
          [
           "КОСТРОМА",
           65.35191424220531
          ],
          [
           "КОСТРОМА",
           65.88477727729196
          ],
          [
           "КОСТРОМА",
           73.09221000192704
          ],
          [
           "КОСТРОМА",
           83.71746446870348
          ],
          [
           "КОСТРОМА",
           102.09446886427254
          ],
          [
           "КОСТРОМА",
           122.51336263712706
          ],
          [
           "КОСТРОМА",
           130.68092014626887
          ],
          [
           "СИНЯЧИХА",
           73.38579680899038
          ],
          [
           "СИНЯЧИХА",
           76.68796770740549
          ],
          [
           "ТЮМЕНЬ",
           72.2171535386071
          ],
          [
           "ТЮМЕНЬ",
           73.95685636234619
          ],
          [
           "ТЮМЕНЬ",
           74.08436665018019
          ],
          [
           "УРАЛЬСКИЙ",
           74.07912869458603
          ],
          [
           "МАНТУРОВО",
           72.28133711882498
          ],
          [
           "МАНТУРОВО",
           72.50704558961046
          ],
          [
           "МАНТУРОВО",
           72.76350673838033
          ],
          [
           "МАНТУРОВО",
           73.41052689755205
          ],
          [
           "МАНТУРОВО",
           74.02258611754148
          ],
          [
           "КОСТРОМА",
           74.27860063805689
          ],
          [
           "КОСТРОМА",
           129.94035742060865
          ],
          [
           "МАНТУРОВО",
           91.84339306527727
          ],
          [
           "КОСТРОМА",
           123.12125930981932
          ],
          [
           "СИНЯЧИХА",
           46.85007624341847
          ],
          [
           "СИНЯЧИХА",
           54.05778028086747
          ],
          [
           "МАНТУРОВО",
           93.73346883710772
          ],
          [
           "МАНТУРОВО",
           95.96521809513409
          ],
          [
           "УСТЬ-ИЖОРА",
           30.060421731339034
          ],
          [
           "УСТЬ-ИЖОРА",
           54.108759116410255
          ],
          [
           "СИНЯЧИХА",
           138.1467024340866
          ],
          [
           "СИНЯЧИХА",
           146.0407997160344
          ],
          [
           "ТЮМЕНЬ",
           null
          ],
          [
           "ТЮМЕНЬ",
           null
          ],
          [
           "ТЮМЕНЬ",
           null
          ],
          [
           "ТЮМЕНЬ",
           null
          ],
          [
           "МАНТУРОВО",
           89.0547856859859
          ],
          [
           "СИНЯЧИХА",
           51.65833569593163
          ],
          [
           "СИНЯЧИХА",
           142.13831840987308
          ],
          [
           "ОПАЛИПСОВО",
           102.75920068722743
          ],
          [
           "ОПАЛИПСОВО",
           107.04083404919524
          ],
          [
           "ОПАЛИПСОВО",
           109.18165073017914
          ],
          [
           "ОПАЛИПСОВО",
           112.392875751655
          ],
          [
           "ОПАЛИПСОВО",
           122.79724482123677
          ],
          [
           "СИНЯЧИХА",
           100.47474280291841
          ],
          [
           "ТЮМЕНЬ",
           77.23362300351373
          ],
          [
           "УРАЛЬСКИЙ",
           19.98634202089304
          ],
          [
           "СИНЯЧИХА",
           112.55099411231899
          ],
          [
           "СИНЯЧИХА",
           115.19925279731474
          ],
          [
           "СИНЯЧИХА",
           125.67946004583068
          ],
          [
           "ТЮМЕНЬ",
           51.333724488838584
          ],
          [
           "ТЮМЕНЬ",
           69.5489170493942
          ],
          [
           "УСТЬ-ИЖОРА",
           68.81124520854105
          ],
          [
           "СИНЯЧИХА",
           3.789857776221509
          ],
          [
           "СИНЯЧИХА",
           4.000405430456037
          ],
          [
           "СИНЯЧИХА",
           4.210953084690566
          ],
          [
           "СИНЯЧИХА",
           4.4215007389250935
          ],
          [
           "СИНЯЧИХА",
           4.653103158583074
          ],
          [
           "СИНЯЧИХА",
           5.053143701628678
          ],
          [
           "СИНЯЧИХА",
           6.10588197280132
          ],
          [
           "СИНЯЧИХА",
           6.948072589739433
          ],
          [
           "СИНЯЧИХА",
           7.369167898208489
          ],
          [
           "СИНЯЧИХА",
           8.000810860912074
          ],
          [
           "СИНЯЧИХА",
           8.232413280570055
          ],
          [
           "СИНЯЧИХА",
           8.63245382361566
          ],
          [
           "СИНЯЧИХА",
           10.94847802019547
          ],
          [
           "СИНЯЧИХА",
           14.738335796416978
          ],
          [
           "СИНЯЧИХА",
           15.159431104886036
          ],
          [
           "СИНЯЧИХА",
           16.293019675284736
          ],
          [
           "СИНЯЧИХА",
           17.896550609934902
          ],
          [
           "СИНЯЧИХА",
           18.317645918403958
          ],
          [
           "СИНЯЧИХА",
           18.654522165179205
          ],
          [
           "ТЮМЕНЬ",
           1.5355365772285208
          ],
          [
           "ТЮМЕНЬ",
           2.19362368175503
          ],
          [
           "ТЮМЕНЬ",
           2.4129860499305327
          ],
          [
           "ТЮМЕНЬ",
           2.8517107862815387
          ],
          [
           "ТЮМЕНЬ",
           2.96139197036929
          ],
          [
           "ТЮМЕНЬ",
           3.0710731544570415
          ],
          [
           "ТЮМЕНЬ",
           3.5097978908080476
          ],
          [
           "ТЮМЕНЬ",
           4.869844573496167
          ],
          [
           "ТЮМЕНЬ",
           5.045334468036568
          ],
          [
           "ТЮМЕНЬ",
           9.213219463371125
          ],
          [
           "ТЮМЕНЬ",
           11.626205513301658
          ],
          [
           "ТЮМЕНЬ",
           20.51038142440953
          ],
          [
           "УРАЛЬСКИЙ",
           3.34459667817637
          ],
          [
           "УРАЛЬСКИЙ",
           5.50874746993755
          ],
          [
           "УРАЛЬСКИЙ",
           6.098970413145145
          ],
          [
           "УРАЛЬСКИЙ",
           6.295711394214343
          ],
          [
           "УРАЛЬСКИЙ",
           6.885934337421937
          ],
          [
           "УРАЛЬСКИЙ",
           7.082675318491136
          ],
          [
           "УРАЛЬСКИЙ",
           10.230531015598308
          ],
          [
           "УРАЛЬСКИЙ",
           12.984904750567082
          ],
          [
           "УРАЛЬСКИЙ",
           15.739278485535857
          ],
          [
           "УРАЛЬСКИЙ",
           17.70668829622784
          ],
          [
           "УРАЛЬСКИЙ",
           18.69039320157383
          ],
          [
           "ОПАЛИПСОВО",
           17.527888123082302
          ],
          [
           "ОПАЛИПСОВО",
           18.450408550612952
          ],
          [
           "ОПАЛИПСОВО",
           18.81941672162521
          ],
          [
           "ОПАЛИПСОВО",
           19.372928978143598
          ],
          [
           "УСТЬ-ИЖОРА",
           7.106527735793282
          ],
          [
           "УСТЬ-ИЖОРА",
           12.11339954964764
          ],
          [
           "УСТЬ-ИЖОРА",
           12.92095951962415
          ],
          [
           "УСТЬ-ИЖОРА",
           18.89690329745032
          ],
          [
           "УСТЬ-ИЖОРА",
           19.381439279436226
          ],
          [
           "УСТЬ-ИЖОРА",
           20.996559219389244
          ],
          [
           "ТЮМЕНЬ",
           31.476823399190792
          ],
          [
           "ТЮМЕНЬ",
           32.97571975153321
          ],
          [
           "ТЮМЕНЬ",
           33.57527829247017
          ],
          [
           "ТЮМЕНЬ",
           34.474616103875626
          ],
          [
           "ТЮМЕНЬ",
           35.074174644812594
          ],
          [
           "ТЮМЕНЬ",
           35.973512456218046
          ],
          [
           "МАНТУРОВО",
           34.3865889303345
          ],
          [
           "ТЮМЕНЬ",
           25.965904904043118
          ],
          [
           "УРАЛЬСКИЙ",
           87.95212292893525
          ],
          [
           "УРАЛЬСКИЙ",
           99.30078395202368
          ],
          [
           "УРАЛЬСКИЙ",
           62.687834735250505
          ],
          [
           "УРАЛЬСКИЙ",
           74.08562286893242
          ],
          [
           "УРАЛЬСКИЙ",
           70.13140361416316
          ],
          [
           "УРАЛЬСКИЙ",
           91.17082469841212
          ],
          [
           "УРАЛЬСКИЙ",
           93.80075233394324
          ],
          [
           "УРАЛЬСКИЙ",
           195.05642489601914
          ],
          [
           "УРАЛЬСКИЙ",
           103.94538953814435
          ],
          [
           "УРАЛЬСКИЙ",
           92.27960792369464
          ],
          [
           "УРАЛЬСКИЙ",
           103.46501494474853
          ],
          [
           "УРАЛЬСКИЙ",
           111.85407021053895
          ],
          [
           "УРАЛЬСКИЙ",
           117.4467737210659
          ],
          [
           "УРАЛЬСКИЙ",
           125.83582898685633
          ],
          [
           "УРАЛЬСКИЙ",
           127.51364004001441
          ],
          [
           "МАНТУРОВО",
           108.83990300262386
          ],
          [
           "ОПАЛИПСОВО",
           1385.0281494832243
          ],
          [
           "ОПАЛИПСОВО",
           81.48958562954134
          ],
          [
           "ОПАЛИПСОВО",
           70.10096804714806
          ],
          [
           "ОПАЛИПСОВО",
           75.94271538441039
          ],
          [
           "УСТЬ-ИЖОРА",
           70.5900048625667
          ],
          [
           "ОПАЛИПСОВО",
           86.18600303736997
          ],
          [
           "ОПАЛИПСОВО",
           93.6158308854191
          ],
          [
           "ОПАЛИПСОВО",
           126.3070734168353
          ],
          [
           "УСТЬ-ИЖОРА",
           60.111303786268536
          ],
          [
           "УСТЬ-ИЖОРА",
           63.11686897558196
          ],
          [
           "УСТЬ-ИЖОРА",
           70.63078194886553
          ],
          [
           "УСТЬ-ИЖОРА",
           65.38063773898935
          ],
          [
           "УСТЬ-ИЖОРА",
           62.891547796488176
          ],
          [
           "УСТЬ-ИЖОРА",
           64.79735227516963
          ],
          [
           "УСТЬ-ИЖОРА",
           66.70315675385109
          ],
          [
           "УСТЬ-ИЖОРА",
           68.60896123253255
          ],
          [
           "УСТЬ-ИЖОРА",
           206.4132422056642
          ],
          [
           "УСТЬ-ИЖОРА",
           68.81916703923936
          ],
          [
           "УСТЬ-ИЖОРА",
           117.93189982337537
          ],
          [
           "УСТЬ-ИЖОРА",
           141.3233510280118
          ],
          [
           "УСТЬ-ИЖОРА",
           30.81924704314628
          ],
          [
           "УСТЬ-ИЖОРА",
           85.73856819904839
          ],
          [
           "УСТЬ-ИЖОРА",
           69.8854552404634
          ]
         ],
         "hovertemplate": "<b>%{hovertext}</b><br><br>стоимость за километр=%{marker.color}<br>lat_город=%{lat}<br>long_город=%{lon}<br>точка отгрузки=%{customdata[0]}<extra></extra>",
         "hovertext": [
          "ВИТЕБСК",
          "ВИТЕБСК",
          "ВИТЕБСК",
          "ВИТЕБСК",
          "ВИТЕБСК",
          "ВИТЕБСК",
          "ГОМЕЛ",
          "ГОМЕЛ",
          "ГОМЕЛ",
          "ГОМЕЛ",
          "ГОМЕЛ",
          "ГОМЕЛ",
          "ГОМЕЛ",
          "ГОМЕЛ",
          "ГОМЕЛ",
          "ГОМЕЛ",
          "ГОМЕЛ",
          "ГОМЕЛ",
          "ГОМЕЛ",
          "МИНСК",
          "МИНСК",
          "ПОЛОЧАНЫ",
          "ГОРКИ ЛЕНИНСКИЕ",
          "ГОРКИ ЛЕНИНСКИЕ",
          "ГОРКИ ЛЕНИНСКИЕ",
          "ГОРКИ ЛЕНИНСКИЕ",
          "ГОРКИ ЛЕНИНСКИЕ",
          "ГОРКИ ЛЕНИНСКИЕ",
          "ГОРКИ ЛЕНИНСКИЕ",
          "ГОРКИ ЛЕНИНСКИЕ",
          "ГОРКИ ЛЕНИНСКИЕ",
          "ГОРКИ ЛЕНИНСКИЕ",
          "ГОРКИ ЛЕНИНСКИЕ",
          "ГОРКИ ЛЕНИНСКИЕ",
          "ГОРКИ ЛЕНИНСКИЕ",
          "ГОРКИ ЛЕНИНСКИЕ",
          "ГОРКИ ЛЕНИНСКИЕ",
          "ГОРКИ ЛЕНИНСКИЕ",
          "ГОРКИ ЛЕНИНСКИЕ",
          "ГОРКИ ЛЕНИНСКИЕ",
          "ГОРКИ ЛЕНИНСКИЕ",
          "ГОРКИ ЛЕНИНСКИЕ",
          "ГОРКИ ЛЕНИНСКИЕ",
          "ГОРКИ ЛЕНИНСКИЕ",
          "ГОРКИ ЛЕНИНСКИЕ",
          "ГОРКИ ЛЕНИНСКИЕ",
          "ГОРКИ ЛЕНИНСКИЕ",
          "ГОРКИ ЛЕНИНСКИЕ",
          "ГОРКИ ЛЕНИНСКИЕ",
          "ГОРКИ ЛЕНИНСКИЕ",
          "ГОРКИ ЛЕНИНСКИЕ",
          "ГОРКИ ЛЕНИНСКИЕ",
          "ГОРКИ ЛЕНИНСКИЕ",
          "ГОРКИ ЛЕНИНСКИЕ",
          "ГОРКИ ЛЕНИНСКИЕ",
          "ГОРКИ ЛЕНИНСКИЕ",
          "ГОРКИ ЛЕНИНСКИЕ",
          "ГОРКИ ЛЕНИНСКИЕ",
          "ГОРКИ ЛЕНИНСКИЕ",
          "ГОРКИ ЛЕНИНСКИЕ",
          "ГОРКИ ЛЕНИНСКИЕ",
          "ГОРКИ ЛЕНИНСКИЕ",
          "ГОРКИ ЛЕНИНСКИЕ",
          "ГОРКИ ЛЕНИНСКИЕ",
          "ГОРКИ ЛЕНИНСКИЕ",
          "ГОРКИ ЛЕНИНСКИЕ",
          "ДЗЕРЖИНСК",
          "ДЗЕРЖИНСК",
          "ИВАНОВО",
          "ИВАНОВО",
          "ИВАНОВО",
          "ИВАНОВО",
          "ИВАНОВО",
          "ИВАНОВО",
          "КАЗАНЬ",
          "КОВРОВ",
          "КОВРОВ",
          "КОВРОВ",
          "КОВРОВ",
          "КОВРОВ",
          "КОВРОВ",
          "КОВРОВ",
          "КОВРОВ",
          "КОВРОВ",
          "КОВРОВ",
          "КОВРОВ",
          "КОСТРОМА",
          "КОСТРОМА",
          "КОСТРОМА",
          "КОСТРОМА",
          "КОСТРОМА",
          "КОСТРОМА",
          "КОСТРОМА",
          "КОСТРОМА",
          "КОСТРОМА",
          "КОСТРОМА",
          "КОСТРОМА",
          "КОСТРОМА",
          "КОСТРОМА",
          "КОСТРОМА",
          "КОСТРОМА",
          "КОСТРОМА",
          "КОСТРОМА",
          "КОСТРОМА",
          "КОСТРОМА",
          "КОСТРОМА",
          "КОСТРОМА",
          "КОСТРОМА",
          "КОСТРОМА",
          "КОСТРОМА",
          "КОСТРОМА",
          "КОСТРОМА",
          "КОСТРОМА",
          "КОСТРОМА",
          "КОСТРОМА",
          "КОСТРОМА",
          "МАНТУРОВО",
          "МАНТУРОВО",
          "МОСКВА",
          "МОСКВА",
          "МОСКВА",
          "МОСКВА",
          "МОСКВА",
          "МОСКВА",
          "МОСКВА",
          "МОСКВА",
          "МОСКВА",
          "МОСКВА",
          "МОСКВА",
          "МОСКВА",
          "МОСКВА",
          "МОСКВА",
          "МОСКВА",
          "МОСКВА",
          "МОСКВА",
          "МОСКВА",
          "МОСКВА",
          "МОСКВА",
          "МОСКВА",
          "МОСКВА",
          "МОСКВА",
          "МОСКВА",
          "МОСКВА",
          "МОСКВА",
          "МОСКВА",
          "МОСКВА",
          "МОСКВА",
          "МОСКВА",
          "МОСКВА",
          "МОСКВА",
          "МОСКВА",
          "МОСКВА",
          "МОСКВА",
          "МОСКВА",
          "МОСКВА",
          "МОСКВА",
          "МОСКВА",
          "МОСКВА",
          "МОСКВА",
          "МОСКВА",
          "МОСКВА",
          "МОСКВА",
          "МОСКВА",
          "МОСКВА",
          "МОСКВА",
          "МОСКВА",
          "МОСКВА",
          "МОСКВА",
          "МОСКВА",
          "МОСКВА",
          "МОСКВА",
          "МОСКВА",
          "МОСКВА",
          "МОСКВА",
          "МОСКВА",
          "МОСКВА",
          "МОСКВА",
          "МОСКВА",
          "МОСКВА",
          "МОСКВА",
          "МОСКВА",
          "МОСКВА",
          "МОСКВА",
          "МОСКВА",
          "МОСКВА",
          "МОСКВА",
          "МОСКВА",
          "МОСКВА",
          "МОСКВА",
          "МОСКВА",
          "МОСКВА",
          "МОСКВА",
          "МОСКВА",
          "МОСКВА",
          "МОСКВА",
          "МОСКВА",
          "МОСКВА",
          "МОСКВА",
          "МОСКВА",
          "МОСКВА",
          "МОСКВА",
          "МОСКВА",
          "МОСКВА",
          "МОСКВА",
          "МОСКВА",
          "МОСКВА",
          "МОСКВА",
          "МОСКВА",
          "МОСКВА",
          "МОСКВА",
          "МОСКВА",
          "МОСКВА",
          "МОСКВА",
          "МОСКВА",
          "МОСКВА",
          "МОСКВА",
          "МОСКВА",
          "МОСКВА",
          "МОСКВА",
          "МОСКВА",
          "МОСКВА",
          "МОСКВА",
          "МОСКВА",
          "МОСКВА",
          "МОСКВА",
          "МОСКВА",
          "МОСКВА",
          "МОСКВА",
          "МОСКВА",
          "МОСКВА",
          "МОСКВА",
          "МОСКВА",
          "МОСКВА",
          "МОСКВА",
          "МОСКВА",
          "МОСКВА",
          "МОСКВА",
          "МОСКВА",
          "МОСКВА",
          "МОСКВА",
          "МОСКВА",
          "МОСКВА",
          "МОСКВА",
          "МОСКВА",
          "МОСКВА",
          "МОСКВА",
          "МОСКВА",
          "МОСКВА",
          "МОСКВА",
          "МОСКВА",
          "МОСКВА",
          "МОСКВА",
          "МОСКВА",
          "МОСКВА",
          "МОСКВА",
          "МОСКВА",
          "НОВАТОР",
          "НОВАТОР",
          "ПОВОЛЖЬЕ",
          "ПОВОЛЖЬЕ",
          "ПОВОЛЖЬЕ",
          "ПОВОЛЖЬЕ",
          "ПОВОЛЖЬЕ",
          "ПОВОЛЖЬЕ",
          "ПОВОЛЖЬЕ",
          "ПОВОЛЖЬЕ",
          "ПОВОЛЖЬЕ",
          "ПОВОЛЖЬЕ",
          "САНКТ-ПЕТЕРБУРГ",
          "САНКТ-ПЕТЕРБУРГ",
          "САНКТ-ПЕТЕРБУРГ",
          "САНКТ-ПЕТЕРБУРГ",
          "САНКТ-ПЕТЕРБУРГ",
          "САНКТ-ПЕТЕРБУРГ",
          "САНКТ-ПЕТЕРБУРГ",
          "САНКТ-ПЕТЕРБУРГ",
          "САНКТ-ПЕТЕРБУРГ",
          "САНКТ-ПЕТЕРБУРГ",
          "САНКТ-ПЕТЕРБУРГ",
          "САНКТ-ПЕТЕРБУРГ",
          "САНКТ-ПЕТЕРБУРГ",
          "САНКТ-ПЕТЕРБУРГ",
          "САНКТ-ПЕТЕРБУРГ",
          "САНКТ-ПЕТЕРБУРГ",
          "САНКТ-ПЕТЕРБУРГ",
          "САНКТ-ПЕТЕРБУРГ",
          "САНКТ-ПЕТЕРБУРГ",
          "САНКТ-ПЕТЕРБУРГ",
          "САНКТ-ПЕТЕРБУРГ",
          "САНКТ-ПЕТЕРБУРГ",
          "САНКТ-ПЕТЕРБУРГ",
          "САНКТ-ПЕТЕРБУРГ",
          "САНКТ-ПЕТЕРБУРГ",
          "САНКТ-ПЕТЕРБУРГ",
          "САНКТ-ПЕТЕРБУРГ",
          "САНКТ-ПЕТЕРБУРГ",
          "САНКТ-ПЕТЕРБУРГ",
          "САНКТ-ПЕТЕРБУРГ",
          "САНКТ-ПЕТЕРБУРГ",
          "САНКТ-ПЕТЕРБУРГ",
          "САНКТ-ПЕТЕРБУРГ",
          "САНКТ-ПЕТЕРБУРГ",
          "САНКТ-ПЕТЕРБУРГ",
          "САНКТ-ПЕТЕРБУРГ",
          "САНКТ-ПЕТЕРБУРГ",
          "САНКТ-ПЕТЕРБУРГ",
          "САНКТ-ПЕТЕРБУРГ",
          "САНКТ-ПЕТЕРБУРГ",
          "САНКТ-ПЕТЕРБУРГ",
          "САНКТ-ПЕТЕРБУРГ",
          "САНКТ-ПЕТЕРБУРГ",
          "САНКТ-ПЕТЕРБУРГ",
          "САНКТ-ПЕТЕРБУРГ",
          "САНКТ-ПЕТЕРБУРГ",
          "САНКТ-ПЕТЕРБУРГ",
          "САНКТ-ПЕТЕРБУРГ",
          "САНКТ-ПЕТЕРБУРГ",
          "САНКТ-ПЕТЕРБУРГ",
          "САНКТ-ПЕТЕРБУРГ",
          "САНКТ-ПЕТЕРБУРГ",
          "САНКТ-ПЕТЕРБУРГ",
          "САНКТ-ПЕТЕРБУРГ",
          "САНКТ-ПЕТЕРБУРГ",
          "САНКТ-ПЕТЕРБУРГ",
          "САНКТ-ПЕТЕРБУРГ",
          "САНКТ-ПЕТЕРБУРГ",
          "САНКТ-ПЕТЕРБУРГ",
          "САНКТ-ПЕТЕРБУРГ",
          "САНКТ-ПЕТЕРБУРГ",
          "САНКТ-ПЕТЕРБУРГ",
          "САНКТ-ПЕТЕРБУРГ",
          "САНКТ-ПЕТЕРБУРГ",
          "САНКТ-ПЕТЕРБУРГ",
          "САНКТ-ПЕТЕРБУРГ",
          "САНКТ-ПЕТЕРБУРГ",
          "САНКТ-ПЕТЕРБУРГ",
          "САНКТ-ПЕТЕРБУРГ",
          "САНКТ-ПЕТЕРБУРГ",
          "САНКТ-ПЕТЕРБУРГ",
          "САНКТ-ПЕТЕРБУРГ",
          "САНКТ-ПЕТЕРБУРГ",
          "САНКТ-ПЕТЕРБУРГ",
          "САНКТ-ПЕТЕРБУРГ",
          "САНКТ-ПЕТЕРБУРГ",
          "САНКТ-ПЕТЕРБУРГ",
          "САНКТ-ПЕТЕРБУРГ",
          "САНКТ-ПЕТЕРБУРГ",
          "САНКТ-ПЕТЕРБУРГ",
          "САНКТ-ПЕТЕРБУРГ",
          "САНКТ-ПЕТЕРБУРГ",
          "САНКТ-ПЕТЕРБУРГ",
          "САНКТ-ПЕТЕРБУРГ",
          "САНКТ-ПЕТЕРБУРГ",
          "САНКТ-ПЕТЕРБУРГ",
          "САНКТ-ПЕТЕРБУРГ",
          "САНКТ-ПЕТЕРБУРГ",
          "САНКТ-ПЕТЕРБУРГ",
          "САНКТ-ПЕТЕРБУРГ",
          "САНКТ-ПЕТЕРБУРГ",
          "САНКТ-ПЕТЕРБУРГ",
          "САНКТ-ПЕТЕРБУРГ",
          "САНКТ-ПЕТЕРБУРГ",
          "САНКТ-ПЕТЕРБУРГ",
          "САНКТ-ПЕТЕРБУРГ",
          "САНКТ-ПЕТЕРБУРГ",
          "САНКТ-ПЕТЕРБУРГ",
          "САНКТ-ПЕТЕРБУРГ",
          "САНКТ-ПЕТЕРБУРГ",
          "САНКТ-ПЕТЕРБУРГ",
          "САНКТ-ПЕТЕРБУРГ",
          "САНКТ-ПЕТЕРБУРГ",
          "САНКТ-ПЕТЕРБУРГ",
          "САНКТ-ПЕТЕРБУРГ",
          "САНКТ-ПЕТЕРБУРГ",
          "САНКТ-ПЕТЕРБУРГ",
          "САНКТ-ПЕТЕРБУРГ",
          "САНКТ-ПЕТЕРБУРГ",
          "САНКТ-ПЕТЕРБУРГ",
          "САНКТ-ПЕТЕРБУРГ",
          "САНКТ-ПЕТЕРБУРГ",
          "САНКТ-ПЕТЕРБУРГ",
          "САНКТ-ПЕТЕРБУРГ",
          "САНКТ-ПЕТЕРБУРГ",
          "САНКТ-ПЕТЕРБУРГ",
          "САНКТ-ПЕТЕРБУРГ",
          "САНКТ-ПЕТЕРБУРГ",
          "САНКТ-ПЕТЕРБУРГ",
          "САНКТ-ПЕТЕРБУРГ",
          "САНКТ-ПЕТЕРБУРГ",
          "САНКТ-ПЕТЕРБУРГ",
          "САНКТ-ПЕТЕРБУРГ",
          "САНКТ-ПЕТЕРБУРГ",
          "САНКТ-ПЕТЕРБУРГ",
          "САНКТ-ПЕТЕРБУРГ",
          "САНКТ-ПЕТЕРБУРГ",
          "САНКТ-ПЕТЕРБУРГ",
          "САНКТ-ПЕТЕРБУРГ",
          "САНКТ-ПЕТЕРБУРГ",
          "САНКТ-ПЕТЕРБУРГ",
          "САНКТ-ПЕТЕРБУРГ",
          "САНКТ-ПЕТЕРБУРГ",
          "САНКТ-ПЕТЕРБУРГ",
          "САНКТ-ПЕТЕРБУРГ",
          "САНКТ-ПЕТЕРБУРГ",
          "САНКТ-ПЕТЕРБУРГ",
          "САНКТ-ПЕТЕРБУРГ",
          "САНКТ-ПЕТЕРБУРГ",
          "САНКТ-ПЕТЕРБУРГ",
          "САНКТ-ПЕТЕРБУРГ",
          "САНКТ-ПЕТЕРБУРГ",
          "САНКТ-ПЕТЕРБУРГ",
          "САНКТ-ПЕТЕРБУРГ",
          "САНКТ-ПЕТЕРБУРГ",
          "САНКТ-ПЕТЕРБУРГ",
          "САНКТ-ПЕТЕРБУРГ",
          "САНКТ-ПЕТЕРБУРГ",
          "САНКТ-ПЕТЕРБУРГ",
          "САНКТ-ПЕТЕРБУРГ",
          "САНКТ-ПЕТЕРБУРГ",
          "САНКТ-ПЕТЕРБУРГ",
          "САНКТ-ПЕТЕРБУРГ",
          "САНКТ-ПЕТЕРБУРГ",
          "САНКТ-ПЕТЕРБУРГ",
          "СОЛНЕЧНОГОРСК",
          "СОЛНЕЧНОГОРСК",
          "СОЛНЕЧНОГОРСК",
          "СОЛНЕЧНОГОРСК",
          "СОЛНЕЧНОГОРСК",
          "СОЛНЕЧНОГОРСК",
          "СОЛНЕЧНОГОРСК",
          "СОЛНЕЧНОГОРСК",
          "СОЛНЕЧНОГОРСК",
          "СОЛНЕЧНОГОРСК",
          "СОЛНЕЧНОГОРСК",
          "СОЛНЕЧНОГОРСК",
          "СОЛНЕЧНОГОРСК",
          "СОЛНЕЧНОГОРСК",
          "СОЛНЕЧНОГОРСК",
          "СОЛНЕЧНОГОРСК",
          "СОЛНЕЧНОГОРСК",
          "СОЛНЕЧНОГОРСК",
          "СОЛНЕЧНОГОРСК",
          "СОЛНЕЧНОГОРСК",
          "СОЛНЕЧНОГОРСК",
          "СОЛНЕЧНОГОРСК",
          "СОЛНЕЧНОГОРСК",
          "СОЛНЕЧНОГОРСК",
          "СОЛНЕЧНОГОРСК",
          "СОЧИ",
          "СОЧИ",
          "СОЧИ",
          "СОЧИ",
          "СОЧИ",
          "СОЧИ",
          "СОЧИ",
          "СОЧИ",
          "СОЧИ",
          "СОЧИ",
          "СОЧИ",
          "СОЧИ",
          "СТАРЫЙ ОСКОЛ",
          "ТАМБОВ",
          "УЛЬЯНОВСК",
          "ХОРУГВИНО",
          "ХОРУГВИНО",
          "ХОРУГВИНО",
          "ХОРУГВИНО",
          "ХОРУГВИНО",
          "ХОРУГВИНО",
          "ХОРУГВИНО",
          "ХОРУГВИНО",
          "ХОРУГВИНО",
          "ХОРУГВИНО",
          "ХОРУГВИНО",
          "ХОРУГВИНО",
          "ХОРУГВИНО",
          "ХОРУГВИНО",
          "ХОРУГВИНО",
          "ХОРУГВИНО",
          "ХОРУГВИНО",
          "ХОРУГВИНО",
          "ХОРУГВИНО",
          "ХОРУГВИНО",
          "БЕЛГРАД",
          "БЕЛГРАД",
          "БЕЛГРАД",
          "БЕЛГРАД",
          "БЕЛГРАД",
          "БЕЛГРАД",
          "БЕЛГРАД",
          "БЕЛГРАД",
          "БЕЛГРАД",
          "БЕЛГРАД",
          "БЕЛГРАД",
          "БЕЛГРАД",
          "БЕЛГРАД",
          "БЕЛГРАД",
          "БЕЛГРАД",
          "БЕЛГРАД",
          "БЕЛГРАД",
          "БЕЛГРАД",
          "БЕЛГРАД",
          "БЕЛГРАД",
          "БЕЛГРАД",
          "БЕЛГРАД",
          "БЕЛГРАД",
          "БЕЛГРАД",
          "БЕЛГРАД",
          "БЕЛГРАД",
          "БЕЛГРАД",
          "БЕЛГРАД",
          "БЕЛГРАД",
          "БЕЛГРАД",
          "БЕЛГРАД",
          "БЕЛГРАД",
          "БЕЛГРАД",
          "БЕЛГРАД",
          "БЕЛГРАД",
          "БЕЛГРАД",
          "БЕЛГРАД",
          "БЕЛГРАД",
          "БЕЛГРАД",
          "БЕЛГРАД",
          "БЕЛГРАД",
          "БЕЛГРАД",
          "БЕЛГРАД",
          "БЕЛГРАД",
          "БЕЛГРАД",
          "БЕЛГРАД",
          "БЕЛГРАД",
          "БЕЛГРАД",
          "БЕЛГРАД",
          "БЕЛГРАД",
          "БЕЛГРАД",
          "БЕЛГРАД",
          "БЕЛГРАД",
          "БЕЛГРАД",
          "БЕЛГРАД",
          "БЕЛГРАД",
          "БЕЛГРАД",
          "БЕЛГРАД",
          "БЕЛГРАД",
          "БЕЛГРАД",
          "БЕЛГРАД",
          "БЕЛГРАД",
          "БЕЛГРАД",
          "БЕЛГРАД",
          "БЕЛГРАД",
          "БЕЛГРАД",
          "БЕЛГРАД",
          "БЕЛГРАД",
          "БЕЛГРАД",
          "БЕЛГРАД",
          "БЕЛГРАД",
          "БЕЛГРАД",
          "БЕЛГРАД",
          "БЕЛГРАД",
          "БЕЛГРАД",
          "БЕЛГРАД",
          "БЕЛГРАД",
          "БЕЛГРАД",
          "БЕЛГРАД",
          "БЕЛГРАД",
          "БЕЛГРАД",
          "БЕЛГРАД",
          "БЕЛГРАД",
          "БЕЛГРАД",
          "БЕЛГРАД",
          "БЕЛГРАД",
          "БЕЛГРАД",
          "БЕЛГРАД",
          "БЕЛГРАД",
          "БЕЛГРАД",
          "БЕЛГРАД",
          "АНКАРА",
          "АНКАРА",
          "АНКАРА",
          "АНКАРА",
          "ИСТАНБУЛ",
          "ИСТАНБУЛ",
          "ИСТАНБУЛ",
          "ИСТАНБУЛ",
          "ИСТАНБУЛ",
          "ИСТАНБУЛ",
          "ИСТАНБУЛ",
          "ИСТАНБУЛ",
          "ИСТАНБУЛ",
          "ИСТАНБУЛ",
          "ИСТАНБУЛ",
          "ИСТАНБУЛ",
          "ИСТАНБУЛ",
          "ИСТАНБУЛ",
          "ИСТАНБУЛ",
          "ИСТАНБУЛ",
          "ИСТАНБУЛ",
          "ИСТАНБУЛ",
          "ИСТАНБУЛ",
          "ИСТАНБУЛ",
          "ИСТАНБУЛ",
          "ИСТАНБУЛ",
          "ИСТАНБУЛ",
          "ИСТАНБУЛ",
          "ИСТАНБУЛ",
          "ИСТАНБУЛ",
          "ИСТАНБУЛ",
          "КАРС",
          "КАРС",
          "КАРС",
          "МЕРСИН",
          "ОРЕХОВО-ЗУЕВО",
          "ОРЕХОВО-ЗУЕВО",
          "ОРЕХОВО-ЗУЕВО",
          "ОРЕХОВО-ЗУЕВО",
          "ОРЕХОВО-ЗУЕВО",
          "ОРЕХОВО-ЗУЕВО",
          "ТЮМЕНЬ",
          "ТЮМЕНЬ",
          "ТЮМЕНЬ",
          "ТЮМЕНЬ",
          "ТЮМЕНЬ",
          "ТЮМЕНЬ",
          "ТЮМЕНЬ",
          "ВОРОНЕЖ",
          "ЕКАТЕРИНБУРГ",
          "ЕКАТЕРИНБУРГ",
          "ЕКАТЕРИНБУРГ",
          "ЕКАТЕРИНБУРГ",
          "ЕКАТЕРИНБУРГ",
          "ЕКАТЕРИНБУРГ",
          "НОВОСИБИРСК",
          "НОВОСИБИРСК",
          "НОВОСИБИРСК",
          "СУРГУТ",
          "СУРГУТ",
          "УРАЛЬСКИЙ",
          "УРАЛЬСКИЙ",
          "УРАЛЬСКИЙ",
          "УРАЛЬСКИЙ",
          "ХАБАРОВСК",
          "ХАБАРОВСК",
          "ХАБАРОВСК",
          "ХАБАРОВСК",
          "ХАБАРОВСК",
          "ХАБАРОВСК",
          "ХАБАРОВСК",
          "ХАБАРОВСК",
          "ХАБАРОВСК",
          "ХАБАРОВСК",
          "ХАБАРОВСК",
          "ХАБАРОВСК",
          "ХАБАРОВСК",
          "ХАБАРОВСК",
          "ХАБАРОВСК",
          "ХАБАРОВСК",
          "ХАБАРОВСК",
          "ХАБАРОВСК",
          "ХАБАРОВСК",
          "ХАБАРОВСК",
          "ХАБАРОВСК",
          "ХАБАРОВСК",
          "ХАБАРОВСК",
          "ХАБАРОВСК",
          "ХАБАРОВСК",
          "ХАБАРОВСК",
          "ХАБАРОВСК",
          "ХАБАРОВСК",
          "ХАБАРОВСК",
          "ХАБАРОВСК",
          "ХАБАРОВСК",
          "ХАБАРОВСК",
          "ХАБАРОВСК",
          "ХАБАРОВСК",
          "ХАБАРОВСК",
          "ХАБАРОВСК",
          "ХАБАРОВСК",
          "ХАБАРОВСК",
          "ХАБАРОВСК",
          "ХАБАРОВСК",
          "ХАБАРОВСК",
          "ХАБАРОВСК",
          "ХАБАРОВСК",
          "ХАБАРОВСК",
          "ХАБАРОВСК",
          "ХАБАРОВСК",
          "ХАБАРОВСК",
          "ХАБАРОВСК",
          "ХАБАРОВСК",
          "ХАБАРОВСК",
          "ХАБАРОВСК",
          "ХАБАРОВСК",
          "ЯНИНО",
          "ЯНИНО",
          "ЯНИНО",
          "ЯНИНО",
          "ЯНИНО",
          "ЯНИНО",
          "ЯНИНО",
          "СМОЛЕНСК",
          "ГРОЗНЫЙ",
          "ГРОЗНЫЙ",
          "КРАСНОДАР",
          "КРАСНОДАР",
          "ОМСК",
          "ОМСК",
          "ОМСК",
          "ПЕРМЬ",
          "СЫСЕРТЬ",
          "УФА",
          "УФА",
          "УФА",
          "УФА",
          "УФА",
          "УФА",
          "ТВЕРЬ",
          "ШАНХАЙ",
          "КАЛУГА",
          "МАЛОЯРОСЛАВЕЦ",
          "МАЛОЯРОСЛАВЕЦ",
          "МАЛОЯРОСЛАВЕЦ",
          "ПОКРОВ",
          "ПОКРОВ",
          "ПОКРОВ",
          "ПОКРОВ",
          "ПОКРОВ",
          "ПОКРОВ",
          "БАТАЙСК",
          "ВОЛОКОЛАМСК",
          "ВОЛОКОЛАМСК",
          "ВОЛОКОЛАМСК",
          "ВОЛОКОЛАМСК",
          "КАЛИНИНГРАД",
          "КИРОВ",
          "МУРМАНСК",
          "МУРМАНСК",
          "НИЖНИЙ НОВГОРОД",
          "ЧЕРЕПОВЕЦ",
          "ТАШКЕНТ"
         ],
         "lat": [
          55.1930197,
          55.1930197,
          55.1930197,
          55.1930197,
          55.1930197,
          55.1930197,
          52.4238936,
          52.4238936,
          52.4238936,
          52.4238936,
          52.4238936,
          52.4238936,
          52.4238936,
          52.4238936,
          52.4238936,
          52.4238936,
          52.4238936,
          52.4238936,
          52.4238936,
          53.9024716,
          53.9024716,
          54.2251938,
          55.505,
          55.505,
          55.505,
          55.505,
          55.505,
          55.505,
          55.505,
          55.505,
          55.505,
          55.505,
          55.505,
          55.505,
          55.505,
          55.505,
          55.505,
          55.505,
          55.505,
          55.505,
          55.505,
          55.505,
          55.505,
          55.505,
          55.505,
          55.505,
          55.505,
          55.505,
          55.505,
          55.505,
          55.505,
          55.505,
          55.505,
          55.505,
          55.505,
          55.505,
          55.505,
          55.505,
          55.505,
          55.505,
          55.505,
          55.505,
          55.505,
          55.505,
          55.505,
          55.505,
          56.2382157,
          56.2382157,
          56.9984452,
          56.9984452,
          56.9984452,
          56.9984452,
          56.9984452,
          56.9984452,
          55.7823547,
          56.374603,
          56.374603,
          56.374603,
          56.374603,
          56.374603,
          56.374603,
          56.374603,
          56.374603,
          56.374603,
          56.374603,
          56.374603,
          57.7679158,
          57.7679158,
          57.7679158,
          57.7679158,
          57.7679158,
          57.7679158,
          57.7679158,
          57.7679158,
          57.7679158,
          57.7679158,
          57.7679158,
          57.7679158,
          57.7679158,
          57.7679158,
          57.7679158,
          57.7679158,
          57.7679158,
          57.7679158,
          57.7679158,
          57.7679158,
          57.7679158,
          57.7679158,
          57.7679158,
          57.7679158,
          57.7679158,
          57.7679158,
          57.7679158,
          57.7679158,
          57.7679158,
          57.7679158,
          58.333271,
          58.333271,
          55.7504461,
          55.7504461,
          55.7504461,
          55.7504461,
          55.7504461,
          55.7504461,
          55.7504461,
          55.7504461,
          55.7504461,
          55.7504461,
          55.7504461,
          55.7504461,
          55.7504461,
          55.7504461,
          55.7504461,
          55.7504461,
          55.7504461,
          55.7504461,
          55.7504461,
          55.7504461,
          55.7504461,
          55.7504461,
          55.7504461,
          55.7504461,
          55.7504461,
          55.7504461,
          55.7504461,
          55.7504461,
          55.7504461,
          55.7504461,
          55.7504461,
          55.7504461,
          55.7504461,
          55.7504461,
          55.7504461,
          55.7504461,
          55.7504461,
          55.7504461,
          55.7504461,
          55.7504461,
          55.7504461,
          55.7504461,
          55.7504461,
          55.7504461,
          55.7504461,
          55.7504461,
          55.7504461,
          55.7504461,
          55.7504461,
          55.7504461,
          55.7504461,
          55.7504461,
          55.7504461,
          55.7504461,
          55.7504461,
          55.7504461,
          55.7504461,
          55.7504461,
          55.7504461,
          55.7504461,
          55.7504461,
          55.7504461,
          55.7504461,
          55.7504461,
          55.7504461,
          55.7504461,
          55.7504461,
          55.7504461,
          55.7504461,
          55.7504461,
          55.7504461,
          55.7504461,
          55.7504461,
          55.7504461,
          55.7504461,
          55.7504461,
          55.7504461,
          55.7504461,
          55.7504461,
          55.7504461,
          55.7504461,
          55.7504461,
          55.7504461,
          55.7504461,
          55.7504461,
          55.7504461,
          55.7504461,
          55.7504461,
          55.7504461,
          55.7504461,
          55.7504461,
          55.7504461,
          55.7504461,
          55.7504461,
          55.7504461,
          55.7504461,
          55.7504461,
          55.7504461,
          55.7504461,
          55.7504461,
          55.7504461,
          55.7504461,
          55.7504461,
          55.7504461,
          55.7504461,
          55.7504461,
          55.7504461,
          55.7504461,
          55.7504461,
          55.7504461,
          55.7504461,
          55.7504461,
          55.7504461,
          55.7504461,
          55.7504461,
          55.7504461,
          55.7504461,
          55.7504461,
          55.7504461,
          55.7504461,
          55.7504461,
          55.7504461,
          55.7504461,
          55.7504461,
          55.7504461,
          55.7504461,
          55.7504461,
          55.7504461,
          55.7504461,
          55.7504461,
          55.7504461,
          55.7504461,
          55.7504461,
          55.7504461,
          55.7504461,
          55.7504461,
          55.7504461,
          55.7504461,
          46.5688366,
          46.5688366,
          56.2938502,
          56.2938502,
          56.2938502,
          56.2938502,
          56.2938502,
          56.2938502,
          56.2938502,
          56.2938502,
          56.2938502,
          56.2938502,
          59.938732,
          59.938732,
          59.938732,
          59.938732,
          59.938732,
          59.938732,
          59.938732,
          59.938732,
          59.938732,
          59.938732,
          59.938732,
          59.938732,
          59.938732,
          59.938732,
          59.938732,
          59.938732,
          59.938732,
          59.938732,
          59.938732,
          59.938732,
          59.938732,
          59.938732,
          59.938732,
          59.938732,
          59.938732,
          59.938732,
          59.938732,
          59.938732,
          59.938732,
          59.938732,
          59.938732,
          59.938732,
          59.938732,
          59.938732,
          59.938732,
          59.938732,
          59.938732,
          59.938732,
          59.938732,
          59.938732,
          59.938732,
          59.938732,
          59.938732,
          59.938732,
          59.938732,
          59.938732,
          59.938732,
          59.938732,
          59.938732,
          59.938732,
          59.938732,
          59.938732,
          59.938732,
          59.938732,
          59.938732,
          59.938732,
          59.938732,
          59.938732,
          59.938732,
          59.938732,
          59.938732,
          59.938732,
          59.938732,
          59.938732,
          59.938732,
          59.938732,
          59.938732,
          59.938732,
          59.938732,
          59.938732,
          59.938732,
          59.938732,
          59.938732,
          59.938732,
          59.938732,
          59.938732,
          59.938732,
          59.938732,
          59.938732,
          59.938732,
          59.938732,
          59.938732,
          59.938732,
          59.938732,
          59.938732,
          59.938732,
          59.938732,
          59.938732,
          59.938732,
          59.938732,
          59.938732,
          59.938732,
          59.938732,
          59.938732,
          59.938732,
          59.938732,
          59.938732,
          59.938732,
          59.938732,
          59.938732,
          59.938732,
          59.938732,
          59.938732,
          59.938732,
          59.938732,
          59.938732,
          59.938732,
          59.938732,
          59.938732,
          59.938732,
          59.938732,
          59.938732,
          59.938732,
          59.938732,
          59.938732,
          59.938732,
          59.938732,
          59.938732,
          59.938732,
          59.938732,
          59.938732,
          59.938732,
          59.938732,
          59.938732,
          59.938732,
          59.938732,
          59.938732,
          59.938732,
          59.938732,
          59.938732,
          59.938732,
          59.938732,
          59.938732,
          59.938732,
          59.938732,
          59.938732,
          59.938732,
          59.938732,
          59.938732,
          59.938732,
          59.938732,
          59.938732,
          59.938732,
          59.938732,
          59.938732,
          59.938732,
          59.938732,
          59.938732,
          59.938732,
          59.938732,
          59.938732,
          59.938732,
          59.938732,
          59.938732,
          59.938732,
          56.1853501,
          56.1853501,
          56.1853501,
          56.1853501,
          56.1853501,
          56.1853501,
          56.1853501,
          56.1853501,
          56.1853501,
          56.1853501,
          56.1853501,
          56.1853501,
          56.1853501,
          56.1853501,
          56.1853501,
          56.1853501,
          56.1853501,
          56.1853501,
          56.1853501,
          56.1853501,
          56.1853501,
          56.1853501,
          56.1853501,
          56.1853501,
          56.1853501,
          43.5854823,
          43.5854823,
          43.5854823,
          43.5854823,
          43.5854823,
          43.5854823,
          43.5854823,
          43.5854823,
          43.5854823,
          43.5854823,
          43.5854823,
          43.5854823,
          51.298038,
          52.72879,
          54.3107593,
          56.1212833,
          56.1212833,
          56.1212833,
          56.1212833,
          56.1212833,
          56.1212833,
          56.1212833,
          56.1212833,
          56.1212833,
          56.1212833,
          56.1212833,
          56.1212833,
          56.1212833,
          56.1212833,
          56.1212833,
          56.1212833,
          56.1212833,
          56.1212833,
          56.1212833,
          56.1212833,
          44.8178131,
          44.8178131,
          44.8178131,
          44.8178131,
          44.8178131,
          44.8178131,
          44.8178131,
          44.8178131,
          44.8178131,
          44.8178131,
          44.8178131,
          44.8178131,
          44.8178131,
          44.8178131,
          44.8178131,
          44.8178131,
          44.8178131,
          44.8178131,
          44.8178131,
          44.8178131,
          44.8178131,
          44.8178131,
          44.8178131,
          44.8178131,
          44.8178131,
          44.8178131,
          44.8178131,
          44.8178131,
          44.8178131,
          44.8178131,
          44.8178131,
          44.8178131,
          44.8178131,
          44.8178131,
          44.8178131,
          44.8178131,
          44.8178131,
          44.8178131,
          44.8178131,
          44.8178131,
          44.8178131,
          44.8178131,
          44.8178131,
          44.8178131,
          44.8178131,
          44.8178131,
          44.8178131,
          44.8178131,
          44.8178131,
          44.8178131,
          44.8178131,
          44.8178131,
          44.8178131,
          44.8178131,
          44.8178131,
          44.8178131,
          44.8178131,
          44.8178131,
          44.8178131,
          44.8178131,
          44.8178131,
          44.8178131,
          44.8178131,
          44.8178131,
          44.8178131,
          44.8178131,
          44.8178131,
          44.8178131,
          44.8178131,
          44.8178131,
          44.8178131,
          44.8178131,
          44.8178131,
          44.8178131,
          44.8178131,
          44.8178131,
          44.8178131,
          44.8178131,
          44.8178131,
          44.8178131,
          44.8178131,
          44.8178131,
          44.8178131,
          44.8178131,
          44.8178131,
          44.8178131,
          44.8178131,
          44.8178131,
          44.8178131,
          44.8178131,
          44.8178131,
          39.9207886,
          39.9207886,
          39.9207886,
          39.9207886,
          41.0091982,
          41.0091982,
          41.0091982,
          41.0091982,
          41.0091982,
          41.0091982,
          41.0091982,
          41.0091982,
          41.0091982,
          41.0091982,
          41.0091982,
          41.0091982,
          41.0091982,
          41.0091982,
          41.0091982,
          41.0091982,
          41.0091982,
          41.0091982,
          41.0091982,
          41.0091982,
          41.0091982,
          41.0091982,
          41.0091982,
          41.0091982,
          41.0091982,
          41.0091982,
          41.0091982,
          40.4558435,
          40.4558435,
          40.4558435,
          36.7978381,
          55.8083278,
          55.8083278,
          55.8083278,
          55.8083278,
          55.8083278,
          55.8083278,
          57.153534,
          57.153534,
          57.153534,
          57.153534,
          57.153534,
          57.153534,
          57.153534,
          51.6605982,
          56.839104,
          56.839104,
          56.839104,
          56.839104,
          56.839104,
          56.839104,
          55.0282171,
          55.0282171,
          55.0282171,
          61.254032,
          61.254032,
          57.9333616,
          57.9333616,
          57.9333616,
          57.9333616,
          48.481403,
          48.481403,
          48.481403,
          48.481403,
          48.481403,
          48.481403,
          48.481403,
          48.481403,
          48.481403,
          48.481403,
          48.481403,
          48.481403,
          48.481403,
          48.481403,
          48.481403,
          48.481403,
          48.481403,
          48.481403,
          48.481403,
          48.481403,
          48.481403,
          48.481403,
          48.481403,
          48.481403,
          48.481403,
          48.481403,
          48.481403,
          48.481403,
          48.481403,
          48.481403,
          48.481403,
          48.481403,
          48.481403,
          48.481403,
          48.481403,
          48.481403,
          48.481403,
          48.481403,
          48.481403,
          48.481403,
          48.481403,
          48.481403,
          48.481403,
          48.481403,
          48.481403,
          48.481403,
          48.481403,
          48.481403,
          48.481403,
          48.481403,
          48.481403,
          48.481403,
          41.389588,
          41.389588,
          41.389588,
          41.389588,
          41.389588,
          41.389588,
          41.389588,
          54.7814057,
          43.3197031,
          43.3197031,
          45.7684014,
          45.7684014,
          54.991375,
          54.991375,
          54.991375,
          58.5951603,
          56.5030175,
          54.7261409,
          54.7261409,
          54.7261409,
          54.7261409,
          54.7261409,
          54.7261409,
          56.858675,
          31.2322758,
          54.5101087,
          55.012181,
          55.012181,
          55.012181,
          55.919601,
          55.919601,
          55.919601,
          55.919601,
          55.919601,
          55.919601,
          47.138527,
          56.0360129,
          56.0360129,
          56.0360129,
          56.0360129,
          54.710128,
          58.6035661,
          68.970665,
          68.970665,
          56.3264816,
          59.128696,
          41.3123363
         ],
         "legendgroup": "",
         "lon": [
          30.2070437,
          30.2070437,
          30.2070437,
          30.2070437,
          30.2070437,
          30.2070437,
          31.0131698,
          31.0131698,
          31.0131698,
          31.0131698,
          31.0131698,
          31.0131698,
          31.0131698,
          31.0131698,
          31.0131698,
          31.0131698,
          31.0131698,
          31.0131698,
          31.0131698,
          27.5618225,
          27.5618225,
          26.7225456,
          37.778056,
          37.778056,
          37.778056,
          37.778056,
          37.778056,
          37.778056,
          37.778056,
          37.778056,
          37.778056,
          37.778056,
          37.778056,
          37.778056,
          37.778056,
          37.778056,
          37.778056,
          37.778056,
          37.778056,
          37.778056,
          37.778056,
          37.778056,
          37.778056,
          37.778056,
          37.778056,
          37.778056,
          37.778056,
          37.778056,
          37.778056,
          37.778056,
          37.778056,
          37.778056,
          37.778056,
          37.778056,
          37.778056,
          37.778056,
          37.778056,
          37.778056,
          37.778056,
          37.778056,
          37.778056,
          37.778056,
          37.778056,
          37.778056,
          37.778056,
          37.778056,
          43.4617405,
          43.4617405,
          40.9737394,
          40.9737394,
          40.9737394,
          40.9737394,
          40.9737394,
          40.9737394,
          49.1242266,
          41.311676,
          41.311676,
          41.311676,
          41.311676,
          41.311676,
          41.311676,
          41.311676,
          41.311676,
          41.311676,
          41.311676,
          41.311676,
          40.9269141,
          40.9269141,
          40.9269141,
          40.9269141,
          40.9269141,
          40.9269141,
          40.9269141,
          40.9269141,
          40.9269141,
          40.9269141,
          40.9269141,
          40.9269141,
          40.9269141,
          40.9269141,
          40.9269141,
          40.9269141,
          40.9269141,
          40.9269141,
          40.9269141,
          40.9269141,
          40.9269141,
          40.9269141,
          40.9269141,
          40.9269141,
          40.9269141,
          40.9269141,
          40.9269141,
          40.9269141,
          40.9269141,
          40.9269141,
          44.761791,
          44.761791,
          37.6174943,
          37.6174943,
          37.6174943,
          37.6174943,
          37.6174943,
          37.6174943,
          37.6174943,
          37.6174943,
          37.6174943,
          37.6174943,
          37.6174943,
          37.6174943,
          37.6174943,
          37.6174943,
          37.6174943,
          37.6174943,
          37.6174943,
          37.6174943,
          37.6174943,
          37.6174943,
          37.6174943,
          37.6174943,
          37.6174943,
          37.6174943,
          37.6174943,
          37.6174943,
          37.6174943,
          37.6174943,
          37.6174943,
          37.6174943,
          37.6174943,
          37.6174943,
          37.6174943,
          37.6174943,
          37.6174943,
          37.6174943,
          37.6174943,
          37.6174943,
          37.6174943,
          37.6174943,
          37.6174943,
          37.6174943,
          37.6174943,
          37.6174943,
          37.6174943,
          37.6174943,
          37.6174943,
          37.6174943,
          37.6174943,
          37.6174943,
          37.6174943,
          37.6174943,
          37.6174943,
          37.6174943,
          37.6174943,
          37.6174943,
          37.6174943,
          37.6174943,
          37.6174943,
          37.6174943,
          37.6174943,
          37.6174943,
          37.6174943,
          37.6174943,
          37.6174943,
          37.6174943,
          37.6174943,
          37.6174943,
          37.6174943,
          37.6174943,
          37.6174943,
          37.6174943,
          37.6174943,
          37.6174943,
          37.6174943,
          37.6174943,
          37.6174943,
          37.6174943,
          37.6174943,
          37.6174943,
          37.6174943,
          37.6174943,
          37.6174943,
          37.6174943,
          37.6174943,
          37.6174943,
          37.6174943,
          37.6174943,
          37.6174943,
          37.6174943,
          37.6174943,
          37.6174943,
          37.6174943,
          37.6174943,
          37.6174943,
          37.6174943,
          37.6174943,
          37.6174943,
          37.6174943,
          37.6174943,
          37.6174943,
          37.6174943,
          37.6174943,
          37.6174943,
          37.6174943,
          37.6174943,
          37.6174943,
          37.6174943,
          37.6174943,
          37.6174943,
          37.6174943,
          37.6174943,
          37.6174943,
          37.6174943,
          37.6174943,
          37.6174943,
          37.6174943,
          37.6174943,
          37.6174943,
          37.6174943,
          37.6174943,
          37.6174943,
          37.6174943,
          37.6174943,
          37.6174943,
          37.6174943,
          37.6174943,
          37.6174943,
          37.6174943,
          37.6174943,
          37.6174943,
          37.6174943,
          37.6174943,
          37.6174943,
          37.6174943,
          37.6174943,
          37.6174943,
          37.6174943,
          38.1914958,
          38.1914958,
          34.2492053,
          34.2492053,
          34.2492053,
          34.2492053,
          34.2492053,
          34.2492053,
          34.2492053,
          34.2492053,
          34.2492053,
          34.2492053,
          30.316229,
          30.316229,
          30.316229,
          30.316229,
          30.316229,
          30.316229,
          30.316229,
          30.316229,
          30.316229,
          30.316229,
          30.316229,
          30.316229,
          30.316229,
          30.316229,
          30.316229,
          30.316229,
          30.316229,
          30.316229,
          30.316229,
          30.316229,
          30.316229,
          30.316229,
          30.316229,
          30.316229,
          30.316229,
          30.316229,
          30.316229,
          30.316229,
          30.316229,
          30.316229,
          30.316229,
          30.316229,
          30.316229,
          30.316229,
          30.316229,
          30.316229,
          30.316229,
          30.316229,
          30.316229,
          30.316229,
          30.316229,
          30.316229,
          30.316229,
          30.316229,
          30.316229,
          30.316229,
          30.316229,
          30.316229,
          30.316229,
          30.316229,
          30.316229,
          30.316229,
          30.316229,
          30.316229,
          30.316229,
          30.316229,
          30.316229,
          30.316229,
          30.316229,
          30.316229,
          30.316229,
          30.316229,
          30.316229,
          30.316229,
          30.316229,
          30.316229,
          30.316229,
          30.316229,
          30.316229,
          30.316229,
          30.316229,
          30.316229,
          30.316229,
          30.316229,
          30.316229,
          30.316229,
          30.316229,
          30.316229,
          30.316229,
          30.316229,
          30.316229,
          30.316229,
          30.316229,
          30.316229,
          30.316229,
          30.316229,
          30.316229,
          30.316229,
          30.316229,
          30.316229,
          30.316229,
          30.316229,
          30.316229,
          30.316229,
          30.316229,
          30.316229,
          30.316229,
          30.316229,
          30.316229,
          30.316229,
          30.316229,
          30.316229,
          30.316229,
          30.316229,
          30.316229,
          30.316229,
          30.316229,
          30.316229,
          30.316229,
          30.316229,
          30.316229,
          30.316229,
          30.316229,
          30.316229,
          30.316229,
          30.316229,
          30.316229,
          30.316229,
          30.316229,
          30.316229,
          30.316229,
          30.316229,
          30.316229,
          30.316229,
          30.316229,
          30.316229,
          30.316229,
          30.316229,
          30.316229,
          30.316229,
          30.316229,
          30.316229,
          30.316229,
          30.316229,
          30.316229,
          30.316229,
          30.316229,
          30.316229,
          30.316229,
          30.316229,
          30.316229,
          30.316229,
          30.316229,
          30.316229,
          30.316229,
          30.316229,
          30.316229,
          30.316229,
          30.316229,
          30.316229,
          30.316229,
          30.316229,
          30.316229,
          30.316229,
          30.316229,
          36.9781536,
          36.9781536,
          36.9781536,
          36.9781536,
          36.9781536,
          36.9781536,
          36.9781536,
          36.9781536,
          36.9781536,
          36.9781536,
          36.9781536,
          36.9781536,
          36.9781536,
          36.9781536,
          36.9781536,
          36.9781536,
          36.9781536,
          36.9781536,
          36.9781536,
          36.9781536,
          36.9781536,
          36.9781536,
          36.9781536,
          36.9781536,
          36.9781536,
          39.723109,
          39.723109,
          39.723109,
          39.723109,
          39.723109,
          39.723109,
          39.723109,
          39.723109,
          39.723109,
          39.723109,
          39.723109,
          39.723109,
          37.833202,
          41.45536,
          48.3642771,
          37.2169062,
          37.2169062,
          37.2169062,
          37.2169062,
          37.2169062,
          37.2169062,
          37.2169062,
          37.2169062,
          37.2169062,
          37.2169062,
          37.2169062,
          37.2169062,
          37.2169062,
          37.2169062,
          37.2169062,
          37.2169062,
          37.2169062,
          37.2169062,
          37.2169062,
          37.2169062,
          20.4568974,
          20.4568974,
          20.4568974,
          20.4568974,
          20.4568974,
          20.4568974,
          20.4568974,
          20.4568974,
          20.4568974,
          20.4568974,
          20.4568974,
          20.4568974,
          20.4568974,
          20.4568974,
          20.4568974,
          20.4568974,
          20.4568974,
          20.4568974,
          20.4568974,
          20.4568974,
          20.4568974,
          20.4568974,
          20.4568974,
          20.4568974,
          20.4568974,
          20.4568974,
          20.4568974,
          20.4568974,
          20.4568974,
          20.4568974,
          20.4568974,
          20.4568974,
          20.4568974,
          20.4568974,
          20.4568974,
          20.4568974,
          20.4568974,
          20.4568974,
          20.4568974,
          20.4568974,
          20.4568974,
          20.4568974,
          20.4568974,
          20.4568974,
          20.4568974,
          20.4568974,
          20.4568974,
          20.4568974,
          20.4568974,
          20.4568974,
          20.4568974,
          20.4568974,
          20.4568974,
          20.4568974,
          20.4568974,
          20.4568974,
          20.4568974,
          20.4568974,
          20.4568974,
          20.4568974,
          20.4568974,
          20.4568974,
          20.4568974,
          20.4568974,
          20.4568974,
          20.4568974,
          20.4568974,
          20.4568974,
          20.4568974,
          20.4568974,
          20.4568974,
          20.4568974,
          20.4568974,
          20.4568974,
          20.4568974,
          20.4568974,
          20.4568974,
          20.4568974,
          20.4568974,
          20.4568974,
          20.4568974,
          20.4568974,
          20.4568974,
          20.4568974,
          20.4568974,
          20.4568974,
          20.4568974,
          20.4568974,
          20.4568974,
          20.4568974,
          20.4568974,
          32.8540482,
          32.8540482,
          32.8540482,
          32.8540482,
          28.9662187,
          28.9662187,
          28.9662187,
          28.9662187,
          28.9662187,
          28.9662187,
          28.9662187,
          28.9662187,
          28.9662187,
          28.9662187,
          28.9662187,
          28.9662187,
          28.9662187,
          28.9662187,
          28.9662187,
          28.9662187,
          28.9662187,
          28.9662187,
          28.9662187,
          28.9662187,
          28.9662187,
          28.9662187,
          28.9662187,
          28.9662187,
          28.9662187,
          28.9662187,
          28.9662187,
          42.9979531,
          42.9979531,
          42.9979531,
          34.6298391,
          38.9790038,
          38.9790038,
          38.9790038,
          38.9790038,
          38.9790038,
          38.9790038,
          65.542274,
          65.542274,
          65.542274,
          65.542274,
          65.542274,
          65.542274,
          65.542274,
          39.2005858,
          60.60825,
          60.60825,
          60.60825,
          60.60825,
          60.60825,
          60.60825,
          82.9234509,
          82.9234509,
          82.9234509,
          73.3964,
          73.3964,
          55.5175276,
          55.5175276,
          55.5175276,
          55.5175276,
          135.076935,
          135.076935,
          135.076935,
          135.076935,
          135.076935,
          135.076935,
          135.076935,
          135.076935,
          135.076935,
          135.076935,
          135.076935,
          135.076935,
          135.076935,
          135.076935,
          135.076935,
          135.076935,
          135.076935,
          135.076935,
          135.076935,
          135.076935,
          135.076935,
          135.076935,
          135.076935,
          135.076935,
          135.076935,
          135.076935,
          135.076935,
          135.076935,
          135.076935,
          135.076935,
          135.076935,
          135.076935,
          135.076935,
          135.076935,
          135.076935,
          135.076935,
          135.076935,
          135.076935,
          135.076935,
          135.076935,
          135.076935,
          135.076935,
          135.076935,
          135.076935,
          135.076935,
          135.076935,
          135.076935,
          135.076935,
          135.076935,
          135.076935,
          135.076935,
          135.076935,
          25.2892621,
          25.2892621,
          25.2892621,
          25.2892621,
          25.2892621,
          25.2892621,
          25.2892621,
          32.0461261,
          45.6934308,
          45.6934308,
          39.0261044,
          39.0261044,
          73.371529,
          73.371529,
          73.371529,
          56.3159546,
          60.8093215,
          55.947499,
          55.947499,
          55.947499,
          55.947499,
          55.947499,
          55.947499,
          35.9208284,
          121.4692071,
          36.2598115,
          36.4590246,
          36.4590246,
          36.4590246,
          39.1772776,
          39.1772776,
          39.1772776,
          39.1772776,
          39.1772776,
          39.1772776,
          39.742348,
          35.9583358,
          35.9583358,
          35.9583358,
          35.9583358,
          20.5105838,
          49.6666241,
          33.07497,
          33.07497,
          44.0051395,
          37.916389,
          69.2787079
         ],
         "marker": {
          "color": [
           86.33016656685757,
           87.45966476763579,
           55.29503915296377,
           43.23283437685047,
           43.6172649332354,
           52.22096331199277,
           61.84539589212353,
           61.95184081061282,
           62.39533115071453,
           70.35760041449151,
           72.4748180681727,
           74.85759282568706,
           75.18212459810356,
           80.0989153408753,
           90.11127975848471,
           55.668468802473996,
           77.01944532224152,
           87.46966864154757,
           87.84887782428241,
           73.98138519438072,
           58.30865301846489,
           65.81669715447052,
           69.44901959053253,
           75.7625668260355,
           78.91934044378696,
           82.07611406153845,
           88.38966129704141,
           94.70320853254437,
           97.85998215029585,
           101.01675576804732,
           107.33030300355028,
           110.48707662130175,
           113.64385023905324,
           37.42176410265318,
           39.462951235525175,
           42.86492979031183,
           44.22572121222649,
           49.66888689988513,
           51.02967832179979,
           35.10067958935406,
           39.1957588747787,
           40.36578152775717,
           43.87584948669257,
           46.800906119138745,
           53.821042037009555,
           49.45923330967792,
           53.95552724692137,
           55.754044821818745,
           64.74663269630564,
           67.44440905865171,
           79.64146575478708,
           94.8112687556989,
           98.60371950592686,
           113.77352250683869,
           117.56597325706664,
           123.25464938240857,
           65.65515139291317,
           68.2813574486297,
           69.59446047648797,
           72.22066653220449,
           78.78618167149581,
           80.09928469935407,
           82.7254907550706,
           54.66170627076535,
           55.44258778891914,
           56.22346930707293,
           122.22490632124621,
           130.9552567727638,
           175.2186321568976,
           256.9873271634498,
           56.05177431762266,
           129.76113616221957,
           140.8835192618384,
           166.83574649428232,
           45.820747624877924,
           172.34263456269966,
           178.7256951020589,
           191.4918161807774,
           63.04564950772157,
           129.84183746662927,
           153.14678265294734,
           171.12488322524985,
           173.1224499555057,
           183.11028360678486,
           199.7566730255835,
           209.74450667686267,
           null,
           null,
           45.18987232614571,
           47.654774453026384,
           61.62255317201688,
           42.301011254826896,
           37.12958511345748,
           40.61048371784412,
           46.41198139182185,
           48.61655050793339,
           48.732580461412944,
           52.21347906579958,
           106.74418017462597,
           111.013947381611,
           87.67610149566582,
           89.92420666222135,
           92.17231182877688,
           98.91662732844348,
           101.16473249499901,
           103.41283766155455,
           104.13223131485232,
           112.40525832777669,
           114.65336349433223,
           117.35108969419886,
           128.14199449366544,
           130.39009966022095,
           134.88630999333202,
           55.039455217604825,
           62.902234534405515,
           64.47479039776564,
           102.47441296764093,
           48.72074981981478,
           36.469916281014925,
           39.785363215652644,
           53.047150954203524,
           56.36259788884124,
           59.67804482347896,
           66.30893869275441,
           69.62438562739213,
           72.93983256202985,
           76.25527949666757,
           79.57072643130529,
           89.51706723521845,
           99.46340803913161,
           109.40974884304477,
           112.72519577768249,
           116.0406427123202,
           119.35608964695793,
           129.3024304508711,
           132.61787738550882,
           139.24877125478426,
           149.19511205869742,
           159.14145286261058,
           165.77234673188602,
           185.66502833971234,
           192.29592220898778,
           29.935965939598443,
           30.616328801862046,
           32.657417388652846,
           35.37886883770725,
           36.05923169997085,
           37.41995742449806,
           38.10032028676166,
           38.78068314902526,
           39.46104601128886,
           40.14140887355246,
           40.82177173581606,
           44.22358604713406,
           46.26467463392487,
           51.027214669770075,
           52.387940394297274,
           53.74866611882448,
           56.47011756787888,
           61.23265760372409,
           29.107103099929606,
           31.561919024020057,
           32.14639900594635,
           35.06879891557784,
           35.945518888467284,
           36.23775887943044,
           37.991198825209324,
           39.74463877098822,
           46.758398554103785,
           52.60319837336676,
           27.881951422812513,
           28.01686409098741,
           28.781369210645174,
           30.580204786310496,
           31.479622574143157,
           32.37904036197582,
           33.27845814980848,
           34.17787593764114,
           35.97671151330647,
           36.87612930113913,
           38.67496487680445,
           42.272636028135096,
           44.07147160380042,
           49.46797833079639,
           61.16040957262099,
           64.75808072395164,
           71.95342302661294,
           30.858701109428946,
           36.64470756744687,
           38.57337638678619,
           42.4307140254648,
           44.35938284480411,
           46.28805166414342,
           48.21672048348273,
           50.14538930282204,
           52.07405812216135,
           54.002726941500654,
           57.86006458017928,
           61.71740221885789,
           63.646071038197206,
           67.50340867687582,
           69.43207749621513,
           73.28941513489374,
           75.21808395423305,
           77.14675277357237,
           81.00409041225099,
           83.25098958678129,
           94.50477214762616,
           96.43344096696546,
           106.076785063662,
           111.86279152167994,
           115.72012916035855,
           123.43480443771578,
           131.14947971507303,
           142.72149263110887,
           150.4361679084661,
           154.29350554714475,
           164.90118405351095,
           175.50886255987714,
           54.95044064401754,
           56.29069529387163,
           58.9712045935798,
           60.31145924343389,
           61.651713893287976,
           62.08059538124128,
           62.99196854314206,
           64.33222319299614,
           65.67247784285023,
           66.34260516777728,
           67.01273249270432,
           68.3529871425584,
           69.9612927223833,
           71.03349644226658,
           72.37375109212067,
           73.71400574197474,
           75.05426039182883,
           77.73476969153701,
           80.41527899124519,
           84.43604294080744,
           24.47802458820232,
           29.373629505842782,
           42.42857595288402,
           44.06044425876417,
           55.483522399925256,
           57.11539070580541,
           58.747259011685564,
           63.642863929326026,
           65.27473223520619,
           66.09066638814626,
           66.90660054108633,
           68.5384688469665,
           71.8022054587268,
           73.43407376460695,
           75.88187622342718,
           89.7527568234085,
           94.64836174104896,
           30.979091480553414,
           27.53108617416023,
           123.67503501384462,
           126.19901532024961,
           128.49354287152687,
           133.0825979740814,
           137.67165307663595,
           149.14429083302227,
           158.32240103813135,
           29.721628474871547,
           34.574139246279145,
           55.23003239503264,
           57.98378743964122,
           61.03556572593812,
           62.561454869086575,
           64.08734401223504,
           67.13912229853193,
           68.66501144168039,
           69.42795601325462,
           70.19090058482884,
           70.95384515640306,
           71.7167897279773,
           73.24267887112575,
           74.76856801427421,
           76.29445715742266,
           77.8203463005711,
           79.34623544371956,
           80.87212458686801,
           82.39801373001647,
           83.92390287316492,
           86.97568115946183,
           88.50157030261028,
           90.02745944575874,
           91.55334858890718,
           93.07923773205565,
           94.60512687520409,
           96.13101601835254,
           97.656905161501,
           100.70868344779791,
           101.01386127642759,
           103.7604617340948,
           105.28635087724327,
           106.81224002039171,
           109.86401830668862,
           111.38990744983708,
           114.44168573613398,
           128.17468802447007,
           41.927662947744516,
           42.01151827364001,
           43.04573395968437,
           43.12958928557986,
           44.163804971624224,
           45.28187598356408,
           45.84091148953401,
           49.19512452535356,
           50.31319553729342,
           55.344515091022764,
           55.90355059699269,
           59.81679913878218,
           61.49390565669196,
           36.23642302176776,
           40.15387415925617,
           41.62291833581432,
           44.071325296744575,
           44.658942967367835,
           45.54036947330273,
           51.41654617953534,
           58.7617670623261,
           43.33206950814659,
           44.01988013526003,
           44.70769076237347,
           46.083312016600345,
           46.77112264371378,
           48.834554525054095,
           50.89798640639441,
           52.96141828773472,
           54.337039541961595,
           55.02485016907504,
           57.08828205041535,
           58.46390330464222,
           77.03479023670505,
           66.56228200601677,
           67.75089418469565,
           70.12811854205339,
           72.50534289941113,
           74.88256725676888,
           76.07117943544775,
           76.66548552478719,
           77.25979161412661,
           78.4484037928055,
           79.04270988214492,
           79.63701597148436,
           80.82562815016323,
           82.0142403288421,
           83.20285250752097,
           84.39146468619984,
           85.58007686487872,
           86.76868904355759,
           87.95730122223645,
           89.14591340091533,
           90.3345255795942,
           92.71174993695195,
           95.08897429430968,
           98.65481083034629,
           101.03203518770404,
           104.59787172374065,
           106.9750960810984,
           110.54093261713501,
           111.72954479581388,
           112.91815697449275,
           117.67260568920823,
           118.26691177854767,
           60.51900498557505,
           62.80274102276656,
           63.94460904136232,
           64.17298264508148,
           65.08647705995807,
           66.22834507855383,
           67.37021309714959,
           68.51208111574535,
           69.6539491343411,
           74.22142120872412,
           76.50515724591563,
           77.64702526451138,
           78.78889328310714,
           79.9307613017029,
           82.21449733889442,
           84.49823337608592,
           89.06570545046894,
           91.34944148766046,
           68.83478043667075,
           321.2289753711302,
           367.11882899557736,
           458.8985362444717,
           481.8434630566953,
           504.7883898689189,
           509.3773752313636,
           518.5553459562531,
           550.678243493366,
           596.5680971178132,
           607.1227634514361,
           619.5130239300369,
           642.4579507422604,
           688.3478043667076,
           734.2376579911547,
           780.127511615602,
           807.6614237902702,
           826.0173652400491,
           871.9072188644963,
           894.8521456767198,
           917.7970724889434,
           963.6869261133907,
           1009.5767797378378,
           1101.356486986732,
           1147.2463406111792,
           1239.0260478600737,
           1606.144876855651,
           1652.0347304800982,
           1743.8144377289925,
           1982.4416765761177,
           2065.043413100123,
           2982.8404855890662,
           4634.875216069165,
           4772.544776942505,
           5736.231703055896,
           6699.918629169287,
           7801.275116156019,
           74.08551349730514,
           80.82056017887835,
           84.18808351966494,
           87.55560686045155,
           94.29065354202474,
           101.02570022359794,
           104.39322356438453,
           111.12827024595772,
           114.49579358674433,
           117.86331692753092,
           121.23084026831752,
           91.41488787735348,
           108.55517935435726,
           114.26860984669185,
           66.63152604170104,
           67.99135310377656,
           74.11057488311646,
           81.58962372453188,
           85.66910491075846,
           101.98702965566484,
           61.79838153641653,
           63.61598099336996,
           65.43358045032339,
           67.2511799072768,
           72.70397827813709,
           55.09006558694525,
           68.16797438350383,
           27.687202306611205,
           61.763758991671146,
           66.02332857730364,
           77.56987127481037,
           82.32595132756295,
           57.810096933502926,
           59.85647204619329,
           56.67142902014784,
           65.59193173628222,
           73.4629635446361,
           69.66821998912445,
           80.16797412526596,
           108.25746890157629,
           55.166958892990934,
           75.85456847786254,
           81.02647087408043,
           86.19837327029833,
           89.64630820111027,
           103.438047924358,
           113.78185271679381,
           117.22978764760573,
           120.67772257841767,
           45.94448542187226,
           34.235206254001945,
           49.01795134044246,
           39.68750196339446,
           58.84698566986075,
           68.42672752309389,
           82.11207302771267,
           54.84682990221059,
           58.38533505719192,
           60.15458763468258,
           61.923840212173246,
           75.72177199005121,
           76.91584872258105,
           76.99307296062727,
           77.76830636816071,
           77.874266363794,
           78.00040957122059,
           78.03057116783584,
           78.30656931061137,
           79.00287891979103,
           79.073966824428,
           79.49065272806763,
           79.74034625589225,
           79.83527030721496,
           80.01017322800479,
           80.10852874882114,
           81.63904874774514,
           81.89549074929475,
           81.9376089890695,
           82.07887902974616,
           82.23267803989381,
           84.21365368321032,
           84.35884789168355,
           85.07648237922913,
           86.30840033212428,
           88.90019247556089,
           91.19875447749573,
           124.85363182804421,
           137.33899501084863,
           70.79886251770097,
           71.32403828522081,
           71.54807910168081,
           71.63325096074064,
           71.74521183817241,
           72.50439887581446,
           72.62940495671913,
           72.68388821177713,
           73.87214825278261,
           74.7926395592639,
           75.87551445660732,
           87.85127980184377,
           71.7365207083873,
           72.82084028595342,
           76.26602385640246,
           76.70671549960969,
           74.24606448567404,
           75.14621007656665,
           77.25574824557576,
           77.9060409719139,
           79.22844165365922,
           79.81451932209958,
           80.16054096723168,
           80.25731153611177,
           81.25736580958106,
           83.7891943633683,
           88.48963577193514,
           106.08876716691763,
           106.24562627092934,
           85.26676822779962,
           85.39796978782832,
           85.49962875530987,
           86.95190746665516,
           88.06713394857064,
           88.34213575294116,
           88.6546064299043,
           89.44293178879367,
           90.34415677694236,
           92.86970221120647,
           94.28814554457769,
           138.67562305180599,
           146.17160267622793,
           96.94789509199896,
           97.12448506484412,
           97.25242475819132,
           97.36819543881239,
           97.42956942988202,
           101.70479419681953,
           102.06452928384475,
           102.30160270248912,
           102.97209697736531,
           104.76603640520227,
           104.94666533015014,
           129.99158001029804,
           91.61311259597095,
           91.84862188285004,
           94.0581826792299,
           94.86051831096906,
           100.69058179108309,
           100.86418415464827,
           109.74207312375215,
           139.4806807343612,
           162.7274608567547,
           125.40970092879613,
           78.85791966436983,
           79.84053667517969,
           80.5062060098944,
           52.21252216162849,
           53.08912380942172,
           53.783713802795546,
           57.97347231163375,
           58.01307941695922,
           63.223256909345075,
           63.44688082015391,
           64.01105663805126,
           64.3349556825347,
           65.35191424220531,
           65.88477727729196,
           73.09221000192704,
           83.71746446870348,
           102.09446886427254,
           122.51336263712706,
           130.68092014626887,
           73.38579680899038,
           76.68796770740549,
           72.2171535386071,
           73.95685636234619,
           74.08436665018019,
           74.07912869458603,
           72.28133711882498,
           72.50704558961046,
           72.76350673838033,
           73.41052689755205,
           74.02258611754148,
           74.27860063805689,
           129.94035742060865,
           91.84339306527727,
           123.12125930981932,
           46.85007624341847,
           54.05778028086747,
           93.73346883710772,
           95.96521809513409,
           30.060421731339034,
           54.108759116410255,
           138.1467024340866,
           146.0407997160344,
           null,
           null,
           null,
           null,
           89.0547856859859,
           51.65833569593163,
           142.13831840987308,
           102.75920068722743,
           107.04083404919524,
           109.18165073017914,
           112.392875751655,
           122.79724482123677,
           100.47474280291841,
           77.23362300351373,
           19.98634202089304,
           112.55099411231899,
           115.19925279731474,
           125.67946004583068,
           51.333724488838584,
           69.5489170493942,
           68.81124520854105,
           3.789857776221509,
           4.000405430456037,
           4.210953084690566,
           4.4215007389250935,
           4.653103158583074,
           5.053143701628678,
           6.10588197280132,
           6.948072589739433,
           7.369167898208489,
           8.000810860912074,
           8.232413280570055,
           8.63245382361566,
           10.94847802019547,
           14.738335796416978,
           15.159431104886036,
           16.293019675284736,
           17.896550609934902,
           18.317645918403958,
           18.654522165179205,
           1.5355365772285208,
           2.19362368175503,
           2.4129860499305327,
           2.8517107862815387,
           2.96139197036929,
           3.0710731544570415,
           3.5097978908080476,
           4.869844573496167,
           5.045334468036568,
           9.213219463371125,
           11.626205513301658,
           20.51038142440953,
           3.34459667817637,
           5.50874746993755,
           6.098970413145145,
           6.295711394214343,
           6.885934337421937,
           7.082675318491136,
           10.230531015598308,
           12.984904750567082,
           15.739278485535857,
           17.70668829622784,
           18.69039320157383,
           17.527888123082302,
           18.450408550612952,
           18.81941672162521,
           19.372928978143598,
           7.106527735793282,
           12.11339954964764,
           12.92095951962415,
           18.89690329745032,
           19.381439279436226,
           20.996559219389244,
           31.476823399190792,
           32.97571975153321,
           33.57527829247017,
           34.474616103875626,
           35.074174644812594,
           35.973512456218046,
           34.3865889303345,
           25.965904904043118,
           87.95212292893525,
           99.30078395202368,
           62.687834735250505,
           74.08562286893242,
           70.13140361416316,
           91.17082469841212,
           93.80075233394324,
           195.05642489601914,
           103.94538953814435,
           92.27960792369464,
           103.46501494474853,
           111.85407021053895,
           117.4467737210659,
           125.83582898685633,
           127.51364004001441,
           108.83990300262386,
           1385.0281494832243,
           81.48958562954134,
           70.10096804714806,
           75.94271538441039,
           70.5900048625667,
           86.18600303736997,
           93.6158308854191,
           126.3070734168353,
           60.111303786268536,
           63.11686897558196,
           70.63078194886553,
           65.38063773898935,
           62.891547796488176,
           64.79735227516963,
           66.70315675385109,
           68.60896123253255,
           206.4132422056642,
           68.81916703923936,
           117.93189982337537,
           141.3233510280118,
           30.81924704314628,
           85.73856819904839,
           69.8854552404634
          ],
          "coloraxis": "coloraxis",
          "size": [
           86.33016656685757,
           87.45966476763579,
           55.29503915296377,
           43.23283437685047,
           43.6172649332354,
           52.22096331199277,
           61.84539589212353,
           61.95184081061282,
           62.39533115071453,
           70.35760041449151,
           72.4748180681727,
           74.85759282568706,
           75.18212459810356,
           80.0989153408753,
           90.11127975848471,
           55.668468802473996,
           77.01944532224152,
           87.46966864154757,
           87.84887782428241,
           73.98138519438072,
           58.30865301846489,
           65.81669715447052,
           69.44901959053253,
           75.7625668260355,
           78.91934044378696,
           82.07611406153845,
           88.38966129704141,
           94.70320853254437,
           97.85998215029585,
           101.01675576804732,
           107.33030300355028,
           110.48707662130175,
           113.64385023905324,
           37.42176410265318,
           39.462951235525175,
           42.86492979031183,
           44.22572121222649,
           49.66888689988513,
           51.02967832179979,
           35.10067958935406,
           39.1957588747787,
           40.36578152775717,
           43.87584948669257,
           46.800906119138745,
           53.821042037009555,
           49.45923330967792,
           53.95552724692137,
           55.754044821818745,
           64.74663269630564,
           67.44440905865171,
           79.64146575478708,
           94.8112687556989,
           98.60371950592686,
           113.77352250683869,
           117.56597325706664,
           123.25464938240857,
           65.65515139291317,
           68.2813574486297,
           69.59446047648797,
           72.22066653220449,
           78.78618167149581,
           80.09928469935407,
           82.7254907550706,
           54.66170627076535,
           55.44258778891914,
           56.22346930707293,
           122.22490632124621,
           130.9552567727638,
           175.2186321568976,
           256.9873271634498,
           56.05177431762266,
           129.76113616221957,
           140.8835192618384,
           166.83574649428232,
           45.820747624877924,
           172.34263456269966,
           178.7256951020589,
           191.4918161807774,
           63.04564950772157,
           129.84183746662927,
           153.14678265294734,
           171.12488322524985,
           173.1224499555057,
           183.11028360678486,
           199.7566730255835,
           209.74450667686267,
           null,
           null,
           45.18987232614571,
           47.654774453026384,
           61.62255317201688,
           42.301011254826896,
           37.12958511345748,
           40.61048371784412,
           46.41198139182185,
           48.61655050793339,
           48.732580461412944,
           52.21347906579958,
           106.74418017462597,
           111.013947381611,
           87.67610149566582,
           89.92420666222135,
           92.17231182877688,
           98.91662732844348,
           101.16473249499901,
           103.41283766155455,
           104.13223131485232,
           112.40525832777669,
           114.65336349433223,
           117.35108969419886,
           128.14199449366544,
           130.39009966022095,
           134.88630999333202,
           55.039455217604825,
           62.902234534405515,
           64.47479039776564,
           102.47441296764093,
           48.72074981981478,
           36.469916281014925,
           39.785363215652644,
           53.047150954203524,
           56.36259788884124,
           59.67804482347896,
           66.30893869275441,
           69.62438562739213,
           72.93983256202985,
           76.25527949666757,
           79.57072643130529,
           89.51706723521845,
           99.46340803913161,
           109.40974884304477,
           112.72519577768249,
           116.0406427123202,
           119.35608964695793,
           129.3024304508711,
           132.61787738550882,
           139.24877125478426,
           149.19511205869742,
           159.14145286261058,
           165.77234673188602,
           185.66502833971234,
           192.29592220898778,
           29.935965939598443,
           30.616328801862046,
           32.657417388652846,
           35.37886883770725,
           36.05923169997085,
           37.41995742449806,
           38.10032028676166,
           38.78068314902526,
           39.46104601128886,
           40.14140887355246,
           40.82177173581606,
           44.22358604713406,
           46.26467463392487,
           51.027214669770075,
           52.387940394297274,
           53.74866611882448,
           56.47011756787888,
           61.23265760372409,
           29.107103099929606,
           31.561919024020057,
           32.14639900594635,
           35.06879891557784,
           35.945518888467284,
           36.23775887943044,
           37.991198825209324,
           39.74463877098822,
           46.758398554103785,
           52.60319837336676,
           27.881951422812513,
           28.01686409098741,
           28.781369210645174,
           30.580204786310496,
           31.479622574143157,
           32.37904036197582,
           33.27845814980848,
           34.17787593764114,
           35.97671151330647,
           36.87612930113913,
           38.67496487680445,
           42.272636028135096,
           44.07147160380042,
           49.46797833079639,
           61.16040957262099,
           64.75808072395164,
           71.95342302661294,
           30.858701109428946,
           36.64470756744687,
           38.57337638678619,
           42.4307140254648,
           44.35938284480411,
           46.28805166414342,
           48.21672048348273,
           50.14538930282204,
           52.07405812216135,
           54.002726941500654,
           57.86006458017928,
           61.71740221885789,
           63.646071038197206,
           67.50340867687582,
           69.43207749621513,
           73.28941513489374,
           75.21808395423305,
           77.14675277357237,
           81.00409041225099,
           83.25098958678129,
           94.50477214762616,
           96.43344096696546,
           106.076785063662,
           111.86279152167994,
           115.72012916035855,
           123.43480443771578,
           131.14947971507303,
           142.72149263110887,
           150.4361679084661,
           154.29350554714475,
           164.90118405351095,
           175.50886255987714,
           54.95044064401754,
           56.29069529387163,
           58.9712045935798,
           60.31145924343389,
           61.651713893287976,
           62.08059538124128,
           62.99196854314206,
           64.33222319299614,
           65.67247784285023,
           66.34260516777728,
           67.01273249270432,
           68.3529871425584,
           69.9612927223833,
           71.03349644226658,
           72.37375109212067,
           73.71400574197474,
           75.05426039182883,
           77.73476969153701,
           80.41527899124519,
           84.43604294080744,
           24.47802458820232,
           29.373629505842782,
           42.42857595288402,
           44.06044425876417,
           55.483522399925256,
           57.11539070580541,
           58.747259011685564,
           63.642863929326026,
           65.27473223520619,
           66.09066638814626,
           66.90660054108633,
           68.5384688469665,
           71.8022054587268,
           73.43407376460695,
           75.88187622342718,
           89.7527568234085,
           94.64836174104896,
           30.979091480553414,
           27.53108617416023,
           123.67503501384462,
           126.19901532024961,
           128.49354287152687,
           133.0825979740814,
           137.67165307663595,
           149.14429083302227,
           158.32240103813135,
           29.721628474871547,
           34.574139246279145,
           55.23003239503264,
           57.98378743964122,
           61.03556572593812,
           62.561454869086575,
           64.08734401223504,
           67.13912229853193,
           68.66501144168039,
           69.42795601325462,
           70.19090058482884,
           70.95384515640306,
           71.7167897279773,
           73.24267887112575,
           74.76856801427421,
           76.29445715742266,
           77.8203463005711,
           79.34623544371956,
           80.87212458686801,
           82.39801373001647,
           83.92390287316492,
           86.97568115946183,
           88.50157030261028,
           90.02745944575874,
           91.55334858890718,
           93.07923773205565,
           94.60512687520409,
           96.13101601835254,
           97.656905161501,
           100.70868344779791,
           101.01386127642759,
           103.7604617340948,
           105.28635087724327,
           106.81224002039171,
           109.86401830668862,
           111.38990744983708,
           114.44168573613398,
           128.17468802447007,
           41.927662947744516,
           42.01151827364001,
           43.04573395968437,
           43.12958928557986,
           44.163804971624224,
           45.28187598356408,
           45.84091148953401,
           49.19512452535356,
           50.31319553729342,
           55.344515091022764,
           55.90355059699269,
           59.81679913878218,
           61.49390565669196,
           36.23642302176776,
           40.15387415925617,
           41.62291833581432,
           44.071325296744575,
           44.658942967367835,
           45.54036947330273,
           51.41654617953534,
           58.7617670623261,
           43.33206950814659,
           44.01988013526003,
           44.70769076237347,
           46.083312016600345,
           46.77112264371378,
           48.834554525054095,
           50.89798640639441,
           52.96141828773472,
           54.337039541961595,
           55.02485016907504,
           57.08828205041535,
           58.46390330464222,
           77.03479023670505,
           66.56228200601677,
           67.75089418469565,
           70.12811854205339,
           72.50534289941113,
           74.88256725676888,
           76.07117943544775,
           76.66548552478719,
           77.25979161412661,
           78.4484037928055,
           79.04270988214492,
           79.63701597148436,
           80.82562815016323,
           82.0142403288421,
           83.20285250752097,
           84.39146468619984,
           85.58007686487872,
           86.76868904355759,
           87.95730122223645,
           89.14591340091533,
           90.3345255795942,
           92.71174993695195,
           95.08897429430968,
           98.65481083034629,
           101.03203518770404,
           104.59787172374065,
           106.9750960810984,
           110.54093261713501,
           111.72954479581388,
           112.91815697449275,
           117.67260568920823,
           118.26691177854767,
           60.51900498557505,
           62.80274102276656,
           63.94460904136232,
           64.17298264508148,
           65.08647705995807,
           66.22834507855383,
           67.37021309714959,
           68.51208111574535,
           69.6539491343411,
           74.22142120872412,
           76.50515724591563,
           77.64702526451138,
           78.78889328310714,
           79.9307613017029,
           82.21449733889442,
           84.49823337608592,
           89.06570545046894,
           91.34944148766046,
           68.83478043667075,
           321.2289753711302,
           367.11882899557736,
           458.8985362444717,
           481.8434630566953,
           504.7883898689189,
           509.3773752313636,
           518.5553459562531,
           550.678243493366,
           596.5680971178132,
           607.1227634514361,
           619.5130239300369,
           642.4579507422604,
           688.3478043667076,
           734.2376579911547,
           780.127511615602,
           807.6614237902702,
           826.0173652400491,
           871.9072188644963,
           894.8521456767198,
           917.7970724889434,
           963.6869261133907,
           1009.5767797378378,
           1101.356486986732,
           1147.2463406111792,
           1239.0260478600737,
           1606.144876855651,
           1652.0347304800982,
           1743.8144377289925,
           1982.4416765761177,
           2065.043413100123,
           2982.8404855890662,
           4634.875216069165,
           4772.544776942505,
           5736.231703055896,
           6699.918629169287,
           7801.275116156019,
           74.08551349730514,
           80.82056017887835,
           84.18808351966494,
           87.55560686045155,
           94.29065354202474,
           101.02570022359794,
           104.39322356438453,
           111.12827024595772,
           114.49579358674433,
           117.86331692753092,
           121.23084026831752,
           91.41488787735348,
           108.55517935435726,
           114.26860984669185,
           66.63152604170104,
           67.99135310377656,
           74.11057488311646,
           81.58962372453188,
           85.66910491075846,
           101.98702965566484,
           61.79838153641653,
           63.61598099336996,
           65.43358045032339,
           67.2511799072768,
           72.70397827813709,
           55.09006558694525,
           68.16797438350383,
           27.687202306611205,
           61.763758991671146,
           66.02332857730364,
           77.56987127481037,
           82.32595132756295,
           57.810096933502926,
           59.85647204619329,
           56.67142902014784,
           65.59193173628222,
           73.4629635446361,
           69.66821998912445,
           80.16797412526596,
           108.25746890157629,
           55.166958892990934,
           75.85456847786254,
           81.02647087408043,
           86.19837327029833,
           89.64630820111027,
           103.438047924358,
           113.78185271679381,
           117.22978764760573,
           120.67772257841767,
           45.94448542187226,
           34.235206254001945,
           49.01795134044246,
           39.68750196339446,
           58.84698566986075,
           68.42672752309389,
           82.11207302771267,
           54.84682990221059,
           58.38533505719192,
           60.15458763468258,
           61.923840212173246,
           75.72177199005121,
           76.91584872258105,
           76.99307296062727,
           77.76830636816071,
           77.874266363794,
           78.00040957122059,
           78.03057116783584,
           78.30656931061137,
           79.00287891979103,
           79.073966824428,
           79.49065272806763,
           79.74034625589225,
           79.83527030721496,
           80.01017322800479,
           80.10852874882114,
           81.63904874774514,
           81.89549074929475,
           81.9376089890695,
           82.07887902974616,
           82.23267803989381,
           84.21365368321032,
           84.35884789168355,
           85.07648237922913,
           86.30840033212428,
           88.90019247556089,
           91.19875447749573,
           124.85363182804421,
           137.33899501084863,
           70.79886251770097,
           71.32403828522081,
           71.54807910168081,
           71.63325096074064,
           71.74521183817241,
           72.50439887581446,
           72.62940495671913,
           72.68388821177713,
           73.87214825278261,
           74.7926395592639,
           75.87551445660732,
           87.85127980184377,
           71.7365207083873,
           72.82084028595342,
           76.26602385640246,
           76.70671549960969,
           74.24606448567404,
           75.14621007656665,
           77.25574824557576,
           77.9060409719139,
           79.22844165365922,
           79.81451932209958,
           80.16054096723168,
           80.25731153611177,
           81.25736580958106,
           83.7891943633683,
           88.48963577193514,
           106.08876716691763,
           106.24562627092934,
           85.26676822779962,
           85.39796978782832,
           85.49962875530987,
           86.95190746665516,
           88.06713394857064,
           88.34213575294116,
           88.6546064299043,
           89.44293178879367,
           90.34415677694236,
           92.86970221120647,
           94.28814554457769,
           138.67562305180599,
           146.17160267622793,
           96.94789509199896,
           97.12448506484412,
           97.25242475819132,
           97.36819543881239,
           97.42956942988202,
           101.70479419681953,
           102.06452928384475,
           102.30160270248912,
           102.97209697736531,
           104.76603640520227,
           104.94666533015014,
           129.99158001029804,
           91.61311259597095,
           91.84862188285004,
           94.0581826792299,
           94.86051831096906,
           100.69058179108309,
           100.86418415464827,
           109.74207312375215,
           139.4806807343612,
           162.7274608567547,
           125.40970092879613,
           78.85791966436983,
           79.84053667517969,
           80.5062060098944,
           52.21252216162849,
           53.08912380942172,
           53.783713802795546,
           57.97347231163375,
           58.01307941695922,
           63.223256909345075,
           63.44688082015391,
           64.01105663805126,
           64.3349556825347,
           65.35191424220531,
           65.88477727729196,
           73.09221000192704,
           83.71746446870348,
           102.09446886427254,
           122.51336263712706,
           130.68092014626887,
           73.38579680899038,
           76.68796770740549,
           72.2171535386071,
           73.95685636234619,
           74.08436665018019,
           74.07912869458603,
           72.28133711882498,
           72.50704558961046,
           72.76350673838033,
           73.41052689755205,
           74.02258611754148,
           74.27860063805689,
           129.94035742060865,
           91.84339306527727,
           123.12125930981932,
           46.85007624341847,
           54.05778028086747,
           93.73346883710772,
           95.96521809513409,
           30.060421731339034,
           54.108759116410255,
           138.1467024340866,
           146.0407997160344,
           null,
           null,
           null,
           null,
           89.0547856859859,
           51.65833569593163,
           142.13831840987308,
           102.75920068722743,
           107.04083404919524,
           109.18165073017914,
           112.392875751655,
           122.79724482123677,
           100.47474280291841,
           77.23362300351373,
           19.98634202089304,
           112.55099411231899,
           115.19925279731474,
           125.67946004583068,
           51.333724488838584,
           69.5489170493942,
           68.81124520854105,
           3.789857776221509,
           4.000405430456037,
           4.210953084690566,
           4.4215007389250935,
           4.653103158583074,
           5.053143701628678,
           6.10588197280132,
           6.948072589739433,
           7.369167898208489,
           8.000810860912074,
           8.232413280570055,
           8.63245382361566,
           10.94847802019547,
           14.738335796416978,
           15.159431104886036,
           16.293019675284736,
           17.896550609934902,
           18.317645918403958,
           18.654522165179205,
           1.5355365772285208,
           2.19362368175503,
           2.4129860499305327,
           2.8517107862815387,
           2.96139197036929,
           3.0710731544570415,
           3.5097978908080476,
           4.869844573496167,
           5.045334468036568,
           9.213219463371125,
           11.626205513301658,
           20.51038142440953,
           3.34459667817637,
           5.50874746993755,
           6.098970413145145,
           6.295711394214343,
           6.885934337421937,
           7.082675318491136,
           10.230531015598308,
           12.984904750567082,
           15.739278485535857,
           17.70668829622784,
           18.69039320157383,
           17.527888123082302,
           18.450408550612952,
           18.81941672162521,
           19.372928978143598,
           7.106527735793282,
           12.11339954964764,
           12.92095951962415,
           18.89690329745032,
           19.381439279436226,
           20.996559219389244,
           31.476823399190792,
           32.97571975153321,
           33.57527829247017,
           34.474616103875626,
           35.074174644812594,
           35.973512456218046,
           34.3865889303345,
           25.965904904043118,
           87.95212292893525,
           99.30078395202368,
           62.687834735250505,
           74.08562286893242,
           70.13140361416316,
           91.17082469841212,
           93.80075233394324,
           195.05642489601914,
           103.94538953814435,
           92.27960792369464,
           103.46501494474853,
           111.85407021053895,
           117.4467737210659,
           125.83582898685633,
           127.51364004001441,
           108.83990300262386,
           1385.0281494832243,
           81.48958562954134,
           70.10096804714806,
           75.94271538441039,
           70.5900048625667,
           86.18600303736997,
           93.6158308854191,
           126.3070734168353,
           60.111303786268536,
           63.11686897558196,
           70.63078194886553,
           65.38063773898935,
           62.891547796488176,
           64.79735227516963,
           66.70315675385109,
           68.60896123253255,
           206.4132422056642,
           68.81916703923936,
           117.93189982337537,
           141.3233510280118,
           30.81924704314628,
           85.73856819904839,
           69.8854552404634
          ],
          "sizemode": "area",
          "sizeref": null
         },
         "mode": "markers",
         "name": "",
         "showlegend": false,
         "subplot": "mapbox",
         "type": "scattermapbox"
        }
       ],
       "layout": {
        "coloraxis": {
         "colorbar": {
          "title": {
           "text": "стоимость за километр"
          }
         },
         "colorscale": [
          [
           0,
           "blue"
          ],
          [
           1,
           "red"
          ]
         ]
        },
        "height": 700,
        "legend": {
         "itemsizing": "constant",
         "tracegroupgap": 0
        },
        "mapbox": {
         "center": {
          "lat": 53.69148993744911,
          "lon": 41.79220962374491
         },
         "domain": {
          "x": [
           0,
           1
          ],
          "y": [
           0,
           1
          ]
         },
         "style": "carto-positron",
         "zoom": 8
        },
        "margin": {
         "b": 0,
         "l": 0,
         "r": 0,
         "t": 0
        },
        "template": {
         "data": {
          "bar": [
           {
            "error_x": {
             "color": "#2a3f5f"
            },
            "error_y": {
             "color": "#2a3f5f"
            },
            "marker": {
             "line": {
              "color": "#E5ECF6",
              "width": 0.5
             },
             "pattern": {
              "fillmode": "overlay",
              "size": 10,
              "solidity": 0.2
             }
            },
            "type": "bar"
           }
          ],
          "barpolar": [
           {
            "marker": {
             "line": {
              "color": "#E5ECF6",
              "width": 0.5
             },
             "pattern": {
              "fillmode": "overlay",
              "size": 10,
              "solidity": 0.2
             }
            },
            "type": "barpolar"
           }
          ],
          "carpet": [
           {
            "aaxis": {
             "endlinecolor": "#2a3f5f",
             "gridcolor": "white",
             "linecolor": "white",
             "minorgridcolor": "white",
             "startlinecolor": "#2a3f5f"
            },
            "baxis": {
             "endlinecolor": "#2a3f5f",
             "gridcolor": "white",
             "linecolor": "white",
             "minorgridcolor": "white",
             "startlinecolor": "#2a3f5f"
            },
            "type": "carpet"
           }
          ],
          "choropleth": [
           {
            "colorbar": {
             "outlinewidth": 0,
             "ticks": ""
            },
            "type": "choropleth"
           }
          ],
          "contour": [
           {
            "colorbar": {
             "outlinewidth": 0,
             "ticks": ""
            },
            "colorscale": [
             [
              0,
              "#0d0887"
             ],
             [
              0.1111111111111111,
              "#46039f"
             ],
             [
              0.2222222222222222,
              "#7201a8"
             ],
             [
              0.3333333333333333,
              "#9c179e"
             ],
             [
              0.4444444444444444,
              "#bd3786"
             ],
             [
              0.5555555555555556,
              "#d8576b"
             ],
             [
              0.6666666666666666,
              "#ed7953"
             ],
             [
              0.7777777777777778,
              "#fb9f3a"
             ],
             [
              0.8888888888888888,
              "#fdca26"
             ],
             [
              1,
              "#f0f921"
             ]
            ],
            "type": "contour"
           }
          ],
          "contourcarpet": [
           {
            "colorbar": {
             "outlinewidth": 0,
             "ticks": ""
            },
            "type": "contourcarpet"
           }
          ],
          "heatmap": [
           {
            "colorbar": {
             "outlinewidth": 0,
             "ticks": ""
            },
            "colorscale": [
             [
              0,
              "#0d0887"
             ],
             [
              0.1111111111111111,
              "#46039f"
             ],
             [
              0.2222222222222222,
              "#7201a8"
             ],
             [
              0.3333333333333333,
              "#9c179e"
             ],
             [
              0.4444444444444444,
              "#bd3786"
             ],
             [
              0.5555555555555556,
              "#d8576b"
             ],
             [
              0.6666666666666666,
              "#ed7953"
             ],
             [
              0.7777777777777778,
              "#fb9f3a"
             ],
             [
              0.8888888888888888,
              "#fdca26"
             ],
             [
              1,
              "#f0f921"
             ]
            ],
            "type": "heatmap"
           }
          ],
          "heatmapgl": [
           {
            "colorbar": {
             "outlinewidth": 0,
             "ticks": ""
            },
            "colorscale": [
             [
              0,
              "#0d0887"
             ],
             [
              0.1111111111111111,
              "#46039f"
             ],
             [
              0.2222222222222222,
              "#7201a8"
             ],
             [
              0.3333333333333333,
              "#9c179e"
             ],
             [
              0.4444444444444444,
              "#bd3786"
             ],
             [
              0.5555555555555556,
              "#d8576b"
             ],
             [
              0.6666666666666666,
              "#ed7953"
             ],
             [
              0.7777777777777778,
              "#fb9f3a"
             ],
             [
              0.8888888888888888,
              "#fdca26"
             ],
             [
              1,
              "#f0f921"
             ]
            ],
            "type": "heatmapgl"
           }
          ],
          "histogram": [
           {
            "marker": {
             "pattern": {
              "fillmode": "overlay",
              "size": 10,
              "solidity": 0.2
             }
            },
            "type": "histogram"
           }
          ],
          "histogram2d": [
           {
            "colorbar": {
             "outlinewidth": 0,
             "ticks": ""
            },
            "colorscale": [
             [
              0,
              "#0d0887"
             ],
             [
              0.1111111111111111,
              "#46039f"
             ],
             [
              0.2222222222222222,
              "#7201a8"
             ],
             [
              0.3333333333333333,
              "#9c179e"
             ],
             [
              0.4444444444444444,
              "#bd3786"
             ],
             [
              0.5555555555555556,
              "#d8576b"
             ],
             [
              0.6666666666666666,
              "#ed7953"
             ],
             [
              0.7777777777777778,
              "#fb9f3a"
             ],
             [
              0.8888888888888888,
              "#fdca26"
             ],
             [
              1,
              "#f0f921"
             ]
            ],
            "type": "histogram2d"
           }
          ],
          "histogram2dcontour": [
           {
            "colorbar": {
             "outlinewidth": 0,
             "ticks": ""
            },
            "colorscale": [
             [
              0,
              "#0d0887"
             ],
             [
              0.1111111111111111,
              "#46039f"
             ],
             [
              0.2222222222222222,
              "#7201a8"
             ],
             [
              0.3333333333333333,
              "#9c179e"
             ],
             [
              0.4444444444444444,
              "#bd3786"
             ],
             [
              0.5555555555555556,
              "#d8576b"
             ],
             [
              0.6666666666666666,
              "#ed7953"
             ],
             [
              0.7777777777777778,
              "#fb9f3a"
             ],
             [
              0.8888888888888888,
              "#fdca26"
             ],
             [
              1,
              "#f0f921"
             ]
            ],
            "type": "histogram2dcontour"
           }
          ],
          "mesh3d": [
           {
            "colorbar": {
             "outlinewidth": 0,
             "ticks": ""
            },
            "type": "mesh3d"
           }
          ],
          "parcoords": [
           {
            "line": {
             "colorbar": {
              "outlinewidth": 0,
              "ticks": ""
             }
            },
            "type": "parcoords"
           }
          ],
          "pie": [
           {
            "automargin": true,
            "type": "pie"
           }
          ],
          "scatter": [
           {
            "fillpattern": {
             "fillmode": "overlay",
             "size": 10,
             "solidity": 0.2
            },
            "type": "scatter"
           }
          ],
          "scatter3d": [
           {
            "line": {
             "colorbar": {
              "outlinewidth": 0,
              "ticks": ""
             }
            },
            "marker": {
             "colorbar": {
              "outlinewidth": 0,
              "ticks": ""
             }
            },
            "type": "scatter3d"
           }
          ],
          "scattercarpet": [
           {
            "marker": {
             "colorbar": {
              "outlinewidth": 0,
              "ticks": ""
             }
            },
            "type": "scattercarpet"
           }
          ],
          "scattergeo": [
           {
            "marker": {
             "colorbar": {
              "outlinewidth": 0,
              "ticks": ""
             }
            },
            "type": "scattergeo"
           }
          ],
          "scattergl": [
           {
            "marker": {
             "colorbar": {
              "outlinewidth": 0,
              "ticks": ""
             }
            },
            "type": "scattergl"
           }
          ],
          "scattermapbox": [
           {
            "marker": {
             "colorbar": {
              "outlinewidth": 0,
              "ticks": ""
             }
            },
            "type": "scattermapbox"
           }
          ],
          "scatterpolar": [
           {
            "marker": {
             "colorbar": {
              "outlinewidth": 0,
              "ticks": ""
             }
            },
            "type": "scatterpolar"
           }
          ],
          "scatterpolargl": [
           {
            "marker": {
             "colorbar": {
              "outlinewidth": 0,
              "ticks": ""
             }
            },
            "type": "scatterpolargl"
           }
          ],
          "scatterternary": [
           {
            "marker": {
             "colorbar": {
              "outlinewidth": 0,
              "ticks": ""
             }
            },
            "type": "scatterternary"
           }
          ],
          "surface": [
           {
            "colorbar": {
             "outlinewidth": 0,
             "ticks": ""
            },
            "colorscale": [
             [
              0,
              "#0d0887"
             ],
             [
              0.1111111111111111,
              "#46039f"
             ],
             [
              0.2222222222222222,
              "#7201a8"
             ],
             [
              0.3333333333333333,
              "#9c179e"
             ],
             [
              0.4444444444444444,
              "#bd3786"
             ],
             [
              0.5555555555555556,
              "#d8576b"
             ],
             [
              0.6666666666666666,
              "#ed7953"
             ],
             [
              0.7777777777777778,
              "#fb9f3a"
             ],
             [
              0.8888888888888888,
              "#fdca26"
             ],
             [
              1,
              "#f0f921"
             ]
            ],
            "type": "surface"
           }
          ],
          "table": [
           {
            "cells": {
             "fill": {
              "color": "#EBF0F8"
             },
             "line": {
              "color": "white"
             }
            },
            "header": {
             "fill": {
              "color": "#C8D4E3"
             },
             "line": {
              "color": "white"
             }
            },
            "type": "table"
           }
          ]
         },
         "layout": {
          "annotationdefaults": {
           "arrowcolor": "#2a3f5f",
           "arrowhead": 0,
           "arrowwidth": 1
          },
          "autotypenumbers": "strict",
          "coloraxis": {
           "colorbar": {
            "outlinewidth": 0,
            "ticks": ""
           }
          },
          "colorscale": {
           "diverging": [
            [
             0,
             "#8e0152"
            ],
            [
             0.1,
             "#c51b7d"
            ],
            [
             0.2,
             "#de77ae"
            ],
            [
             0.3,
             "#f1b6da"
            ],
            [
             0.4,
             "#fde0ef"
            ],
            [
             0.5,
             "#f7f7f7"
            ],
            [
             0.6,
             "#e6f5d0"
            ],
            [
             0.7,
             "#b8e186"
            ],
            [
             0.8,
             "#7fbc41"
            ],
            [
             0.9,
             "#4d9221"
            ],
            [
             1,
             "#276419"
            ]
           ],
           "sequential": [
            [
             0,
             "#0d0887"
            ],
            [
             0.1111111111111111,
             "#46039f"
            ],
            [
             0.2222222222222222,
             "#7201a8"
            ],
            [
             0.3333333333333333,
             "#9c179e"
            ],
            [
             0.4444444444444444,
             "#bd3786"
            ],
            [
             0.5555555555555556,
             "#d8576b"
            ],
            [
             0.6666666666666666,
             "#ed7953"
            ],
            [
             0.7777777777777778,
             "#fb9f3a"
            ],
            [
             0.8888888888888888,
             "#fdca26"
            ],
            [
             1,
             "#f0f921"
            ]
           ],
           "sequentialminus": [
            [
             0,
             "#0d0887"
            ],
            [
             0.1111111111111111,
             "#46039f"
            ],
            [
             0.2222222222222222,
             "#7201a8"
            ],
            [
             0.3333333333333333,
             "#9c179e"
            ],
            [
             0.4444444444444444,
             "#bd3786"
            ],
            [
             0.5555555555555556,
             "#d8576b"
            ],
            [
             0.6666666666666666,
             "#ed7953"
            ],
            [
             0.7777777777777778,
             "#fb9f3a"
            ],
            [
             0.8888888888888888,
             "#fdca26"
            ],
            [
             1,
             "#f0f921"
            ]
           ]
          },
          "colorway": [
           "#636efa",
           "#EF553B",
           "#00cc96",
           "#ab63fa",
           "#FFA15A",
           "#19d3f3",
           "#FF6692",
           "#B6E880",
           "#FF97FF",
           "#FECB52"
          ],
          "font": {
           "color": "#2a3f5f"
          },
          "geo": {
           "bgcolor": "white",
           "lakecolor": "white",
           "landcolor": "#E5ECF6",
           "showlakes": true,
           "showland": true,
           "subunitcolor": "white"
          },
          "hoverlabel": {
           "align": "left"
          },
          "hovermode": "closest",
          "mapbox": {
           "style": "light"
          },
          "paper_bgcolor": "white",
          "plot_bgcolor": "#E5ECF6",
          "polar": {
           "angularaxis": {
            "gridcolor": "white",
            "linecolor": "white",
            "ticks": ""
           },
           "bgcolor": "#E5ECF6",
           "radialaxis": {
            "gridcolor": "white",
            "linecolor": "white",
            "ticks": ""
           }
          },
          "scene": {
           "xaxis": {
            "backgroundcolor": "#E5ECF6",
            "gridcolor": "white",
            "gridwidth": 2,
            "linecolor": "white",
            "showbackground": true,
            "ticks": "",
            "zerolinecolor": "white"
           },
           "yaxis": {
            "backgroundcolor": "#E5ECF6",
            "gridcolor": "white",
            "gridwidth": 2,
            "linecolor": "white",
            "showbackground": true,
            "ticks": "",
            "zerolinecolor": "white"
           },
           "zaxis": {
            "backgroundcolor": "#E5ECF6",
            "gridcolor": "white",
            "gridwidth": 2,
            "linecolor": "white",
            "showbackground": true,
            "ticks": "",
            "zerolinecolor": "white"
           }
          },
          "shapedefaults": {
           "line": {
            "color": "#2a3f5f"
           }
          },
          "ternary": {
           "aaxis": {
            "gridcolor": "white",
            "linecolor": "white",
            "ticks": ""
           },
           "baxis": {
            "gridcolor": "white",
            "linecolor": "white",
            "ticks": ""
           },
           "bgcolor": "#E5ECF6",
           "caxis": {
            "gridcolor": "white",
            "linecolor": "white",
            "ticks": ""
           }
          },
          "title": {
           "x": 0.05
          },
          "xaxis": {
           "automargin": true,
           "gridcolor": "white",
           "linecolor": "white",
           "ticks": "",
           "title": {
            "standoff": 15
           },
           "zerolinecolor": "white",
           "zerolinewidth": 2
          },
          "yaxis": {
           "automargin": true,
           "gridcolor": "white",
           "linecolor": "white",
           "ticks": "",
           "title": {
            "standoff": 15
           },
           "zerolinecolor": "white",
           "zerolinewidth": 2
          }
         }
        },
        "width": 700
       }
      }
     },
     "metadata": {},
     "output_type": "display_data"
    }
   ],
   "source": [
    "import plotly.express as px\n",
    "color_scale = [(0, 'blue'), (1,'red')]\n",
    "\n",
    "fig = px.scatter_mapbox(demand, \n",
    "                        lat=\"lat_город\", \n",
    "                        lon=\"long_город\", \n",
    "                        hover_name=\"город\", \n",
    "                        hover_data=[\"точка отгрузки\", \"стоимость за километр\"],\n",
    "                        color=\"стоимость за километр\",\n",
    "                        color_continuous_scale=color_scale,\n",
    "                        size=\"стоимость за километр\",\n",
    "                        zoom=8, \n",
    "                        height=700,\n",
    "                        width=700)\n",
    "\n",
    "fig.update_layout(mapbox_style=\"carto-positron\")\n",
    "fig.update_layout(margin={\"r\":0,\"t\":0,\"l\":0,\"b\":0})\n",
    "fig.show()"
   ]
  },
  {
   "cell_type": "code",
   "execution_count": 52,
   "metadata": {},
   "outputs": [
    {
     "data": {
      "application/vnd.plotly.v1+json": {
       "config": {
        "plotlyServerURL": "https://plot.ly"
       },
       "data": [
        {
         "customdata": [
          [
           "КОСТРОМА",
           3892
          ],
          [
           "МАНТУРОВО",
           1446
          ],
          [
           "ОПАЛИПСОВО",
           1791
          ],
          [
           "СИНЯЧИХА",
           1396
          ],
          [
           "ТЮМЕНЬ",
           862
          ],
          [
           "УРАЛЬСКИЙ",
           1040
          ],
          [
           "УСТЬ-ИЖОРА",
           2540
          ]
         ],
         "hovertemplate": "<b>%{hovertext}</b><br><br>город=%{marker.color}<br>lat_точка=%{lat}<br>long_точка=%{lon}<br>точка отгрузки=%{customdata[0]}<br>поставка=%{customdata[1]}<extra></extra>",
         "hovertext": [
          "КОСТРОМА",
          "МАНТУРОВО",
          "ОПАЛИПСОВО",
          "СИНЯЧИХА",
          "ТЮМЕНЬ",
          "УРАЛЬСКИЙ",
          "УСТЬ-ИЖОРА"
         ],
         "lat": [
          57.7679158,
          58.333271,
          60.73188,
          57.9891499,
          57.153534,
          57.9333616,
          59.803871
         ],
         "legendgroup": "",
         "lon": [
          40.9269141,
          44.761791,
          46.1883074,
          61.5885861,
          65.542274,
          55.5175276,
          30.59951
         ],
         "marker": {
          "color": [
           113,
           92,
           85,
           74,
           55,
           72,
           96
          ],
          "coloraxis": "coloraxis",
          "size": [
           113,
           92,
           85,
           74,
           55,
           72,
           96
          ],
          "sizemode": "area",
          "sizeref": 0.2825
         },
         "mode": "markers",
         "name": "",
         "showlegend": false,
         "subplot": "mapbox",
         "type": "scattermapbox"
        }
       ],
       "layout": {
        "coloraxis": {
         "colorbar": {
          "title": {
           "text": "город"
          }
         },
         "colorscale": [
          [
           0,
           "orange"
          ],
          [
           1,
           "red"
          ]
         ]
        },
        "height": 700,
        "legend": {
         "itemsizing": "constant",
         "tracegroupgap": 0
        },
        "mapbox": {
         "center": {
          "lat": 58.53042618571429,
          "lon": 49.303558599999995
         },
         "domain": {
          "x": [
           0,
           1
          ],
          "y": [
           0,
           1
          ]
         },
         "style": "carto-positron",
         "zoom": 8
        },
        "margin": {
         "b": 0,
         "l": 0,
         "r": 0,
         "t": 0
        },
        "template": {
         "data": {
          "bar": [
           {
            "error_x": {
             "color": "#2a3f5f"
            },
            "error_y": {
             "color": "#2a3f5f"
            },
            "marker": {
             "line": {
              "color": "#E5ECF6",
              "width": 0.5
             },
             "pattern": {
              "fillmode": "overlay",
              "size": 10,
              "solidity": 0.2
             }
            },
            "type": "bar"
           }
          ],
          "barpolar": [
           {
            "marker": {
             "line": {
              "color": "#E5ECF6",
              "width": 0.5
             },
             "pattern": {
              "fillmode": "overlay",
              "size": 10,
              "solidity": 0.2
             }
            },
            "type": "barpolar"
           }
          ],
          "carpet": [
           {
            "aaxis": {
             "endlinecolor": "#2a3f5f",
             "gridcolor": "white",
             "linecolor": "white",
             "minorgridcolor": "white",
             "startlinecolor": "#2a3f5f"
            },
            "baxis": {
             "endlinecolor": "#2a3f5f",
             "gridcolor": "white",
             "linecolor": "white",
             "minorgridcolor": "white",
             "startlinecolor": "#2a3f5f"
            },
            "type": "carpet"
           }
          ],
          "choropleth": [
           {
            "colorbar": {
             "outlinewidth": 0,
             "ticks": ""
            },
            "type": "choropleth"
           }
          ],
          "contour": [
           {
            "colorbar": {
             "outlinewidth": 0,
             "ticks": ""
            },
            "colorscale": [
             [
              0,
              "#0d0887"
             ],
             [
              0.1111111111111111,
              "#46039f"
             ],
             [
              0.2222222222222222,
              "#7201a8"
             ],
             [
              0.3333333333333333,
              "#9c179e"
             ],
             [
              0.4444444444444444,
              "#bd3786"
             ],
             [
              0.5555555555555556,
              "#d8576b"
             ],
             [
              0.6666666666666666,
              "#ed7953"
             ],
             [
              0.7777777777777778,
              "#fb9f3a"
             ],
             [
              0.8888888888888888,
              "#fdca26"
             ],
             [
              1,
              "#f0f921"
             ]
            ],
            "type": "contour"
           }
          ],
          "contourcarpet": [
           {
            "colorbar": {
             "outlinewidth": 0,
             "ticks": ""
            },
            "type": "contourcarpet"
           }
          ],
          "heatmap": [
           {
            "colorbar": {
             "outlinewidth": 0,
             "ticks": ""
            },
            "colorscale": [
             [
              0,
              "#0d0887"
             ],
             [
              0.1111111111111111,
              "#46039f"
             ],
             [
              0.2222222222222222,
              "#7201a8"
             ],
             [
              0.3333333333333333,
              "#9c179e"
             ],
             [
              0.4444444444444444,
              "#bd3786"
             ],
             [
              0.5555555555555556,
              "#d8576b"
             ],
             [
              0.6666666666666666,
              "#ed7953"
             ],
             [
              0.7777777777777778,
              "#fb9f3a"
             ],
             [
              0.8888888888888888,
              "#fdca26"
             ],
             [
              1,
              "#f0f921"
             ]
            ],
            "type": "heatmap"
           }
          ],
          "heatmapgl": [
           {
            "colorbar": {
             "outlinewidth": 0,
             "ticks": ""
            },
            "colorscale": [
             [
              0,
              "#0d0887"
             ],
             [
              0.1111111111111111,
              "#46039f"
             ],
             [
              0.2222222222222222,
              "#7201a8"
             ],
             [
              0.3333333333333333,
              "#9c179e"
             ],
             [
              0.4444444444444444,
              "#bd3786"
             ],
             [
              0.5555555555555556,
              "#d8576b"
             ],
             [
              0.6666666666666666,
              "#ed7953"
             ],
             [
              0.7777777777777778,
              "#fb9f3a"
             ],
             [
              0.8888888888888888,
              "#fdca26"
             ],
             [
              1,
              "#f0f921"
             ]
            ],
            "type": "heatmapgl"
           }
          ],
          "histogram": [
           {
            "marker": {
             "pattern": {
              "fillmode": "overlay",
              "size": 10,
              "solidity": 0.2
             }
            },
            "type": "histogram"
           }
          ],
          "histogram2d": [
           {
            "colorbar": {
             "outlinewidth": 0,
             "ticks": ""
            },
            "colorscale": [
             [
              0,
              "#0d0887"
             ],
             [
              0.1111111111111111,
              "#46039f"
             ],
             [
              0.2222222222222222,
              "#7201a8"
             ],
             [
              0.3333333333333333,
              "#9c179e"
             ],
             [
              0.4444444444444444,
              "#bd3786"
             ],
             [
              0.5555555555555556,
              "#d8576b"
             ],
             [
              0.6666666666666666,
              "#ed7953"
             ],
             [
              0.7777777777777778,
              "#fb9f3a"
             ],
             [
              0.8888888888888888,
              "#fdca26"
             ],
             [
              1,
              "#f0f921"
             ]
            ],
            "type": "histogram2d"
           }
          ],
          "histogram2dcontour": [
           {
            "colorbar": {
             "outlinewidth": 0,
             "ticks": ""
            },
            "colorscale": [
             [
              0,
              "#0d0887"
             ],
             [
              0.1111111111111111,
              "#46039f"
             ],
             [
              0.2222222222222222,
              "#7201a8"
             ],
             [
              0.3333333333333333,
              "#9c179e"
             ],
             [
              0.4444444444444444,
              "#bd3786"
             ],
             [
              0.5555555555555556,
              "#d8576b"
             ],
             [
              0.6666666666666666,
              "#ed7953"
             ],
             [
              0.7777777777777778,
              "#fb9f3a"
             ],
             [
              0.8888888888888888,
              "#fdca26"
             ],
             [
              1,
              "#f0f921"
             ]
            ],
            "type": "histogram2dcontour"
           }
          ],
          "mesh3d": [
           {
            "colorbar": {
             "outlinewidth": 0,
             "ticks": ""
            },
            "type": "mesh3d"
           }
          ],
          "parcoords": [
           {
            "line": {
             "colorbar": {
              "outlinewidth": 0,
              "ticks": ""
             }
            },
            "type": "parcoords"
           }
          ],
          "pie": [
           {
            "automargin": true,
            "type": "pie"
           }
          ],
          "scatter": [
           {
            "fillpattern": {
             "fillmode": "overlay",
             "size": 10,
             "solidity": 0.2
            },
            "type": "scatter"
           }
          ],
          "scatter3d": [
           {
            "line": {
             "colorbar": {
              "outlinewidth": 0,
              "ticks": ""
             }
            },
            "marker": {
             "colorbar": {
              "outlinewidth": 0,
              "ticks": ""
             }
            },
            "type": "scatter3d"
           }
          ],
          "scattercarpet": [
           {
            "marker": {
             "colorbar": {
              "outlinewidth": 0,
              "ticks": ""
             }
            },
            "type": "scattercarpet"
           }
          ],
          "scattergeo": [
           {
            "marker": {
             "colorbar": {
              "outlinewidth": 0,
              "ticks": ""
             }
            },
            "type": "scattergeo"
           }
          ],
          "scattergl": [
           {
            "marker": {
             "colorbar": {
              "outlinewidth": 0,
              "ticks": ""
             }
            },
            "type": "scattergl"
           }
          ],
          "scattermapbox": [
           {
            "marker": {
             "colorbar": {
              "outlinewidth": 0,
              "ticks": ""
             }
            },
            "type": "scattermapbox"
           }
          ],
          "scatterpolar": [
           {
            "marker": {
             "colorbar": {
              "outlinewidth": 0,
              "ticks": ""
             }
            },
            "type": "scatterpolar"
           }
          ],
          "scatterpolargl": [
           {
            "marker": {
             "colorbar": {
              "outlinewidth": 0,
              "ticks": ""
             }
            },
            "type": "scatterpolargl"
           }
          ],
          "scatterternary": [
           {
            "marker": {
             "colorbar": {
              "outlinewidth": 0,
              "ticks": ""
             }
            },
            "type": "scatterternary"
           }
          ],
          "surface": [
           {
            "colorbar": {
             "outlinewidth": 0,
             "ticks": ""
            },
            "colorscale": [
             [
              0,
              "#0d0887"
             ],
             [
              0.1111111111111111,
              "#46039f"
             ],
             [
              0.2222222222222222,
              "#7201a8"
             ],
             [
              0.3333333333333333,
              "#9c179e"
             ],
             [
              0.4444444444444444,
              "#bd3786"
             ],
             [
              0.5555555555555556,
              "#d8576b"
             ],
             [
              0.6666666666666666,
              "#ed7953"
             ],
             [
              0.7777777777777778,
              "#fb9f3a"
             ],
             [
              0.8888888888888888,
              "#fdca26"
             ],
             [
              1,
              "#f0f921"
             ]
            ],
            "type": "surface"
           }
          ],
          "table": [
           {
            "cells": {
             "fill": {
              "color": "#EBF0F8"
             },
             "line": {
              "color": "white"
             }
            },
            "header": {
             "fill": {
              "color": "#C8D4E3"
             },
             "line": {
              "color": "white"
             }
            },
            "type": "table"
           }
          ]
         },
         "layout": {
          "annotationdefaults": {
           "arrowcolor": "#2a3f5f",
           "arrowhead": 0,
           "arrowwidth": 1
          },
          "autotypenumbers": "strict",
          "coloraxis": {
           "colorbar": {
            "outlinewidth": 0,
            "ticks": ""
           }
          },
          "colorscale": {
           "diverging": [
            [
             0,
             "#8e0152"
            ],
            [
             0.1,
             "#c51b7d"
            ],
            [
             0.2,
             "#de77ae"
            ],
            [
             0.3,
             "#f1b6da"
            ],
            [
             0.4,
             "#fde0ef"
            ],
            [
             0.5,
             "#f7f7f7"
            ],
            [
             0.6,
             "#e6f5d0"
            ],
            [
             0.7,
             "#b8e186"
            ],
            [
             0.8,
             "#7fbc41"
            ],
            [
             0.9,
             "#4d9221"
            ],
            [
             1,
             "#276419"
            ]
           ],
           "sequential": [
            [
             0,
             "#0d0887"
            ],
            [
             0.1111111111111111,
             "#46039f"
            ],
            [
             0.2222222222222222,
             "#7201a8"
            ],
            [
             0.3333333333333333,
             "#9c179e"
            ],
            [
             0.4444444444444444,
             "#bd3786"
            ],
            [
             0.5555555555555556,
             "#d8576b"
            ],
            [
             0.6666666666666666,
             "#ed7953"
            ],
            [
             0.7777777777777778,
             "#fb9f3a"
            ],
            [
             0.8888888888888888,
             "#fdca26"
            ],
            [
             1,
             "#f0f921"
            ]
           ],
           "sequentialminus": [
            [
             0,
             "#0d0887"
            ],
            [
             0.1111111111111111,
             "#46039f"
            ],
            [
             0.2222222222222222,
             "#7201a8"
            ],
            [
             0.3333333333333333,
             "#9c179e"
            ],
            [
             0.4444444444444444,
             "#bd3786"
            ],
            [
             0.5555555555555556,
             "#d8576b"
            ],
            [
             0.6666666666666666,
             "#ed7953"
            ],
            [
             0.7777777777777778,
             "#fb9f3a"
            ],
            [
             0.8888888888888888,
             "#fdca26"
            ],
            [
             1,
             "#f0f921"
            ]
           ]
          },
          "colorway": [
           "#636efa",
           "#EF553B",
           "#00cc96",
           "#ab63fa",
           "#FFA15A",
           "#19d3f3",
           "#FF6692",
           "#B6E880",
           "#FF97FF",
           "#FECB52"
          ],
          "font": {
           "color": "#2a3f5f"
          },
          "geo": {
           "bgcolor": "white",
           "lakecolor": "white",
           "landcolor": "#E5ECF6",
           "showlakes": true,
           "showland": true,
           "subunitcolor": "white"
          },
          "hoverlabel": {
           "align": "left"
          },
          "hovermode": "closest",
          "mapbox": {
           "style": "light"
          },
          "paper_bgcolor": "white",
          "plot_bgcolor": "#E5ECF6",
          "polar": {
           "angularaxis": {
            "gridcolor": "white",
            "linecolor": "white",
            "ticks": ""
           },
           "bgcolor": "#E5ECF6",
           "radialaxis": {
            "gridcolor": "white",
            "linecolor": "white",
            "ticks": ""
           }
          },
          "scene": {
           "xaxis": {
            "backgroundcolor": "#E5ECF6",
            "gridcolor": "white",
            "gridwidth": 2,
            "linecolor": "white",
            "showbackground": true,
            "ticks": "",
            "zerolinecolor": "white"
           },
           "yaxis": {
            "backgroundcolor": "#E5ECF6",
            "gridcolor": "white",
            "gridwidth": 2,
            "linecolor": "white",
            "showbackground": true,
            "ticks": "",
            "zerolinecolor": "white"
           },
           "zaxis": {
            "backgroundcolor": "#E5ECF6",
            "gridcolor": "white",
            "gridwidth": 2,
            "linecolor": "white",
            "showbackground": true,
            "ticks": "",
            "zerolinecolor": "white"
           }
          },
          "shapedefaults": {
           "line": {
            "color": "#2a3f5f"
           }
          },
          "ternary": {
           "aaxis": {
            "gridcolor": "white",
            "linecolor": "white",
            "ticks": ""
           },
           "baxis": {
            "gridcolor": "white",
            "linecolor": "white",
            "ticks": ""
           },
           "bgcolor": "#E5ECF6",
           "caxis": {
            "gridcolor": "white",
            "linecolor": "white",
            "ticks": ""
           }
          },
          "title": {
           "x": 0.05
          },
          "xaxis": {
           "automargin": true,
           "gridcolor": "white",
           "linecolor": "white",
           "ticks": "",
           "title": {
            "standoff": 15
           },
           "zerolinecolor": "white",
           "zerolinewidth": 2
          },
          "yaxis": {
           "automargin": true,
           "gridcolor": "white",
           "linecolor": "white",
           "ticks": "",
           "title": {
            "standoff": 15
           },
           "zerolinecolor": "white",
           "zerolinewidth": 2
          }
         }
        },
        "width": 700
       }
      }
     },
     "metadata": {},
     "output_type": "display_data"
    }
   ],
   "source": [
    "import plotly.express as px\n",
    "color_scale = [(0, 'orange'), (1,'red')]\n",
    "\n",
    "fig = px.scatter_mapbox(viz_RU, \n",
    "                        lat=\"lat_точка\", \n",
    "                        lon=\"long_точка\", \n",
    "                        hover_name=\"точка отгрузки\", \n",
    "                        hover_data=[\"точка отгрузки\", \"поставка\"],\n",
    "                        color=\"город\",\n",
    "                        color_continuous_scale=color_scale,\n",
    "                        size=\"город\",\n",
    "                        zoom=8, \n",
    "                        height=700,\n",
    "                        width=700)\n",
    "\n",
    "fig.update_layout(mapbox_style=\"carto-positron\")\n",
    "fig.update_layout(margin={\"r\":0,\"t\":0,\"l\":0,\"b\":0})\n",
    "fig.show()"
   ]
  },
  {
   "cell_type": "code",
   "execution_count": null,
   "metadata": {},
   "outputs": [],
   "source": []
  }
 ],
 "metadata": {
  "kernelspec": {
   "display_name": "Python 3.11.0 64-bit",
   "language": "python",
   "name": "python3"
  },
  "language_info": {
   "codemirror_mode": {
    "name": "ipython",
    "version": 3
   },
   "file_extension": ".py",
   "mimetype": "text/x-python",
   "name": "python",
   "nbconvert_exporter": "python",
   "pygments_lexer": "ipython3",
   "version": "3.11.0"
  },
  "orig_nbformat": 4,
  "vscode": {
   "interpreter": {
    "hash": "d4ca170f306ca5ee8aa640b41f72b4fdd4c7f1e8d0f6ea887d8501278c7a7edc"
   }
  }
 },
 "nbformat": 4,
 "nbformat_minor": 2
}
