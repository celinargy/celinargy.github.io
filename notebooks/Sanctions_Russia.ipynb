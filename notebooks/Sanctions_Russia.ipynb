{
 "cells": [
  {
   "cell_type": "code",
   "execution_count": 5,
   "metadata": {},
   "outputs": [],
   "source": [
    "import pandas as pd\n",
    "import matplotlib.pyplot as plt\n",
    "import requests\n",
    "from bs4 import BeautifulSoup"
   ]
  },
  {
   "cell_type": "code",
   "execution_count": 96,
   "metadata": {},
   "outputs": [],
   "source": [
    "SHEET_ID = '1EFlhBQYyvRdSn4U6CY2yomeHEhTqbMKS'\n",
    "SHEET_NAME = 'Data-Companies Leave Russia'\n",
    "url = f'https://docs.google.com/spreadsheets/d/{SHEET_ID}/gviz/tq?tqx=out:csv&sheet={SHEET_NAME}'\n",
    "url = url.replace(\" \", \"%20\")\n",
    "df = pd.read_excel(r\"C:\\Users\\argyropoulos_c\\Documents\\GitHub\\celinargy.github.io\\notebooks\\data\\output.xlsx\", header=0)"
   ]
  },
  {
   "cell_type": "code",
   "execution_count": 98,
   "metadata": {},
   "outputs": [
    {
     "data": {
      "text/plain": [
       "Index(['companies', 'name in yale's list',\n",
       "       '# of local companies identified in ru', 'country of hq', 'industry',\n",
       "       'description of operations curtailed', 'status of decision',\n",
       "       'new status of decision 01-31/03/23', 'comment/actions 01-31/03/23 eng',\n",
       "       'status by kse', 'number of staff 2021', 'revenue in rf 2021, usd m',\n",
       "       'capital, usd m', 'assets, usd m', 'taxes paid, usd m',\n",
       "       'p/l for period [=net income], usd m 2021', 'investments done, usd m',\n",
       "       'brand value by kantar (us$, mln)', 'global revenue, usd m',\n",
       "       '% of revenue in rf vs global', '# of locations in rf',\n",
       "       '# of locations global', 'name / type of locations',\n",
       "       'date of monitoring update'],\n",
       "      dtype='object')"
      ]
     },
     "execution_count": 98,
     "metadata": {},
     "output_type": "execute_result"
    }
   ],
   "source": [
    "df.columns"
   ]
  },
  {
   "cell_type": "code",
   "execution_count": null,
   "metadata": {},
   "outputs": [],
   "source": []
  }
 ],
 "metadata": {
  "kernelspec": {
   "display_name": "Python 3.11.0 64-bit",
   "language": "python",
   "name": "python3"
  },
  "language_info": {
   "codemirror_mode": {
    "name": "ipython",
    "version": 3
   },
   "file_extension": ".py",
   "mimetype": "text/x-python",
   "name": "python",
   "nbconvert_exporter": "python",
   "pygments_lexer": "ipython3",
   "version": "3.11.0"
  },
  "orig_nbformat": 4,
  "vscode": {
   "interpreter": {
    "hash": "d4ca170f306ca5ee8aa640b41f72b4fdd4c7f1e8d0f6ea887d8501278c7a7edc"
   }
  }
 },
 "nbformat": 4,
 "nbformat_minor": 2
}
