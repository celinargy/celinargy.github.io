{
 "cells": [
  {
   "cell_type": "code",
   "execution_count": null,
   "metadata": {},
   "outputs": [],
   "source": [
    "import pandas as pd\n",
    "import numpy as np\n",
    "import scipy.stats as stats\n",
    "import matplotlib.pyplot as plt\n",
    "import seaborn as sns\n",
    "import statsmodels.api as sm\n",
    "from statsmodels.formula.api import ols"
   ]
  },
  {
   "cell_type": "code",
   "execution_count": null,
   "metadata": {},
   "outputs": [],
   "source": [
    "df = pd.read_excel(r\"/FastFood_clean_output.xlsx\",sheet_name=\"data\")\n",
    "df_AW = df.loc[df['brand'] == \"Harvey's\"]\n",
    "df_AW_loyal = df_AW[['loyal','brand','gender','age_range','children','income']]"
   ]
  },
  {
   "cell_type": "code",
   "execution_count": null,
   "metadata": {},
   "outputs": [],
   "source": [
    "unique_gender = df_AW_loyal['gender'].unique()\n",
    "for gender in unique_gender:\n",
    "    stats.probplot(df_AW_loyal[df_AW_loyal['gender'] == gender]['loyal'], dist=\"norm\", plot=plt)\n",
    "    plt.title(\"Probability Plot - \" +  gender)\n",
    "    plt.show()"
   ]
  },
  {
   "cell_type": "code",
   "execution_count": null,
   "metadata": {},
   "outputs": [],
   "source": [
    "model = ols('loyal ~ gender + children + income + age_range', data=df_AW_loyal).fit()\n",
    "anova_table = sm.stats.anova_lm(model, typ=2)\n",
    "print(anova_table)"
   ]
  },
  {
   "cell_type": "code",
   "execution_count": null,
   "metadata": {},
   "outputs": [],
   "source": [
    "ratio1 = df_AW_loyal.groupby('income').std().max() / df_AW_loyal.groupby('income').std().min()\n",
    "ratio2 = df_AW_loyal.groupby('age_range').std().max() / df_AW_loyal.groupby('age_range').std().min()\n",
    "ratio3 = df_AW_loyal.groupby('children').std().max() / df_AW_loyal.groupby('children').std().min()\n",
    "ratio4 = df_AW_loyal.groupby('gender').std().max() / df_AW_loyal.groupby('gender').std().min()\n",
    "print (ratio1,ratio2,ratio3,ratio4)"
   ]
  },
  {
   "cell_type": "code",
   "execution_count": null,
   "metadata": {},
   "outputs": [],
   "source": [
    "# Create ANOVA backbone table\n",
    "data = [['Between Groups', '', '', '', '', '', ''], ['Within Groups', '', '', '', '', '', ''], ['Total', '', '', '', '', '', '']] \n",
    "anova_table = pd.DataFrame(data, columns = ['Source of Variation', 'SS', 'df', 'MS', 'F', 'P-value', 'F crit']) \n",
    "anova_table.set_index('Source of Variation', inplace = True)\n",
    "\n",
    "# calculate SSTR and update anova table\n",
    "x_bar = df_AW_loyal['loyal'].mean()\n",
    "SSTR = df_AW_loyal.groupby('income').count() * (df_AW_loyal.groupby('income').mean() - x_bar)**2\n",
    "anova_table['SS']['Between Groups'] = SSTR['loyal'].sum()\n",
    "\n",
    "# calculate SSE and update anova table\n",
    "SSE = (df_AW_loyal.groupby('income').count() - 1) * df_AW_loyal.groupby('income').std()**2\n",
    "anova_table['SS']['Within Groups'] = SSE['loyal'].sum()\n",
    "\n",
    "# calculate SSTR and update anova table\n",
    "SSTR = SSTR['loyal'].sum() + SSE['loyal'].sum()\n",
    "anova_table['SS']['Total'] = SSTR\n",
    "\n",
    "# update degree of freedom\n",
    "anova_table['df']['Between Groups'] = df_AW_loyal['income'].nunique() - 1\n",
    "anova_table['df']['Within Groups'] = df_AW_loyal.shape[0] - df_AW_loyal['income'].nunique()\n",
    "anova_table['df']['Total'] = df_AW_loyal.shape[0] - 1\n",
    "\n",
    "# calculate MS\n",
    "anova_table['MS'] = anova_table['SS'] / anova_table['df']\n",
    "\n",
    "# calculate F \n",
    "F = anova_table['MS']['Between Groups'] / anova_table['MS']['Within Groups']\n",
    "anova_table['F']['Between Groups'] = F\n",
    "\n",
    "# p-value\n",
    "anova_table['P-value']['Between Groups'] = 1 - stats.f.cdf(F, anova_table['df']['Between Groups'], anova_table['df']['Within Groups'])\n",
    "\n",
    "# F critical \n",
    "alpha = 0.05\n",
    "# possible types \"right-tailed, left-tailed, two-tailed\"\n",
    "tail_hypothesis_type = \"two-tailed\"\n",
    "if tail_hypothesis_type == \"two-tailed\":\n",
    "    alpha /= 2\n",
    "anova_table['F crit']['Between Groups'] = stats.f.ppf(1-alpha, anova_table['df']['Between Groups'], anova_table['df']['Within Groups'])\n",
    "\n",
    "# Final ANOVA Table\n",
    "print(\"ANOVA income\")\n",
    "anova_table"
   ]
  },
  {
   "cell_type": "code",
   "execution_count": null,
   "metadata": {},
   "outputs": [],
   "source": [
    "print(\"Approach 1: The p-value approach to hypothesis testing in the decision rule\")\n",
    "conclusion = \"Failed to reject the null hypothesis.\"\n",
    "if anova_table['P-value']['Between Groups'] <= alpha:\n",
    "    conclusion = \"Null Hypothesis is rejected.\"\n",
    "print(\"F-score is:\", anova_table['F']['Between Groups'], \" and p value is:\", anova_table['P-value']['Between Groups'])    \n",
    "print(conclusion)\n",
    "    \n",
    "# The critical value approach\n",
    "print(\"\\n--------------------------------------------------------------------------------------\")\n",
    "print(\"Approach 2: The critical value approach to hypothesis testing in the decision rule\")\n",
    "conclusion = \"Failed to reject the null hypothesis.\"\n",
    "if anova_table['F']['Between Groups'] > anova_table['F crit']['Between Groups']:\n",
    "    conclusion = \"Null Hypothesis is rejected.\"\n",
    "print(\"F-score is:\", anova_table['F']['Between Groups'], \" and critical value is:\", anova_table['F crit']['Between Groups'])\n",
    "print(conclusion)"
   ]
  },
  {
   "cell_type": "code",
   "execution_count": null,
   "metadata": {},
   "outputs": [],
   "source": [
    "import statsmodels.formula.api as smf\n",
    "# Fit the regression model\n",
    "model = smf.ols('CBBE ~ gender + age_range + income + children', data=df_AW).fit()\n",
    "\n",
    "# Print the model summary\n",
    "print(model.summary())"
   ]
  }
 ],
 "metadata": {
  "kernelspec": {
   "display_name": "Python 3.11.0 64-bit",
   "language": "python",
   "name": "python3"
  },
  "language_info": {
   "name": "python",
   "version": "3.11.0"
  },
  "orig_nbformat": 4,
  "vscode": {
   "interpreter": {
    "hash": "d4ca170f306ca5ee8aa640b41f72b4fdd4c7f1e8d0f6ea887d8501278c7a7edc"
   }
  }
 },
 "nbformat": 4,
 "nbformat_minor": 2
}
