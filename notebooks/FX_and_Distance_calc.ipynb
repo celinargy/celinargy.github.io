{
 "cells": [
  {
   "cell_type": "code",
   "execution_count": 15,
   "metadata": {},
   "outputs": [
    {
     "name": "stderr",
     "output_type": "stream",
     "text": [
      "100%|██████████| 12/12 [00:05<00:00,  2.27it/s]\n"
     ]
    }
   ],
   "source": [
    "import pandas as pd\n",
    "from forex_python.converter import CurrencyRates\n",
    "from datetime import datetime\n",
    "c = CurrencyRates()\n",
    "# get rates for all unique dates, added tqdm progress bar to see progress\n",
    "from tqdm import tqdm  \n",
    "rates_dict = pd.DataFrame({date: CurrencyRates().get_rates('EUR', date_obj=pd.to_datetime(date, unit='D'))\n",
    "              for date in tqdm(df['date_order'].unique())})\n",
    "# now use these rates to set cost to 1/(RUB to currency_x rate), except when currency is RUB and when servicecost is 0, in those cases just use servicecost\n",
    "#df['XR'] = df.apply(lambda row: 1.0/rates_dict[row['date_order']][row['rate']]*row['ci=ost'] if row['rate']!='RUB' and row['cost'] != 0 else row['cost'], axis=1)\n",
    "rates_rub = rates_dict.T\n",
    "rates_rub = rates_rub.loc[:,['RUB']]\n",
    "rates_rub.index.name = 'date_order'"
   ]
  },
  {
   "cell_type": "code",
   "execution_count": 17,
   "metadata": {},
   "outputs": [],
   "source": [
    "df = df.merge(rates_rub,on='date_order')\n",
    "df.rename(columns = {'RUB': 'XR'}, inplace = True)\n",
    "df.loc[(df['Country'] =='Russian Federation'),'XR'] = 1\n",
    "df['cost_RUB'] = df.cost * df.XR"
   ]
  },
  {
   "cell_type": "code",
   "execution_count": 29,
   "metadata": {},
   "outputs": [],
   "source": [
    "# Calculate supply (total per mill) = done\n",
    "# Converted all deliveries at historic rate (in RUB) = done\n",
    "# Check and remove outliers per destination\n",
    "import seaborn as sns\n",
    "import warnings\n",
    "import numpy as np\n",
    "import matplotlib.pyplot as plt\n",
    "warnings.filterwarnings('ignore')\n",
    "%matplotlib inline\n",
    "sns.set()\n",
    "# Graphics in retina format are more sharp and legible\n",
    "%config InlineBackend.figure_format = 'retina'"
   ]
  },
  {
   "cell_type": "markdown",
   "metadata": {},
   "source": [
    "Fetch the distance between points (latitude, longitude) and calculate distance "
   ]
  },
  {
   "cell_type": "code",
   "execution_count": 30,
   "metadata": {},
   "outputs": [],
   "source": [
    "import geocoder\n",
    "from pprint import pprint\n",
    "key = '484ae73bfa5b43d28bde740af59c0c0c' # get api key from: https://opencagedata.com\n",
    "mills = dict.fromkeys(demand['точка отгрузки'])\n",
    "cities = dict.fromkeys(demand['город'])\n",
    "for name in mills:\n",
    "    result = geocoder.opencage(name, key=key)\n",
    "    mills[name] = result.latlng\n",
    "for name in cities:\n",
    "    result = geocoder.opencage(name, key=key)\n",
    "    cities[name] = result.latlng"
   ]
  },
  {
   "cell_type": "code",
   "execution_count": 31,
   "metadata": {},
   "outputs": [],
   "source": [
    "#Transform, rename, merge\n",
    "mills_distance = pd.DataFrame.from_dict(mills, orient='index',columns=['lat_точка','long_точка'])\n",
    "cities_distance = pd.DataFrame.from_dict(cities, orient='index',columns=['lat_город','long_город'])\n",
    "mills_distance.index.name = 'точка отгрузки'\n",
    "cities_distance.index.name = 'город'\n",
    "demand = demand.merge(mills_distance, left_on='точка отгрузки', right_on='точка отгрузки')\n",
    "demand = demand.merge(cities_distance, left_on='город', right_on='город')"
   ]
  },
  {
   "cell_type": "code",
   "execution_count": 32,
   "metadata": {},
   "outputs": [],
   "source": [
    "#Calculate distance between two points, calculate cost per km = proxy for cost minimization function\n",
    "import h3\n",
    "demand['расстояние'] = demand.apply(lambda row: h3.point_dist((row['lat_точка'], row['long_точка']), (row['lat_город'], row['long_город'])), axis=1)\n",
    "demand['стоимость за километр'] = demand.предложение_RUB/demand.расстояние"
   ]
  },
  {
   "cell_type": "code",
   "execution_count": 33,
   "metadata": {},
   "outputs": [],
   "source": [
    "#issue with inf type of float, which json doesn't recognise\n",
    "demand[[\"lat_точка\", \"long_точка\", \"lat_город\", \"long_город\", 'расстояние','стоимость за километр']] = demand[[\"lat_точка\", \"long_точка\", \"lat_город\", \"long_город\", 'расстояние','стоимость за километр']].astype(str)\n",
    "demand[[\"lat_точка\", \"long_точка\", \"lat_город\", \"long_город\", 'расстояние','стоимость за километр']] = demand[[\"lat_точка\", \"long_точка\", \"lat_город\", \"long_город\", 'расстояние','стоимость за километр']].astype(str)"
   ]
  }
 ],
 "metadata": {
  "kernelspec": {
   "display_name": "Python 3.11.0 64-bit",
   "language": "python",
   "name": "python3"
  },
  "language_info": {
   "codemirror_mode": {
    "name": "ipython",
    "version": 3
   },
   "file_extension": ".py",
   "mimetype": "text/x-python",
   "name": "python",
   "nbconvert_exporter": "python",
   "pygments_lexer": "ipython3",
   "version": "3.11.0"
  },
  "orig_nbformat": 4,
  "vscode": {
   "interpreter": {
    "hash": "d4ca170f306ca5ee8aa640b41f72b4fdd4c7f1e8d0f6ea887d8501278c7a7edc"
   }
  }
 },
 "nbformat": 4,
 "nbformat_minor": 2
}
