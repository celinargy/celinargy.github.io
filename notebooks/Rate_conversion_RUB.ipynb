{
 "cells": [
  {
   "cell_type": "code",
   "execution_count": 15,
   "metadata": {},
   "outputs": [
    {
     "name": "stderr",
     "output_type": "stream",
     "text": [
      "100%|██████████| 12/12 [00:05<00:00,  2.27it/s]\n"
     ]
    }
   ],
   "source": [
    "import pandas as pd\n",
    "from forex_python.converter import CurrencyRates\n",
    "from datetime import datetime\n",
    "c = CurrencyRates()\n",
    "# get rates for all unique dates, added tqdm progress bar to see progress\n",
    "from tqdm import tqdm  \n",
    "# Change EUR to get any other rate\n",
    "rates_dict = pd.DataFrame({date: CurrencyRates().get_rates('EUR', date_obj=pd.to_datetime(date, unit='D'))\n",
    "              for date in tqdm(df['date_order'].unique())})\n",
    "rates_rub = rates_dict.T\n",
    "# Change RUB for any other rate conversion with EUR\n",
    "rates_rub = rates_rub.loc[:,['RUB']]\n",
    "rates_rub.index.name = 'date_order'\n",
    "\n",
    "# Use XR to set cost to 1/(RUB to currency_x rate), except when currency is RUB and when servicecost is 0, in those cases just use servicecost\n",
    "#df['XR'] = df.apply(lambda row: 1.0/rates_dict[row['date_order']][row['rate']]*row['ci=ost'] if row['rate']!='RUB' and row['cost'] != 0 else row['cost'], axis=1)"
   ]
  },
  {
   "cell_type": "code",
   "execution_count": 17,
   "metadata": {},
   "outputs": [],
   "source": [
    "df = df.merge(rates_rub,on='date_order')\n",
    "df.rename(columns = {'RUB': 'XR'}, inplace = True)\n",
    "# Replace XR of RUB with 1\n",
    "df.loc[(df['Country'] =='Russian Federation'),'XR'] = 1\n",
    "df['cost_RUB'] = df.cost * df.XR"
   ]
  }
 ],
 "metadata": {
  "kernelspec": {
   "display_name": "Python 3.11.0 64-bit",
   "language": "python",
   "name": "python3"
  },
  "language_info": {
   "codemirror_mode": {
    "name": "ipython",
    "version": 3
   },
   "file_extension": ".py",
   "mimetype": "text/x-python",
   "name": "python",
   "nbconvert_exporter": "python",
   "pygments_lexer": "ipython3",
   "version": "3.11.0"
  },
  "orig_nbformat": 4,
  "vscode": {
   "interpreter": {
    "hash": "d4ca170f306ca5ee8aa640b41f72b4fdd4c7f1e8d0f6ea887d8501278c7a7edc"
   }
  }
 },
 "nbformat": 4,
 "nbformat_minor": 2
}
