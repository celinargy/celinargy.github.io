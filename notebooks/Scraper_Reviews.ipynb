{
 "cells": [
  {
   "cell_type": "code",
   "execution_count": null,
   "metadata": {},
   "outputs": [],
   "source": [
    "import pandas as pd\n",
    "import numpy as np\n",
    "from scipy.stats import f_oneway\n",
    "import matplotlib.pyplot as plt\n",
    "import seaborn as sns"
   ]
  },
  {
   "cell_type": "code",
   "execution_count": null,
   "metadata": {},
   "outputs": [],
   "source": [
    "!git clone https://github.com/JoMingyu/google-play-scraper.git\n",
    "pip install google-play-scraper"
   ]
  },
  {
   "cell_type": "code",
   "execution_count": null,
   "metadata": {},
   "outputs": [],
   "source": [
    "from google_play_scraper import Sort, reviews_all\n",
    "\n",
    "result = reviews_all(\n",
    "    'ru.sbcs.store',\n",
    "    sleep_milliseconds=0, # defaults to 0\n",
    "    lang='ru', # defaults to 'en'\n",
    "    country='ru', # defaults to 'us'\n",
    "    sort=Sort.MOST_RELEVANT, # defaults to Sort.MOST_RELEVANT\n",
    ")"
   ]
  },
  {
   "cell_type": "code",
   "execution_count": null,
   "metadata": {},
   "outputs": [],
   "source": [
    "df_google = pd.DataFrame(np.array(result), columns=['review'])\n",
    "df_google = df_google.join(pd.DataFrame(df_google.pop('review').tolist()))"
   ]
  },
  {
   "cell_type": "code",
   "execution_count": null,
   "metadata": {},
   "outputs": [],
   "source": [
    "!pip install app_store_scraper\n",
    "import json\n",
    "import requests\n",
    "import time\n",
    "from app_store_scraper import AppStore\n",
    "import datetime as dt\n",
    " \n",
    "# Making a get request\n",
    "r = requests.get('https://apps.apple.com/ru/app/%D1%81%D0%B0%D0%BC%D0%BE%D0%BA%D0%B0%D1%82-%D0%B4%D0%BE%D1%81%D1%82%D0%B0%D0%B2%D0%BA%D0%B0-%D0%BF%D1%80%D0%BE%D0%B4%D1%83%D0%BA%D1%82%D0%BE%D0%B2-%D0%B5%D0%B4%D1%8B/id1401500803')\n",
    "df_app = pd.DataFrame()\n",
    "\n",
    "try:\n",
    "  appstore = AppStore(country='ru', app_name='samokat', app_id = '1401500803')\n",
    "  appstore.review()\n",
    "except requests.exceptions.ConnectionError:\n",
    "  r.status_code = \"Connection refused\"\n",
    "  df = pd.DataFrame(np.array(appstore.reviews),columns=['review'])\n",
    "  df2 = df.join(pd.DataFrame(df.pop('review').tolist()))\n",
    "  df2 = df2[['rating','date']]\n",
    "  df2['date'] = df2['date'].dt.date\n",
    "  df_app =  df_app.append(df2)\n",
    "  time.sleep(5) "
   ]
  },
  {
   "cell_type": "code",
   "execution_count": null,
   "metadata": {},
   "outputs": [],
   "source": [
    "df_appstore = pd.DataFrame(np.array(appstore.reviews), columns=['review'])\n",
    "df_appstore = df_appstore.join(pd.DataFrame(df_appstore.pop('review').tolist()))"
   ]
  },
  {
   "cell_type": "code",
   "execution_count": null,
   "metadata": {},
   "outputs": [],
   "source": [
    "df_google.to_csv('Samokat_app_Google_reviews.csv',index=False)\n",
    "df_appstore.to_csv('Samokat_app_Apple_reviews.csv',index=False)"
   ]
  },
  {
   "cell_type": "code",
   "execution_count": null,
   "metadata": {},
   "outputs": [],
   "source": []
  }
 ],
 "metadata": {
  "kernelspec": {
   "display_name": "Python 3.11.0 64-bit",
   "language": "python",
   "name": "python3"
  },
  "language_info": {
   "name": "python",
   "version": "3.11.0"
  },
  "orig_nbformat": 4,
  "vscode": {
   "interpreter": {
    "hash": "d4ca170f306ca5ee8aa640b41f72b4fdd4c7f1e8d0f6ea887d8501278c7a7edc"
   }
  }
 },
 "nbformat": 4,
 "nbformat_minor": 2
}
