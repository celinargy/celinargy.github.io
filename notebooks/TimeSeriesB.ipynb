{
 "cells": [
  {
   "cell_type": "code",
   "execution_count": 1,
   "metadata": {},
   "outputs": [],
   "source": [
    "import pandas as pd\n",
    "import matplotlib.pyplot as plt\n",
    "import seaborn as sns\n",
    "from statsmodels.tsa.stattools import adfuller\n",
    "from statsmodels.tsa.seasonal import seasonal_decompose\n",
    "from pmdarima.arima import auto_arima\n",
    "from math import sqrt\n",
    "from sklearn.metrics import mean_squared_error\n",
    "pd.options.mode.chained_assignment = None  # default='warn'\n",
    "from sklearn.model_selection import train_test_split"
   ]
  },
  {
   "cell_type": "code",
   "execution_count": 8,
   "metadata": {},
   "outputs": [],
   "source": [
    "plt.rcParams['agg.path.chunksize'] = 1000"
   ]
  },
  {
   "cell_type": "code",
   "execution_count": 101,
   "metadata": {},
   "outputs": [
    {
     "name": "stderr",
     "output_type": "stream",
     "text": [
      "/var/folders/z5/jgxbbstx6mb91k782w89hygr0000gn/T/ipykernel_2930/281156238.py:1: DtypeWarning: Columns (12,13) have mixed types. Specify dtype option on import or set low_memory=False.\n",
      "  df = pd.read_csv(r\"./result.csv\", index_col = 'id_hash', parse_dates=['snap_date'])\n"
     ]
    }
   ],
   "source": [
    "df = pd.read_csv(r\"./result.csv\", index_col = 'id_hash', parse_dates=['snap_date'])\n",
    "df_days = df[[ 'snap_date', 'days']]\n",
    "df_days = df_days.sort_values(by=['snap_date'])"
   ]
  },
  {
   "cell_type": "code",
   "execution_count": 102,
   "metadata": {},
   "outputs": [],
   "source": [
    "df['snap_date'] = pd.to_datetime(df['snap_date'], format='%Y.%m.%d')"
   ]
  },
  {
   "cell_type": "code",
   "execution_count": 103,
   "metadata": {},
   "outputs": [
    {
     "data": {
      "text/html": [
       "<div>\n",
       "<style scoped>\n",
       "    .dataframe tbody tr th:only-of-type {\n",
       "        vertical-align: middle;\n",
       "    }\n",
       "\n",
       "    .dataframe tbody tr th {\n",
       "        vertical-align: top;\n",
       "    }\n",
       "\n",
       "    .dataframe thead th {\n",
       "        text-align: right;\n",
       "    }\n",
       "</style>\n",
       "<table border=\"1\" class=\"dataframe\">\n",
       "  <thead>\n",
       "    <tr style=\"text-align: right;\">\n",
       "      <th></th>\n",
       "      <th>Unnamed: 0</th>\n",
       "      <th>snap_date</th>\n",
       "      <th>days</th>\n",
       "      <th>home_region</th>\n",
       "      <th>tourists_region</th>\n",
       "      <th>city</th>\n",
       "      <th>gender</th>\n",
       "      <th>age</th>\n",
       "      <th>mou</th>\n",
       "      <th>mou_out</th>\n",
       "      <th>dou</th>\n",
       "      <th>interests</th>\n",
       "      <th>top_service</th>\n",
       "      <th>volume_sum</th>\n",
       "      <th>dl_volume_sum</th>\n",
       "      <th>ul_volume_sum</th>\n",
       "    </tr>\n",
       "    <tr>\n",
       "      <th>id_hash</th>\n",
       "      <th></th>\n",
       "      <th></th>\n",
       "      <th></th>\n",
       "      <th></th>\n",
       "      <th></th>\n",
       "      <th></th>\n",
       "      <th></th>\n",
       "      <th></th>\n",
       "      <th></th>\n",
       "      <th></th>\n",
       "      <th></th>\n",
       "      <th></th>\n",
       "      <th></th>\n",
       "      <th></th>\n",
       "      <th></th>\n",
       "      <th></th>\n",
       "    </tr>\n",
       "  </thead>\n",
       "  <tbody>\n",
       "    <tr>\n",
       "      <th>61fc25d86364a6a5d6e85319bcf7aef5</th>\n",
       "      <td>0</td>\n",
       "      <td>2021-07-01</td>\n",
       "      <td>3</td>\n",
       "      <td>77</td>\n",
       "      <td>23</td>\n",
       "      <td>Абинск</td>\n",
       "      <td>1</td>\n",
       "      <td>47</td>\n",
       "      <td>33.512500</td>\n",
       "      <td>NaN</td>\n",
       "      <td>8.053427</td>\n",
       "      <td>NaN</td>\n",
       "      <td>NaN</td>\n",
       "      <td>NaN</td>\n",
       "      <td>NaN</td>\n",
       "      <td>NaN</td>\n",
       "    </tr>\n",
       "    <tr>\n",
       "      <th>c42fc8d3ad95a2e006567967814463a3</th>\n",
       "      <td>1</td>\n",
       "      <td>2021-07-01</td>\n",
       "      <td>15</td>\n",
       "      <td>61</td>\n",
       "      <td>23</td>\n",
       "      <td>Абинск</td>\n",
       "      <td>2</td>\n",
       "      <td>28</td>\n",
       "      <td>1738.257600</td>\n",
       "      <td>1029.315000</td>\n",
       "      <td>46874.117000</td>\n",
       "      <td>NaN</td>\n",
       "      <td>NaN</td>\n",
       "      <td>NaN</td>\n",
       "      <td>NaN</td>\n",
       "      <td>NaN</td>\n",
       "    </tr>\n",
       "    <tr>\n",
       "      <th>ce99dc79821948d73c0d2ab2d9eee25d</th>\n",
       "      <td>2</td>\n",
       "      <td>2021-07-01</td>\n",
       "      <td>5</td>\n",
       "      <td>34</td>\n",
       "      <td>23</td>\n",
       "      <td>Абинск</td>\n",
       "      <td>1</td>\n",
       "      <td>36</td>\n",
       "      <td>326.655000</td>\n",
       "      <td>173.512500</td>\n",
       "      <td>31097.098000</td>\n",
       "      <td>NaN</td>\n",
       "      <td>NaN</td>\n",
       "      <td>NaN</td>\n",
       "      <td>NaN</td>\n",
       "      <td>NaN</td>\n",
       "    </tr>\n",
       "    <tr>\n",
       "      <th>02db2c7539fb8a552f48b42e3096151f</th>\n",
       "      <td>3</td>\n",
       "      <td>2021-07-01</td>\n",
       "      <td>11</td>\n",
       "      <td>72</td>\n",
       "      <td>23</td>\n",
       "      <td>Абинск</td>\n",
       "      <td>2</td>\n",
       "      <td>34</td>\n",
       "      <td>165.549990</td>\n",
       "      <td>39.917496</td>\n",
       "      <td>2390.938200</td>\n",
       "      <td>NaN</td>\n",
       "      <td>NaN</td>\n",
       "      <td>NaN</td>\n",
       "      <td>NaN</td>\n",
       "      <td>NaN</td>\n",
       "    </tr>\n",
       "    <tr>\n",
       "      <th>d3fd4dd683cf977fabbf8804d4006dfe</th>\n",
       "      <td>4</td>\n",
       "      <td>2021-07-01</td>\n",
       "      <td>1</td>\n",
       "      <td>7</td>\n",
       "      <td>23</td>\n",
       "      <td>Абинск</td>\n",
       "      <td>2</td>\n",
       "      <td>33</td>\n",
       "      <td>1355.112500</td>\n",
       "      <td>469.910000</td>\n",
       "      <td>600.361100</td>\n",
       "      <td>NaN</td>\n",
       "      <td>NaN</td>\n",
       "      <td>NaN</td>\n",
       "      <td>NaN</td>\n",
       "      <td>NaN</td>\n",
       "    </tr>\n",
       "    <tr>\n",
       "      <th>...</th>\n",
       "      <td>...</td>\n",
       "      <td>...</td>\n",
       "      <td>...</td>\n",
       "      <td>...</td>\n",
       "      <td>...</td>\n",
       "      <td>...</td>\n",
       "      <td>...</td>\n",
       "      <td>...</td>\n",
       "      <td>...</td>\n",
       "      <td>...</td>\n",
       "      <td>...</td>\n",
       "      <td>...</td>\n",
       "      <td>...</td>\n",
       "      <td>...</td>\n",
       "      <td>...</td>\n",
       "      <td>...</td>\n",
       "    </tr>\n",
       "    <tr>\n",
       "      <th>c0b834bfbe8e15eba36435a0ce4efce3</th>\n",
       "      <td>20463</td>\n",
       "      <td>2022-12-01</td>\n",
       "      <td>9</td>\n",
       "      <td>37</td>\n",
       "      <td>33</td>\n",
       "      <td>Юрьев-Польский</td>\n",
       "      <td>1</td>\n",
       "      <td>32</td>\n",
       "      <td>1503.110000</td>\n",
       "      <td>799.365000</td>\n",
       "      <td>7869.650400</td>\n",
       "      <td>[Программное обеспечение, Фитнес, бег и здоров...</td>\n",
       "      <td>[dns]</td>\n",
       "      <td>36511556.0</td>\n",
       "      <td>21255580.0</td>\n",
       "      <td>15255979.0</td>\n",
       "    </tr>\n",
       "    <tr>\n",
       "      <th>5075dfadc2d26829cbcd57efee491a41</th>\n",
       "      <td>20464</td>\n",
       "      <td>2022-12-01</td>\n",
       "      <td>7</td>\n",
       "      <td>77</td>\n",
       "      <td>33</td>\n",
       "      <td>Юрьев-Польский</td>\n",
       "      <td>1</td>\n",
       "      <td>41</td>\n",
       "      <td>1500.380000</td>\n",
       "      <td>693.490000</td>\n",
       "      <td>10923.867000</td>\n",
       "      <td>[Государственный информационный портал, Банки,...</td>\n",
       "      <td>[yandex]</td>\n",
       "      <td>174537520.0</td>\n",
       "      <td>104209784.0</td>\n",
       "      <td>70327744.0</td>\n",
       "    </tr>\n",
       "    <tr>\n",
       "      <th>9f234963e685808fc25f183d43287683</th>\n",
       "      <td>20465</td>\n",
       "      <td>2022-12-01</td>\n",
       "      <td>1</td>\n",
       "      <td>52</td>\n",
       "      <td>33</td>\n",
       "      <td>Юрьев-Польский</td>\n",
       "      <td>1</td>\n",
       "      <td>36</td>\n",
       "      <td>948.920000</td>\n",
       "      <td>705.635000</td>\n",
       "      <td>8897.451000</td>\n",
       "      <td>[Навигация, Новости и СМИ, Боевые искусства]</td>\n",
       "      <td>[google]</td>\n",
       "      <td>79503184.0</td>\n",
       "      <td>63466348.0</td>\n",
       "      <td>16036842.0</td>\n",
       "    </tr>\n",
       "    <tr>\n",
       "      <th>c0b90318610a00d8e710a9e80c96b9cb</th>\n",
       "      <td>20466</td>\n",
       "      <td>2022-12-01</td>\n",
       "      <td>15</td>\n",
       "      <td>37</td>\n",
       "      <td>33</td>\n",
       "      <td>Юрьев-Польский</td>\n",
       "      <td>1</td>\n",
       "      <td>27</td>\n",
       "      <td>4.742499</td>\n",
       "      <td>4.742499</td>\n",
       "      <td>953.580440</td>\n",
       "      <td>[Автозапчасти,автотовары, Общественный транспо...</td>\n",
       "      <td>[google]</td>\n",
       "      <td>93925888.0</td>\n",
       "      <td>68593376.0</td>\n",
       "      <td>25332512.0</td>\n",
       "    </tr>\n",
       "    <tr>\n",
       "      <th>21021025e6daaafd2b68a9f147fbb2bf</th>\n",
       "      <td>20467</td>\n",
       "      <td>2022-12-01</td>\n",
       "      <td>19</td>\n",
       "      <td>37</td>\n",
       "      <td>33</td>\n",
       "      <td>Юрьев-Польский</td>\n",
       "      <td>1</td>\n",
       "      <td>26</td>\n",
       "      <td>50.452500</td>\n",
       "      <td>25.532500</td>\n",
       "      <td>2657.196300</td>\n",
       "      <td>[Навигация, Покупка авто, Программное обеспече...</td>\n",
       "      <td>[yandex]</td>\n",
       "      <td>66754116.0</td>\n",
       "      <td>41885772.0</td>\n",
       "      <td>24868348.0</td>\n",
       "    </tr>\n",
       "  </tbody>\n",
       "</table>\n",
       "<p>7703571 rows × 16 columns</p>\n",
       "</div>"
      ],
      "text/plain": [
       "                                  Unnamed: 0  snap_date  days  home_region  \\\n",
       "id_hash                                                                      \n",
       "61fc25d86364a6a5d6e85319bcf7aef5           0 2021-07-01     3           77   \n",
       "c42fc8d3ad95a2e006567967814463a3           1 2021-07-01    15           61   \n",
       "ce99dc79821948d73c0d2ab2d9eee25d           2 2021-07-01     5           34   \n",
       "02db2c7539fb8a552f48b42e3096151f           3 2021-07-01    11           72   \n",
       "d3fd4dd683cf977fabbf8804d4006dfe           4 2021-07-01     1            7   \n",
       "...                                      ...        ...   ...          ...   \n",
       "c0b834bfbe8e15eba36435a0ce4efce3       20463 2022-12-01     9           37   \n",
       "5075dfadc2d26829cbcd57efee491a41       20464 2022-12-01     7           77   \n",
       "9f234963e685808fc25f183d43287683       20465 2022-12-01     1           52   \n",
       "c0b90318610a00d8e710a9e80c96b9cb       20466 2022-12-01    15           37   \n",
       "21021025e6daaafd2b68a9f147fbb2bf       20467 2022-12-01    19           37   \n",
       "\n",
       "                                  tourists_region            city  gender  \\\n",
       "id_hash                                                                     \n",
       "61fc25d86364a6a5d6e85319bcf7aef5               23          Абинск       1   \n",
       "c42fc8d3ad95a2e006567967814463a3               23          Абинск       2   \n",
       "ce99dc79821948d73c0d2ab2d9eee25d               23          Абинск       1   \n",
       "02db2c7539fb8a552f48b42e3096151f               23          Абинск       2   \n",
       "d3fd4dd683cf977fabbf8804d4006dfe               23          Абинск       2   \n",
       "...                                           ...             ...     ...   \n",
       "c0b834bfbe8e15eba36435a0ce4efce3               33  Юрьев-Польский       1   \n",
       "5075dfadc2d26829cbcd57efee491a41               33  Юрьев-Польский       1   \n",
       "9f234963e685808fc25f183d43287683               33  Юрьев-Польский       1   \n",
       "c0b90318610a00d8e710a9e80c96b9cb               33  Юрьев-Польский       1   \n",
       "21021025e6daaafd2b68a9f147fbb2bf               33  Юрьев-Польский       1   \n",
       "\n",
       "                                  age          mou      mou_out           dou  \\\n",
       "id_hash                                                                         \n",
       "61fc25d86364a6a5d6e85319bcf7aef5   47    33.512500          NaN      8.053427   \n",
       "c42fc8d3ad95a2e006567967814463a3   28  1738.257600  1029.315000  46874.117000   \n",
       "ce99dc79821948d73c0d2ab2d9eee25d   36   326.655000   173.512500  31097.098000   \n",
       "02db2c7539fb8a552f48b42e3096151f   34   165.549990    39.917496   2390.938200   \n",
       "d3fd4dd683cf977fabbf8804d4006dfe   33  1355.112500   469.910000    600.361100   \n",
       "...                               ...          ...          ...           ...   \n",
       "c0b834bfbe8e15eba36435a0ce4efce3   32  1503.110000   799.365000   7869.650400   \n",
       "5075dfadc2d26829cbcd57efee491a41   41  1500.380000   693.490000  10923.867000   \n",
       "9f234963e685808fc25f183d43287683   36   948.920000   705.635000   8897.451000   \n",
       "c0b90318610a00d8e710a9e80c96b9cb   27     4.742499     4.742499    953.580440   \n",
       "21021025e6daaafd2b68a9f147fbb2bf   26    50.452500    25.532500   2657.196300   \n",
       "\n",
       "                                                                          interests  \\\n",
       "id_hash                                                                               \n",
       "61fc25d86364a6a5d6e85319bcf7aef5                                                NaN   \n",
       "c42fc8d3ad95a2e006567967814463a3                                                NaN   \n",
       "ce99dc79821948d73c0d2ab2d9eee25d                                                NaN   \n",
       "02db2c7539fb8a552f48b42e3096151f                                                NaN   \n",
       "d3fd4dd683cf977fabbf8804d4006dfe                                                NaN   \n",
       "...                                                                             ...   \n",
       "c0b834bfbe8e15eba36435a0ce4efce3  [Программное обеспечение, Фитнес, бег и здоров...   \n",
       "5075dfadc2d26829cbcd57efee491a41  [Государственный информационный портал, Банки,...   \n",
       "9f234963e685808fc25f183d43287683       [Навигация, Новости и СМИ, Боевые искусства]   \n",
       "c0b90318610a00d8e710a9e80c96b9cb  [Автозапчасти,автотовары, Общественный транспо...   \n",
       "21021025e6daaafd2b68a9f147fbb2bf  [Навигация, Покупка авто, Программное обеспече...   \n",
       "\n",
       "                                 top_service   volume_sum  dl_volume_sum  \\\n",
       "id_hash                                                                    \n",
       "61fc25d86364a6a5d6e85319bcf7aef5         NaN          NaN            NaN   \n",
       "c42fc8d3ad95a2e006567967814463a3         NaN          NaN            NaN   \n",
       "ce99dc79821948d73c0d2ab2d9eee25d         NaN          NaN            NaN   \n",
       "02db2c7539fb8a552f48b42e3096151f         NaN          NaN            NaN   \n",
       "d3fd4dd683cf977fabbf8804d4006dfe         NaN          NaN            NaN   \n",
       "...                                      ...          ...            ...   \n",
       "c0b834bfbe8e15eba36435a0ce4efce3       [dns]   36511556.0     21255580.0   \n",
       "5075dfadc2d26829cbcd57efee491a41    [yandex]  174537520.0    104209784.0   \n",
       "9f234963e685808fc25f183d43287683    [google]   79503184.0     63466348.0   \n",
       "c0b90318610a00d8e710a9e80c96b9cb    [google]   93925888.0     68593376.0   \n",
       "21021025e6daaafd2b68a9f147fbb2bf    [yandex]   66754116.0     41885772.0   \n",
       "\n",
       "                                  ul_volume_sum  \n",
       "id_hash                                          \n",
       "61fc25d86364a6a5d6e85319bcf7aef5            NaN  \n",
       "c42fc8d3ad95a2e006567967814463a3            NaN  \n",
       "ce99dc79821948d73c0d2ab2d9eee25d            NaN  \n",
       "02db2c7539fb8a552f48b42e3096151f            NaN  \n",
       "d3fd4dd683cf977fabbf8804d4006dfe            NaN  \n",
       "...                                         ...  \n",
       "c0b834bfbe8e15eba36435a0ce4efce3     15255979.0  \n",
       "5075dfadc2d26829cbcd57efee491a41     70327744.0  \n",
       "9f234963e685808fc25f183d43287683     16036842.0  \n",
       "c0b90318610a00d8e710a9e80c96b9cb     25332512.0  \n",
       "21021025e6daaafd2b68a9f147fbb2bf     24868348.0  \n",
       "\n",
       "[7703571 rows x 16 columns]"
      ]
     },
     "execution_count": 103,
     "metadata": {},
     "output_type": "execute_result"
    }
   ],
   "source": [
    "df"
   ]
  },
  {
   "cell_type": "code",
   "execution_count": 163,
   "metadata": {},
   "outputs": [
    {
     "data": {
      "text/html": [
       "<div>\n",
       "<style scoped>\n",
       "    .dataframe tbody tr th:only-of-type {\n",
       "        vertical-align: middle;\n",
       "    }\n",
       "\n",
       "    .dataframe tbody tr th {\n",
       "        vertical-align: top;\n",
       "    }\n",
       "\n",
       "    .dataframe thead th {\n",
       "        text-align: right;\n",
       "    }\n",
       "</style>\n",
       "<table border=\"1\" class=\"dataframe\">\n",
       "  <thead>\n",
       "    <tr style=\"text-align: right;\">\n",
       "      <th></th>\n",
       "      <th>snap_date</th>\n",
       "      <th>days</th>\n",
       "      <th>city</th>\n",
       "    </tr>\n",
       "    <tr>\n",
       "      <th>id_hash</th>\n",
       "      <th></th>\n",
       "      <th></th>\n",
       "      <th></th>\n",
       "    </tr>\n",
       "  </thead>\n",
       "  <tbody>\n",
       "    <tr>\n",
       "      <th>61fc25d86364a6a5d6e85319bcf7aef5</th>\n",
       "      <td>2021-07-01</td>\n",
       "      <td>3</td>\n",
       "      <td>Абинск</td>\n",
       "    </tr>\n",
       "    <tr>\n",
       "      <th>c42fc8d3ad95a2e006567967814463a3</th>\n",
       "      <td>2021-07-01</td>\n",
       "      <td>15</td>\n",
       "      <td>Абинск</td>\n",
       "    </tr>\n",
       "    <tr>\n",
       "      <th>ce99dc79821948d73c0d2ab2d9eee25d</th>\n",
       "      <td>2021-07-01</td>\n",
       "      <td>5</td>\n",
       "      <td>Абинск</td>\n",
       "    </tr>\n",
       "    <tr>\n",
       "      <th>02db2c7539fb8a552f48b42e3096151f</th>\n",
       "      <td>2021-07-01</td>\n",
       "      <td>11</td>\n",
       "      <td>Абинск</td>\n",
       "    </tr>\n",
       "    <tr>\n",
       "      <th>d3fd4dd683cf977fabbf8804d4006dfe</th>\n",
       "      <td>2021-07-01</td>\n",
       "      <td>1</td>\n",
       "      <td>Абинск</td>\n",
       "    </tr>\n",
       "  </tbody>\n",
       "</table>\n",
       "</div>"
      ],
      "text/plain": [
       "                                  snap_date  days    city\n",
       "id_hash                                                  \n",
       "61fc25d86364a6a5d6e85319bcf7aef5 2021-07-01     3  Абинск\n",
       "c42fc8d3ad95a2e006567967814463a3 2021-07-01    15  Абинск\n",
       "ce99dc79821948d73c0d2ab2d9eee25d 2021-07-01     5  Абинск\n",
       "02db2c7539fb8a552f48b42e3096151f 2021-07-01    11  Абинск\n",
       "d3fd4dd683cf977fabbf8804d4006dfe 2021-07-01     1  Абинск"
      ]
     },
     "execution_count": 163,
     "metadata": {},
     "output_type": "execute_result"
    }
   ],
   "source": [
    "df_clean = df[['snap_date', 'days', 'city']]\n",
    "df_clean.head()"
   ]
  },
  {
   "cell_type": "code",
   "execution_count": 164,
   "metadata": {},
   "outputs": [
    {
     "data": {
      "text/plain": [
       "snap_date    0\n",
       "days         0\n",
       "city         0\n",
       "dtype: int64"
      ]
     },
     "execution_count": 164,
     "metadata": {},
     "output_type": "execute_result"
    }
   ],
   "source": [
    "df_clean.isnull().sum()"
   ]
  },
  {
   "cell_type": "code",
   "execution_count": 165,
   "metadata": {},
   "outputs": [],
   "source": [
    "df_clean_scatter = df[['snap_date', 'days']]"
   ]
  },
  {
   "cell_type": "code",
   "execution_count": 166,
   "metadata": {},
   "outputs": [],
   "source": [
    "df_clean = df_clean.groupby(df['snap_date'].dt.date)[['days']].count()"
   ]
  },
  {
   "cell_type": "code",
   "execution_count": 167,
   "metadata": {},
   "outputs": [
    {
     "data": {
      "text/html": [
       "<div>\n",
       "<style scoped>\n",
       "    .dataframe tbody tr th:only-of-type {\n",
       "        vertical-align: middle;\n",
       "    }\n",
       "\n",
       "    .dataframe tbody tr th {\n",
       "        vertical-align: top;\n",
       "    }\n",
       "\n",
       "    .dataframe thead th {\n",
       "        text-align: right;\n",
       "    }\n",
       "</style>\n",
       "<table border=\"1\" class=\"dataframe\">\n",
       "  <thead>\n",
       "    <tr style=\"text-align: right;\">\n",
       "      <th></th>\n",
       "      <th>days</th>\n",
       "    </tr>\n",
       "    <tr>\n",
       "      <th>snap_date</th>\n",
       "      <th></th>\n",
       "    </tr>\n",
       "  </thead>\n",
       "  <tbody>\n",
       "    <tr>\n",
       "      <th>2021-01-01</th>\n",
       "      <td>101699</td>\n",
       "    </tr>\n",
       "    <tr>\n",
       "      <th>2021-02-01</th>\n",
       "      <td>104176</td>\n",
       "    </tr>\n",
       "    <tr>\n",
       "      <th>2021-03-01</th>\n",
       "      <td>140644</td>\n",
       "    </tr>\n",
       "    <tr>\n",
       "      <th>2021-04-01</th>\n",
       "      <td>163275</td>\n",
       "    </tr>\n",
       "    <tr>\n",
       "      <th>2021-05-01</th>\n",
       "      <td>227996</td>\n",
       "    </tr>\n",
       "    <tr>\n",
       "      <th>2021-06-01</th>\n",
       "      <td>496136</td>\n",
       "    </tr>\n",
       "    <tr>\n",
       "      <th>2021-07-01</th>\n",
       "      <td>732466</td>\n",
       "    </tr>\n",
       "    <tr>\n",
       "      <th>2021-08-01</th>\n",
       "      <td>704539</td>\n",
       "    </tr>\n",
       "    <tr>\n",
       "      <th>2021-09-01</th>\n",
       "      <td>625963</td>\n",
       "    </tr>\n",
       "    <tr>\n",
       "      <th>2021-10-01</th>\n",
       "      <td>291965</td>\n",
       "    </tr>\n",
       "    <tr>\n",
       "      <th>2021-11-01</th>\n",
       "      <td>180131</td>\n",
       "    </tr>\n",
       "    <tr>\n",
       "      <th>2021-12-01</th>\n",
       "      <td>115701</td>\n",
       "    </tr>\n",
       "    <tr>\n",
       "      <th>2022-01-01</th>\n",
       "      <td>94941</td>\n",
       "    </tr>\n",
       "    <tr>\n",
       "      <th>2022-02-01</th>\n",
       "      <td>97906</td>\n",
       "    </tr>\n",
       "    <tr>\n",
       "      <th>2022-03-01</th>\n",
       "      <td>124376</td>\n",
       "    </tr>\n",
       "    <tr>\n",
       "      <th>2022-04-01</th>\n",
       "      <td>174053</td>\n",
       "    </tr>\n",
       "    <tr>\n",
       "      <th>2022-05-01</th>\n",
       "      <td>202423</td>\n",
       "    </tr>\n",
       "    <tr>\n",
       "      <th>2022-06-01</th>\n",
       "      <td>476025</td>\n",
       "    </tr>\n",
       "    <tr>\n",
       "      <th>2022-07-01</th>\n",
       "      <td>916845</td>\n",
       "    </tr>\n",
       "    <tr>\n",
       "      <th>2022-08-01</th>\n",
       "      <td>907556</td>\n",
       "    </tr>\n",
       "    <tr>\n",
       "      <th>2022-09-01</th>\n",
       "      <td>449346</td>\n",
       "    </tr>\n",
       "    <tr>\n",
       "      <th>2022-10-01</th>\n",
       "      <td>182898</td>\n",
       "    </tr>\n",
       "    <tr>\n",
       "      <th>2022-11-01</th>\n",
       "      <td>121659</td>\n",
       "    </tr>\n",
       "    <tr>\n",
       "      <th>2022-12-01</th>\n",
       "      <td>70852</td>\n",
       "    </tr>\n",
       "  </tbody>\n",
       "</table>\n",
       "</div>"
      ],
      "text/plain": [
       "              days\n",
       "snap_date         \n",
       "2021-01-01  101699\n",
       "2021-02-01  104176\n",
       "2021-03-01  140644\n",
       "2021-04-01  163275\n",
       "2021-05-01  227996\n",
       "2021-06-01  496136\n",
       "2021-07-01  732466\n",
       "2021-08-01  704539\n",
       "2021-09-01  625963\n",
       "2021-10-01  291965\n",
       "2021-11-01  180131\n",
       "2021-12-01  115701\n",
       "2022-01-01   94941\n",
       "2022-02-01   97906\n",
       "2022-03-01  124376\n",
       "2022-04-01  174053\n",
       "2022-05-01  202423\n",
       "2022-06-01  476025\n",
       "2022-07-01  916845\n",
       "2022-08-01  907556\n",
       "2022-09-01  449346\n",
       "2022-10-01  182898\n",
       "2022-11-01  121659\n",
       "2022-12-01   70852"
      ]
     },
     "execution_count": 167,
     "metadata": {},
     "output_type": "execute_result"
    }
   ],
   "source": [
    "df_clean = df_clean.sort_values(by=['snap_date'])\n",
    "df_clean "
   ]
  },
  {
   "cell_type": "code",
   "execution_count": 168,
   "metadata": {},
   "outputs": [],
   "source": [
    "#df_clean.set_index('snap_date', inplace=True)\n",
    "#df_clean.sort_index()\n",
    "#print(df_clean.head())"
   ]
  },
  {
   "cell_type": "code",
   "execution_count": 169,
   "metadata": {},
   "outputs": [],
   "source": [
    "rolling_mean = df_clean.rolling(7).mean()\n",
    "rolling_std = df_clean.rolling(7).std()"
   ]
  },
  {
   "cell_type": "code",
   "execution_count": 170,
   "metadata": {},
   "outputs": [
    {
     "data": {
      "text/plain": [
       "<matplotlib.legend.Legend at 0x7fec772e3730>"
      ]
     },
     "execution_count": 170,
     "metadata": {},
     "output_type": "execute_result"
    },
    {
     "data": {
      "image/png": "[encoded data removed]",
      "text/plain": [
       "<Figure size 640x480 with 1 Axes>"
      ]
     },
     "metadata": {},
     "output_type": "display_data"
    },
    {
     "data": {
      "image/png": "[encoded data removed]",
      "text/plain": [
       "<Figure size 800x600 with 1 Axes>"
      ]
     },
     "metadata": {},
     "output_type": "display_data"
    }
   ],
   "source": [
    "_ = plt.xticks(rotation=90)\n",
    "fig, ax = plt.subplots(figsize=(8, 6))\n",
    "plt.plot(df_clean, color=\"blue\",label=\"Original tourist data\")\n",
    "plt.ylabel(\"Tourist Number\")\n",
    "plt.xlabel('Year-Month')\n",
    "plt.legend()"
   ]
  },
  {
   "cell_type": "code",
   "execution_count": 171,
   "metadata": {},
   "outputs": [
    {
     "data": {
      "text/plain": [
       "<matplotlib.legend.Legend at 0x7fec77289570>"
      ]
     },
     "execution_count": 171,
     "metadata": {},
     "output_type": "execute_result"
    },
    {
     "data": {
      "image/png": "[encoded data removed]",
      "text/plain": [
       "<Figure size 640x480 with 1 Axes>"
      ]
     },
     "metadata": {},
     "output_type": "display_data"
    }
   ],
   "source": [
    "plt.plot(df_clean, color=\"blue\",label=\"Original tourist data\")\n",
    "plt.plot(rolling_mean, color=\"red\", label=\"Rolling Mean tourist number\")\n",
    "plt.plot(rolling_std, color=\"black\", label = \"Rolling Standard Deviation tourists\")\n",
    "plt.legend(loc=\"best\")"
   ]
  },
  {
   "cell_type": "code",
   "execution_count": 172,
   "metadata": {},
   "outputs": [
    {
     "name": "stdout",
     "output_type": "stream",
     "text": [
      "      Values                       Metric\n",
      "0  -3.205318              Test Statistics\n",
      "1   0.019679                      p-value\n",
      "2   9.000000             No. of lags used\n",
      "3  14.000000  Number of observations used\n",
      "4  -4.012034          critical value (1%)\n",
      "5  -3.104184          critical value (5%)\n",
      "6  -2.690987         critical value (10%)\n"
     ]
    }
   ],
   "source": [
    "adft = adfuller(df_clean,autolag=\"AIC\")\n",
    "output_df = pd.DataFrame({\"Values\":[adft[0],adft[1],adft[2],adft[3], adft[4]['1%'], adft[4]['5%'], adft[4]['10%']]  , \"Metric\":[\"Test Statistics\",\"p-value\",\"No. of lags used\",\"Number of observations used\", \n",
    "                                                        \"critical value (1%)\", \"critical value (5%)\", \"critical value (10%)\"]})\n",
    "print(output_df)"
   ]
  },
  {
   "attachments": {},
   "cell_type": "markdown",
   "metadata": {},
   "source": [
    "=> reject Nul hypothesis, data is stationary"
   ]
  },
  {
   "cell_type": "code",
   "execution_count": 173,
   "metadata": {},
   "outputs": [
    {
     "name": "stdout",
     "output_type": "stream",
     "text": [
      "One Month Lag:  0.7473825626315135\n"
     ]
    }
   ],
   "source": [
    "autocorrelation_lag1 = df_clean['days'].autocorr(lag=1)\n",
    "print(\"One Month Lag: \", autocorrelation_lag1)"
   ]
  },
  {
   "cell_type": "code",
   "execution_count": 174,
   "metadata": {},
   "outputs": [
    {
     "name": "stdout",
     "output_type": "stream",
     "text": [
      "Three Month Lag:  -0.2764128368061294\n",
      "Six Month Lag:  -0.6780796153530771\n",
      "Nine Month Lag:  0.020808164839368648\n",
      "Twelve Month Lag:  0.9495561731236075\n"
     ]
    }
   ],
   "source": [
    "autocorrelation_lag3 = df_clean['days'].autocorr(lag=3)\n",
    "print(\"Three Month Lag: \", autocorrelation_lag3)\n",
    "\n",
    "autocorrelation_lag6 = df_clean['days'].autocorr(lag=6)\n",
    "print(\"Six Month Lag: \", autocorrelation_lag6)\n",
    "\n",
    "autocorrelation_lag9 = df_clean['days'].autocorr(lag=9)\n",
    "print(\"Nine Month Lag: \", autocorrelation_lag9)\n",
    "\n",
    "autocorrelation_lag12 = df_clean['days'].autocorr(lag=12)\n",
    "print(\"Twelve Month Lag: \", autocorrelation_lag12)\n"
   ]
  },
  {
   "cell_type": "code",
   "execution_count": 175,
   "metadata": {},
   "outputs": [
    {
     "data": {
      "image/png": "[encoded data removed]",
      "text/plain": [
       "<Figure size 640x480 with 4 Axes>"
      ]
     },
     "metadata": {},
     "output_type": "display_data"
    }
   ],
   "source": [
    "decompose = seasonal_decompose(df_clean['days'],model='additive', period=7)\n",
    "decompose.plot()\n",
    "plt.show()"
   ]
  },
  {
   "cell_type": "code",
   "execution_count": 176,
   "metadata": {},
   "outputs": [
    {
     "data": {
      "text/html": [
       "<div>\n",
       "<style scoped>\n",
       "    .dataframe tbody tr th:only-of-type {\n",
       "        vertical-align: middle;\n",
       "    }\n",
       "\n",
       "    .dataframe tbody tr th {\n",
       "        vertical-align: top;\n",
       "    }\n",
       "\n",
       "    .dataframe thead th {\n",
       "        text-align: right;\n",
       "    }\n",
       "</style>\n",
       "<table border=\"1\" class=\"dataframe\">\n",
       "  <thead>\n",
       "    <tr style=\"text-align: right;\">\n",
       "      <th></th>\n",
       "      <th>days</th>\n",
       "    </tr>\n",
       "    <tr>\n",
       "      <th>snap_date</th>\n",
       "      <th></th>\n",
       "    </tr>\n",
       "  </thead>\n",
       "  <tbody>\n",
       "    <tr>\n",
       "      <th>2021-01-01</th>\n",
       "      <td>101699</td>\n",
       "    </tr>\n",
       "    <tr>\n",
       "      <th>2021-02-01</th>\n",
       "      <td>104176</td>\n",
       "    </tr>\n",
       "    <tr>\n",
       "      <th>2021-03-01</th>\n",
       "      <td>140644</td>\n",
       "    </tr>\n",
       "    <tr>\n",
       "      <th>2021-04-01</th>\n",
       "      <td>163275</td>\n",
       "    </tr>\n",
       "    <tr>\n",
       "      <th>2021-05-01</th>\n",
       "      <td>227996</td>\n",
       "    </tr>\n",
       "    <tr>\n",
       "      <th>2021-06-01</th>\n",
       "      <td>496136</td>\n",
       "    </tr>\n",
       "    <tr>\n",
       "      <th>2021-07-01</th>\n",
       "      <td>732466</td>\n",
       "    </tr>\n",
       "    <tr>\n",
       "      <th>2021-08-01</th>\n",
       "      <td>704539</td>\n",
       "    </tr>\n",
       "    <tr>\n",
       "      <th>2021-09-01</th>\n",
       "      <td>625963</td>\n",
       "    </tr>\n",
       "    <tr>\n",
       "      <th>2021-10-01</th>\n",
       "      <td>291965</td>\n",
       "    </tr>\n",
       "    <tr>\n",
       "      <th>2021-11-01</th>\n",
       "      <td>180131</td>\n",
       "    </tr>\n",
       "    <tr>\n",
       "      <th>2021-12-01</th>\n",
       "      <td>115701</td>\n",
       "    </tr>\n",
       "    <tr>\n",
       "      <th>2022-01-01</th>\n",
       "      <td>94941</td>\n",
       "    </tr>\n",
       "    <tr>\n",
       "      <th>2022-02-01</th>\n",
       "      <td>97906</td>\n",
       "    </tr>\n",
       "    <tr>\n",
       "      <th>2022-03-01</th>\n",
       "      <td>124376</td>\n",
       "    </tr>\n",
       "    <tr>\n",
       "      <th>2022-04-01</th>\n",
       "      <td>174053</td>\n",
       "    </tr>\n",
       "    <tr>\n",
       "      <th>2022-05-01</th>\n",
       "      <td>202423</td>\n",
       "    </tr>\n",
       "    <tr>\n",
       "      <th>2022-06-01</th>\n",
       "      <td>476025</td>\n",
       "    </tr>\n",
       "    <tr>\n",
       "      <th>2022-07-01</th>\n",
       "      <td>916845</td>\n",
       "    </tr>\n",
       "    <tr>\n",
       "      <th>2022-08-01</th>\n",
       "      <td>907556</td>\n",
       "    </tr>\n",
       "    <tr>\n",
       "      <th>2022-09-01</th>\n",
       "      <td>449346</td>\n",
       "    </tr>\n",
       "    <tr>\n",
       "      <th>2022-10-01</th>\n",
       "      <td>182898</td>\n",
       "    </tr>\n",
       "    <tr>\n",
       "      <th>2022-11-01</th>\n",
       "      <td>121659</td>\n",
       "    </tr>\n",
       "    <tr>\n",
       "      <th>2022-12-01</th>\n",
       "      <td>70852</td>\n",
       "    </tr>\n",
       "  </tbody>\n",
       "</table>\n",
       "</div>"
      ],
      "text/plain": [
       "              days\n",
       "snap_date         \n",
       "2021-01-01  101699\n",
       "2021-02-01  104176\n",
       "2021-03-01  140644\n",
       "2021-04-01  163275\n",
       "2021-05-01  227996\n",
       "2021-06-01  496136\n",
       "2021-07-01  732466\n",
       "2021-08-01  704539\n",
       "2021-09-01  625963\n",
       "2021-10-01  291965\n",
       "2021-11-01  180131\n",
       "2021-12-01  115701\n",
       "2022-01-01   94941\n",
       "2022-02-01   97906\n",
       "2022-03-01  124376\n",
       "2022-04-01  174053\n",
       "2022-05-01  202423\n",
       "2022-06-01  476025\n",
       "2022-07-01  916845\n",
       "2022-08-01  907556\n",
       "2022-09-01  449346\n",
       "2022-10-01  182898\n",
       "2022-11-01  121659\n",
       "2022-12-01   70852"
      ]
     },
     "execution_count": 176,
     "metadata": {},
     "output_type": "execute_result"
    }
   ],
   "source": [
    "df_clean"
   ]
  },
  {
   "cell_type": "code",
   "execution_count": 177,
   "metadata": {},
   "outputs": [
    {
     "data": {
      "text/html": [
       "<div>\n",
       "<style scoped>\n",
       "    .dataframe tbody tr th:only-of-type {\n",
       "        vertical-align: middle;\n",
       "    }\n",
       "\n",
       "    .dataframe tbody tr th {\n",
       "        vertical-align: top;\n",
       "    }\n",
       "\n",
       "    .dataframe thead th {\n",
       "        text-align: right;\n",
       "    }\n",
       "</style>\n",
       "<table border=\"1\" class=\"dataframe\">\n",
       "  <thead>\n",
       "    <tr style=\"text-align: right;\">\n",
       "      <th></th>\n",
       "      <th>days</th>\n",
       "    </tr>\n",
       "  </thead>\n",
       "  <tbody>\n",
       "    <tr>\n",
       "      <th>count</th>\n",
       "      <td>24.000000</td>\n",
       "    </tr>\n",
       "    <tr>\n",
       "      <th>mean</th>\n",
       "      <td>320982.125000</td>\n",
       "    </tr>\n",
       "    <tr>\n",
       "      <th>std</th>\n",
       "      <td>271888.183629</td>\n",
       "    </tr>\n",
       "    <tr>\n",
       "      <th>min</th>\n",
       "      <td>70852.000000</td>\n",
       "    </tr>\n",
       "    <tr>\n",
       "      <th>25%</th>\n",
       "      <td>120169.500000</td>\n",
       "    </tr>\n",
       "    <tr>\n",
       "      <th>50%</th>\n",
       "      <td>181514.500000</td>\n",
       "    </tr>\n",
       "    <tr>\n",
       "      <th>75%</th>\n",
       "      <td>481052.750000</td>\n",
       "    </tr>\n",
       "    <tr>\n",
       "      <th>max</th>\n",
       "      <td>916845.000000</td>\n",
       "    </tr>\n",
       "  </tbody>\n",
       "</table>\n",
       "</div>"
      ],
      "text/plain": [
       "                days\n",
       "count      24.000000\n",
       "mean   320982.125000\n",
       "std    271888.183629\n",
       "min     70852.000000\n",
       "25%    120169.500000\n",
       "50%    181514.500000\n",
       "75%    481052.750000\n",
       "max    916845.000000"
      ]
     },
     "execution_count": 177,
     "metadata": {},
     "output_type": "execute_result"
    }
   ],
   "source": [
    "df_clean.describe()"
   ]
  },
  {
   "cell_type": "code",
   "execution_count": 178,
   "metadata": {},
   "outputs": [
    {
     "name": "stdout",
     "output_type": "stream",
     "text": [
      "<class 'pandas.core.frame.DataFrame'>\n",
      "Index: 24 entries, 2021-01-01 to 2022-12-01\n",
      "Data columns (total 1 columns):\n",
      " #   Column  Non-Null Count  Dtype\n",
      "---  ------  --------------  -----\n",
      " 0   days    24 non-null     int64\n",
      "dtypes: int64(1)\n",
      "memory usage: 384.0+ bytes\n"
     ]
    }
   ],
   "source": [
    "df_clean.info()"
   ]
  },
  {
   "cell_type": "code",
   "execution_count": 179,
   "metadata": {},
   "outputs": [],
   "source": [
    "#train = df_count_perdate.iloc[:12]\n",
    "#train['train'] = train['days']\n",
    "#del train['days']\n",
    "#test = df_count_perdate.tail(12)"
   ]
  },
  {
   "cell_type": "code",
   "execution_count": 180,
   "metadata": {},
   "outputs": [
    {
     "ename": "KeyboardInterrupt",
     "evalue": "",
     "output_type": "error",
     "traceback": [
      "\u001b[0;31m---------------------------------------------------------------------------\u001b[0m",
      "\u001b[0;31mKeyboardInterrupt\u001b[0m                         Traceback (most recent call last)",
      "Cell \u001b[0;32mIn[180], line 1\u001b[0m\n\u001b[0;32m----> 1\u001b[0m df_count_perdate \u001b[39m=\u001b[39m df_days\u001b[39m.\u001b[39;49mgroupby(df[\u001b[39m'\u001b[39;49m\u001b[39msnap_date\u001b[39;49m\u001b[39m'\u001b[39;49m]\u001b[39m.\u001b[39;49mdt\u001b[39m.\u001b[39;49mdate)[[\u001b[39m'\u001b[39m\u001b[39mdays\u001b[39m\u001b[39m'\u001b[39m]]\u001b[39m.\u001b[39mcount()\n\u001b[1;32m      2\u001b[0m train \u001b[39m=\u001b[39m df_count_perdate\u001b[39m.\u001b[39miloc[:\u001b[39m-\u001b[39m\u001b[39m12\u001b[39m]\n\u001b[1;32m      3\u001b[0m train[\u001b[39m'\u001b[39m\u001b[39mtrain\u001b[39m\u001b[39m'\u001b[39m] \u001b[39m=\u001b[39m train[\u001b[39m'\u001b[39m\u001b[39mdays\u001b[39m\u001b[39m'\u001b[39m]\n",
      "File \u001b[0;32m~/anaconda3/lib/python3.10/site-packages/pandas/core/frame.py:8402\u001b[0m, in \u001b[0;36mDataFrame.groupby\u001b[0;34m(self, by, axis, level, as_index, sort, group_keys, squeeze, observed, dropna)\u001b[0m\n\u001b[1;32m   8399\u001b[0m     \u001b[39mraise\u001b[39;00m \u001b[39mTypeError\u001b[39;00m(\u001b[39m\"\u001b[39m\u001b[39mYou have to supply one of \u001b[39m\u001b[39m'\u001b[39m\u001b[39mby\u001b[39m\u001b[39m'\u001b[39m\u001b[39m and \u001b[39m\u001b[39m'\u001b[39m\u001b[39mlevel\u001b[39m\u001b[39m'\u001b[39m\u001b[39m\"\u001b[39m)\n\u001b[1;32m   8400\u001b[0m axis \u001b[39m=\u001b[39m \u001b[39mself\u001b[39m\u001b[39m.\u001b[39m_get_axis_number(axis)\n\u001b[0;32m-> 8402\u001b[0m \u001b[39mreturn\u001b[39;00m DataFrameGroupBy(\n\u001b[1;32m   8403\u001b[0m     obj\u001b[39m=\u001b[39;49m\u001b[39mself\u001b[39;49m,\n\u001b[1;32m   8404\u001b[0m     keys\u001b[39m=\u001b[39;49mby,\n\u001b[1;32m   8405\u001b[0m     axis\u001b[39m=\u001b[39;49maxis,\n\u001b[1;32m   8406\u001b[0m     level\u001b[39m=\u001b[39;49mlevel,\n\u001b[1;32m   8407\u001b[0m     as_index\u001b[39m=\u001b[39;49mas_index,\n\u001b[1;32m   8408\u001b[0m     sort\u001b[39m=\u001b[39;49msort,\n\u001b[1;32m   8409\u001b[0m     group_keys\u001b[39m=\u001b[39;49mgroup_keys,\n\u001b[1;32m   8410\u001b[0m     squeeze\u001b[39m=\u001b[39;49msqueeze,\n\u001b[1;32m   8411\u001b[0m     observed\u001b[39m=\u001b[39;49mobserved,\n\u001b[1;32m   8412\u001b[0m     dropna\u001b[39m=\u001b[39;49mdropna,\n\u001b[1;32m   8413\u001b[0m )\n",
      "File \u001b[0;32m~/anaconda3/lib/python3.10/site-packages/pandas/core/groupby/groupby.py:965\u001b[0m, in \u001b[0;36mGroupBy.__init__\u001b[0;34m(self, obj, keys, axis, level, grouper, exclusions, selection, as_index, sort, group_keys, squeeze, observed, mutated, dropna)\u001b[0m\n\u001b[1;32m    962\u001b[0m \u001b[39mif\u001b[39;00m grouper \u001b[39mis\u001b[39;00m \u001b[39mNone\u001b[39;00m:\n\u001b[1;32m    963\u001b[0m     \u001b[39mfrom\u001b[39;00m \u001b[39mpandas\u001b[39;00m\u001b[39m.\u001b[39;00m\u001b[39mcore\u001b[39;00m\u001b[39m.\u001b[39;00m\u001b[39mgroupby\u001b[39;00m\u001b[39m.\u001b[39;00m\u001b[39mgrouper\u001b[39;00m \u001b[39mimport\u001b[39;00m get_grouper\n\u001b[0;32m--> 965\u001b[0m     grouper, exclusions, obj \u001b[39m=\u001b[39m get_grouper(\n\u001b[1;32m    966\u001b[0m         obj,\n\u001b[1;32m    967\u001b[0m         keys,\n\u001b[1;32m    968\u001b[0m         axis\u001b[39m=\u001b[39;49maxis,\n\u001b[1;32m    969\u001b[0m         level\u001b[39m=\u001b[39;49mlevel,\n\u001b[1;32m    970\u001b[0m         sort\u001b[39m=\u001b[39;49msort,\n\u001b[1;32m    971\u001b[0m         observed\u001b[39m=\u001b[39;49mobserved,\n\u001b[1;32m    972\u001b[0m         mutated\u001b[39m=\u001b[39;49m\u001b[39mself\u001b[39;49m\u001b[39m.\u001b[39;49mmutated,\n\u001b[1;32m    973\u001b[0m         dropna\u001b[39m=\u001b[39;49m\u001b[39mself\u001b[39;49m\u001b[39m.\u001b[39;49mdropna,\n\u001b[1;32m    974\u001b[0m     )\n\u001b[1;32m    976\u001b[0m \u001b[39mself\u001b[39m\u001b[39m.\u001b[39mobj \u001b[39m=\u001b[39m obj\n\u001b[1;32m    977\u001b[0m \u001b[39mself\u001b[39m\u001b[39m.\u001b[39maxis \u001b[39m=\u001b[39m obj\u001b[39m.\u001b[39m_get_axis_number(axis)\n",
      "File \u001b[0;32m~/anaconda3/lib/python3.10/site-packages/pandas/core/groupby/grouper.py:899\u001b[0m, in \u001b[0;36mget_grouper\u001b[0;34m(obj, key, axis, level, sort, observed, mutated, validate, dropna)\u001b[0m\n\u001b[1;32m    894\u001b[0m         in_axis \u001b[39m=\u001b[39m \u001b[39mFalse\u001b[39;00m\n\u001b[1;32m    896\u001b[0m     \u001b[39m# create the Grouping\u001b[39;00m\n\u001b[1;32m    897\u001b[0m     \u001b[39m# allow us to passing the actual Grouping as the gpr\u001b[39;00m\n\u001b[1;32m    898\u001b[0m     ping \u001b[39m=\u001b[39m (\n\u001b[0;32m--> 899\u001b[0m         Grouping(\n\u001b[1;32m    900\u001b[0m             group_axis,\n\u001b[1;32m    901\u001b[0m             gpr,\n\u001b[1;32m    902\u001b[0m             obj\u001b[39m=\u001b[39;49mobj,\n\u001b[1;32m    903\u001b[0m             level\u001b[39m=\u001b[39;49mlevel,\n\u001b[1;32m    904\u001b[0m             sort\u001b[39m=\u001b[39;49msort,\n\u001b[1;32m    905\u001b[0m             observed\u001b[39m=\u001b[39;49mobserved,\n\u001b[1;32m    906\u001b[0m             in_axis\u001b[39m=\u001b[39;49min_axis,\n\u001b[1;32m    907\u001b[0m             dropna\u001b[39m=\u001b[39;49mdropna,\n\u001b[1;32m    908\u001b[0m         )\n\u001b[1;32m    909\u001b[0m         \u001b[39mif\u001b[39;00m \u001b[39mnot\u001b[39;00m \u001b[39misinstance\u001b[39m(gpr, Grouping)\n\u001b[1;32m    910\u001b[0m         \u001b[39melse\u001b[39;00m gpr\n\u001b[1;32m    911\u001b[0m     )\n\u001b[1;32m    913\u001b[0m     groupings\u001b[39m.\u001b[39mappend(ping)\n\u001b[1;32m    915\u001b[0m \u001b[39mif\u001b[39;00m \u001b[39mlen\u001b[39m(groupings) \u001b[39m==\u001b[39m \u001b[39m0\u001b[39m \u001b[39mand\u001b[39;00m \u001b[39mlen\u001b[39m(obj):\n",
      "File \u001b[0;32m~/anaconda3/lib/python3.10/site-packages/pandas/core/groupby/grouper.py:480\u001b[0m, in \u001b[0;36mGrouping.__init__\u001b[0;34m(self, index, grouper, obj, level, sort, observed, in_axis, dropna)\u001b[0m\n\u001b[1;32m    478\u001b[0m \u001b[39mself\u001b[39m\u001b[39m.\u001b[39mlevel \u001b[39m=\u001b[39m level\n\u001b[1;32m    479\u001b[0m \u001b[39mself\u001b[39m\u001b[39m.\u001b[39m_orig_grouper \u001b[39m=\u001b[39m grouper\n\u001b[0;32m--> 480\u001b[0m \u001b[39mself\u001b[39m\u001b[39m.\u001b[39mgrouping_vector \u001b[39m=\u001b[39m _convert_grouper(index, grouper)\n\u001b[1;32m    481\u001b[0m \u001b[39mself\u001b[39m\u001b[39m.\u001b[39m_all_grouper \u001b[39m=\u001b[39m \u001b[39mNone\u001b[39;00m\n\u001b[1;32m    482\u001b[0m \u001b[39mself\u001b[39m\u001b[39m.\u001b[39m_index \u001b[39m=\u001b[39m index\n",
      "File \u001b[0;32m~/anaconda3/lib/python3.10/site-packages/pandas/core/groupby/grouper.py:938\u001b[0m, in \u001b[0;36m_convert_grouper\u001b[0;34m(axis, grouper)\u001b[0m\n\u001b[1;32m    936\u001b[0m         \u001b[39mreturn\u001b[39;00m grouper\u001b[39m.\u001b[39m_values\n\u001b[1;32m    937\u001b[0m     \u001b[39melse\u001b[39;00m:\n\u001b[0;32m--> 938\u001b[0m         \u001b[39mreturn\u001b[39;00m grouper\u001b[39m.\u001b[39;49mreindex(axis)\u001b[39m.\u001b[39m_values\n\u001b[1;32m    939\u001b[0m \u001b[39melif\u001b[39;00m \u001b[39misinstance\u001b[39m(grouper, MultiIndex):\n\u001b[1;32m    940\u001b[0m     \u001b[39mreturn\u001b[39;00m grouper\u001b[39m.\u001b[39m_values\n",
      "File \u001b[0;32m~/anaconda3/lib/python3.10/site-packages/pandas/core/series.py:5094\u001b[0m, in \u001b[0;36mSeries.reindex\u001b[0;34m(self, *args, **kwargs)\u001b[0m\n\u001b[1;32m   5090\u001b[0m         \u001b[39mraise\u001b[39;00m \u001b[39mTypeError\u001b[39;00m(\n\u001b[1;32m   5091\u001b[0m             \u001b[39m\"\u001b[39m\u001b[39m'\u001b[39m\u001b[39mindex\u001b[39m\u001b[39m'\u001b[39m\u001b[39m passed as both positional and keyword argument\u001b[39m\u001b[39m\"\u001b[39m\n\u001b[1;32m   5092\u001b[0m         )\n\u001b[1;32m   5093\u001b[0m     kwargs\u001b[39m.\u001b[39mupdate({\u001b[39m\"\u001b[39m\u001b[39mindex\u001b[39m\u001b[39m\"\u001b[39m: index})\n\u001b[0;32m-> 5094\u001b[0m \u001b[39mreturn\u001b[39;00m \u001b[39msuper\u001b[39;49m()\u001b[39m.\u001b[39;49mreindex(\u001b[39m*\u001b[39;49m\u001b[39m*\u001b[39;49mkwargs)\n",
      "File \u001b[0;32m~/anaconda3/lib/python3.10/site-packages/pandas/core/generic.py:5289\u001b[0m, in \u001b[0;36mNDFrame.reindex\u001b[0;34m(self, *args, **kwargs)\u001b[0m\n\u001b[1;32m   5286\u001b[0m     \u001b[39mreturn\u001b[39;00m \u001b[39mself\u001b[39m\u001b[39m.\u001b[39m_reindex_multi(axes, copy, fill_value)\n\u001b[1;32m   5288\u001b[0m \u001b[39m# perform the reindex on the axes\u001b[39;00m\n\u001b[0;32m-> 5289\u001b[0m \u001b[39mreturn\u001b[39;00m \u001b[39mself\u001b[39;49m\u001b[39m.\u001b[39;49m_reindex_axes(\n\u001b[1;32m   5290\u001b[0m     axes, level, limit, tolerance, method, fill_value, copy\n\u001b[1;32m   5291\u001b[0m )\u001b[39m.\u001b[39m__finalize__(\u001b[39mself\u001b[39m, method\u001b[39m=\u001b[39m\u001b[39m\"\u001b[39m\u001b[39mreindex\u001b[39m\u001b[39m\"\u001b[39m)\n",
      "File \u001b[0;32m~/anaconda3/lib/python3.10/site-packages/pandas/core/generic.py:5304\u001b[0m, in \u001b[0;36mNDFrame._reindex_axes\u001b[0;34m(self, axes, level, limit, tolerance, method, fill_value, copy)\u001b[0m\n\u001b[1;32m   5301\u001b[0m     \u001b[39mcontinue\u001b[39;00m\n\u001b[1;32m   5303\u001b[0m ax \u001b[39m=\u001b[39m \u001b[39mself\u001b[39m\u001b[39m.\u001b[39m_get_axis(a)\n\u001b[0;32m-> 5304\u001b[0m new_index, indexer \u001b[39m=\u001b[39m ax\u001b[39m.\u001b[39;49mreindex(\n\u001b[1;32m   5305\u001b[0m     labels, level\u001b[39m=\u001b[39;49mlevel, limit\u001b[39m=\u001b[39;49mlimit, tolerance\u001b[39m=\u001b[39;49mtolerance, method\u001b[39m=\u001b[39;49mmethod\n\u001b[1;32m   5306\u001b[0m )\n\u001b[1;32m   5308\u001b[0m axis \u001b[39m=\u001b[39m \u001b[39mself\u001b[39m\u001b[39m.\u001b[39m_get_axis_number(a)\n\u001b[1;32m   5309\u001b[0m obj \u001b[39m=\u001b[39m obj\u001b[39m.\u001b[39m_reindex_with_indexers(\n\u001b[1;32m   5310\u001b[0m     {axis: [new_index, indexer]},\n\u001b[1;32m   5311\u001b[0m     fill_value\u001b[39m=\u001b[39mfill_value,\n\u001b[1;32m   5312\u001b[0m     copy\u001b[39m=\u001b[39mcopy,\n\u001b[1;32m   5313\u001b[0m     allow_dups\u001b[39m=\u001b[39m\u001b[39mFalse\u001b[39;00m,\n\u001b[1;32m   5314\u001b[0m )\n",
      "File \u001b[0;32m~/anaconda3/lib/python3.10/site-packages/pandas/core/indexes/base.py:4423\u001b[0m, in \u001b[0;36mIndex.reindex\u001b[0;34m(self, target, method, level, limit, tolerance)\u001b[0m\n\u001b[1;32m   4418\u001b[0m     \u001b[39mif\u001b[39;00m method \u001b[39mis\u001b[39;00m \u001b[39mnot\u001b[39;00m \u001b[39mNone\u001b[39;00m \u001b[39mor\u001b[39;00m limit \u001b[39mis\u001b[39;00m \u001b[39mnot\u001b[39;00m \u001b[39mNone\u001b[39;00m:\n\u001b[1;32m   4419\u001b[0m         \u001b[39mraise\u001b[39;00m \u001b[39mValueError\u001b[39;00m(\n\u001b[1;32m   4420\u001b[0m             \u001b[39m\"\u001b[39m\u001b[39mcannot reindex a non-unique index \u001b[39m\u001b[39m\"\u001b[39m\n\u001b[1;32m   4421\u001b[0m             \u001b[39m\"\u001b[39m\u001b[39mwith a method or limit\u001b[39m\u001b[39m\"\u001b[39m\n\u001b[1;32m   4422\u001b[0m         )\n\u001b[0;32m-> 4423\u001b[0m     indexer, _ \u001b[39m=\u001b[39m \u001b[39mself\u001b[39;49m\u001b[39m.\u001b[39;49mget_indexer_non_unique(target)\n\u001b[1;32m   4425\u001b[0m \u001b[39mif\u001b[39;00m \u001b[39mnot\u001b[39;00m \u001b[39mself\u001b[39m\u001b[39m.\u001b[39mis_unique:\n\u001b[1;32m   4426\u001b[0m     \u001b[39m# GH#42568\u001b[39;00m\n\u001b[1;32m   4427\u001b[0m     warnings\u001b[39m.\u001b[39mwarn(\n\u001b[1;32m   4428\u001b[0m         \u001b[39m\"\u001b[39m\u001b[39mreindexing with a non-unique Index is deprecated and \u001b[39m\u001b[39m\"\u001b[39m\n\u001b[1;32m   4429\u001b[0m         \u001b[39m\"\u001b[39m\u001b[39mwill raise in a future version.\u001b[39m\u001b[39m\"\u001b[39m,\n\u001b[1;32m   4430\u001b[0m         \u001b[39mFutureWarning\u001b[39;00m,\n\u001b[1;32m   4431\u001b[0m         stacklevel\u001b[39m=\u001b[39mfind_stack_level(),\n\u001b[1;32m   4432\u001b[0m     )\n",
      "File \u001b[0;32m~/anaconda3/lib/python3.10/site-packages/pandas/core/indexes/base.py:6029\u001b[0m, in \u001b[0;36mIndex.get_indexer_non_unique\u001b[0;34m(self, target)\u001b[0m\n\u001b[1;32m   6025\u001b[0m     \u001b[39m# Item \"IndexEngine\" of \"Union[IndexEngine, ExtensionEngine]\" has\u001b[39;00m\n\u001b[1;32m   6026\u001b[0m     \u001b[39m# no attribute \"_extract_level_codes\"\u001b[39;00m\n\u001b[1;32m   6027\u001b[0m     tgt_values \u001b[39m=\u001b[39m engine\u001b[39m.\u001b[39m_extract_level_codes(target)  \u001b[39m# type: ignore[union-attr]\u001b[39;00m\n\u001b[0;32m-> 6029\u001b[0m indexer, missing \u001b[39m=\u001b[39m \u001b[39mself\u001b[39;49m\u001b[39m.\u001b[39;49m_engine\u001b[39m.\u001b[39;49mget_indexer_non_unique(tgt_values)\n\u001b[1;32m   6030\u001b[0m \u001b[39mreturn\u001b[39;00m ensure_platform_int(indexer), ensure_platform_int(missing)\n",
      "File \u001b[0;32m~/anaconda3/lib/python3.10/site-packages/pandas/_libs/index.pyx:427\u001b[0m, in \u001b[0;36mpandas._libs.index.IndexEngine.get_indexer_non_unique\u001b[0;34m()\u001b[0m\n",
      "File \u001b[0;32m<__array_function__ internals>:180\u001b[0m, in \u001b[0;36mresize\u001b[0;34m(*args, **kwargs)\u001b[0m\n",
      "File \u001b[0;32m~/anaconda3/lib/python3.10/site-packages/numpy/core/fromnumeric.py:1469\u001b[0m, in \u001b[0;36mresize\u001b[0;34m(a, new_shape)\u001b[0m\n\u001b[1;32m   1466\u001b[0m     \u001b[39mreturn\u001b[39;00m np\u001b[39m.\u001b[39mzeros_like(a, shape\u001b[39m=\u001b[39mnew_shape)\n\u001b[1;32m   1468\u001b[0m repeats \u001b[39m=\u001b[39m \u001b[39m-\u001b[39m(\u001b[39m-\u001b[39mnew_size \u001b[39m/\u001b[39m\u001b[39m/\u001b[39m a\u001b[39m.\u001b[39msize)  \u001b[39m# ceil division\u001b[39;00m\n\u001b[0;32m-> 1469\u001b[0m a \u001b[39m=\u001b[39m concatenate((a,) \u001b[39m*\u001b[39;49m repeats)[:new_size]\n\u001b[1;32m   1471\u001b[0m \u001b[39mreturn\u001b[39;00m reshape(a, new_shape)\n",
      "File \u001b[0;32m<__array_function__ internals>:180\u001b[0m, in \u001b[0;36mconcatenate\u001b[0;34m(*args, **kwargs)\u001b[0m\n",
      "\u001b[0;31mKeyboardInterrupt\u001b[0m: "
     ]
    }
   ],
   "source": [
    "df_count_perdate = df_days.groupby(df['snap_date'].dt.date)[['days']].count()\n",
    "train = df_count_perdate.iloc[:-12]\n",
    "train['train'] = train['days']\n",
    "del train['days']\n",
    "test = df_count_perdate.iloc[-12:]\n",
    "test['test'] = test['days']\n",
    "del test['days']\n",
    "plt.plot(train, color = \"black\")\n",
    "plt.plot(test, color = \"red\")\n",
    "plt.title(\"Train/Test split for tourist volume data\")\n",
    "plt.ylabel(\"Tourist Number\")\n",
    "plt.xlabel('Year-Month')\n",
    "plt.legend()\n",
    "plt.show()"
   ]
  },
  {
   "cell_type": "code",
   "execution_count": null,
   "metadata": {},
   "outputs": [
    {
     "name": "stdout",
     "output_type": "stream",
     "text": [
      "Performing stepwise search to minimize aic\n",
      " ARIMA(2,0,2)(0,0,0)[0] intercept   : AIC=inf, Time=0.07 sec\n",
      " ARIMA(0,0,0)(0,0,0)[0] intercept   : AIC=334.894, Time=0.01 sec\n",
      " ARIMA(1,0,0)(0,0,0)[0] intercept   : AIC=326.335, Time=0.01 sec\n",
      " ARIMA(0,0,1)(0,0,0)[0] intercept   : AIC=329.912, Time=0.01 sec\n",
      " ARIMA(0,0,0)(0,0,0)[0]             : AIC=345.646, Time=0.01 sec\n",
      " ARIMA(2,0,0)(0,0,0)[0] intercept   : AIC=320.400, Time=0.01 sec\n",
      " ARIMA(3,0,0)(0,0,0)[0] intercept   : AIC=321.562, Time=0.02 sec\n",
      " ARIMA(2,0,1)(0,0,0)[0] intercept   : AIC=324.730, Time=0.02 sec\n",
      " ARIMA(1,0,1)(0,0,0)[0] intercept   : AIC=325.074, Time=0.01 sec\n",
      " ARIMA(3,0,1)(0,0,0)[0] intercept   : AIC=323.312, Time=0.02 sec\n",
      " ARIMA(2,0,0)(0,0,0)[0]             : AIC=322.705, Time=0.01 sec\n",
      "\n",
      "Best model:  ARIMA(2,0,0)(0,0,0)[0] intercept\n",
      "Total fit time: 0.215 seconds\n"
     ]
    },
    {
     "data": {
      "text/html": [
       "<style>#sk-container-id-3 {color: black;background-color: white;}#sk-container-id-3 pre{padding: 0;}#sk-container-id-3 div.sk-toggleable {background-color: white;}#sk-container-id-3 label.sk-toggleable__label {cursor: pointer;display: block;width: 100%;margin-bottom: 0;padding: 0.3em;box-sizing: border-box;text-align: center;}#sk-container-id-3 label.sk-toggleable__label-arrow:before {content: \"▸\";float: left;margin-right: 0.25em;color: #696969;}#sk-container-id-3 label.sk-toggleable__label-arrow:hover:before {color: black;}#sk-container-id-3 div.sk-estimator:hover label.sk-toggleable__label-arrow:before {color: black;}#sk-container-id-3 div.sk-toggleable__content {max-height: 0;max-width: 0;overflow: hidden;text-align: left;background-color: #f0f8ff;}#sk-container-id-3 div.sk-toggleable__content pre {margin: 0.2em;color: black;border-radius: 0.25em;background-color: #f0f8ff;}#sk-container-id-3 input.sk-toggleable__control:checked~div.sk-toggleable__content {max-height: 200px;max-width: 100%;overflow: auto;}#sk-container-id-3 input.sk-toggleable__control:checked~label.sk-toggleable__label-arrow:before {content: \"▾\";}#sk-container-id-3 div.sk-estimator input.sk-toggleable__control:checked~label.sk-toggleable__label {background-color: #d4ebff;}#sk-container-id-3 div.sk-label input.sk-toggleable__control:checked~label.sk-toggleable__label {background-color: #d4ebff;}#sk-container-id-3 input.sk-hidden--visually {border: 0;clip: rect(1px 1px 1px 1px);clip: rect(1px, 1px, 1px, 1px);height: 1px;margin: -1px;overflow: hidden;padding: 0;position: absolute;width: 1px;}#sk-container-id-3 div.sk-estimator {font-family: monospace;background-color: #f0f8ff;border: 1px dotted black;border-radius: 0.25em;box-sizing: border-box;margin-bottom: 0.5em;}#sk-container-id-3 div.sk-estimator:hover {background-color: #d4ebff;}#sk-container-id-3 div.sk-parallel-item::after {content: \"\";width: 100%;border-bottom: 1px solid gray;flex-grow: 1;}#sk-container-id-3 div.sk-label:hover label.sk-toggleable__label {background-color: #d4ebff;}#sk-container-id-3 div.sk-serial::before {content: \"\";position: absolute;border-left: 1px solid gray;box-sizing: border-box;top: 0;bottom: 0;left: 50%;z-index: 0;}#sk-container-id-3 div.sk-serial {display: flex;flex-direction: column;align-items: center;background-color: white;padding-right: 0.2em;padding-left: 0.2em;position: relative;}#sk-container-id-3 div.sk-item {position: relative;z-index: 1;}#sk-container-id-3 div.sk-parallel {display: flex;align-items: stretch;justify-content: center;background-color: white;position: relative;}#sk-container-id-3 div.sk-item::before, #sk-container-id-3 div.sk-parallel-item::before {content: \"\";position: absolute;border-left: 1px solid gray;box-sizing: border-box;top: 0;bottom: 0;left: 50%;z-index: -1;}#sk-container-id-3 div.sk-parallel-item {display: flex;flex-direction: column;z-index: 1;position: relative;background-color: white;}#sk-container-id-3 div.sk-parallel-item:first-child::after {align-self: flex-end;width: 50%;}#sk-container-id-3 div.sk-parallel-item:last-child::after {align-self: flex-start;width: 50%;}#sk-container-id-3 div.sk-parallel-item:only-child::after {width: 0;}#sk-container-id-3 div.sk-dashed-wrapped {border: 1px dashed gray;margin: 0 0.4em 0.5em 0.4em;box-sizing: border-box;padding-bottom: 0.4em;background-color: white;}#sk-container-id-3 div.sk-label label {font-family: monospace;font-weight: bold;display: inline-block;line-height: 1.2em;}#sk-container-id-3 div.sk-label-container {text-align: center;}#sk-container-id-3 div.sk-container {/* jupyter's `normalize.less` sets `[hidden] { display: none; }` but bootstrap.min.css set `[hidden] { display: none !important; }` so we also need the `!important` here to be able to override the default hidden behavior on the sphinx rendered scikit-learn.org. See: https://github.com/scikit-learn/scikit-learn/issues/21755 */display: inline-block !important;position: relative;}#sk-container-id-3 div.sk-text-repr-fallback {display: none;}</style><div id=\"sk-container-id-3\" class=\"sk-top-container\"><div class=\"sk-text-repr-fallback\"><pre> ARIMA(2,0,0)(0,0,0)[0] intercept</pre><b>In a Jupyter environment, please rerun this cell to show the HTML representation or trust the notebook. <br />On GitHub, the HTML representation is unable to render, please try loading this page with nbviewer.org.</b></div><div class=\"sk-container\" hidden><div class=\"sk-item\"><div class=\"sk-estimator sk-toggleable\"><input class=\"sk-toggleable__control sk-hidden--visually\" id=\"sk-estimator-id-3\" type=\"checkbox\" checked><label for=\"sk-estimator-id-3\" class=\"sk-toggleable__label sk-toggleable__label-arrow\">ARIMA</label><div class=\"sk-toggleable__content\"><pre> ARIMA(2,0,0)(0,0,0)[0] intercept</pre></div></div></div></div></div>"
      ],
      "text/plain": [
       "ARIMA(order=(2, 0, 0), scoring_args={}, suppress_warnings=True)"
      ]
     },
     "execution_count": 141,
     "metadata": {},
     "output_type": "execute_result"
    }
   ],
   "source": [
    "from pmdarima.arima import auto_arima\n",
    "model_1 = auto_arima(train, trace=True, error_action='ignore', suppress_warnings=True)\n",
    "model_1.fit(train)\n",
    "\n",
    "#forecast = model.predict(n_periods=len(test))\n",
    "#forecast = pd.DataFrame(forecast,index = test.index,columns=['Prediction'])\n",
    "\n"
   ]
  },
  {
   "cell_type": "code",
   "execution_count": null,
   "metadata": {},
   "outputs": [
    {
     "name": "stderr",
     "output_type": "stream",
     "text": [
      "/Users/polina/anaconda3/lib/python3.10/site-packages/statsmodels/graphics/tsaplots.py:348: FutureWarning: The default method 'yw' can produce PACF values outside of the [-1,1] interval. After 0.13, the default will change tounadjusted Yule-Walker ('ywm'). You can use this method now by setting method='ywm'.\n",
      "  warnings.warn(\n"
     ]
    },
    {
     "data": {
      "image/png": "[encoded data removed]",
      "text/plain": [
       "<Figure size 640x480 with 1 Axes>"
      ]
     },
     "execution_count": 142,
     "metadata": {},
     "output_type": "execute_result"
    },
    {
     "data": {
      "image/png": "[encoded data removed]",
      "text/plain": [
       "<Figure size 640x480 with 1 Axes>"
      ]
     },
     "metadata": {},
     "output_type": "display_data"
    },
    {
     "data": {
      "image/png": "[encoded data removed]",
      "text/plain": [
       "<Figure size 640x480 with 1 Axes>"
      ]
     },
     "metadata": {},
     "output_type": "display_data"
    }
   ],
   "source": [
    "from statsmodels.graphics.tsaplots import plot_acf\n",
    "plot_acf(df_clean, lags = 9, zero=False)\n",
    "from statsmodels.graphics.tsaplots import plot_pacf\n",
    "plot_pacf(df_clean, lags=9, zero=False)"
   ]
  },
  {
   "cell_type": "code",
   "execution_count": null,
   "metadata": {},
   "outputs": [
    {
     "name": "stderr",
     "output_type": "stream",
     "text": [
      "/Users/polina/anaconda3/lib/python3.10/site-packages/statsmodels/tsa/base/tsa_model.py:471: ValueWarning: No frequency information was provided, so inferred frequency MS will be used.\n",
      "  self._init_dates(dates, freq)\n",
      "/Users/polina/anaconda3/lib/python3.10/site-packages/statsmodels/tsa/base/tsa_model.py:471: ValueWarning: No frequency information was provided, so inferred frequency MS will be used.\n",
      "  self._init_dates(dates, freq)\n",
      "/Users/polina/anaconda3/lib/python3.10/site-packages/statsmodels/tsa/base/tsa_model.py:471: ValueWarning: No frequency information was provided, so inferred frequency MS will be used.\n",
      "  self._init_dates(dates, freq)\n"
     ]
    }
   ],
   "source": [
    "from statsmodels.tsa.arima.model import ARIMA\n",
    "model = ARIMA(train, order=(2,0,0))\n",
    "model_fit= model.fit()"
   ]
  },
  {
   "cell_type": "code",
   "execution_count": null,
   "metadata": {},
   "outputs": [
    {
     "data": {
      "text/plain": [
       "[<matplotlib.lines.Line2D at 0x7fecd1e24280>]"
      ]
     },
     "execution_count": 149,
     "metadata": {},
     "output_type": "execute_result"
    },
    {
     "data": {
      "image/png": "[encoded data removed]",
      "text/plain": [
       "<Figure size 640x480 with 1 Axes>"
      ]
     },
     "metadata": {},
     "output_type": "display_data"
    }
   ],
   "source": [
    "predictions = model_fit.predict(start=test.index[0], end=test.index[-1])\n",
    "plt.plot(predictions, color = \"green\")\n",
    "plt.plot(test, color = \"red\")\n",
    "plt.plot(train, color = \"black\")"
   ]
  },
  {
   "cell_type": "code",
   "execution_count": null,
   "metadata": {},
   "outputs": [
    {
     "name": "stdout",
     "output_type": "stream",
     "text": [
      "MSE: 80723548113.59984, MAE: 230663.57561065405 RMSE:  284118.89784665825\n"
     ]
    }
   ],
   "source": [
    "from sklearn.metrics import mean_squared_error, mean_absolute_error\n",
    "from math import sqrt\n",
    "rms = sqrt(mean_squared_error(test, predictions))\n",
    "mse = mean_squared_error(test, predictions)\n",
    "mae = mean_absolute_error(test, predictions)\n",
    "print(f'MSE: {mse}, MAE: {mae}', \"RMSE: \", rms)"
   ]
  },
  {
   "cell_type": "code",
   "execution_count": null,
   "metadata": {},
   "outputs": [
    {
     "data": {
      "text/plain": [
       "[<matplotlib.lines.Line2D at 0x7fed02216ad0>]"
      ]
     },
     "execution_count": 162,
     "metadata": {},
     "output_type": "execute_result"
    },
    {
     "data": {
      "image/png": "[encoded data removed]",
      "text/plain": [
       "<Figure size 640x480 with 1 Axes>"
      ]
     },
     "metadata": {},
     "output_type": "display_data"
    }
   ],
   "source": [
    "forecast = model_fit.forecast(steps=36)\n",
    "plt.plot(predictions, color = \"green\")\n",
    "plt.plot(test, color = \"red\")\n",
    "plt.plot(train, color = \"black\")\n",
    "plt.plot(forecast, color='orange')"
   ]
  },
  {
   "cell_type": "code",
   "execution_count": null,
   "metadata": {},
   "outputs": [
    {
     "data": {
      "image/png": "[encoded data removed]",
      "text/plain": [
       "<Figure size 640x480 with 1 Axes>"
      ]
     },
     "metadata": {},
     "output_type": "display_data"
    }
   ],
   "source": [
    "plt.plot(train, label='Тренировочные данные')\n",
    "plt.plot(test, label='Тестовые данные')\n",
    "plt.plot(predictions, label='Прогноз')\n",
    "plt.legend()\n",
    "\n",
    "\n",
    "\n",
    "\n",
    "plt.show()"
   ]
  },
  {
   "cell_type": "code",
   "execution_count": null,
   "metadata": {},
   "outputs": [],
   "source": []
  },
  {
   "cell_type": "code",
   "execution_count": null,
   "metadata": {},
   "outputs": [],
   "source": [
    "#cf= pd.DataFrame(confint)"
   ]
  },
  {
   "cell_type": "markdown",
   "metadata": {},
   "source": [
    "# Map of tourist volume\n",
    "We can visualise the amount of tourists per city, and differentiate per year"
   ]
  },
  {
   "cell_type": "code",
   "execution_count": null,
   "metadata": {},
   "outputs": [],
   "source": [
    "df_map = pd.read_csv(r\"./result.csv\", parse_dates=['snap_date'])"
   ]
  },
  {
   "cell_type": "code",
   "execution_count": null,
   "metadata": {},
   "outputs": [
    {
     "data": {
      "text/plain": [
       "Index(['Unnamed: 0', 'snap_date', 'id_hash', 'days', 'home_region',\n",
       "       'tourists_region', 'city', 'gender', 'age', 'mou', 'mou_out', 'dou',\n",
       "       'interests', 'top_service', 'volume_sum', 'dl_volume_sum',\n",
       "       'ul_volume_sum'],\n",
       "      dtype='object')"
      ]
     },
     "execution_count": 340,
     "metadata": {},
     "output_type": "execute_result"
    }
   ],
   "source": [
    "df_map.columns"
   ]
  },
  {
   "cell_type": "code",
   "execution_count": null,
   "metadata": {},
   "outputs": [],
   "source": [
    "df_map_clean = df_map[['snap_date','tourists_region', 'city','gender','age']]"
   ]
  },
  {
   "cell_type": "code",
   "execution_count": null,
   "metadata": {},
   "outputs": [
    {
     "data": {
      "text/html": [
       "<div>\n",
       "<style scoped>\n",
       "    .dataframe tbody tr th:only-of-type {\n",
       "        vertical-align: middle;\n",
       "    }\n",
       "\n",
       "    .dataframe tbody tr th {\n",
       "        vertical-align: top;\n",
       "    }\n",
       "\n",
       "    .dataframe thead th {\n",
       "        text-align: right;\n",
       "    }\n",
       "</style>\n",
       "<table border=\"1\" class=\"dataframe\">\n",
       "  <thead>\n",
       "    <tr style=\"text-align: right;\">\n",
       "      <th></th>\n",
       "      <th>snap_date</th>\n",
       "      <th>city</th>\n",
       "      <th>gender</th>\n",
       "      <th>age</th>\n",
       "    </tr>\n",
       "  </thead>\n",
       "  <tbody>\n",
       "    <tr>\n",
       "      <th>4114954</th>\n",
       "      <td>2021-11-01</td>\n",
       "      <td>Петушки</td>\n",
       "      <td>1</td>\n",
       "      <td>36</td>\n",
       "    </tr>\n",
       "    <tr>\n",
       "      <th>7301822</th>\n",
       "      <td>2022-07-01</td>\n",
       "      <td>Туапсе</td>\n",
       "      <td>2</td>\n",
       "      <td>23</td>\n",
       "    </tr>\n",
       "    <tr>\n",
       "      <th>5154543</th>\n",
       "      <td>2022-05-01</td>\n",
       "      <td>Сириус</td>\n",
       "      <td>1</td>\n",
       "      <td>35</td>\n",
       "    </tr>\n",
       "    <tr>\n",
       "      <th>5713160</th>\n",
       "      <td>2022-07-01</td>\n",
       "      <td>Струнино</td>\n",
       "      <td>2</td>\n",
       "      <td>38</td>\n",
       "    </tr>\n",
       "    <tr>\n",
       "      <th>5414726</th>\n",
       "      <td>2021-03-01</td>\n",
       "      <td>Славянск-на-Кубани</td>\n",
       "      <td>1</td>\n",
       "      <td>35</td>\n",
       "    </tr>\n",
       "  </tbody>\n",
       "</table>\n",
       "</div>"
      ],
      "text/plain": [
       "         snap_date                city  gender  age\n",
       "4114954 2021-11-01             Петушки       1   36\n",
       "7301822 2022-07-01              Туапсе       2   23\n",
       "5154543 2022-05-01              Сириус       1   35\n",
       "5713160 2022-07-01            Струнино       2   38\n",
       "5414726 2021-03-01  Славянск-на-Кубани       1   35"
      ]
     },
     "execution_count": 342,
     "metadata": {},
     "output_type": "execute_result"
    }
   ],
   "source": [
    "df_map_clean.sample(5)"
   ]
  },
  {
   "cell_type": "code",
   "execution_count": null,
   "metadata": {},
   "outputs": [],
   "source": [
    "# Calculate supply (total per mill) = done\n",
    "# Converted all deliveries at historic rate (in RUB) = done\n",
    "# Check and remove outliers per destination\n",
    "import seaborn as sns\n",
    "import warnings\n",
    "import numpy as np\n",
    "import matplotlib.pyplot as plt\n",
    "warnings.filterwarnings('ignore')\n",
    "%matplotlib inline\n",
    "sns.set()\n",
    "# Graphics in retina format are more sharp and legible\n",
    "%config InlineBackend.figure_format = 'retina'"
   ]
  },
  {
   "cell_type": "code",
   "execution_count": null,
   "metadata": {},
   "outputs": [
    {
     "name": "stderr",
     "output_type": "stream",
     "text": [
      "Status code Unknown from http://api.opencagedata.com/geocode/v1/json: ERROR - HTTPConnectionPool(host='api.opencagedata.com', port=80): Read timed out. (read timeout=5.0)\n",
      "Status code Unknown from http://api.opencagedata.com/geocode/v1/json: ERROR - HTTPConnectionPool(host='api.opencagedata.com', port=80): Read timed out. (read timeout=5.0)\n",
      "Status code Unknown from http://api.opencagedata.com/geocode/v1/json: ERROR - HTTPConnectionPool(host='api.opencagedata.com', port=80): Read timed out. (read timeout=5.0)\n",
      "Status code Unknown from http://api.opencagedata.com/geocode/v1/json: ERROR - HTTPConnectionPool(host='api.opencagedata.com', port=80): Read timed out. (read timeout=5.0)\n",
      "Status code Unknown from http://api.opencagedata.com/geocode/v1/json: ERROR - HTTPConnectionPool(host='api.opencagedata.com', port=80): Read timed out. (read timeout=5.0)\n",
      "Status code Unknown from http://api.opencagedata.com/geocode/v1/json: ERROR - HTTPConnectionPool(host='api.opencagedata.com', port=80): Read timed out. (read timeout=5.0)\n"
     ]
    },
    {
     "ename": "KeyboardInterrupt",
     "evalue": "",
     "output_type": "error",
     "traceback": [
      "\u001b[0;31m---------------------------------------------------------------------------\u001b[0m",
      "\u001b[0;31mKeyboardInterrupt\u001b[0m                         Traceback (most recent call last)",
      "Cell \u001b[0;32mIn[344], line 6\u001b[0m\n\u001b[1;32m      4\u001b[0m cities \u001b[39m=\u001b[39m \u001b[39mdict\u001b[39m\u001b[39m.\u001b[39mfromkeys(df_map_clean[\u001b[39m'\u001b[39m\u001b[39mcity\u001b[39m\u001b[39m'\u001b[39m])\n\u001b[1;32m      5\u001b[0m \u001b[39mfor\u001b[39;00m name \u001b[39min\u001b[39;00m cities:\n\u001b[0;32m----> 6\u001b[0m     result \u001b[39m=\u001b[39m geocoder\u001b[39m.\u001b[39;49mopencage(name, key\u001b[39m=\u001b[39;49mkey)\n\u001b[1;32m      7\u001b[0m     cities[name] \u001b[39m=\u001b[39m result\u001b[39m.\u001b[39mlatlng\n",
      "File \u001b[0;32m~/anaconda3/lib/python3.10/site-packages/geocoder/api.py:390\u001b[0m, in \u001b[0;36mopencage\u001b[0;34m(location, **kwargs)\u001b[0m\n\u001b[1;32m    384\u001b[0m \u001b[39mdef\u001b[39;00m \u001b[39mopencage\u001b[39m(location, \u001b[39m*\u001b[39m\u001b[39m*\u001b[39mkwargs):\n\u001b[1;32m    385\u001b[0m     \u001b[39m\"\"\"Opencage Provider\u001b[39;00m\n\u001b[1;32m    386\u001b[0m \n\u001b[1;32m    387\u001b[0m \u001b[39m    :param ``location``: Your search location you want geocoded.\u001b[39;00m\n\u001b[1;32m    388\u001b[0m \u001b[39m    :param ``key``: (optional) use your own API Key from OpenCage.\u001b[39;00m\n\u001b[1;32m    389\u001b[0m \u001b[39m    \"\"\"\u001b[39;00m\n\u001b[0;32m--> 390\u001b[0m     \u001b[39mreturn\u001b[39;00m get(location, provider\u001b[39m=\u001b[39;49m\u001b[39m'\u001b[39;49m\u001b[39mopencage\u001b[39;49m\u001b[39m'\u001b[39;49m, \u001b[39m*\u001b[39;49m\u001b[39m*\u001b[39;49mkwargs)\n",
      "File \u001b[0;32m~/anaconda3/lib/python3.10/site-packages/geocoder/api.py:198\u001b[0m, in \u001b[0;36mget\u001b[0;34m(location, **kwargs)\u001b[0m\n\u001b[1;32m    196\u001b[0m     \u001b[39mif\u001b[39;00m method \u001b[39mnot\u001b[39;00m \u001b[39min\u001b[39;00m options[provider]:\n\u001b[1;32m    197\u001b[0m         \u001b[39mraise\u001b[39;00m \u001b[39mValueError\u001b[39;00m(\u001b[39m\"\u001b[39m\u001b[39mInvalid method\u001b[39m\u001b[39m\"\u001b[39m)\n\u001b[0;32m--> 198\u001b[0m \u001b[39mreturn\u001b[39;00m options[provider][method](location, \u001b[39m*\u001b[39;49m\u001b[39m*\u001b[39;49mkwargs)\n",
      "File \u001b[0;32m~/anaconda3/lib/python3.10/site-packages/geocoder/base.py:410\u001b[0m, in \u001b[0;36mMultipleResultsQuery.__init__\u001b[0;34m(self, location, **kwargs)\u001b[0m\n\u001b[1;32m    407\u001b[0m \u001b[39mself\u001b[39m\u001b[39m.\u001b[39m_before_initialize(location, \u001b[39m*\u001b[39m\u001b[39m*\u001b[39mkwargs)\n\u001b[1;32m    409\u001b[0m \u001b[39m# query and parse results\u001b[39;00m\n\u001b[0;32m--> 410\u001b[0m \u001b[39mself\u001b[39;49m\u001b[39m.\u001b[39;49m_initialize()\n",
      "File \u001b[0;32m~/anaconda3/lib/python3.10/site-packages/geocoder/base.py:457\u001b[0m, in \u001b[0;36mMultipleResultsQuery._initialize\u001b[0;34m(self)\u001b[0m\n\u001b[1;32m    455\u001b[0m \u001b[39mdef\u001b[39;00m \u001b[39m_initialize\u001b[39m(\u001b[39mself\u001b[39m):\n\u001b[1;32m    456\u001b[0m     \u001b[39m# query URL and get valid JSON (also stored in self.json)\u001b[39;00m\n\u001b[0;32m--> 457\u001b[0m     json_response \u001b[39m=\u001b[39m \u001b[39mself\u001b[39;49m\u001b[39m.\u001b[39;49m_connect()\n\u001b[1;32m    459\u001b[0m     \u001b[39m# catch errors\u001b[39;00m\n\u001b[1;32m    460\u001b[0m     has_error \u001b[39m=\u001b[39m \u001b[39mself\u001b[39m\u001b[39m.\u001b[39m_catch_errors(\n\u001b[1;32m    461\u001b[0m         json_response) \u001b[39mif\u001b[39;00m json_response \u001b[39melse\u001b[39;00m \u001b[39mTrue\u001b[39;00m\n",
      "File \u001b[0;32m~/anaconda3/lib/python3.10/site-packages/geocoder/base.py:479\u001b[0m, in \u001b[0;36mMultipleResultsQuery._connect\u001b[0;34m(self)\u001b[0m\n\u001b[1;32m    475\u001b[0m \u001b[39mself\u001b[39m\u001b[39m.\u001b[39mstatus_code \u001b[39m=\u001b[39m \u001b[39m'\u001b[39m\u001b[39mUnknown\u001b[39m\u001b[39m'\u001b[39m\n\u001b[1;32m    477\u001b[0m \u001b[39mtry\u001b[39;00m:\n\u001b[1;32m    478\u001b[0m     \u001b[39m# make request and get response\u001b[39;00m\n\u001b[0;32m--> 479\u001b[0m     \u001b[39mself\u001b[39m\u001b[39m.\u001b[39mresponse \u001b[39m=\u001b[39m response \u001b[39m=\u001b[39m \u001b[39mself\u001b[39;49m\u001b[39m.\u001b[39;49mrate_limited_get(\n\u001b[1;32m    480\u001b[0m         \u001b[39mself\u001b[39;49m\u001b[39m.\u001b[39;49murl,\n\u001b[1;32m    481\u001b[0m         params\u001b[39m=\u001b[39;49m\u001b[39mself\u001b[39;49m\u001b[39m.\u001b[39;49mparams,\n\u001b[1;32m    482\u001b[0m         headers\u001b[39m=\u001b[39;49m\u001b[39mself\u001b[39;49m\u001b[39m.\u001b[39;49mheaders,\n\u001b[1;32m    483\u001b[0m         timeout\u001b[39m=\u001b[39;49m\u001b[39mself\u001b[39;49m\u001b[39m.\u001b[39;49mtimeout,\n\u001b[1;32m    484\u001b[0m         proxies\u001b[39m=\u001b[39;49m\u001b[39mself\u001b[39;49m\u001b[39m.\u001b[39;49mproxies\n\u001b[1;32m    485\u001b[0m     )\n\u001b[1;32m    487\u001b[0m     \u001b[39m# check that response is ok\u001b[39;00m\n\u001b[1;32m    488\u001b[0m     \u001b[39mself\u001b[39m\u001b[39m.\u001b[39mstatus_code \u001b[39m=\u001b[39m response\u001b[39m.\u001b[39mstatus_code\n",
      "File \u001b[0;32m~/anaconda3/lib/python3.10/site-packages/geocoder/base.py:510\u001b[0m, in \u001b[0;36mMultipleResultsQuery.rate_limited_get\u001b[0;34m(self, url, **kwargs)\u001b[0m\n\u001b[1;32m    508\u001b[0m \u001b[39mdef\u001b[39;00m \u001b[39mrate_limited_get\u001b[39m(\u001b[39mself\u001b[39m, url, \u001b[39m*\u001b[39m\u001b[39m*\u001b[39mkwargs):\n\u001b[1;32m    509\u001b[0m     \u001b[39m\"\"\" By default, simply wraps a session.get request\"\"\"\u001b[39;00m\n\u001b[0;32m--> 510\u001b[0m     \u001b[39mreturn\u001b[39;00m \u001b[39mself\u001b[39;49m\u001b[39m.\u001b[39;49msession\u001b[39m.\u001b[39;49mget(url, \u001b[39m*\u001b[39;49m\u001b[39m*\u001b[39;49mkwargs)\n",
      "File \u001b[0;32m~/anaconda3/lib/python3.10/site-packages/requests/sessions.py:600\u001b[0m, in \u001b[0;36mSession.get\u001b[0;34m(self, url, **kwargs)\u001b[0m\n\u001b[1;32m    592\u001b[0m \u001b[39mr\u001b[39m\u001b[39m\"\"\"Sends a GET request. Returns :class:`Response` object.\u001b[39;00m\n\u001b[1;32m    593\u001b[0m \n\u001b[1;32m    594\u001b[0m \u001b[39m:param url: URL for the new :class:`Request` object.\u001b[39;00m\n\u001b[1;32m    595\u001b[0m \u001b[39m:param \\*\\*kwargs: Optional arguments that ``request`` takes.\u001b[39;00m\n\u001b[1;32m    596\u001b[0m \u001b[39m:rtype: requests.Response\u001b[39;00m\n\u001b[1;32m    597\u001b[0m \u001b[39m\"\"\"\u001b[39;00m\n\u001b[1;32m    599\u001b[0m kwargs\u001b[39m.\u001b[39msetdefault(\u001b[39m\"\u001b[39m\u001b[39mallow_redirects\u001b[39m\u001b[39m\"\u001b[39m, \u001b[39mTrue\u001b[39;00m)\n\u001b[0;32m--> 600\u001b[0m \u001b[39mreturn\u001b[39;00m \u001b[39mself\u001b[39;49m\u001b[39m.\u001b[39;49mrequest(\u001b[39m\"\u001b[39;49m\u001b[39mGET\u001b[39;49m\u001b[39m\"\u001b[39;49m, url, \u001b[39m*\u001b[39;49m\u001b[39m*\u001b[39;49mkwargs)\n",
      "File \u001b[0;32m~/anaconda3/lib/python3.10/site-packages/requests/sessions.py:587\u001b[0m, in \u001b[0;36mSession.request\u001b[0;34m(self, method, url, params, data, headers, cookies, files, auth, timeout, allow_redirects, proxies, hooks, stream, verify, cert, json)\u001b[0m\n\u001b[1;32m    582\u001b[0m send_kwargs \u001b[39m=\u001b[39m {\n\u001b[1;32m    583\u001b[0m     \u001b[39m\"\u001b[39m\u001b[39mtimeout\u001b[39m\u001b[39m\"\u001b[39m: timeout,\n\u001b[1;32m    584\u001b[0m     \u001b[39m\"\u001b[39m\u001b[39mallow_redirects\u001b[39m\u001b[39m\"\u001b[39m: allow_redirects,\n\u001b[1;32m    585\u001b[0m }\n\u001b[1;32m    586\u001b[0m send_kwargs\u001b[39m.\u001b[39mupdate(settings)\n\u001b[0;32m--> 587\u001b[0m resp \u001b[39m=\u001b[39m \u001b[39mself\u001b[39;49m\u001b[39m.\u001b[39;49msend(prep, \u001b[39m*\u001b[39;49m\u001b[39m*\u001b[39;49msend_kwargs)\n\u001b[1;32m    589\u001b[0m \u001b[39mreturn\u001b[39;00m resp\n",
      "File \u001b[0;32m~/anaconda3/lib/python3.10/site-packages/requests/sessions.py:701\u001b[0m, in \u001b[0;36mSession.send\u001b[0;34m(self, request, **kwargs)\u001b[0m\n\u001b[1;32m    698\u001b[0m start \u001b[39m=\u001b[39m preferred_clock()\n\u001b[1;32m    700\u001b[0m \u001b[39m# Send the request\u001b[39;00m\n\u001b[0;32m--> 701\u001b[0m r \u001b[39m=\u001b[39m adapter\u001b[39m.\u001b[39;49msend(request, \u001b[39m*\u001b[39;49m\u001b[39m*\u001b[39;49mkwargs)\n\u001b[1;32m    703\u001b[0m \u001b[39m# Total elapsed time of the request (approximately)\u001b[39;00m\n\u001b[1;32m    704\u001b[0m elapsed \u001b[39m=\u001b[39m preferred_clock() \u001b[39m-\u001b[39m start\n",
      "File \u001b[0;32m~/anaconda3/lib/python3.10/site-packages/requests/adapters.py:489\u001b[0m, in \u001b[0;36mHTTPAdapter.send\u001b[0;34m(self, request, stream, timeout, verify, cert, proxies)\u001b[0m\n\u001b[1;32m    487\u001b[0m \u001b[39mtry\u001b[39;00m:\n\u001b[1;32m    488\u001b[0m     \u001b[39mif\u001b[39;00m \u001b[39mnot\u001b[39;00m chunked:\n\u001b[0;32m--> 489\u001b[0m         resp \u001b[39m=\u001b[39m conn\u001b[39m.\u001b[39;49murlopen(\n\u001b[1;32m    490\u001b[0m             method\u001b[39m=\u001b[39;49mrequest\u001b[39m.\u001b[39;49mmethod,\n\u001b[1;32m    491\u001b[0m             url\u001b[39m=\u001b[39;49murl,\n\u001b[1;32m    492\u001b[0m             body\u001b[39m=\u001b[39;49mrequest\u001b[39m.\u001b[39;49mbody,\n\u001b[1;32m    493\u001b[0m             headers\u001b[39m=\u001b[39;49mrequest\u001b[39m.\u001b[39;49mheaders,\n\u001b[1;32m    494\u001b[0m             redirect\u001b[39m=\u001b[39;49m\u001b[39mFalse\u001b[39;49;00m,\n\u001b[1;32m    495\u001b[0m             assert_same_host\u001b[39m=\u001b[39;49m\u001b[39mFalse\u001b[39;49;00m,\n\u001b[1;32m    496\u001b[0m             preload_content\u001b[39m=\u001b[39;49m\u001b[39mFalse\u001b[39;49;00m,\n\u001b[1;32m    497\u001b[0m             decode_content\u001b[39m=\u001b[39;49m\u001b[39mFalse\u001b[39;49;00m,\n\u001b[1;32m    498\u001b[0m             retries\u001b[39m=\u001b[39;49m\u001b[39mself\u001b[39;49m\u001b[39m.\u001b[39;49mmax_retries,\n\u001b[1;32m    499\u001b[0m             timeout\u001b[39m=\u001b[39;49mtimeout,\n\u001b[1;32m    500\u001b[0m         )\n\u001b[1;32m    502\u001b[0m     \u001b[39m# Send the request.\u001b[39;00m\n\u001b[1;32m    503\u001b[0m     \u001b[39melse\u001b[39;00m:\n\u001b[1;32m    504\u001b[0m         \u001b[39mif\u001b[39;00m \u001b[39mhasattr\u001b[39m(conn, \u001b[39m\"\u001b[39m\u001b[39mproxy_pool\u001b[39m\u001b[39m\"\u001b[39m):\n",
      "File \u001b[0;32m~/anaconda3/lib/python3.10/site-packages/urllib3/connectionpool.py:703\u001b[0m, in \u001b[0;36mHTTPConnectionPool.urlopen\u001b[0;34m(self, method, url, body, headers, retries, redirect, assert_same_host, timeout, pool_timeout, release_conn, chunked, body_pos, **response_kw)\u001b[0m\n\u001b[1;32m    700\u001b[0m     \u001b[39mself\u001b[39m\u001b[39m.\u001b[39m_prepare_proxy(conn)\n\u001b[1;32m    702\u001b[0m \u001b[39m# Make the request on the httplib connection object.\u001b[39;00m\n\u001b[0;32m--> 703\u001b[0m httplib_response \u001b[39m=\u001b[39m \u001b[39mself\u001b[39;49m\u001b[39m.\u001b[39;49m_make_request(\n\u001b[1;32m    704\u001b[0m     conn,\n\u001b[1;32m    705\u001b[0m     method,\n\u001b[1;32m    706\u001b[0m     url,\n\u001b[1;32m    707\u001b[0m     timeout\u001b[39m=\u001b[39;49mtimeout_obj,\n\u001b[1;32m    708\u001b[0m     body\u001b[39m=\u001b[39;49mbody,\n\u001b[1;32m    709\u001b[0m     headers\u001b[39m=\u001b[39;49mheaders,\n\u001b[1;32m    710\u001b[0m     chunked\u001b[39m=\u001b[39;49mchunked,\n\u001b[1;32m    711\u001b[0m )\n\u001b[1;32m    713\u001b[0m \u001b[39m# If we're going to release the connection in ``finally:``, then\u001b[39;00m\n\u001b[1;32m    714\u001b[0m \u001b[39m# the response doesn't need to know about the connection. Otherwise\u001b[39;00m\n\u001b[1;32m    715\u001b[0m \u001b[39m# it will also try to release it and we'll have a double-release\u001b[39;00m\n\u001b[1;32m    716\u001b[0m \u001b[39m# mess.\u001b[39;00m\n\u001b[1;32m    717\u001b[0m response_conn \u001b[39m=\u001b[39m conn \u001b[39mif\u001b[39;00m \u001b[39mnot\u001b[39;00m release_conn \u001b[39melse\u001b[39;00m \u001b[39mNone\u001b[39;00m\n",
      "File \u001b[0;32m~/anaconda3/lib/python3.10/site-packages/urllib3/connectionpool.py:449\u001b[0m, in \u001b[0;36mHTTPConnectionPool._make_request\u001b[0;34m(self, conn, method, url, timeout, chunked, **httplib_request_kw)\u001b[0m\n\u001b[1;32m    444\u001b[0m             httplib_response \u001b[39m=\u001b[39m conn\u001b[39m.\u001b[39mgetresponse()\n\u001b[1;32m    445\u001b[0m         \u001b[39mexcept\u001b[39;00m \u001b[39mBaseException\u001b[39;00m \u001b[39mas\u001b[39;00m e:\n\u001b[1;32m    446\u001b[0m             \u001b[39m# Remove the TypeError from the exception chain in\u001b[39;00m\n\u001b[1;32m    447\u001b[0m             \u001b[39m# Python 3 (including for exceptions like SystemExit).\u001b[39;00m\n\u001b[1;32m    448\u001b[0m             \u001b[39m# Otherwise it looks like a bug in the code.\u001b[39;00m\n\u001b[0;32m--> 449\u001b[0m             six\u001b[39m.\u001b[39;49mraise_from(e, \u001b[39mNone\u001b[39;49;00m)\n\u001b[1;32m    450\u001b[0m \u001b[39mexcept\u001b[39;00m (SocketTimeout, BaseSSLError, SocketError) \u001b[39mas\u001b[39;00m e:\n\u001b[1;32m    451\u001b[0m     \u001b[39mself\u001b[39m\u001b[39m.\u001b[39m_raise_timeout(err\u001b[39m=\u001b[39me, url\u001b[39m=\u001b[39murl, timeout_value\u001b[39m=\u001b[39mread_timeout)\n",
      "File \u001b[0;32m<string>:3\u001b[0m, in \u001b[0;36mraise_from\u001b[0;34m(value, from_value)\u001b[0m\n",
      "File \u001b[0;32m~/anaconda3/lib/python3.10/site-packages/urllib3/connectionpool.py:444\u001b[0m, in \u001b[0;36mHTTPConnectionPool._make_request\u001b[0;34m(self, conn, method, url, timeout, chunked, **httplib_request_kw)\u001b[0m\n\u001b[1;32m    441\u001b[0m \u001b[39mexcept\u001b[39;00m \u001b[39mTypeError\u001b[39;00m:\n\u001b[1;32m    442\u001b[0m     \u001b[39m# Python 3\u001b[39;00m\n\u001b[1;32m    443\u001b[0m     \u001b[39mtry\u001b[39;00m:\n\u001b[0;32m--> 444\u001b[0m         httplib_response \u001b[39m=\u001b[39m conn\u001b[39m.\u001b[39;49mgetresponse()\n\u001b[1;32m    445\u001b[0m     \u001b[39mexcept\u001b[39;00m \u001b[39mBaseException\u001b[39;00m \u001b[39mas\u001b[39;00m e:\n\u001b[1;32m    446\u001b[0m         \u001b[39m# Remove the TypeError from the exception chain in\u001b[39;00m\n\u001b[1;32m    447\u001b[0m         \u001b[39m# Python 3 (including for exceptions like SystemExit).\u001b[39;00m\n\u001b[1;32m    448\u001b[0m         \u001b[39m# Otherwise it looks like a bug in the code.\u001b[39;00m\n\u001b[1;32m    449\u001b[0m         six\u001b[39m.\u001b[39mraise_from(e, \u001b[39mNone\u001b[39;00m)\n",
      "File \u001b[0;32m~/anaconda3/lib/python3.10/http/client.py:1374\u001b[0m, in \u001b[0;36mHTTPConnection.getresponse\u001b[0;34m(self)\u001b[0m\n\u001b[1;32m   1372\u001b[0m \u001b[39mtry\u001b[39;00m:\n\u001b[1;32m   1373\u001b[0m     \u001b[39mtry\u001b[39;00m:\n\u001b[0;32m-> 1374\u001b[0m         response\u001b[39m.\u001b[39;49mbegin()\n\u001b[1;32m   1375\u001b[0m     \u001b[39mexcept\u001b[39;00m \u001b[39mConnectionError\u001b[39;00m:\n\u001b[1;32m   1376\u001b[0m         \u001b[39mself\u001b[39m\u001b[39m.\u001b[39mclose()\n",
      "File \u001b[0;32m~/anaconda3/lib/python3.10/http/client.py:318\u001b[0m, in \u001b[0;36mHTTPResponse.begin\u001b[0;34m(self)\u001b[0m\n\u001b[1;32m    316\u001b[0m \u001b[39m# read until we get a non-100 response\u001b[39;00m\n\u001b[1;32m    317\u001b[0m \u001b[39mwhile\u001b[39;00m \u001b[39mTrue\u001b[39;00m:\n\u001b[0;32m--> 318\u001b[0m     version, status, reason \u001b[39m=\u001b[39m \u001b[39mself\u001b[39;49m\u001b[39m.\u001b[39;49m_read_status()\n\u001b[1;32m    319\u001b[0m     \u001b[39mif\u001b[39;00m status \u001b[39m!=\u001b[39m CONTINUE:\n\u001b[1;32m    320\u001b[0m         \u001b[39mbreak\u001b[39;00m\n",
      "File \u001b[0;32m~/anaconda3/lib/python3.10/http/client.py:279\u001b[0m, in \u001b[0;36mHTTPResponse._read_status\u001b[0;34m(self)\u001b[0m\n\u001b[1;32m    278\u001b[0m \u001b[39mdef\u001b[39;00m \u001b[39m_read_status\u001b[39m(\u001b[39mself\u001b[39m):\n\u001b[0;32m--> 279\u001b[0m     line \u001b[39m=\u001b[39m \u001b[39mstr\u001b[39m(\u001b[39mself\u001b[39;49m\u001b[39m.\u001b[39;49mfp\u001b[39m.\u001b[39;49mreadline(_MAXLINE \u001b[39m+\u001b[39;49m \u001b[39m1\u001b[39;49m), \u001b[39m\"\u001b[39m\u001b[39miso-8859-1\u001b[39m\u001b[39m\"\u001b[39m)\n\u001b[1;32m    280\u001b[0m     \u001b[39mif\u001b[39;00m \u001b[39mlen\u001b[39m(line) \u001b[39m>\u001b[39m _MAXLINE:\n\u001b[1;32m    281\u001b[0m         \u001b[39mraise\u001b[39;00m LineTooLong(\u001b[39m\"\u001b[39m\u001b[39mstatus line\u001b[39m\u001b[39m\"\u001b[39m)\n",
      "File \u001b[0;32m~/anaconda3/lib/python3.10/socket.py:705\u001b[0m, in \u001b[0;36mSocketIO.readinto\u001b[0;34m(self, b)\u001b[0m\n\u001b[1;32m    703\u001b[0m \u001b[39mwhile\u001b[39;00m \u001b[39mTrue\u001b[39;00m:\n\u001b[1;32m    704\u001b[0m     \u001b[39mtry\u001b[39;00m:\n\u001b[0;32m--> 705\u001b[0m         \u001b[39mreturn\u001b[39;00m \u001b[39mself\u001b[39;49m\u001b[39m.\u001b[39;49m_sock\u001b[39m.\u001b[39;49mrecv_into(b)\n\u001b[1;32m    706\u001b[0m     \u001b[39mexcept\u001b[39;00m timeout:\n\u001b[1;32m    707\u001b[0m         \u001b[39mself\u001b[39m\u001b[39m.\u001b[39m_timeout_occurred \u001b[39m=\u001b[39m \u001b[39mTrue\u001b[39;00m\n",
      "\u001b[0;31mKeyboardInterrupt\u001b[0m: "
     ]
    }
   ],
   "source": [
    "import geocoder\n",
    "from pprint import pprint\n",
    "key = '484ae73bfa5b43d28bde740af59c0c0c' # get api key from: https://opencagedata.com\n",
    "cities = dict.fromkeys(df_map_clean['city'])\n",
    "for name in cities:\n",
    "    result = geocoder.opencage(name, key=key)\n",
    "    cities[name] = result.latlng"
   ]
  },
  {
   "cell_type": "code",
   "execution_count": null,
   "metadata": {},
   "outputs": [],
   "source": [
    "#Transform, rename, merge\n",
    "cities_distance = pd.DataFrame.from_dict(cities, orient='index',columns=['lat','long'])\n",
    "cities_distance.index.name = 'city'\n",
    "df_map_city = df_map_clean.merge(cities_distance, left_on='city', right_on='city')"
   ]
  },
  {
   "cell_type": "code",
   "execution_count": null,
   "metadata": {},
   "outputs": [],
   "source": [
    "df_map_city['volume'] = df.groupby('city')['city'].transform('count')"
   ]
  },
  {
   "cell_type": "code",
   "execution_count": null,
   "metadata": {},
   "outputs": [],
   "source": [
    "viz_RU = df_map_city.groupby('city').first().reset_index()"
   ]
  },
  {
   "cell_type": "code",
   "execution_count": null,
   "metadata": {},
   "outputs": [
    {
     "data": {
      "text/html": [
       "<div>\n",
       "<style scoped>\n",
       "    .dataframe tbody tr th:only-of-type {\n",
       "        vertical-align: middle;\n",
       "    }\n",
       "\n",
       "    .dataframe tbody tr th {\n",
       "        vertical-align: top;\n",
       "    }\n",
       "\n",
       "    .dataframe thead th {\n",
       "        text-align: right;\n",
       "    }\n",
       "</style>\n",
       "<table border=\"1\" class=\"dataframe\">\n",
       "  <thead>\n",
       "    <tr style=\"text-align: right;\">\n",
       "      <th></th>\n",
       "      <th>city</th>\n",
       "      <th>snap_date</th>\n",
       "      <th>gender</th>\n",
       "      <th>age</th>\n",
       "      <th>lat</th>\n",
       "      <th>long</th>\n",
       "      <th>volume</th>\n",
       "    </tr>\n",
       "  </thead>\n",
       "  <tbody>\n",
       "    <tr>\n",
       "      <th>0</th>\n",
       "      <td>Абинск</td>\n",
       "      <td>2021-07-01</td>\n",
       "      <td>1</td>\n",
       "      <td>47</td>\n",
       "      <td>44.864953</td>\n",
       "      <td>38.157819</td>\n",
       "      <td>112819</td>\n",
       "    </tr>\n",
       "    <tr>\n",
       "      <th>1</th>\n",
       "      <td>Александров</td>\n",
       "      <td>2021-07-01</td>\n",
       "      <td>2</td>\n",
       "      <td>42</td>\n",
       "      <td>56.396229</td>\n",
       "      <td>38.711110</td>\n",
       "      <td>102225</td>\n",
       "    </tr>\n",
       "    <tr>\n",
       "      <th>2</th>\n",
       "      <td>Армавир</td>\n",
       "      <td>2021-07-01</td>\n",
       "      <td>1</td>\n",
       "      <td>58</td>\n",
       "      <td>44.999358</td>\n",
       "      <td>41.129406</td>\n",
       "      <td>232276</td>\n",
       "    </tr>\n",
       "    <tr>\n",
       "      <th>3</th>\n",
       "      <td>Байкальск</td>\n",
       "      <td>2021-07-01</td>\n",
       "      <td>1</td>\n",
       "      <td>39</td>\n",
       "      <td>51.517192</td>\n",
       "      <td>104.141026</td>\n",
       "      <td>84722</td>\n",
       "    </tr>\n",
       "    <tr>\n",
       "      <th>4</th>\n",
       "      <td>Белореченск</td>\n",
       "      <td>2021-07-01</td>\n",
       "      <td>2</td>\n",
       "      <td>47</td>\n",
       "      <td>44.761415</td>\n",
       "      <td>39.871294</td>\n",
       "      <td>107387</td>\n",
       "    </tr>\n",
       "    <tr>\n",
       "      <th>5</th>\n",
       "      <td>Вязники</td>\n",
       "      <td>2021-07-01</td>\n",
       "      <td>1</td>\n",
       "      <td>38</td>\n",
       "      <td>56.245140</td>\n",
       "      <td>42.137577</td>\n",
       "      <td>162440</td>\n",
       "    </tr>\n",
       "    <tr>\n",
       "      <th>6</th>\n",
       "      <td>Горно-Алтайск</td>\n",
       "      <td>2021-07-01</td>\n",
       "      <td>1</td>\n",
       "      <td>40</td>\n",
       "      <td>51.957775</td>\n",
       "      <td>85.963653</td>\n",
       "      <td>107472</td>\n",
       "    </tr>\n",
       "    <tr>\n",
       "      <th>7</th>\n",
       "      <td>Городищи</td>\n",
       "      <td>2021-07-01</td>\n",
       "      <td>2</td>\n",
       "      <td>39</td>\n",
       "      <td>55.869729</td>\n",
       "      <td>39.094127</td>\n",
       "      <td>53052</td>\n",
       "    </tr>\n",
       "    <tr>\n",
       "      <th>8</th>\n",
       "      <td>Гороховец</td>\n",
       "      <td>2021-07-01</td>\n",
       "      <td>3</td>\n",
       "      <td>30</td>\n",
       "      <td>56.206570</td>\n",
       "      <td>42.679035</td>\n",
       "      <td>194968</td>\n",
       "    </tr>\n",
       "    <tr>\n",
       "      <th>9</th>\n",
       "      <td>Горячий Ключ</td>\n",
       "      <td>2021-07-01</td>\n",
       "      <td>2</td>\n",
       "      <td>34</td>\n",
       "      <td>44.634265</td>\n",
       "      <td>39.136361</td>\n",
       "      <td>833511</td>\n",
       "    </tr>\n",
       "    <tr>\n",
       "      <th>10</th>\n",
       "      <td>Гулькевичи</td>\n",
       "      <td>2021-07-01</td>\n",
       "      <td>2</td>\n",
       "      <td>53</td>\n",
       "      <td>45.356512</td>\n",
       "      <td>40.696226</td>\n",
       "      <td>96322</td>\n",
       "    </tr>\n",
       "    <tr>\n",
       "      <th>11</th>\n",
       "      <td>Ейск</td>\n",
       "      <td>2021-07-01</td>\n",
       "      <td>3</td>\n",
       "      <td>46</td>\n",
       "      <td>46.711209</td>\n",
       "      <td>38.274799</td>\n",
       "      <td>103193</td>\n",
       "    </tr>\n",
       "    <tr>\n",
       "      <th>12</th>\n",
       "      <td>Ковров</td>\n",
       "      <td>2021-07-01</td>\n",
       "      <td>1</td>\n",
       "      <td>22</td>\n",
       "      <td>56.374603</td>\n",
       "      <td>41.311676</td>\n",
       "      <td>58963</td>\n",
       "    </tr>\n",
       "    <tr>\n",
       "      <th>13</th>\n",
       "      <td>Кольчугино</td>\n",
       "      <td>2021-07-01</td>\n",
       "      <td>2</td>\n",
       "      <td>31</td>\n",
       "      <td>56.293978</td>\n",
       "      <td>39.375993</td>\n",
       "      <td>22068</td>\n",
       "    </tr>\n",
       "    <tr>\n",
       "      <th>14</th>\n",
       "      <td>Кореновск</td>\n",
       "      <td>2021-07-01</td>\n",
       "      <td>2</td>\n",
       "      <td>34</td>\n",
       "      <td>45.463586</td>\n",
       "      <td>39.448757</td>\n",
       "      <td>635512</td>\n",
       "    </tr>\n",
       "    <tr>\n",
       "      <th>15</th>\n",
       "      <td>Кропоткин</td>\n",
       "      <td>2021-07-01</td>\n",
       "      <td>2</td>\n",
       "      <td>52</td>\n",
       "      <td>45.434441</td>\n",
       "      <td>40.575027</td>\n",
       "      <td>209706</td>\n",
       "    </tr>\n",
       "    <tr>\n",
       "      <th>16</th>\n",
       "      <td>Крымск</td>\n",
       "      <td>2021-07-01</td>\n",
       "      <td>3</td>\n",
       "      <td>46</td>\n",
       "      <td>44.929589</td>\n",
       "      <td>37.988018</td>\n",
       "      <td>263088</td>\n",
       "    </tr>\n",
       "    <tr>\n",
       "      <th>17</th>\n",
       "      <td>Курганинск</td>\n",
       "      <td>2021-07-01</td>\n",
       "      <td>2</td>\n",
       "      <td>39</td>\n",
       "      <td>44.885163</td>\n",
       "      <td>40.589467</td>\n",
       "      <td>77929</td>\n",
       "    </tr>\n",
       "    <tr>\n",
       "      <th>18</th>\n",
       "      <td>Лабинск</td>\n",
       "      <td>2021-07-01</td>\n",
       "      <td>1</td>\n",
       "      <td>50</td>\n",
       "      <td>44.634795</td>\n",
       "      <td>40.724218</td>\n",
       "      <td>54416</td>\n",
       "    </tr>\n",
       "    <tr>\n",
       "      <th>19</th>\n",
       "      <td>Лакинск</td>\n",
       "      <td>2021-07-01</td>\n",
       "      <td>1</td>\n",
       "      <td>30</td>\n",
       "      <td>56.015093</td>\n",
       "      <td>39.946558</td>\n",
       "      <td>189874</td>\n",
       "    </tr>\n",
       "    <tr>\n",
       "      <th>20</th>\n",
       "      <td>Меленки</td>\n",
       "      <td>2021-07-01</td>\n",
       "      <td>1</td>\n",
       "      <td>28</td>\n",
       "      <td>55.336837</td>\n",
       "      <td>41.631406</td>\n",
       "      <td>18680</td>\n",
       "    </tr>\n",
       "    <tr>\n",
       "      <th>21</th>\n",
       "      <td>Муром</td>\n",
       "      <td>2021-07-01</td>\n",
       "      <td>2</td>\n",
       "      <td>39</td>\n",
       "      <td>55.573800</td>\n",
       "      <td>42.044700</td>\n",
       "      <td>143472</td>\n",
       "    </tr>\n",
       "    <tr>\n",
       "      <th>22</th>\n",
       "      <td>Новокубанск</td>\n",
       "      <td>2021-07-01</td>\n",
       "      <td>2</td>\n",
       "      <td>55</td>\n",
       "      <td>45.108318</td>\n",
       "      <td>41.036690</td>\n",
       "      <td>174144</td>\n",
       "    </tr>\n",
       "    <tr>\n",
       "      <th>23</th>\n",
       "      <td>Петушки</td>\n",
       "      <td>2021-07-01</td>\n",
       "      <td>2</td>\n",
       "      <td>39</td>\n",
       "      <td>55.929802</td>\n",
       "      <td>39.450831</td>\n",
       "      <td>152024</td>\n",
       "    </tr>\n",
       "    <tr>\n",
       "      <th>24</th>\n",
       "      <td>Покров</td>\n",
       "      <td>2021-07-01</td>\n",
       "      <td>3</td>\n",
       "      <td>42</td>\n",
       "      <td>47.654659</td>\n",
       "      <td>34.114934</td>\n",
       "      <td>190393</td>\n",
       "    </tr>\n",
       "    <tr>\n",
       "      <th>25</th>\n",
       "      <td>Сириус</td>\n",
       "      <td>2021-07-01</td>\n",
       "      <td>1</td>\n",
       "      <td>38</td>\n",
       "      <td>43.406418</td>\n",
       "      <td>39.954483</td>\n",
       "      <td>864617</td>\n",
       "    </tr>\n",
       "    <tr>\n",
       "      <th>26</th>\n",
       "      <td>Славянск-на-Кубани</td>\n",
       "      <td>2021-07-01</td>\n",
       "      <td>2</td>\n",
       "      <td>46</td>\n",
       "      <td>45.259087</td>\n",
       "      <td>38.124461</td>\n",
       "      <td>369452</td>\n",
       "    </tr>\n",
       "    <tr>\n",
       "      <th>27</th>\n",
       "      <td>Сортавала</td>\n",
       "      <td>2021-07-01</td>\n",
       "      <td>2</td>\n",
       "      <td>44</td>\n",
       "      <td>61.702740</td>\n",
       "      <td>30.691231</td>\n",
       "      <td>56610</td>\n",
       "    </tr>\n",
       "    <tr>\n",
       "      <th>28</th>\n",
       "      <td>Струнино</td>\n",
       "      <td>2021-07-01</td>\n",
       "      <td>1</td>\n",
       "      <td>39</td>\n",
       "      <td>56.374000</td>\n",
       "      <td>38.586000</td>\n",
       "      <td>75328</td>\n",
       "    </tr>\n",
       "    <tr>\n",
       "      <th>29</th>\n",
       "      <td>Темрюк</td>\n",
       "      <td>2021-07-01</td>\n",
       "      <td>1</td>\n",
       "      <td>40</td>\n",
       "      <td>45.275166</td>\n",
       "      <td>37.390548</td>\n",
       "      <td>441716</td>\n",
       "    </tr>\n",
       "    <tr>\n",
       "      <th>30</th>\n",
       "      <td>Тимашевск</td>\n",
       "      <td>2021-07-01</td>\n",
       "      <td>1</td>\n",
       "      <td>51</td>\n",
       "      <td>45.612353</td>\n",
       "      <td>38.950430</td>\n",
       "      <td>512881</td>\n",
       "    </tr>\n",
       "    <tr>\n",
       "      <th>31</th>\n",
       "      <td>Тихорецк</td>\n",
       "      <td>2021-07-01</td>\n",
       "      <td>2</td>\n",
       "      <td>56</td>\n",
       "      <td>45.854679</td>\n",
       "      <td>40.128124</td>\n",
       "      <td>308509</td>\n",
       "    </tr>\n",
       "    <tr>\n",
       "      <th>32</th>\n",
       "      <td>Туапсе</td>\n",
       "      <td>2021-07-01</td>\n",
       "      <td>1</td>\n",
       "      <td>26</td>\n",
       "      <td>44.098475</td>\n",
       "      <td>39.071888</td>\n",
       "      <td>496418</td>\n",
       "    </tr>\n",
       "    <tr>\n",
       "      <th>33</th>\n",
       "      <td>Усть-Лабинск</td>\n",
       "      <td>2021-07-01</td>\n",
       "      <td>1</td>\n",
       "      <td>35</td>\n",
       "      <td>45.217803</td>\n",
       "      <td>39.689673</td>\n",
       "      <td>112477</td>\n",
       "    </tr>\n",
       "    <tr>\n",
       "      <th>34</th>\n",
       "      <td>Хадыженск</td>\n",
       "      <td>2021-07-01</td>\n",
       "      <td>1</td>\n",
       "      <td>36</td>\n",
       "      <td>44.423103</td>\n",
       "      <td>39.536948</td>\n",
       "      <td>49197</td>\n",
       "    </tr>\n",
       "    <tr>\n",
       "      <th>35</th>\n",
       "      <td>Юрьев-Польский</td>\n",
       "      <td>2021-07-01</td>\n",
       "      <td>2</td>\n",
       "      <td>48</td>\n",
       "      <td>56.497195</td>\n",
       "      <td>39.678640</td>\n",
       "      <td>35710</td>\n",
       "    </tr>\n",
       "  </tbody>\n",
       "</table>\n",
       "</div>"
      ],
      "text/plain": [
       "                  city  snap_date  gender  age        lat        long  volume\n",
       "0               Абинск 2021-07-01       1   47  44.864953   38.157819  112819\n",
       "1          Александров 2021-07-01       2   42  56.396229   38.711110  102225\n",
       "2              Армавир 2021-07-01       1   58  44.999358   41.129406  232276\n",
       "3            Байкальск 2021-07-01       1   39  51.517192  104.141026   84722\n",
       "4          Белореченск 2021-07-01       2   47  44.761415   39.871294  107387\n",
       "5              Вязники 2021-07-01       1   38  56.245140   42.137577  162440\n",
       "6        Горно-Алтайск 2021-07-01       1   40  51.957775   85.963653  107472\n",
       "7             Городищи 2021-07-01       2   39  55.869729   39.094127   53052\n",
       "8            Гороховец 2021-07-01       3   30  56.206570   42.679035  194968\n",
       "9         Горячий Ключ 2021-07-01       2   34  44.634265   39.136361  833511\n",
       "10          Гулькевичи 2021-07-01       2   53  45.356512   40.696226   96322\n",
       "11                Ейск 2021-07-01       3   46  46.711209   38.274799  103193\n",
       "12              Ковров 2021-07-01       1   22  56.374603   41.311676   58963\n",
       "13          Кольчугино 2021-07-01       2   31  56.293978   39.375993   22068\n",
       "14           Кореновск 2021-07-01       2   34  45.463586   39.448757  635512\n",
       "15           Кропоткин 2021-07-01       2   52  45.434441   40.575027  209706\n",
       "16              Крымск 2021-07-01       3   46  44.929589   37.988018  263088\n",
       "17          Курганинск 2021-07-01       2   39  44.885163   40.589467   77929\n",
       "18             Лабинск 2021-07-01       1   50  44.634795   40.724218   54416\n",
       "19             Лакинск 2021-07-01       1   30  56.015093   39.946558  189874\n",
       "20             Меленки 2021-07-01       1   28  55.336837   41.631406   18680\n",
       "21               Муром 2021-07-01       2   39  55.573800   42.044700  143472\n",
       "22         Новокубанск 2021-07-01       2   55  45.108318   41.036690  174144\n",
       "23             Петушки 2021-07-01       2   39  55.929802   39.450831  152024\n",
       "24              Покров 2021-07-01       3   42  47.654659   34.114934  190393\n",
       "25              Сириус 2021-07-01       1   38  43.406418   39.954483  864617\n",
       "26  Славянск-на-Кубани 2021-07-01       2   46  45.259087   38.124461  369452\n",
       "27           Сортавала 2021-07-01       2   44  61.702740   30.691231   56610\n",
       "28            Струнино 2021-07-01       1   39  56.374000   38.586000   75328\n",
       "29              Темрюк 2021-07-01       1   40  45.275166   37.390548  441716\n",
       "30           Тимашевск 2021-07-01       1   51  45.612353   38.950430  512881\n",
       "31            Тихорецк 2021-07-01       2   56  45.854679   40.128124  308509\n",
       "32              Туапсе 2021-07-01       1   26  44.098475   39.071888  496418\n",
       "33        Усть-Лабинск 2021-07-01       1   35  45.217803   39.689673  112477\n",
       "34           Хадыженск 2021-07-01       1   36  44.423103   39.536948   49197\n",
       "35      Юрьев-Польский 2021-07-01       2   48  56.497195   39.678640   35710"
      ]
     },
     "execution_count": 264,
     "metadata": {},
     "output_type": "execute_result"
    }
   ],
   "source": [
    "viz_RU"
   ]
  },
  {
   "cell_type": "code",
   "execution_count": null,
   "metadata": {},
   "outputs": [
    {
     "data": {
      "text/plain": [
       "<Axes: xlabel='days', ylabel='city'>"
      ]
     },
     "execution_count": 265,
     "metadata": {},
     "output_type": "execute_result"
    },
    {
     "data": {
      "image/png": "[encoded data removed]",
      "text/plain": [
       "<Figure size 640x480 with 1 Axes>"
      ]
     },
     "metadata": {
      "image/png": {
       "height": 438,
       "width": 697
      }
     },
     "output_type": "display_data"
    }
   ],
   "source": [
    "sns.boxplot(data=df_map, x='days', y='city', showfliers = False)"
   ]
  },
  {
   "cell_type": "code",
   "execution_count": null,
   "metadata": {},
   "outputs": [
    {
     "data": {
      "application/vnd.plotly.v1+json": {
       "config": {
        "plotlyServerURL": "https://plot.ly"
       },
       "data": [
        {
         "customdata": [
          [
           112819
          ]
         ],
         "hovertemplate": "<b>%{hovertext}</b><br><br>city=Абинск<br>volume=%{customdata[0]}<br>lat=%{lat}<br>long=%{lon}<extra></extra>",
         "hovertext": [
          "Абинск"
         ],
         "lat": [
          44.8649528
         ],
         "legendgroup": "Абинск",
         "lon": [
          38.1578189
         ],
         "marker": {
          "color": "#636efa",
          "size": [
           112819
          ],
          "sizemode": "area",
          "sizeref": 2161.5425
         },
         "mode": "markers",
         "name": "Абинск",
         "showlegend": true,
         "subplot": "mapbox",
         "type": "scattermapbox"
        },
        {
         "customdata": [
          [
           102225
          ]
         ],
         "hovertemplate": "<b>%{hovertext}</b><br><br>city=Александров<br>volume=%{customdata[0]}<br>lat=%{lat}<br>long=%{lon}<extra></extra>",
         "hovertext": [
          "Александров"
         ],
         "lat": [
          56.3962287
         ],
         "legendgroup": "Александров",
         "lon": [
          38.7111103
         ],
         "marker": {
          "color": "#EF553B",
          "size": [
           102225
          ],
          "sizemode": "area",
          "sizeref": 2161.5425
         },
         "mode": "markers",
         "name": "Александров",
         "showlegend": true,
         "subplot": "mapbox",
         "type": "scattermapbox"
        },
        {
         "customdata": [
          [
           232276
          ]
         ],
         "hovertemplate": "<b>%{hovertext}</b><br><br>city=Армавир<br>volume=%{customdata[0]}<br>lat=%{lat}<br>long=%{lon}<extra></extra>",
         "hovertext": [
          "Армавир"
         ],
         "lat": [
          44.9993585
         ],
         "legendgroup": "Армавир",
         "lon": [
          41.1294061
         ],
         "marker": {
          "color": "#00cc96",
          "size": [
           232276
          ],
          "sizemode": "area",
          "sizeref": 2161.5425
         },
         "mode": "markers",
         "name": "Армавир",
         "showlegend": true,
         "subplot": "mapbox",
         "type": "scattermapbox"
        },
        {
         "customdata": [
          [
           84722
          ]
         ],
         "hovertemplate": "<b>%{hovertext}</b><br><br>city=Байкальск<br>volume=%{customdata[0]}<br>lat=%{lat}<br>long=%{lon}<extra></extra>",
         "hovertext": [
          "Байкальск"
         ],
         "lat": [
          51.5171917
         ],
         "legendgroup": "Байкальск",
         "lon": [
          104.1410261
         ],
         "marker": {
          "color": "#ab63fa",
          "size": [
           84722
          ],
          "sizemode": "area",
          "sizeref": 2161.5425
         },
         "mode": "markers",
         "name": "Байкальск",
         "showlegend": true,
         "subplot": "mapbox",
         "type": "scattermapbox"
        },
        {
         "customdata": [
          [
           107387
          ]
         ],
         "hovertemplate": "<b>%{hovertext}</b><br><br>city=Белореченск<br>volume=%{customdata[0]}<br>lat=%{lat}<br>long=%{lon}<extra></extra>",
         "hovertext": [
          "Белореченск"
         ],
         "lat": [
          44.7614149
         ],
         "legendgroup": "Белореченск",
         "lon": [
          39.8712943
         ],
         "marker": {
          "color": "#FFA15A",
          "size": [
           107387
          ],
          "sizemode": "area",
          "sizeref": 2161.5425
         },
         "mode": "markers",
         "name": "Белореченск",
         "showlegend": true,
         "subplot": "mapbox",
         "type": "scattermapbox"
        },
        {
         "customdata": [
          [
           162440
          ]
         ],
         "hovertemplate": "<b>%{hovertext}</b><br><br>city=Вязники<br>volume=%{customdata[0]}<br>lat=%{lat}<br>long=%{lon}<extra></extra>",
         "hovertext": [
          "Вязники"
         ],
         "lat": [
          56.24514
         ],
         "legendgroup": "Вязники",
         "lon": [
          42.137577
         ],
         "marker": {
          "color": "#19d3f3",
          "size": [
           162440
          ],
          "sizemode": "area",
          "sizeref": 2161.5425
         },
         "mode": "markers",
         "name": "Вязники",
         "showlegend": true,
         "subplot": "mapbox",
         "type": "scattermapbox"
        },
        {
         "customdata": [
          [
           107472
          ]
         ],
         "hovertemplate": "<b>%{hovertext}</b><br><br>city=Горно-Алтайск<br>volume=%{customdata[0]}<br>lat=%{lat}<br>long=%{lon}<extra></extra>",
         "hovertext": [
          "Горно-Алтайск"
         ],
         "lat": [
          51.957775
         ],
         "legendgroup": "Горно-Алтайск",
         "lon": [
          85.963653
         ],
         "marker": {
          "color": "#FF6692",
          "size": [
           107472
          ],
          "sizemode": "area",
          "sizeref": 2161.5425
         },
         "mode": "markers",
         "name": "Горно-Алтайск",
         "showlegend": true,
         "subplot": "mapbox",
         "type": "scattermapbox"
        },
        {
         "customdata": [
          [
           53052
          ]
         ],
         "hovertemplate": "<b>%{hovertext}</b><br><br>city=Городищи<br>volume=%{customdata[0]}<br>lat=%{lat}<br>long=%{lon}<extra></extra>",
         "hovertext": [
          "Городищи"
         ],
         "lat": [
          55.8697294
         ],
         "legendgroup": "Городищи",
         "lon": [
          39.0941273
         ],
         "marker": {
          "color": "#B6E880",
          "size": [
           53052
          ],
          "sizemode": "area",
          "sizeref": 2161.5425
         },
         "mode": "markers",
         "name": "Городищи",
         "showlegend": true,
         "subplot": "mapbox",
         "type": "scattermapbox"
        },
        {
         "customdata": [
          [
           194968
          ]
         ],
         "hovertemplate": "<b>%{hovertext}</b><br><br>city=Гороховец<br>volume=%{customdata[0]}<br>lat=%{lat}<br>long=%{lon}<extra></extra>",
         "hovertext": [
          "Гороховец"
         ],
         "lat": [
          56.20657
         ],
         "legendgroup": "Гороховец",
         "lon": [
          42.679035
         ],
         "marker": {
          "color": "#FF97FF",
          "size": [
           194968
          ],
          "sizemode": "area",
          "sizeref": 2161.5425
         },
         "mode": "markers",
         "name": "Гороховец",
         "showlegend": true,
         "subplot": "mapbox",
         "type": "scattermapbox"
        },
        {
         "customdata": [
          [
           833511
          ]
         ],
         "hovertemplate": "<b>%{hovertext}</b><br><br>city=Горячий Ключ<br>volume=%{customdata[0]}<br>lat=%{lat}<br>long=%{lon}<extra></extra>",
         "hovertext": [
          "Горячий Ключ"
         ],
         "lat": [
          44.6342653
         ],
         "legendgroup": "Горячий Ключ",
         "lon": [
          39.1363613
         ],
         "marker": {
          "color": "#FECB52",
          "size": [
           833511
          ],
          "sizemode": "area",
          "sizeref": 2161.5425
         },
         "mode": "markers",
         "name": "Горячий Ключ",
         "showlegend": true,
         "subplot": "mapbox",
         "type": "scattermapbox"
        },
        {
         "customdata": [
          [
           96322
          ]
         ],
         "hovertemplate": "<b>%{hovertext}</b><br><br>city=Гулькевичи<br>volume=%{customdata[0]}<br>lat=%{lat}<br>long=%{lon}<extra></extra>",
         "hovertext": [
          "Гулькевичи"
         ],
         "lat": [
          45.3565119
         ],
         "legendgroup": "Гулькевичи",
         "lon": [
          40.6962256
         ],
         "marker": {
          "color": "#636efa",
          "size": [
           96322
          ],
          "sizemode": "area",
          "sizeref": 2161.5425
         },
         "mode": "markers",
         "name": "Гулькевичи",
         "showlegend": true,
         "subplot": "mapbox",
         "type": "scattermapbox"
        },
        {
         "customdata": [
          [
           103193
          ]
         ],
         "hovertemplate": "<b>%{hovertext}</b><br><br>city=Ейск<br>volume=%{customdata[0]}<br>lat=%{lat}<br>long=%{lon}<extra></extra>",
         "hovertext": [
          "Ейск"
         ],
         "lat": [
          46.7112094
         ],
         "legendgroup": "Ейск",
         "lon": [
          38.2747987
         ],
         "marker": {
          "color": "#EF553B",
          "size": [
           103193
          ],
          "sizemode": "area",
          "sizeref": 2161.5425
         },
         "mode": "markers",
         "name": "Ейск",
         "showlegend": true,
         "subplot": "mapbox",
         "type": "scattermapbox"
        },
        {
         "customdata": [
          [
           58963
          ]
         ],
         "hovertemplate": "<b>%{hovertext}</b><br><br>city=Ковров<br>volume=%{customdata[0]}<br>lat=%{lat}<br>long=%{lon}<extra></extra>",
         "hovertext": [
          "Ковров"
         ],
         "lat": [
          56.374603
         ],
         "legendgroup": "Ковров",
         "lon": [
          41.311676
         ],
         "marker": {
          "color": "#00cc96",
          "size": [
           58963
          ],
          "sizemode": "area",
          "sizeref": 2161.5425
         },
         "mode": "markers",
         "name": "Ковров",
         "showlegend": true,
         "subplot": "mapbox",
         "type": "scattermapbox"
        },
        {
         "customdata": [
          [
           22068
          ]
         ],
         "hovertemplate": "<b>%{hovertext}</b><br><br>city=Кольчугино<br>volume=%{customdata[0]}<br>lat=%{lat}<br>long=%{lon}<extra></extra>",
         "hovertext": [
          "Кольчугино"
         ],
         "lat": [
          56.2939784
         ],
         "legendgroup": "Кольчугино",
         "lon": [
          39.3759931
         ],
         "marker": {
          "color": "#ab63fa",
          "size": [
           22068
          ],
          "sizemode": "area",
          "sizeref": 2161.5425
         },
         "mode": "markers",
         "name": "Кольчугино",
         "showlegend": true,
         "subplot": "mapbox",
         "type": "scattermapbox"
        },
        {
         "customdata": [
          [
           635512
          ]
         ],
         "hovertemplate": "<b>%{hovertext}</b><br><br>city=Кореновск<br>volume=%{customdata[0]}<br>lat=%{lat}<br>long=%{lon}<extra></extra>",
         "hovertext": [
          "Кореновск"
         ],
         "lat": [
          45.4635863
         ],
         "legendgroup": "Кореновск",
         "lon": [
          39.4487565
         ],
         "marker": {
          "color": "#FFA15A",
          "size": [
           635512
          ],
          "sizemode": "area",
          "sizeref": 2161.5425
         },
         "mode": "markers",
         "name": "Кореновск",
         "showlegend": true,
         "subplot": "mapbox",
         "type": "scattermapbox"
        },
        {
         "customdata": [
          [
           209706
          ]
         ],
         "hovertemplate": "<b>%{hovertext}</b><br><br>city=Кропоткин<br>volume=%{customdata[0]}<br>lat=%{lat}<br>long=%{lon}<extra></extra>",
         "hovertext": [
          "Кропоткин"
         ],
         "lat": [
          45.4344413
         ],
         "legendgroup": "Кропоткин",
         "lon": [
          40.5750274
         ],
         "marker": {
          "color": "#19d3f3",
          "size": [
           209706
          ],
          "sizemode": "area",
          "sizeref": 2161.5425
         },
         "mode": "markers",
         "name": "Кропоткин",
         "showlegend": true,
         "subplot": "mapbox",
         "type": "scattermapbox"
        },
        {
         "customdata": [
          [
           263088
          ]
         ],
         "hovertemplate": "<b>%{hovertext}</b><br><br>city=Крымск<br>volume=%{customdata[0]}<br>lat=%{lat}<br>long=%{lon}<extra></extra>",
         "hovertext": [
          "Крымск"
         ],
         "lat": [
          44.9295889
         ],
         "legendgroup": "Крымск",
         "lon": [
          37.9880177
         ],
         "marker": {
          "color": "#FF6692",
          "size": [
           263088
          ],
          "sizemode": "area",
          "sizeref": 2161.5425
         },
         "mode": "markers",
         "name": "Крымск",
         "showlegend": true,
         "subplot": "mapbox",
         "type": "scattermapbox"
        },
        {
         "customdata": [
          [
           77929
          ]
         ],
         "hovertemplate": "<b>%{hovertext}</b><br><br>city=Курганинск<br>volume=%{customdata[0]}<br>lat=%{lat}<br>long=%{lon}<extra></extra>",
         "hovertext": [
          "Курганинск"
         ],
         "lat": [
          44.8851635
         ],
         "legendgroup": "Курганинск",
         "lon": [
          40.5894674
         ],
         "marker": {
          "color": "#B6E880",
          "size": [
           77929
          ],
          "sizemode": "area",
          "sizeref": 2161.5425
         },
         "mode": "markers",
         "name": "Курганинск",
         "showlegend": true,
         "subplot": "mapbox",
         "type": "scattermapbox"
        },
        {
         "customdata": [
          [
           54416
          ]
         ],
         "hovertemplate": "<b>%{hovertext}</b><br><br>city=Лабинск<br>volume=%{customdata[0]}<br>lat=%{lat}<br>long=%{lon}<extra></extra>",
         "hovertext": [
          "Лабинск"
         ],
         "lat": [
          44.6347953
         ],
         "legendgroup": "Лабинск",
         "lon": [
          40.7242185
         ],
         "marker": {
          "color": "#FF97FF",
          "size": [
           54416
          ],
          "sizemode": "area",
          "sizeref": 2161.5425
         },
         "mode": "markers",
         "name": "Лабинск",
         "showlegend": true,
         "subplot": "mapbox",
         "type": "scattermapbox"
        },
        {
         "customdata": [
          [
           189874
          ]
         ],
         "hovertemplate": "<b>%{hovertext}</b><br><br>city=Лакинск<br>volume=%{customdata[0]}<br>lat=%{lat}<br>long=%{lon}<extra></extra>",
         "hovertext": [
          "Лакинск"
         ],
         "lat": [
          56.015093
         ],
         "legendgroup": "Лакинск",
         "lon": [
          39.946558
         ],
         "marker": {
          "color": "#FECB52",
          "size": [
           189874
          ],
          "sizemode": "area",
          "sizeref": 2161.5425
         },
         "mode": "markers",
         "name": "Лакинск",
         "showlegend": true,
         "subplot": "mapbox",
         "type": "scattermapbox"
        },
        {
         "customdata": [
          [
           18680
          ]
         ],
         "hovertemplate": "<b>%{hovertext}</b><br><br>city=Меленки<br>volume=%{customdata[0]}<br>lat=%{lat}<br>long=%{lon}<extra></extra>",
         "hovertext": [
          "Меленки"
         ],
         "lat": [
          55.3368374
         ],
         "legendgroup": "Меленки",
         "lon": [
          41.6314063
         ],
         "marker": {
          "color": "#636efa",
          "size": [
           18680
          ],
          "sizemode": "area",
          "sizeref": 2161.5425
         },
         "mode": "markers",
         "name": "Меленки",
         "showlegend": true,
         "subplot": "mapbox",
         "type": "scattermapbox"
        },
        {
         "customdata": [
          [
           143472
          ]
         ],
         "hovertemplate": "<b>%{hovertext}</b><br><br>city=Муром<br>volume=%{customdata[0]}<br>lat=%{lat}<br>long=%{lon}<extra></extra>",
         "hovertext": [
          "Муром"
         ],
         "lat": [
          55.5738
         ],
         "legendgroup": "Муром",
         "lon": [
          42.0447
         ],
         "marker": {
          "color": "#EF553B",
          "size": [
           143472
          ],
          "sizemode": "area",
          "sizeref": 2161.5425
         },
         "mode": "markers",
         "name": "Муром",
         "showlegend": true,
         "subplot": "mapbox",
         "type": "scattermapbox"
        },
        {
         "customdata": [
          [
           174144
          ]
         ],
         "hovertemplate": "<b>%{hovertext}</b><br><br>city=Новокубанск<br>volume=%{customdata[0]}<br>lat=%{lat}<br>long=%{lon}<extra></extra>",
         "hovertext": [
          "Новокубанск"
         ],
         "lat": [
          45.1083184
         ],
         "legendgroup": "Новокубанск",
         "lon": [
          41.0366896
         ],
         "marker": {
          "color": "#00cc96",
          "size": [
           174144
          ],
          "sizemode": "area",
          "sizeref": 2161.5425
         },
         "mode": "markers",
         "name": "Новокубанск",
         "showlegend": true,
         "subplot": "mapbox",
         "type": "scattermapbox"
        },
        {
         "customdata": [
          [
           152024
          ]
         ],
         "hovertemplate": "<b>%{hovertext}</b><br><br>city=Петушки<br>volume=%{customdata[0]}<br>lat=%{lat}<br>long=%{lon}<extra></extra>",
         "hovertext": [
          "Петушки"
         ],
         "lat": [
          55.9298019
         ],
         "legendgroup": "Петушки",
         "lon": [
          39.450831
         ],
         "marker": {
          "color": "#ab63fa",
          "size": [
           152024
          ],
          "sizemode": "area",
          "sizeref": 2161.5425
         },
         "mode": "markers",
         "name": "Петушки",
         "showlegend": true,
         "subplot": "mapbox",
         "type": "scattermapbox"
        },
        {
         "customdata": [
          [
           190393
          ]
         ],
         "hovertemplate": "<b>%{hovertext}</b><br><br>city=Покров<br>volume=%{customdata[0]}<br>lat=%{lat}<br>long=%{lon}<extra></extra>",
         "hovertext": [
          "Покров"
         ],
         "lat": [
          47.6546589
         ],
         "legendgroup": "Покров",
         "lon": [
          34.1149341
         ],
         "marker": {
          "color": "#FFA15A",
          "size": [
           190393
          ],
          "sizemode": "area",
          "sizeref": 2161.5425
         },
         "mode": "markers",
         "name": "Покров",
         "showlegend": true,
         "subplot": "mapbox",
         "type": "scattermapbox"
        },
        {
         "customdata": [
          [
           864617
          ]
         ],
         "hovertemplate": "<b>%{hovertext}</b><br><br>city=Сириус<br>volume=%{customdata[0]}<br>lat=%{lat}<br>long=%{lon}<extra></extra>",
         "hovertext": [
          "Сириус"
         ],
         "lat": [
          43.406418
         ],
         "legendgroup": "Сириус",
         "lon": [
          39.954483
         ],
         "marker": {
          "color": "#19d3f3",
          "size": [
           864617
          ],
          "sizemode": "area",
          "sizeref": 2161.5425
         },
         "mode": "markers",
         "name": "Сириус",
         "showlegend": true,
         "subplot": "mapbox",
         "type": "scattermapbox"
        },
        {
         "customdata": [
          [
           369452
          ]
         ],
         "hovertemplate": "<b>%{hovertext}</b><br><br>city=Славянск-на-Кубани<br>volume=%{customdata[0]}<br>lat=%{lat}<br>long=%{lon}<extra></extra>",
         "hovertext": [
          "Славянск-на-Кубани"
         ],
         "lat": [
          45.2590875
         ],
         "legendgroup": "Славянск-на-Кубани",
         "lon": [
          38.1244609
         ],
         "marker": {
          "color": "#FF6692",
          "size": [
           369452
          ],
          "sizemode": "area",
          "sizeref": 2161.5425
         },
         "mode": "markers",
         "name": "Славянск-на-Кубани",
         "showlegend": true,
         "subplot": "mapbox",
         "type": "scattermapbox"
        },
        {
         "customdata": [
          [
           56610
          ]
         ],
         "hovertemplate": "<b>%{hovertext}</b><br><br>city=Сортавала<br>volume=%{customdata[0]}<br>lat=%{lat}<br>long=%{lon}<extra></extra>",
         "hovertext": [
          "Сортавала"
         ],
         "lat": [
          61.70274
         ],
         "legendgroup": "Сортавала",
         "lon": [
          30.691231
         ],
         "marker": {
          "color": "#B6E880",
          "size": [
           56610
          ],
          "sizemode": "area",
          "sizeref": 2161.5425
         },
         "mode": "markers",
         "name": "Сортавала",
         "showlegend": true,
         "subplot": "mapbox",
         "type": "scattermapbox"
        },
        {
         "customdata": [
          [
           75328
          ]
         ],
         "hovertemplate": "<b>%{hovertext}</b><br><br>city=Струнино<br>volume=%{customdata[0]}<br>lat=%{lat}<br>long=%{lon}<extra></extra>",
         "hovertext": [
          "Струнино"
         ],
         "lat": [
          56.374
         ],
         "legendgroup": "Струнино",
         "lon": [
          38.586
         ],
         "marker": {
          "color": "#FF97FF",
          "size": [
           75328
          ],
          "sizemode": "area",
          "sizeref": 2161.5425
         },
         "mode": "markers",
         "name": "Струнино",
         "showlegend": true,
         "subplot": "mapbox",
         "type": "scattermapbox"
        },
        {
         "customdata": [
          [
           441716
          ]
         ],
         "hovertemplate": "<b>%{hovertext}</b><br><br>city=Темрюк<br>volume=%{customdata[0]}<br>lat=%{lat}<br>long=%{lon}<extra></extra>",
         "hovertext": [
          "Темрюк"
         ],
         "lat": [
          45.2751663
         ],
         "legendgroup": "Темрюк",
         "lon": [
          37.3905481
         ],
         "marker": {
          "color": "#FECB52",
          "size": [
           441716
          ],
          "sizemode": "area",
          "sizeref": 2161.5425
         },
         "mode": "markers",
         "name": "Темрюк",
         "showlegend": true,
         "subplot": "mapbox",
         "type": "scattermapbox"
        },
        {
         "customdata": [
          [
           512881
          ]
         ],
         "hovertemplate": "<b>%{hovertext}</b><br><br>city=Тимашевск<br>volume=%{customdata[0]}<br>lat=%{lat}<br>long=%{lon}<extra></extra>",
         "hovertext": [
          "Тимашевск"
         ],
         "lat": [
          45.6123531
         ],
         "legendgroup": "Тимашевск",
         "lon": [
          38.9504299
         ],
         "marker": {
          "color": "#636efa",
          "size": [
           512881
          ],
          "sizemode": "area",
          "sizeref": 2161.5425
         },
         "mode": "markers",
         "name": "Тимашевск",
         "showlegend": true,
         "subplot": "mapbox",
         "type": "scattermapbox"
        },
        {
         "customdata": [
          [
           308509
          ]
         ],
         "hovertemplate": "<b>%{hovertext}</b><br><br>city=Тихорецк<br>volume=%{customdata[0]}<br>lat=%{lat}<br>long=%{lon}<extra></extra>",
         "hovertext": [
          "Тихорецк"
         ],
         "lat": [
          45.854679
         ],
         "legendgroup": "Тихорецк",
         "lon": [
          40.128124
         ],
         "marker": {
          "color": "#EF553B",
          "size": [
           308509
          ],
          "sizemode": "area",
          "sizeref": 2161.5425
         },
         "mode": "markers",
         "name": "Тихорецк",
         "showlegend": true,
         "subplot": "mapbox",
         "type": "scattermapbox"
        },
        {
         "customdata": [
          [
           496418
          ]
         ],
         "hovertemplate": "<b>%{hovertext}</b><br><br>city=Туапсе<br>volume=%{customdata[0]}<br>lat=%{lat}<br>long=%{lon}<extra></extra>",
         "hovertext": [
          "Туапсе"
         ],
         "lat": [
          44.0984747
         ],
         "legendgroup": "Туапсе",
         "lon": [
          39.0718875
         ],
         "marker": {
          "color": "#00cc96",
          "size": [
           496418
          ],
          "sizemode": "area",
          "sizeref": 2161.5425
         },
         "mode": "markers",
         "name": "Туапсе",
         "showlegend": true,
         "subplot": "mapbox",
         "type": "scattermapbox"
        },
        {
         "customdata": [
          [
           112477
          ]
         ],
         "hovertemplate": "<b>%{hovertext}</b><br><br>city=Усть-Лабинск<br>volume=%{customdata[0]}<br>lat=%{lat}<br>long=%{lon}<extra></extra>",
         "hovertext": [
          "Усть-Лабинск"
         ],
         "lat": [
          45.2178027
         ],
         "legendgroup": "Усть-Лабинск",
         "lon": [
          39.6896725
         ],
         "marker": {
          "color": "#ab63fa",
          "size": [
           112477
          ],
          "sizemode": "area",
          "sizeref": 2161.5425
         },
         "mode": "markers",
         "name": "Усть-Лабинск",
         "showlegend": true,
         "subplot": "mapbox",
         "type": "scattermapbox"
        },
        {
         "customdata": [
          [
           49197
          ]
         ],
         "hovertemplate": "<b>%{hovertext}</b><br><br>city=Хадыженск<br>volume=%{customdata[0]}<br>lat=%{lat}<br>long=%{lon}<extra></extra>",
         "hovertext": [
          "Хадыженск"
         ],
         "lat": [
          44.4231032
         ],
         "legendgroup": "Хадыженск",
         "lon": [
          39.5369484
         ],
         "marker": {
          "color": "#FFA15A",
          "size": [
           49197
          ],
          "sizemode": "area",
          "sizeref": 2161.5425
         },
         "mode": "markers",
         "name": "Хадыженск",
         "showlegend": true,
         "subplot": "mapbox",
         "type": "scattermapbox"
        },
        {
         "customdata": [
          [
           35710
          ]
         ],
         "hovertemplate": "<b>%{hovertext}</b><br><br>city=Юрьев-Польский<br>volume=%{customdata[0]}<br>lat=%{lat}<br>long=%{lon}<extra></extra>",
         "hovertext": [
          "Юрьев-Польский"
         ],
         "lat": [
          56.4971948
         ],
         "legendgroup": "Юрьев-Польский",
         "lon": [
          39.67864
         ],
         "marker": {
          "color": "#19d3f3",
          "size": [
           35710
          ],
          "sizemode": "area",
          "sizeref": 2161.5425
         },
         "mode": "markers",
         "name": "Юрьев-Польский",
         "showlegend": true,
         "subplot": "mapbox",
         "type": "scattermapbox"
        }
       ],
       "layout": {
        "height": 700,
        "legend": {
         "itemsizing": "constant",
         "title": {
          "text": "city"
         },
         "tracegroupgap": 0
        },
        "mapbox": {
         "center": {
          "lat": 49.635445366666666,
          "lon": 42.50092040277778
         },
         "domain": {
          "x": [
           0,
           1
          ],
          "y": [
           0,
           1
          ]
         },
         "style": "carto-positron",
         "zoom": 8
        },
        "margin": {
         "b": 0,
         "l": 0,
         "r": 0,
         "t": 0
        },
        "template": {
         "data": {
          "bar": [
           {
            "error_x": {
             "color": "#2a3f5f"
            },
            "error_y": {
             "color": "#2a3f5f"
            },
            "marker": {
             "line": {
              "color": "#E5ECF6",
              "width": 0.5
             },
             "pattern": {
              "fillmode": "overlay",
              "size": 10,
              "solidity": 0.2
             }
            },
            "type": "bar"
           }
          ],
          "barpolar": [
           {
            "marker": {
             "line": {
              "color": "#E5ECF6",
              "width": 0.5
             },
             "pattern": {
              "fillmode": "overlay",
              "size": 10,
              "solidity": 0.2
             }
            },
            "type": "barpolar"
           }
          ],
          "carpet": [
           {
            "aaxis": {
             "endlinecolor": "#2a3f5f",
             "gridcolor": "white",
             "linecolor": "white",
             "minorgridcolor": "white",
             "startlinecolor": "#2a3f5f"
            },
            "baxis": {
             "endlinecolor": "#2a3f5f",
             "gridcolor": "white",
             "linecolor": "white",
             "minorgridcolor": "white",
             "startlinecolor": "#2a3f5f"
            },
            "type": "carpet"
           }
          ],
          "choropleth": [
           {
            "colorbar": {
             "outlinewidth": 0,
             "ticks": ""
            },
            "type": "choropleth"
           }
          ],
          "contour": [
           {
            "colorbar": {
             "outlinewidth": 0,
             "ticks": ""
            },
            "colorscale": [
             [
              0,
              "#0d0887"
             ],
             [
              0.1111111111111111,
              "#46039f"
             ],
             [
              0.2222222222222222,
              "#7201a8"
             ],
             [
              0.3333333333333333,
              "#9c179e"
             ],
             [
              0.4444444444444444,
              "#bd3786"
             ],
             [
              0.5555555555555556,
              "#d8576b"
             ],
             [
              0.6666666666666666,
              "#ed7953"
             ],
             [
              0.7777777777777778,
              "#fb9f3a"
             ],
             [
              0.8888888888888888,
              "#fdca26"
             ],
             [
              1,
              "#f0f921"
             ]
            ],
            "type": "contour"
           }
          ],
          "contourcarpet": [
           {
            "colorbar": {
             "outlinewidth": 0,
             "ticks": ""
            },
            "type": "contourcarpet"
           }
          ],
          "heatmap": [
           {
            "colorbar": {
             "outlinewidth": 0,
             "ticks": ""
            },
            "colorscale": [
             [
              0,
              "#0d0887"
             ],
             [
              0.1111111111111111,
              "#46039f"
             ],
             [
              0.2222222222222222,
              "#7201a8"
             ],
             [
              0.3333333333333333,
              "#9c179e"
             ],
             [
              0.4444444444444444,
              "#bd3786"
             ],
             [
              0.5555555555555556,
              "#d8576b"
             ],
             [
              0.6666666666666666,
              "#ed7953"
             ],
             [
              0.7777777777777778,
              "#fb9f3a"
             ],
             [
              0.8888888888888888,
              "#fdca26"
             ],
             [
              1,
              "#f0f921"
             ]
            ],
            "type": "heatmap"
           }
          ],
          "heatmapgl": [
           {
            "colorbar": {
             "outlinewidth": 0,
             "ticks": ""
            },
            "colorscale": [
             [
              0,
              "#0d0887"
             ],
             [
              0.1111111111111111,
              "#46039f"
             ],
             [
              0.2222222222222222,
              "#7201a8"
             ],
             [
              0.3333333333333333,
              "#9c179e"
             ],
             [
              0.4444444444444444,
              "#bd3786"
             ],
             [
              0.5555555555555556,
              "#d8576b"
             ],
             [
              0.6666666666666666,
              "#ed7953"
             ],
             [
              0.7777777777777778,
              "#fb9f3a"
             ],
             [
              0.8888888888888888,
              "#fdca26"
             ],
             [
              1,
              "#f0f921"
             ]
            ],
            "type": "heatmapgl"
           }
          ],
          "histogram": [
           {
            "marker": {
             "pattern": {
              "fillmode": "overlay",
              "size": 10,
              "solidity": 0.2
             }
            },
            "type": "histogram"
           }
          ],
          "histogram2d": [
           {
            "colorbar": {
             "outlinewidth": 0,
             "ticks": ""
            },
            "colorscale": [
             [
              0,
              "#0d0887"
             ],
             [
              0.1111111111111111,
              "#46039f"
             ],
             [
              0.2222222222222222,
              "#7201a8"
             ],
             [
              0.3333333333333333,
              "#9c179e"
             ],
             [
              0.4444444444444444,
              "#bd3786"
             ],
             [
              0.5555555555555556,
              "#d8576b"
             ],
             [
              0.6666666666666666,
              "#ed7953"
             ],
             [
              0.7777777777777778,
              "#fb9f3a"
             ],
             [
              0.8888888888888888,
              "#fdca26"
             ],
             [
              1,
              "#f0f921"
             ]
            ],
            "type": "histogram2d"
           }
          ],
          "histogram2dcontour": [
           {
            "colorbar": {
             "outlinewidth": 0,
             "ticks": ""
            },
            "colorscale": [
             [
              0,
              "#0d0887"
             ],
             [
              0.1111111111111111,
              "#46039f"
             ],
             [
              0.2222222222222222,
              "#7201a8"
             ],
             [
              0.3333333333333333,
              "#9c179e"
             ],
             [
              0.4444444444444444,
              "#bd3786"
             ],
             [
              0.5555555555555556,
              "#d8576b"
             ],
             [
              0.6666666666666666,
              "#ed7953"
             ],
             [
              0.7777777777777778,
              "#fb9f3a"
             ],
             [
              0.8888888888888888,
              "#fdca26"
             ],
             [
              1,
              "#f0f921"
             ]
            ],
            "type": "histogram2dcontour"
           }
          ],
          "mesh3d": [
           {
            "colorbar": {
             "outlinewidth": 0,
             "ticks": ""
            },
            "type": "mesh3d"
           }
          ],
          "parcoords": [
           {
            "line": {
             "colorbar": {
              "outlinewidth": 0,
              "ticks": ""
             }
            },
            "type": "parcoords"
           }
          ],
          "pie": [
           {
            "automargin": true,
            "type": "pie"
           }
          ],
          "scatter": [
           {
            "fillpattern": {
             "fillmode": "overlay",
             "size": 10,
             "solidity": 0.2
            },
            "type": "scatter"
           }
          ],
          "scatter3d": [
           {
            "line": {
             "colorbar": {
              "outlinewidth": 0,
              "ticks": ""
             }
            },
            "marker": {
             "colorbar": {
              "outlinewidth": 0,
              "ticks": ""
             }
            },
            "type": "scatter3d"
           }
          ],
          "scattercarpet": [
           {
            "marker": {
             "colorbar": {
              "outlinewidth": 0,
              "ticks": ""
             }
            },
            "type": "scattercarpet"
           }
          ],
          "scattergeo": [
           {
            "marker": {
             "colorbar": {
              "outlinewidth": 0,
              "ticks": ""
             }
            },
            "type": "scattergeo"
           }
          ],
          "scattergl": [
           {
            "marker": {
             "colorbar": {
              "outlinewidth": 0,
              "ticks": ""
             }
            },
            "type": "scattergl"
           }
          ],
          "scattermapbox": [
           {
            "marker": {
             "colorbar": {
              "outlinewidth": 0,
              "ticks": ""
             }
            },
            "type": "scattermapbox"
           }
          ],
          "scatterpolar": [
           {
            "marker": {
             "colorbar": {
              "outlinewidth": 0,
              "ticks": ""
             }
            },
            "type": "scatterpolar"
           }
          ],
          "scatterpolargl": [
           {
            "marker": {
             "colorbar": {
              "outlinewidth": 0,
              "ticks": ""
             }
            },
            "type": "scatterpolargl"
           }
          ],
          "scatterternary": [
           {
            "marker": {
             "colorbar": {
              "outlinewidth": 0,
              "ticks": ""
             }
            },
            "type": "scatterternary"
           }
          ],
          "surface": [
           {
            "colorbar": {
             "outlinewidth": 0,
             "ticks": ""
            },
            "colorscale": [
             [
              0,
              "#0d0887"
             ],
             [
              0.1111111111111111,
              "#46039f"
             ],
             [
              0.2222222222222222,
              "#7201a8"
             ],
             [
              0.3333333333333333,
              "#9c179e"
             ],
             [
              0.4444444444444444,
              "#bd3786"
             ],
             [
              0.5555555555555556,
              "#d8576b"
             ],
             [
              0.6666666666666666,
              "#ed7953"
             ],
             [
              0.7777777777777778,
              "#fb9f3a"
             ],
             [
              0.8888888888888888,
              "#fdca26"
             ],
             [
              1,
              "#f0f921"
             ]
            ],
            "type": "surface"
           }
          ],
          "table": [
           {
            "cells": {
             "fill": {
              "color": "#EBF0F8"
             },
             "line": {
              "color": "white"
             }
            },
            "header": {
             "fill": {
              "color": "#C8D4E3"
             },
             "line": {
              "color": "white"
             }
            },
            "type": "table"
           }
          ]
         },
         "layout": {
          "annotationdefaults": {
           "arrowcolor": "#2a3f5f",
           "arrowhead": 0,
           "arrowwidth": 1
          },
          "autotypenumbers": "strict",
          "coloraxis": {
           "colorbar": {
            "outlinewidth": 0,
            "ticks": ""
           }
          },
          "colorscale": {
           "diverging": [
            [
             0,
             "#8e0152"
            ],
            [
             0.1,
             "#c51b7d"
            ],
            [
             0.2,
             "#de77ae"
            ],
            [
             0.3,
             "#f1b6da"
            ],
            [
             0.4,
             "#fde0ef"
            ],
            [
             0.5,
             "#f7f7f7"
            ],
            [
             0.6,
             "#e6f5d0"
            ],
            [
             0.7,
             "#b8e186"
            ],
            [
             0.8,
             "#7fbc41"
            ],
            [
             0.9,
             "#4d9221"
            ],
            [
             1,
             "#276419"
            ]
           ],
           "sequential": [
            [
             0,
             "#0d0887"
            ],
            [
             0.1111111111111111,
             "#46039f"
            ],
            [
             0.2222222222222222,
             "#7201a8"
            ],
            [
             0.3333333333333333,
             "#9c179e"
            ],
            [
             0.4444444444444444,
             "#bd3786"
            ],
            [
             0.5555555555555556,
             "#d8576b"
            ],
            [
             0.6666666666666666,
             "#ed7953"
            ],
            [
             0.7777777777777778,
             "#fb9f3a"
            ],
            [
             0.8888888888888888,
             "#fdca26"
            ],
            [
             1,
             "#f0f921"
            ]
           ],
           "sequentialminus": [
            [
             0,
             "#0d0887"
            ],
            [
             0.1111111111111111,
             "#46039f"
            ],
            [
             0.2222222222222222,
             "#7201a8"
            ],
            [
             0.3333333333333333,
             "#9c179e"
            ],
            [
             0.4444444444444444,
             "#bd3786"
            ],
            [
             0.5555555555555556,
             "#d8576b"
            ],
            [
             0.6666666666666666,
             "#ed7953"
            ],
            [
             0.7777777777777778,
             "#fb9f3a"
            ],
            [
             0.8888888888888888,
             "#fdca26"
            ],
            [
             1,
             "#f0f921"
            ]
           ]
          },
          "colorway": [
           "#636efa",
           "#EF553B",
           "#00cc96",
           "#ab63fa",
           "#FFA15A",
           "#19d3f3",
           "#FF6692",
           "#B6E880",
           "#FF97FF",
           "#FECB52"
          ],
          "font": {
           "color": "#2a3f5f"
          },
          "geo": {
           "bgcolor": "white",
           "lakecolor": "white",
           "landcolor": "#E5ECF6",
           "showlakes": true,
           "showland": true,
           "subunitcolor": "white"
          },
          "hoverlabel": {
           "align": "left"
          },
          "hovermode": "closest",
          "mapbox": {
           "style": "light"
          },
          "paper_bgcolor": "white",
          "plot_bgcolor": "#E5ECF6",
          "polar": {
           "angularaxis": {
            "gridcolor": "white",
            "linecolor": "white",
            "ticks": ""
           },
           "bgcolor": "#E5ECF6",
           "radialaxis": {
            "gridcolor": "white",
            "linecolor": "white",
            "ticks": ""
           }
          },
          "scene": {
           "xaxis": {
            "backgroundcolor": "#E5ECF6",
            "gridcolor": "white",
            "gridwidth": 2,
            "linecolor": "white",
            "showbackground": true,
            "ticks": "",
            "zerolinecolor": "white"
           },
           "yaxis": {
            "backgroundcolor": "#E5ECF6",
            "gridcolor": "white",
            "gridwidth": 2,
            "linecolor": "white",
            "showbackground": true,
            "ticks": "",
            "zerolinecolor": "white"
           },
           "zaxis": {
            "backgroundcolor": "#E5ECF6",
            "gridcolor": "white",
            "gridwidth": 2,
            "linecolor": "white",
            "showbackground": true,
            "ticks": "",
            "zerolinecolor": "white"
           }
          },
          "shapedefaults": {
           "line": {
            "color": "#2a3f5f"
           }
          },
          "ternary": {
           "aaxis": {
            "gridcolor": "white",
            "linecolor": "white",
            "ticks": ""
           },
           "baxis": {
            "gridcolor": "white",
            "linecolor": "white",
            "ticks": ""
           },
           "bgcolor": "#E5ECF6",
           "caxis": {
            "gridcolor": "white",
            "linecolor": "white",
            "ticks": ""
           }
          },
          "title": {
           "x": 0.05
          },
          "xaxis": {
           "automargin": true,
           "gridcolor": "white",
           "linecolor": "white",
           "ticks": "",
           "title": {
            "standoff": 15
           },
           "zerolinecolor": "white",
           "zerolinewidth": 2
          },
          "yaxis": {
           "automargin": true,
           "gridcolor": "white",
           "linecolor": "white",
           "ticks": "",
           "title": {
            "standoff": 15
           },
           "zerolinecolor": "white",
           "zerolinewidth": 2
          }
         }
        },
        "width": 700
       }
      }
     },
     "metadata": {},
     "output_type": "display_data"
    }
   ],
   "source": [
    "import plotly.express as px\n",
    "color_scale = [(0, 'orange'), (1,'red')]\n",
    "\n",
    "fig = px.scatter_mapbox(viz_RU, \n",
    "                        lat=\"lat\", \n",
    "                        lon=\"long\", \n",
    "                        hover_name=\"city\", \n",
    "                        hover_data=[\"volume\"],\n",
    "                        color=\"city\",\n",
    "                        color_continuous_scale=color_scale,\n",
    "                        size=\"volume\",\n",
    "                        zoom=8, \n",
    "                        height=700,\n",
    "                        width=700)\n",
    "\n",
    "fig.update_layout(mapbox_style=\"carto-positron\")\n",
    "fig.update_layout(margin={\"r\":0,\"t\":0,\"l\":0,\"b\":0})\n",
    "fig.show()"
   ]
  },
  {
   "cell_type": "code",
   "execution_count": null,
   "metadata": {},
   "outputs": [],
   "source": []
  }
 ],
 "metadata": {
  "kernelspec": {
   "display_name": "Python 3 (ipykernel)",
   "language": "python",
   "name": "python3"
  },
  "language_info": {
   "codemirror_mode": {
    "name": "ipython",
    "version": 3
   },
   "file_extension": ".py",
   "mimetype": "text/x-python",
   "name": "python",
   "nbconvert_exporter": "python",
   "pygments_lexer": "ipython3",
   "version": "3.9.13"
  },
  "vscode": {
   "interpreter": {
    "hash": "7e9a19a13b188c8787608362fc6e85a26a778e7707c2687e31c90406442add42"
   }
  }
 },
 "nbformat": 4,
 "nbformat_minor": 2
}
