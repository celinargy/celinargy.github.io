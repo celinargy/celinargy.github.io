{
 "cells": [
  {
   "cell_type": "code",
   "execution_count": 1,
   "metadata": {},
   "outputs": [],
   "source": [
    "import requests\n",
    "from bs4 import BeautifulSoup\n",
    "\n",
    "url = \"https://www.ozon.ru/reviews/product/53942822/\"\n",
    "page = requests.get(url)\n",
    "soup = BeautifulSoup(page.content, 'html.parser')\n",
    "\n",
    "reviews = soup.find_all('div', class_='aText')\n",
    "for review in reviews:\n",
    "    print(review.text)"
   ]
  },
  {
   "cell_type": "code",
   "execution_count": 1,
   "metadata": {},
   "outputs": [],
   "source": [
    "import copy\n",
    "from selenium import webdriver\n",
    "from selenium.webdriver.support.ui import Select\n",
    "from selenium.webdriver.common.by import By\n",
    "from selenium.webdriver.support.wait import WebDriverWait\n",
    "from selenium.webdriver.support import expected_conditions as EC\n",
    "from selenium.webdriver.common.keys import Keys\n",
    "from selenium.common.exceptions import NoSuchElementException\n",
    "from selenium.common.exceptions import ElementClickInterceptedException \n",
    "from selenium.common.exceptions import TimeoutException \n",
    "from selenium.common.exceptions import ElementNotInteractableException\n",
    "from selenium.webdriver.common.action_chains import ActionChains\n",
    "import numpy as np\n",
    "import time\n",
    "from selenium.webdriver.chrome.service import Service"
   ]
  },
  {
   "cell_type": "code",
   "execution_count": 3,
   "metadata": {},
   "outputs": [],
   "source": [
    "directory_of_chromedriver=\"C:/Users/argyropoulos_c/Documents/chromedriver.exe\""
   ]
  },
  {
   "cell_type": "code",
   "execution_count": null,
   "metadata": {},
   "outputs": [],
   "source": [
    "driver = webdriver.Chrome(service=Service(directory_of_chromedriver))"
   ]
  },
  {
   "cell_type": "code",
   "execution_count": null,
   "metadata": {},
   "outputs": [],
   "source": [
    "driver = webdriver.Chrome(executable_path=directory_of_chromedriver)\n",
    "\n",
    "driver.get('https://www.ozon.ru/product/229186105/reviews/')\n",
    "\n",
    "driver.find_element(By.XPATH, '//div[@class=\"t9y\"]').text.splitlines()\n",
    "\n",
    "res = []\n",
    "\n",
    "for i in range(1,12):\n",
    "    attempt_counter = 0\n",
    "    result = False\n",
    "    while attempt_counter < 5 and not result:\n",
    "        try:\n",
    "            driver = webdriver.Chrome(executable_path=directory_of_chromedriver)\n",
    "        driver.get(f'https://www.ozon.ru/product/229186105/reviews/?page={i}')\n",
    "        res.append(driver.find_element(By.XPATH, '//div[@class=\"t9y\"]').text.splitlines())\n",
    "        driver.close()\n",
    "        result = True\n",
    "    except NoSuchElementException:\n",
    "        print(f'Page {i}: Error N{attempt_counter+1}')\n",
    "        attempt_counter += 1\n",
    "        driver.close()\n",
    "\n",
    "    if attempt_counter == 5:\n",
    "        print(f'Error on page {i}')"
   ]
  }
 ],
 "metadata": {
  "kernelspec": {
   "display_name": "Python 3.9.13 ('base')",
   "language": "python",
   "name": "python3"
  },
  "language_info": {
   "codemirror_mode": {
    "name": "ipython",
    "version": 3
   },
   "file_extension": ".py",
   "mimetype": "text/x-python",
   "name": "python",
   "nbconvert_exporter": "python",
   "pygments_lexer": "ipython3",
   "version": "3.9.13"
  },
  "orig_nbformat": 4,
  "vscode": {
   "interpreter": {
    "hash": "7e9a19a13b188c8787608362fc6e85a26a778e7707c2687e31c90406442add42"
   }
  }
 },
 "nbformat": 4,
 "nbformat_minor": 2
}
