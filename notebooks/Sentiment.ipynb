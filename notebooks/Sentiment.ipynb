{
 "cells": [
  {
   "cell_type": "code",
   "execution_count": 2,
   "metadata": {},
   "outputs": [],
   "source": [
    "import glob\n",
    "import pandas as pd\n",
    "import numpy as np\n"
   ]
  },
  {
   "cell_type": "code",
   "execution_count": 17,
   "metadata": {},
   "outputs": [],
   "source": [
    "# r creates a raw path\n",
    "# glob library to create list of paths for xls files\n",
    "path = (r\"C:\\Users\\argyropoulos_c\\Documents\\GitHub\\celinargy.github.io\\notebooks\\data\")\n",
    "file_list = glob.glob(path + \"/*.xls\")"
   ]
  },
  {
   "cell_type": "code",
   "execution_count": 19,
   "metadata": {},
   "outputs": [],
   "source": [
    "# Create an empty list\n",
    "excl_list = []\n",
    " \n",
    "# iteratre through file_list to read xls and create DF \n",
    "for file in file_list:\n",
    "    excl_list.append(pd.read_excel(file))"
   ]
  },
  {
   "cell_type": "code",
   "execution_count": 11,
   "metadata": {},
   "outputs": [
    {
     "name": "stderr",
     "output_type": "stream",
     "text": [
      "C:\\Users\\argyropoulos_c\\AppData\\Local\\Temp\\ipykernel_3416\\442700385.py:4: FutureWarning: The frame.append method is deprecated and will be removed from pandas in a future version. Use pandas.concat instead.\n",
      "  excl_merged = excl_merged.append(\n"
     ]
    }
   ],
   "source": [
    "# merge DF using append but better using concat \n",
    "excl_merged = pd.DataFrame()\n",
    "\n",
    "for excl_file in excl_list:\n",
    "    excl_merged = excl_merged.append(\n",
    "    excl_file, ignore_index=True)"
   ]
  },
  {
   "cell_type": "code",
   "execution_count": 16,
   "metadata": {},
   "outputs": [],
   "source": [
    "excl_merged.to_excel('total_recs.xlsx', index=False)"
   ]
  },
  {
   "cell_type": "code",
   "execution_count": 20,
   "metadata": {},
   "outputs": [],
   "source": [
    "read_file = pd.read_excel (r'C:\\Users\\argyropoulos_c\\Documents\\GitHub\\celinargy.github.io\\notebooks\\total_recs.xlsx')\n",
    "read_file.to_csv (r'C:\\Users\\argyropoulos_c\\Documents\\GitHub\\celinargy.github.io\\notebooks\\total_recs.csv', index = None, header=True)"
   ]
  },
  {
   "cell_type": "code",
   "execution_count": null,
   "metadata": {},
   "outputs": [],
   "source": []
  }
 ],
 "metadata": {
  "kernelspec": {
   "display_name": "Python 3.11.0 64-bit",
   "language": "python",
   "name": "python3"
  },
  "language_info": {
   "codemirror_mode": {
    "name": "ipython",
    "version": 3
   },
   "file_extension": ".py",
   "mimetype": "text/x-python",
   "name": "python",
   "nbconvert_exporter": "python",
   "pygments_lexer": "ipython3",
   "version": "3.11.0"
  },
  "orig_nbformat": 4,
  "vscode": {
   "interpreter": {
    "hash": "d4ca170f306ca5ee8aa640b41f72b4fdd4c7f1e8d0f6ea887d8501278c7a7edc"
   }
  }
 },
 "nbformat": 4,
 "nbformat_minor": 2
}
