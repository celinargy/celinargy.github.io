{
 "cells": [
  {
   "cell_type": "code",
   "execution_count": 1,
   "metadata": {},
   "outputs": [],
   "source": [
    "import requests\n",
    "from bs4 import BeautifulSoup\n",
    "\n",
    "url = \"https://www.ozon.ru/reviews/product/53942822/\"\n",
    "page = requests.get(url)\n",
    "soup = BeautifulSoup(page.content, 'html.parser')\n",
    "\n",
    "reviews = soup.find_all('div', class_='aText')\n",
    "for review in reviews:\n",
    "    print(review.text)"
   ]
  },
  {
   "cell_type": "code",
   "execution_count": 1,
   "metadata": {},
   "outputs": [],
   "source": [
    "import copy\n",
    "from selenium import webdriver\n",
    "from selenium.webdriver.support.ui import Select\n",
    "from selenium.webdriver.common.by import By\n",
    "from selenium.webdriver.support.wait import WebDriverWait\n",
    "from selenium.webdriver.support import expected_conditions as EC\n",
    "from selenium.webdriver.common.keys import Keys\n",
    "from selenium.common.exceptions import NoSuchElementException\n",
    "from selenium.common.exceptions import ElementClickInterceptedException \n",
    "from selenium.common.exceptions import TimeoutException \n",
    "from selenium.common.exceptions import ElementNotInteractableException\n",
    "from selenium.webdriver.common.action_chains import ActionChains\n",
    "import numpy as np\n",
    "import time\n",
    "from selenium.webdriver.chrome.service import Service"
   ]
  },
  {
   "cell_type": "code",
   "execution_count": 2,
   "metadata": {},
   "outputs": [],
   "source": [
    "directory_of_chromedriver=\"C:/Users/argyropoulos_c/Documents/chromedriver.exe\""
   ]
  },
  {
   "cell_type": "code",
   "execution_count": null,
   "metadata": {},
   "outputs": [],
   "source": [
    "driver = webdriver.Chrome(service=Service(directory_of_chromedriver))"
   ]
  },
  {
   "cell_type": "code",
   "execution_count": 6,
   "metadata": {},
   "outputs": [
    {
     "name": "stdout",
     "output_type": "stream",
     "text": [
      "Page 1: Error N1\n",
      "Page 1: Error N2\n",
      "Page 1: Error N3\n",
      "Page 1: Error N4\n",
      "Page 1: Error N5\n",
      "Error on page 1\n",
      "Page 2: Error N1\n",
      "Page 2: Error N2\n",
      "Page 2: Error N3\n",
      "Page 2: Error N4\n",
      "Page 2: Error N5\n",
      "Error on page 2\n",
      "Page 3: Error N1\n",
      "Page 3: Error N2\n",
      "Page 3: Error N3\n",
      "Page 3: Error N4\n",
      "Page 3: Error N5\n",
      "Error on page 3\n",
      "Page 4: Error N1\n",
      "Page 4: Error N2\n",
      "Page 4: Error N3\n",
      "Page 4: Error N4\n",
      "Page 4: Error N5\n",
      "Error on page 4\n",
      "Page 5: Error N1\n",
      "Page 5: Error N2\n",
      "Page 5: Error N3\n",
      "Page 5: Error N4\n",
      "Page 5: Error N5\n",
      "Error on page 5\n",
      "Page 6: Error N1\n",
      "Page 6: Error N2\n",
      "Page 6: Error N3\n",
      "Page 6: Error N4\n",
      "Page 6: Error N5\n",
      "Error on page 6\n",
      "Page 7: Error N1\n",
      "Page 7: Error N2\n",
      "Page 7: Error N3\n",
      "Page 7: Error N4\n",
      "Page 7: Error N5\n",
      "Error on page 7\n",
      "Page 8: Error N1\n",
      "Page 8: Error N2\n",
      "Page 8: Error N3\n",
      "Page 8: Error N4\n",
      "Page 8: Error N5\n",
      "Error on page 8\n",
      "Page 9: Error N1\n",
      "Page 9: Error N2\n",
      "Page 9: Error N3\n",
      "Page 9: Error N4\n",
      "Page 9: Error N5\n",
      "Error on page 9\n",
      "Page 10: Error N1\n",
      "Page 10: Error N2\n",
      "Page 10: Error N3\n",
      "Page 10: Error N4\n",
      "Page 10: Error N5\n",
      "Error on page 10\n",
      "Page 11: Error N1\n",
      "Page 11: Error N2\n",
      "Page 11: Error N3\n",
      "Page 11: Error N4\n",
      "Page 11: Error N5\n",
      "Error on page 11\n"
     ]
    }
   ],
   "source": [
    "driver = webdriver.Chrome(executable_path=directory_of_chromedriver)\n",
    "\n",
    "#driver.get('https://www.ozon.ru/product/229186105/reviews/')\n",
    "\n",
    "#driver.find_element(By.XPATH, '//div[@class=\"t9y\"]').text.splitlines()\n",
    "\n",
    "res = []\n",
    "\n",
    "for i in range(1,12):\n",
    "    attempt_counter = 0\n",
    "    result = False\n",
    "    while attempt_counter < 5 and not result:\n",
    "        try:\n",
    "            driver = webdriver.Chrome(executable_path=directory_of_chromedriver)\n",
    "            driver.get(f'https://www.ozon.ru/product/229186105/reviews/?page={i}')\n",
    "            res.append(driver.find_element(By.XPATH, '//div[@class=\"t9y\"]').text.splitlines())\n",
    "            driver.close()\n",
    "            result = True\n",
    "        except NoSuchElementException:\n",
    "            print(f'Page {i}: Error N{attempt_counter+1}')\n",
    "            attempt_counter += 1\n",
    "            driver.close()\n",
    "            \n",
    "    if attempt_counter == 5:\n",
    "        print(f'Error on page {i}')"
   ]
  },
  {
   "cell_type": "code",
   "execution_count": null,
   "metadata": {},
   "outputs": [],
   "source": []
  }
 ],
 "metadata": {
  "kernelspec": {
   "display_name": "Python 3.9.13 ('base')",
   "language": "python",
   "name": "python3"
  },
  "language_info": {
   "codemirror_mode": {
    "name": "ipython",
    "version": 3
   },
   "file_extension": ".py",
   "mimetype": "text/x-python",
   "name": "python",
   "nbconvert_exporter": "python",
   "pygments_lexer": "ipython3",
   "version": "3.9.13"
  },
  "orig_nbformat": 4,
  "vscode": {
   "interpreter": {
    "hash": "7e9a19a13b188c8787608362fc6e85a26a778e7707c2687e31c90406442add42"
   }
  }
 },
 "nbformat": 4,
 "nbformat_minor": 2
}
