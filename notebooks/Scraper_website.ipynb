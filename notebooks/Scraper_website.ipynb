{
 "cells": [
  {
   "cell_type": "code",
   "execution_count": null,
   "metadata": {},
   "outputs": [],
   "source": [
    "import pandas as pd\n",
    "import numpy as np\n",
    "import copy\n",
    "from selenium import webdriver\n",
    "from selenium.common.exceptions import NoSuchElementException\n",
    "from selenium.webdriver.common.by import By\n",
    "directory_of_chromedriver=\"C:/Users/argyropoulos_c/Documents/chromedriver.exe\""
   ]
  },
  {
   "cell_type": "code",
   "execution_count": null,
   "metadata": {},
   "outputs": [],
   "source": [
    "res = []\n",
    "\n",
    "for i in range(0,4):\n",
    "    attempt_counter = 0\n",
    "    result = False\n",
    "    while attempt_counter < 5 and not result:\n",
    "        try:\n",
    "            driver = webdriver.Chrome(executable_path=directory_of_chromedriver)\n",
    "            driver.get(f'http://en.vietnamexport.com/index.php/verified-exporters/itemlist/category/67-cashew-nuts.html?start={i}0')\n",
    "            elements = driver.find_elements(By.XPATH, '//div[@class=\"tintuc_item\"]')\n",
    "            for element in elements:\n",
    "                res.append(element.text.splitlines())\n",
    "            result = True\n",
    "        except NoSuchElementException:\n",
    "            print(f'Page {i}: Error N{attempt_counter+1}')\n",
    "            attempt_counter += 1\n",
    "            \n",
    "    if attempt_counter == 5:\n",
    "        print(f'Error on page {i}')\n",
    "\n",
    "driver.quit()"
   ]
  },
  {
   "cell_type": "code",
   "execution_count": null,
   "metadata": {},
   "outputs": [],
   "source": [
    "#Store the extracted data\n",
    "company = []\n",
    "address = []\n",
    "province = []\n",
    "telephone = []\n",
    "email = []\n",
    "website = []\n",
    "\n",
    "for sublist in res:\n",
    "        company.append(sublist[0])\n",
    "        address.append(sublist[1])\n",
    "        province.append(sublist[2])\n",
    "        telephone.append(sublist[3])\n",
    "        email.append(sublist[4])\n",
    "        website.append(sublist[5])"
   ]
  },
  {
   "cell_type": "code",
   "execution_count": null,
   "metadata": {},
   "outputs": [],
   "source": [
    "#Store the extracted data\n",
    "company = []\n",
    "address = []\n",
    "province = []\n",
    "telephone = []\n",
    "email = []\n",
    "website = []\n",
    "\n",
    "max_len = max(len(sublist) for sublist in res) # find the maximum length of all sublists\n",
    "\n",
    "for sublist in res:\n",
    "    # Pad the shorter sublists with None values\n",
    "    sublist += [None] * (max_len - len(sublist))\n",
    "    \n",
    "    # Append the elements to the corresponding arrays\n",
    "    company.append(sublist[0])\n",
    "    address.append(sublist[1])\n",
    "    province.append(sublist[2])\n",
    "    telephone.append(sublist[3])\n",
    "    email.append(sublist[4])\n",
    "    website.append(sublist[5])"
   ]
  },
  {
   "cell_type": "code",
   "execution_count": null,
   "metadata": {},
   "outputs": [],
   "source": [
    "data = {'company': company, 'address': address, 'province': province, 'telephone':telephone,'email':email,'website':website}\n",
    "\n",
    "# Create a DataFrame from the dictionary\n",
    "df = pd.DataFrame(data)\n",
    "df['email'] = df['email'].str.replace('Email:','')\n",
    "df['telephone'] = df['telephone'].str.replace('Telephone:','')\n",
    "df['address'] = df['address'].str.replace('Business Address:','')\n",
    "df['website'] = df['website'].str.replace('Website:','')\n",
    "df['province'] = df['province'].str.replace('Province:','')"
   ]
  },
  {
   "cell_type": "code",
   "execution_count": null,
   "metadata": {},
   "outputs": [],
   "source": [
    "df.to_excel('VN_companies_cashew.xlsx')"
   ]
  }
 ],
 "metadata": {
  "kernelspec": {
   "display_name": "Python 3.11.0 64-bit",
   "language": "python",
   "name": "python3"
  },
  "language_info": {
   "name": "python",
   "version": "3.11.0"
  },
  "orig_nbformat": 4,
  "vscode": {
   "interpreter": {
    "hash": "d4ca170f306ca5ee8aa640b41f72b4fdd4c7f1e8d0f6ea887d8501278c7a7edc"
   }
  }
 },
 "nbformat": 4,
 "nbformat_minor": 2
}
