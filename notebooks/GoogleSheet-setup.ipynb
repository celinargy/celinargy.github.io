{
 "cells": [
  {
   "cell_type": "code",
   "execution_count": 3,
   "metadata": {},
   "outputs": [],
   "source": [
    "import gspread\n",
    "import pandas as pd\n",
    "from google.oauth2.service_account import Credentials\n",
    "from pydrive.auth import GoogleAuth\n",
    "from pydrive.drive import GoogleDrive"
   ]
  },
  {
   "cell_type": "code",
   "execution_count": 4,
   "metadata": {},
   "outputs": [],
   "source": [
    "#Create API and SERVICE credential on Google Cloud project, download and rename json\n",
    "# https://docs.gspread.org/en/latest/oauth2.html use the step \"for bots\"\n",
    "# run a shell to create a directory: mkdir %APPDATA%\\gspread\n",
    "# move credentials.json %APPDATA%\\gspread\\service_account.json\n",
    "sa = gspread.service_account()\n",
    "sh = sa.open(\"data-gspread\")"
   ]
  },
  {
   "cell_type": "code",
   "execution_count": null,
   "metadata": {},
   "outputs": [],
   "source": [
    "#create artefacts of your sheets\n",
    "wks1 = sh.worksheet('sheet1')\n",
    "#safe approach is to create a blank worksheet to keep the original untouched\n",
    "#add as many wks as needed to push calculations and other df in separate sheets\n",
    "wks2 = sh.worksheet('sheet2')\n",
    "#to format the number with commas instead of dots, avoids headaches for later\n",
    "wks1.format('E', {'numberFormat': {'type' : 'NUMBER', 'pattern': '0,0#'}})\n",
    "wks2.format('E', {'numberFormat': {'type' : 'NUMBER', 'pattern': '0,0#'}})\n",
    "\n",
    "#if there are value on the worksheet, pull it \n",
    "data = wks1.get_all_values()\n",
    "headers = data.pop(0)"
   ]
  },
  {
   "cell_type": "code",
   "execution_count": null,
   "metadata": {},
   "outputs": [],
   "source": [
    "#Upload final results in Google sheet\n",
    "wks2.clear()\n",
    "from gspread_dataframe import get_as_dataframe, set_with_dataframe\n",
    "set_with_dataframe(\n",
    "    worksheet=wks2, dataframe=df_name, include_index=False,\n",
    "    include_column_header=True, resize=True)"
   ]
  }
 ],
 "metadata": {
  "kernelspec": {
   "display_name": "Python 3.9.13 ('base')",
   "language": "python",
   "name": "python3"
  },
  "language_info": {
   "codemirror_mode": {
    "name": "ipython",
    "version": 3
   },
   "file_extension": ".py",
   "mimetype": "text/x-python",
   "name": "python",
   "nbconvert_exporter": "python",
   "pygments_lexer": "ipython3",
   "version": "3.9.13"
  },
  "orig_nbformat": 4,
  "vscode": {
   "interpreter": {
    "hash": "7e9a19a13b188c8787608362fc6e85a26a778e7707c2687e31c90406442add42"
   }
  }
 },
 "nbformat": 4,
 "nbformat_minor": 2
}
